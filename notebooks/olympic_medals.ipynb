{
 "cells": [
  {
   "attachments": {},
   "cell_type": "markdown",
   "metadata": {},
   "source": [
    "***\n",
    "***\n",
    "## 0. Setup"
   ]
  },
  {
   "cell_type": "code",
   "execution_count": 99,
   "metadata": {},
   "outputs": [
    {
     "name": "stdout",
     "output_type": "stream",
     "text": [
      "The autoreload extension is already loaded. To reload it, use:\n",
      "  %reload_ext autoreload\n"
     ]
    }
   ],
   "source": [
    "# Load the autoreload extension\n",
    "%load_ext autoreload\n",
    "\n",
    "# Enable autoreloading for all modules\n",
    "%autoreload 2\n",
    "\n",
    "# Import local modules\n",
    "from util_core import *\n",
    "import olympic_medals.util_olympic_medals as U\n"
   ]
  },
  {
   "attachments": {},
   "cell_type": "markdown",
   "metadata": {},
   "source": [
    "***\n",
    "***\n",
    "## 1. Data load"
   ]
  },
  {
   "cell_type": "code",
   "execution_count": 100,
   "metadata": {},
   "outputs": [
    {
     "name": "stdout",
     "output_type": "stream",
     "text": [
      "[medal] Dropped 0/1044 (0.0%) records with null event details.\n",
      "[medal] Dropped 0/2315 (0.0%) records with null event details.\n",
      "[event] Dropped 0/329 (0.0%) records with null event details.\n",
      "[team] Dropped 358/1698 (21.1%) non-current records.\n",
      "[team] Dropped 0/1340 (0.0%) records with null event details.\n",
      "[team] Added medals for 284/1340 (21.2%) records.\n",
      "[athlete] Dropped 3/11113 (0.0%) non-current records.\n",
      "[athlete] Dropped 0/11110 (0.0%) records with null event details.\n",
      "[athlete] Exploded to 14978 records, one per athlete per event entered.\n",
      "[athlete] Dropped 435/14978 (2.9%) invalid event records.\n",
      "[athlete] Added medals for 2298/14543 (15.8%) records.\n",
      "[combining]: Removed 6494/14543 (44.7%) athlete records for Team type events.\n"
     ]
    }
   ],
   "source": [
    "# Base loads\n",
    "all_data = U.load_base_datasets()\n",
    "\n",
    "medal_df = all_data[\"medal_df\"]\n",
    "medalist_df = all_data[\"medalist_df\"]\n",
    "event_df = all_data[\"event_df\"]\n",
    "athlete_df = all_data[\"athlete_df\"]\n",
    "team_df = all_data[\"team_df\"]\n",
    "\n",
    "# Combined entry data\n",
    "entry_df = U.build_combined_event_entries(team_df, athlete_df)\n",
    "all_data[\"entry_df\"] = entry_df\n",
    "\n",
    "# Store\n",
    "save_object(all_data, \"in/olympic_medals_all_data.p\")\n"
   ]
  },
  {
   "cell_type": "markdown",
   "metadata": {},
   "source": [
    "#### 1.1 Medals"
   ]
  },
  {
   "cell_type": "code",
   "execution_count": 101,
   "metadata": {},
   "outputs": [
    {
     "name": "stdout",
     "output_type": "stream",
     "text": [
      "Isolated a total of 329 events awarding 1044 cummulative medals...\n",
      "57 (17.3%) events awarded 4+ medals\n",
      "272 (82.7%) events awarded 3 medals\n",
      "0 (0.0%) events awarded <3 medals\n",
      "discipline\n",
      "wrestling              18\n",
      "judo                   15\n",
      "boxing                 13\n",
      "taekwondo               8\n",
      "athletics               1\n",
      "canoe sprint            1\n",
      "artistic gymnastics     1\n",
      "Name: count, dtype: int64\n"
     ]
    },
    {
     "data": {
      "text/html": [
       "<div>\n",
       "<style scoped>\n",
       "    .dataframe tbody tr th:only-of-type {\n",
       "        vertical-align: middle;\n",
       "    }\n",
       "\n",
       "    .dataframe tbody tr th {\n",
       "        vertical-align: top;\n",
       "    }\n",
       "\n",
       "    .dataframe thead th {\n",
       "        text-align: right;\n",
       "    }\n",
       "</style>\n",
       "<table border=\"1\" class=\"dataframe\">\n",
       "  <thead>\n",
       "    <tr style=\"text-align: right;\">\n",
       "      <th></th>\n",
       "      <th>medal_type</th>\n",
       "      <th>medal_code</th>\n",
       "      <th>medal_date</th>\n",
       "      <th>name</th>\n",
       "      <th>gender</th>\n",
       "      <th>discipline</th>\n",
       "      <th>event</th>\n",
       "      <th>event_type</th>\n",
       "      <th>url_event</th>\n",
       "      <th>code</th>\n",
       "      <th>country_code</th>\n",
       "      <th>country</th>\n",
       "      <th>country_long</th>\n",
       "      <th>event_key</th>\n",
       "    </tr>\n",
       "  </thead>\n",
       "  <tbody>\n",
       "    <tr>\n",
       "      <th>0</th>\n",
       "      <td>Gold Medal</td>\n",
       "      <td>1.0</td>\n",
       "      <td>2024-07-27</td>\n",
       "      <td>Remco EVENEPOEL</td>\n",
       "      <td>M</td>\n",
       "      <td>Cycling Road</td>\n",
       "      <td>Men's Individual Time Trial</td>\n",
       "      <td>ATH</td>\n",
       "      <td>/en/paris-2024/results/cycling-road/men-s-indi...</td>\n",
       "      <td>1903136</td>\n",
       "      <td>BEL</td>\n",
       "      <td>Belgium</td>\n",
       "      <td>Belgium</td>\n",
       "      <td>cycling road: men's individual time trial</td>\n",
       "    </tr>\n",
       "    <tr>\n",
       "      <th>1</th>\n",
       "      <td>Silver Medal</td>\n",
       "      <td>2.0</td>\n",
       "      <td>2024-07-27</td>\n",
       "      <td>Filippo GANNA</td>\n",
       "      <td>M</td>\n",
       "      <td>Cycling Road</td>\n",
       "      <td>Men's Individual Time Trial</td>\n",
       "      <td>ATH</td>\n",
       "      <td>/en/paris-2024/results/cycling-road/men-s-indi...</td>\n",
       "      <td>1923520</td>\n",
       "      <td>ITA</td>\n",
       "      <td>Italy</td>\n",
       "      <td>Italy</td>\n",
       "      <td>cycling road: men's individual time trial</td>\n",
       "    </tr>\n",
       "    <tr>\n",
       "      <th>2</th>\n",
       "      <td>Bronze Medal</td>\n",
       "      <td>3.0</td>\n",
       "      <td>2024-07-27</td>\n",
       "      <td>Wout van AERT</td>\n",
       "      <td>M</td>\n",
       "      <td>Cycling Road</td>\n",
       "      <td>Men's Individual Time Trial</td>\n",
       "      <td>ATH</td>\n",
       "      <td>/en/paris-2024/results/cycling-road/men-s-indi...</td>\n",
       "      <td>1903147</td>\n",
       "      <td>BEL</td>\n",
       "      <td>Belgium</td>\n",
       "      <td>Belgium</td>\n",
       "      <td>cycling road: men's individual time trial</td>\n",
       "    </tr>\n",
       "    <tr>\n",
       "      <th>3</th>\n",
       "      <td>Gold Medal</td>\n",
       "      <td>1.0</td>\n",
       "      <td>2024-07-27</td>\n",
       "      <td>Grace BROWN</td>\n",
       "      <td>W</td>\n",
       "      <td>Cycling Road</td>\n",
       "      <td>Women's Individual Time Trial</td>\n",
       "      <td>ATH</td>\n",
       "      <td>/en/paris-2024/results/cycling-road/women-s-in...</td>\n",
       "      <td>1940173</td>\n",
       "      <td>AUS</td>\n",
       "      <td>Australia</td>\n",
       "      <td>Australia</td>\n",
       "      <td>cycling road: women's individual time trial</td>\n",
       "    </tr>\n",
       "    <tr>\n",
       "      <th>4</th>\n",
       "      <td>Silver Medal</td>\n",
       "      <td>2.0</td>\n",
       "      <td>2024-07-27</td>\n",
       "      <td>Anna HENDERSON</td>\n",
       "      <td>W</td>\n",
       "      <td>Cycling Road</td>\n",
       "      <td>Women's Individual Time Trial</td>\n",
       "      <td>ATH</td>\n",
       "      <td>/en/paris-2024/results/cycling-road/women-s-in...</td>\n",
       "      <td>1912525</td>\n",
       "      <td>GBR</td>\n",
       "      <td>Great Britain</td>\n",
       "      <td>Great Britain</td>\n",
       "      <td>cycling road: women's individual time trial</td>\n",
       "    </tr>\n",
       "  </tbody>\n",
       "</table>\n",
       "</div>"
      ],
      "text/plain": [
       "     medal_type  medal_code  medal_date             name gender    discipline  \\\n",
       "0    Gold Medal         1.0  2024-07-27  Remco EVENEPOEL      M  Cycling Road   \n",
       "1  Silver Medal         2.0  2024-07-27    Filippo GANNA      M  Cycling Road   \n",
       "2  Bronze Medal         3.0  2024-07-27    Wout van AERT      M  Cycling Road   \n",
       "3    Gold Medal         1.0  2024-07-27      Grace BROWN      W  Cycling Road   \n",
       "4  Silver Medal         2.0  2024-07-27   Anna HENDERSON      W  Cycling Road   \n",
       "\n",
       "                           event event_type  \\\n",
       "0    Men's Individual Time Trial        ATH   \n",
       "1    Men's Individual Time Trial        ATH   \n",
       "2    Men's Individual Time Trial        ATH   \n",
       "3  Women's Individual Time Trial        ATH   \n",
       "4  Women's Individual Time Trial        ATH   \n",
       "\n",
       "                                           url_event     code country_code  \\\n",
       "0  /en/paris-2024/results/cycling-road/men-s-indi...  1903136          BEL   \n",
       "1  /en/paris-2024/results/cycling-road/men-s-indi...  1923520          ITA   \n",
       "2  /en/paris-2024/results/cycling-road/men-s-indi...  1903147          BEL   \n",
       "3  /en/paris-2024/results/cycling-road/women-s-in...  1940173          AUS   \n",
       "4  /en/paris-2024/results/cycling-road/women-s-in...  1912525          GBR   \n",
       "\n",
       "         country   country_long                                    event_key  \n",
       "0        Belgium        Belgium    cycling road: men's individual time trial  \n",
       "1          Italy          Italy    cycling road: men's individual time trial  \n",
       "2        Belgium        Belgium    cycling road: men's individual time trial  \n",
       "3      Australia      Australia  cycling road: women's individual time trial  \n",
       "4  Great Britain  Great Britain  cycling road: women's individual time trial  "
      ]
     },
     "execution_count": 101,
     "metadata": {},
     "output_type": "execute_result"
    }
   ],
   "source": [
    "# Side quest - how many medals were awarded in each event?\n",
    "count_df = medal_df[\"event_key\"].value_counts().to_frame().reset_index()\n",
    "\n",
    "# Print summary stats\n",
    "total_e = len(count_df)\n",
    "gt3 = len(count_df[count_df[\"count\"]>3])\n",
    "eq3 = len(count_df[count_df[\"count\"]==3])\n",
    "lt3 = len(count_df[count_df[\"count\"]<3])\n",
    "print(f\"Isolated a total of {total_e} events awarding {len(medal_df)} cummulative medals...\")\n",
    "print(f\"{gt3} ({gt3/total_e*100:.1f}%) events awarded 4+ medals\")\n",
    "print(f\"{eq3} ({eq3/total_e*100:.1f}%) events awarded 3 medals\")\n",
    "print(f\"{lt3} ({lt3/total_e*100:.1f}%) events awarded <3 medals\")\n",
    "\n",
    "# Look at 57 events with 4+ medals\n",
    "gt3_df = count_df[count_df[\"count\"]>3].copy()\n",
    "gt3_df[\"discipline\"] = gt3_df[\"event_key\"].apply(lambda x: x.split(\": \")[0])\n",
    "print(gt3_df[\"discipline\"].value_counts())\n",
    "\n",
    "# View sample\n",
    "medal_df.head()\n"
   ]
  },
  {
   "cell_type": "markdown",
   "metadata": {},
   "source": [
    "#### 1.2 Events"
   ]
  },
  {
   "cell_type": "code",
   "execution_count": 102,
   "metadata": {},
   "outputs": [
    {
     "name": "stdout",
     "output_type": "stream",
     "text": [
      "Isolated a total of 329 events...\n"
     ]
    },
    {
     "data": {
      "text/html": [
       "<div>\n",
       "<style scoped>\n",
       "    .dataframe tbody tr th:only-of-type {\n",
       "        vertical-align: middle;\n",
       "    }\n",
       "\n",
       "    .dataframe tbody tr th {\n",
       "        vertical-align: top;\n",
       "    }\n",
       "\n",
       "    .dataframe thead th {\n",
       "        text-align: right;\n",
       "    }\n",
       "</style>\n",
       "<table border=\"1\" class=\"dataframe\">\n",
       "  <thead>\n",
       "    <tr style=\"text-align: right;\">\n",
       "      <th></th>\n",
       "      <th>event</th>\n",
       "      <th>tag</th>\n",
       "      <th>sport</th>\n",
       "      <th>sport_code</th>\n",
       "      <th>sport_url</th>\n",
       "      <th>event_key</th>\n",
       "    </tr>\n",
       "  </thead>\n",
       "  <tbody>\n",
       "    <tr>\n",
       "      <th>0</th>\n",
       "      <td>Men's Individual</td>\n",
       "      <td>archery</td>\n",
       "      <td>Archery</td>\n",
       "      <td>ARC</td>\n",
       "      <td>https://olympics.com/en/paris-2024/sports/archery</td>\n",
       "      <td>archery: men's individual</td>\n",
       "    </tr>\n",
       "    <tr>\n",
       "      <th>1</th>\n",
       "      <td>Women's Individual</td>\n",
       "      <td>archery</td>\n",
       "      <td>Archery</td>\n",
       "      <td>ARC</td>\n",
       "      <td>https://olympics.com/en/paris-2024/sports/archery</td>\n",
       "      <td>archery: women's individual</td>\n",
       "    </tr>\n",
       "    <tr>\n",
       "      <th>2</th>\n",
       "      <td>Men's Team</td>\n",
       "      <td>archery</td>\n",
       "      <td>Archery</td>\n",
       "      <td>ARC</td>\n",
       "      <td>https://olympics.com/en/paris-2024/sports/archery</td>\n",
       "      <td>archery: men's team</td>\n",
       "    </tr>\n",
       "    <tr>\n",
       "      <th>3</th>\n",
       "      <td>Women's Team</td>\n",
       "      <td>archery</td>\n",
       "      <td>Archery</td>\n",
       "      <td>ARC</td>\n",
       "      <td>https://olympics.com/en/paris-2024/sports/archery</td>\n",
       "      <td>archery: women's team</td>\n",
       "    </tr>\n",
       "    <tr>\n",
       "      <th>4</th>\n",
       "      <td>Mixed Team</td>\n",
       "      <td>archery</td>\n",
       "      <td>Archery</td>\n",
       "      <td>ARC</td>\n",
       "      <td>https://olympics.com/en/paris-2024/sports/archery</td>\n",
       "      <td>archery: mixed team</td>\n",
       "    </tr>\n",
       "  </tbody>\n",
       "</table>\n",
       "</div>"
      ],
      "text/plain": [
       "                event      tag    sport sport_code  \\\n",
       "0    Men's Individual  archery  Archery        ARC   \n",
       "1  Women's Individual  archery  Archery        ARC   \n",
       "2          Men's Team  archery  Archery        ARC   \n",
       "3        Women's Team  archery  Archery        ARC   \n",
       "4          Mixed Team  archery  Archery        ARC   \n",
       "\n",
       "                                           sport_url  \\\n",
       "0  https://olympics.com/en/paris-2024/sports/archery   \n",
       "1  https://olympics.com/en/paris-2024/sports/archery   \n",
       "2  https://olympics.com/en/paris-2024/sports/archery   \n",
       "3  https://olympics.com/en/paris-2024/sports/archery   \n",
       "4  https://olympics.com/en/paris-2024/sports/archery   \n",
       "\n",
       "                     event_key  \n",
       "0    archery: men's individual  \n",
       "1  archery: women's individual  \n",
       "2          archery: men's team  \n",
       "3        archery: women's team  \n",
       "4          archery: mixed team  "
      ]
     },
     "execution_count": 102,
     "metadata": {},
     "output_type": "execute_result"
    }
   ],
   "source": [
    "# Print summary stats and view sample\n",
    "total_e2 = len(event_df)\n",
    "assert total_e2 == total_e, f\"Warning total_e: {total_e}, total_e2: {total_e2}\"\n",
    "print(f\"Isolated a total of {total_e2} events...\")\n",
    "event_df.head()\n"
   ]
  },
  {
   "cell_type": "markdown",
   "metadata": {},
   "source": [
    "#### 1.3 Teams"
   ]
  },
  {
   "cell_type": "code",
   "execution_count": 103,
   "metadata": {},
   "outputs": [
    {
     "data": {
      "text/html": [
       "<div>\n",
       "<style scoped>\n",
       "    .dataframe tbody tr th:only-of-type {\n",
       "        vertical-align: middle;\n",
       "    }\n",
       "\n",
       "    .dataframe tbody tr th {\n",
       "        vertical-align: top;\n",
       "    }\n",
       "\n",
       "    .dataframe thead th {\n",
       "        text-align: right;\n",
       "    }\n",
       "</style>\n",
       "<table border=\"1\" class=\"dataframe\">\n",
       "  <thead>\n",
       "    <tr style=\"text-align: right;\">\n",
       "      <th></th>\n",
       "      <th>code</th>\n",
       "      <th>current</th>\n",
       "      <th>team</th>\n",
       "      <th>team_gender</th>\n",
       "      <th>country_code</th>\n",
       "      <th>country</th>\n",
       "      <th>country_long</th>\n",
       "      <th>discipline</th>\n",
       "      <th>disciplines_code</th>\n",
       "      <th>event</th>\n",
       "      <th>athletes</th>\n",
       "      <th>coaches</th>\n",
       "      <th>athletes_codes</th>\n",
       "      <th>num_athletes</th>\n",
       "      <th>coaches_codes</th>\n",
       "      <th>num_coaches</th>\n",
       "      <th>event_key</th>\n",
       "      <th>medal_flag</th>\n",
       "      <th>medal_type</th>\n",
       "    </tr>\n",
       "  </thead>\n",
       "  <tbody>\n",
       "    <tr>\n",
       "      <th>0</th>\n",
       "      <td>arcmteam3---chn01</td>\n",
       "      <td>True</td>\n",
       "      <td>People's Republic of China</td>\n",
       "      <td>M</td>\n",
       "      <td>CHN</td>\n",
       "      <td>China</td>\n",
       "      <td>People's Republic of China</td>\n",
       "      <td>archery</td>\n",
       "      <td>ARC</td>\n",
       "      <td>men's team</td>\n",
       "      <td>['KAO Wenchao', 'LI Zhongyuan', 'WANG Yan']</td>\n",
       "      <td>NaN</td>\n",
       "      <td>['1913366', '1913367', '1913369']</td>\n",
       "      <td>3.0</td>\n",
       "      <td>NaN</td>\n",
       "      <td>NaN</td>\n",
       "      <td>archery: men's team</td>\n",
       "      <td>False</td>\n",
       "      <td>NaN</td>\n",
       "    </tr>\n",
       "    <tr>\n",
       "      <th>1</th>\n",
       "      <td>arcmteam3---col01</td>\n",
       "      <td>True</td>\n",
       "      <td>Colombia</td>\n",
       "      <td>M</td>\n",
       "      <td>COL</td>\n",
       "      <td>Colombia</td>\n",
       "      <td>Colombia</td>\n",
       "      <td>archery</td>\n",
       "      <td>ARC</td>\n",
       "      <td>men's team</td>\n",
       "      <td>['ARCILA Santiago', 'ENRIQUEZ Jorge', 'HERNAND...</td>\n",
       "      <td>NaN</td>\n",
       "      <td>['1935642', '1543412', '1935644']</td>\n",
       "      <td>3.0</td>\n",
       "      <td>NaN</td>\n",
       "      <td>NaN</td>\n",
       "      <td>archery: men's team</td>\n",
       "      <td>False</td>\n",
       "      <td>NaN</td>\n",
       "    </tr>\n",
       "    <tr>\n",
       "      <th>2</th>\n",
       "      <td>arcmteam3---fra01</td>\n",
       "      <td>True</td>\n",
       "      <td>France</td>\n",
       "      <td>M</td>\n",
       "      <td>FRA</td>\n",
       "      <td>France</td>\n",
       "      <td>France</td>\n",
       "      <td>archery</td>\n",
       "      <td>ARC</td>\n",
       "      <td>men's team</td>\n",
       "      <td>['ADDIS Baptiste', 'CHIRAULT Thomas', 'VALLADO...</td>\n",
       "      <td>NaN</td>\n",
       "      <td>['1541270', '1541272', '1541275']</td>\n",
       "      <td>3.0</td>\n",
       "      <td>NaN</td>\n",
       "      <td>NaN</td>\n",
       "      <td>archery: men's team</td>\n",
       "      <td>True</td>\n",
       "      <td>Silver Medal</td>\n",
       "    </tr>\n",
       "    <tr>\n",
       "      <th>3</th>\n",
       "      <td>arcmteam3---gbr01</td>\n",
       "      <td>True</td>\n",
       "      <td>Great Britain</td>\n",
       "      <td>M</td>\n",
       "      <td>GBR</td>\n",
       "      <td>Great Britain</td>\n",
       "      <td>Great Britain</td>\n",
       "      <td>archery</td>\n",
       "      <td>ARC</td>\n",
       "      <td>men's team</td>\n",
       "      <td>['HALL Conor', 'HALL Tom', 'WISE Alex']</td>\n",
       "      <td>NaN</td>\n",
       "      <td>['1560988', '1560989', '1561003']</td>\n",
       "      <td>3.0</td>\n",
       "      <td>NaN</td>\n",
       "      <td>NaN</td>\n",
       "      <td>archery: men's team</td>\n",
       "      <td>False</td>\n",
       "      <td>NaN</td>\n",
       "    </tr>\n",
       "    <tr>\n",
       "      <th>4</th>\n",
       "      <td>arcmteam3---ind01</td>\n",
       "      <td>True</td>\n",
       "      <td>India</td>\n",
       "      <td>M</td>\n",
       "      <td>IND</td>\n",
       "      <td>India</td>\n",
       "      <td>India</td>\n",
       "      <td>archery</td>\n",
       "      <td>ARC</td>\n",
       "      <td>men's team</td>\n",
       "      <td>['BOMMADEVARA Dhiraj', 'JADHAV Pravin Ramesh',...</td>\n",
       "      <td>NaN</td>\n",
       "      <td>['1546108', '1546112', '1546110']</td>\n",
       "      <td>3.0</td>\n",
       "      <td>NaN</td>\n",
       "      <td>NaN</td>\n",
       "      <td>archery: men's team</td>\n",
       "      <td>False</td>\n",
       "      <td>NaN</td>\n",
       "    </tr>\n",
       "  </tbody>\n",
       "</table>\n",
       "</div>"
      ],
      "text/plain": [
       "                code  current                        team team_gender  \\\n",
       "0  arcmteam3---chn01     True  People's Republic of China           M   \n",
       "1  arcmteam3---col01     True                    Colombia           M   \n",
       "2  arcmteam3---fra01     True                      France           M   \n",
       "3  arcmteam3---gbr01     True               Great Britain           M   \n",
       "4  arcmteam3---ind01     True                       India           M   \n",
       "\n",
       "  country_code        country                country_long discipline  \\\n",
       "0          CHN          China  People's Republic of China    archery   \n",
       "1          COL       Colombia                    Colombia    archery   \n",
       "2          FRA         France                      France    archery   \n",
       "3          GBR  Great Britain               Great Britain    archery   \n",
       "4          IND          India                       India    archery   \n",
       "\n",
       "  disciplines_code       event  \\\n",
       "0              ARC  men's team   \n",
       "1              ARC  men's team   \n",
       "2              ARC  men's team   \n",
       "3              ARC  men's team   \n",
       "4              ARC  men's team   \n",
       "\n",
       "                                            athletes coaches  \\\n",
       "0        ['KAO Wenchao', 'LI Zhongyuan', 'WANG Yan']     NaN   \n",
       "1  ['ARCILA Santiago', 'ENRIQUEZ Jorge', 'HERNAND...     NaN   \n",
       "2  ['ADDIS Baptiste', 'CHIRAULT Thomas', 'VALLADO...     NaN   \n",
       "3            ['HALL Conor', 'HALL Tom', 'WISE Alex']     NaN   \n",
       "4  ['BOMMADEVARA Dhiraj', 'JADHAV Pravin Ramesh',...     NaN   \n",
       "\n",
       "                      athletes_codes  num_athletes coaches_codes  num_coaches  \\\n",
       "0  ['1913366', '1913367', '1913369']           3.0           NaN          NaN   \n",
       "1  ['1935642', '1543412', '1935644']           3.0           NaN          NaN   \n",
       "2  ['1541270', '1541272', '1541275']           3.0           NaN          NaN   \n",
       "3  ['1560988', '1560989', '1561003']           3.0           NaN          NaN   \n",
       "4  ['1546108', '1546112', '1546110']           3.0           NaN          NaN   \n",
       "\n",
       "             event_key medal_flag    medal_type  \n",
       "0  archery: men's team      False           NaN  \n",
       "1  archery: men's team      False           NaN  \n",
       "2  archery: men's team       True  Silver Medal  \n",
       "3  archery: men's team      False           NaN  \n",
       "4  archery: men's team      False           NaN  "
      ]
     },
     "execution_count": 103,
     "metadata": {},
     "output_type": "execute_result"
    }
   ],
   "source": [
    "# View sample\n",
    "team_df.head()\n"
   ]
  },
  {
   "cell_type": "markdown",
   "metadata": {},
   "source": [
    "#### 1.4 Athletes"
   ]
  },
  {
   "cell_type": "code",
   "execution_count": 104,
   "metadata": {},
   "outputs": [
    {
     "data": {
      "text/html": [
       "<div>\n",
       "<style scoped>\n",
       "    .dataframe tbody tr th:only-of-type {\n",
       "        vertical-align: middle;\n",
       "    }\n",
       "\n",
       "    .dataframe tbody tr th {\n",
       "        vertical-align: top;\n",
       "    }\n",
       "\n",
       "    .dataframe thead th {\n",
       "        text-align: right;\n",
       "    }\n",
       "</style>\n",
       "<table border=\"1\" class=\"dataframe\">\n",
       "  <thead>\n",
       "    <tr style=\"text-align: right;\">\n",
       "      <th></th>\n",
       "      <th>code</th>\n",
       "      <th>current</th>\n",
       "      <th>name</th>\n",
       "      <th>name_short</th>\n",
       "      <th>name_tv</th>\n",
       "      <th>gender</th>\n",
       "      <th>function</th>\n",
       "      <th>country_code</th>\n",
       "      <th>country</th>\n",
       "      <th>country_long</th>\n",
       "      <th>...</th>\n",
       "      <th>philosophy</th>\n",
       "      <th>sporting_relatives</th>\n",
       "      <th>ritual</th>\n",
       "      <th>other_sports</th>\n",
       "      <th>event_key</th>\n",
       "      <th>discipline</th>\n",
       "      <th>event</th>\n",
       "      <th>event_type</th>\n",
       "      <th>medal_flag</th>\n",
       "      <th>medal_type</th>\n",
       "    </tr>\n",
       "  </thead>\n",
       "  <tbody>\n",
       "    <tr>\n",
       "      <th>0</th>\n",
       "      <td>1532872</td>\n",
       "      <td>True</td>\n",
       "      <td>ALEKSANYAN Artur</td>\n",
       "      <td>ALEKSANYAN A</td>\n",
       "      <td>Artur ALEKSANYAN</td>\n",
       "      <td>Male</td>\n",
       "      <td>Athlete</td>\n",
       "      <td>ARM</td>\n",
       "      <td>Armenia</td>\n",
       "      <td>Armenia</td>\n",
       "      <td>...</td>\n",
       "      <td>\"Wrestling is my life.\" (mediamax.am. 18 May 2...</td>\n",
       "      <td>NaN</td>\n",
       "      <td>NaN</td>\n",
       "      <td>NaN</td>\n",
       "      <td>wrestling: men's greco-roman 97kg</td>\n",
       "      <td>wrestling</td>\n",
       "      <td>men's greco-roman 97kg</td>\n",
       "      <td>Individual</td>\n",
       "      <td>True</td>\n",
       "      <td>Silver Medal</td>\n",
       "    </tr>\n",
       "    <tr>\n",
       "      <th>1</th>\n",
       "      <td>1532873</td>\n",
       "      <td>True</td>\n",
       "      <td>AMOYAN Malkhas</td>\n",
       "      <td>AMOYAN M</td>\n",
       "      <td>Malkhas AMOYAN</td>\n",
       "      <td>Male</td>\n",
       "      <td>Athlete</td>\n",
       "      <td>ARM</td>\n",
       "      <td>Armenia</td>\n",
       "      <td>Armenia</td>\n",
       "      <td>...</td>\n",
       "      <td>\"To become a good athlete, you first have to b...</td>\n",
       "      <td>Uncle, Roman Amoyan (wrestling), 2008 Olympic ...</td>\n",
       "      <td>NaN</td>\n",
       "      <td>NaN</td>\n",
       "      <td>wrestling: men's greco-roman 77kg</td>\n",
       "      <td>wrestling</td>\n",
       "      <td>men's greco-roman 77kg</td>\n",
       "      <td>Individual</td>\n",
       "      <td>True</td>\n",
       "      <td>Bronze Medal</td>\n",
       "    </tr>\n",
       "    <tr>\n",
       "      <th>2</th>\n",
       "      <td>1532874</td>\n",
       "      <td>True</td>\n",
       "      <td>GALSTYAN Slavik</td>\n",
       "      <td>GALSTYAN S</td>\n",
       "      <td>Slavik GALSTYAN</td>\n",
       "      <td>Male</td>\n",
       "      <td>Athlete</td>\n",
       "      <td>ARM</td>\n",
       "      <td>Armenia</td>\n",
       "      <td>Armenia</td>\n",
       "      <td>...</td>\n",
       "      <td>NaN</td>\n",
       "      <td>NaN</td>\n",
       "      <td>NaN</td>\n",
       "      <td>NaN</td>\n",
       "      <td>wrestling: men's greco-roman 67kg</td>\n",
       "      <td>wrestling</td>\n",
       "      <td>men's greco-roman 67kg</td>\n",
       "      <td>Individual</td>\n",
       "      <td>False</td>\n",
       "      <td>NaN</td>\n",
       "    </tr>\n",
       "    <tr>\n",
       "      <th>3</th>\n",
       "      <td>1532944</td>\n",
       "      <td>True</td>\n",
       "      <td>HARUTYUNYAN Arsen</td>\n",
       "      <td>HARUTYUNYAN A</td>\n",
       "      <td>Arsen HARUTYUNYAN</td>\n",
       "      <td>Male</td>\n",
       "      <td>Athlete</td>\n",
       "      <td>ARM</td>\n",
       "      <td>Armenia</td>\n",
       "      <td>Armenia</td>\n",
       "      <td>...</td>\n",
       "      <td>“Nothing is impossible, set goals in front of ...</td>\n",
       "      <td>NaN</td>\n",
       "      <td>NaN</td>\n",
       "      <td>NaN</td>\n",
       "      <td>wrestling: men's freestyle 57kg</td>\n",
       "      <td>wrestling</td>\n",
       "      <td>men's freestyle 57kg</td>\n",
       "      <td>Individual</td>\n",
       "      <td>False</td>\n",
       "      <td>NaN</td>\n",
       "    </tr>\n",
       "    <tr>\n",
       "      <th>4</th>\n",
       "      <td>1532945</td>\n",
       "      <td>True</td>\n",
       "      <td>TEVANYAN Vazgen</td>\n",
       "      <td>TEVANYAN V</td>\n",
       "      <td>Vazgen TEVANYAN</td>\n",
       "      <td>Male</td>\n",
       "      <td>Athlete</td>\n",
       "      <td>ARM</td>\n",
       "      <td>Armenia</td>\n",
       "      <td>Armenia</td>\n",
       "      <td>...</td>\n",
       "      <td>NaN</td>\n",
       "      <td>NaN</td>\n",
       "      <td>NaN</td>\n",
       "      <td>NaN</td>\n",
       "      <td>wrestling: men's freestyle 65kg</td>\n",
       "      <td>wrestling</td>\n",
       "      <td>men's freestyle 65kg</td>\n",
       "      <td>Individual</td>\n",
       "      <td>False</td>\n",
       "      <td>NaN</td>\n",
       "    </tr>\n",
       "  </tbody>\n",
       "</table>\n",
       "<p>5 rows × 42 columns</p>\n",
       "</div>"
      ],
      "text/plain": [
       "      code  current               name     name_short            name_tv  \\\n",
       "0  1532872     True   ALEKSANYAN Artur   ALEKSANYAN A   Artur ALEKSANYAN   \n",
       "1  1532873     True     AMOYAN Malkhas       AMOYAN M     Malkhas AMOYAN   \n",
       "2  1532874     True    GALSTYAN Slavik     GALSTYAN S    Slavik GALSTYAN   \n",
       "3  1532944     True  HARUTYUNYAN Arsen  HARUTYUNYAN A  Arsen HARUTYUNYAN   \n",
       "4  1532945     True    TEVANYAN Vazgen     TEVANYAN V    Vazgen TEVANYAN   \n",
       "\n",
       "  gender function country_code  country country_long  ...  \\\n",
       "0   Male  Athlete          ARM  Armenia      Armenia  ...   \n",
       "1   Male  Athlete          ARM  Armenia      Armenia  ...   \n",
       "2   Male  Athlete          ARM  Armenia      Armenia  ...   \n",
       "3   Male  Athlete          ARM  Armenia      Armenia  ...   \n",
       "4   Male  Athlete          ARM  Armenia      Armenia  ...   \n",
       "\n",
       "                                          philosophy  \\\n",
       "0  \"Wrestling is my life.\" (mediamax.am. 18 May 2...   \n",
       "1  \"To become a good athlete, you first have to b...   \n",
       "2                                                NaN   \n",
       "3  “Nothing is impossible, set goals in front of ...   \n",
       "4                                                NaN   \n",
       "\n",
       "                                  sporting_relatives ritual  other_sports  \\\n",
       "0                                                NaN    NaN           NaN   \n",
       "1  Uncle, Roman Amoyan (wrestling), 2008 Olympic ...    NaN           NaN   \n",
       "2                                                NaN    NaN           NaN   \n",
       "3                                                NaN    NaN           NaN   \n",
       "4                                                NaN    NaN           NaN   \n",
       "\n",
       "                           event_key discipline                   event  \\\n",
       "0  wrestling: men's greco-roman 97kg  wrestling  men's greco-roman 97kg   \n",
       "1  wrestling: men's greco-roman 77kg  wrestling  men's greco-roman 77kg   \n",
       "2  wrestling: men's greco-roman 67kg  wrestling  men's greco-roman 67kg   \n",
       "3    wrestling: men's freestyle 57kg  wrestling    men's freestyle 57kg   \n",
       "4    wrestling: men's freestyle 65kg  wrestling    men's freestyle 65kg   \n",
       "\n",
       "   event_type medal_flag    medal_type  \n",
       "0  Individual       True  Silver Medal  \n",
       "1  Individual       True  Bronze Medal  \n",
       "2  Individual      False           NaN  \n",
       "3  Individual      False           NaN  \n",
       "4  Individual      False           NaN  \n",
       "\n",
       "[5 rows x 42 columns]"
      ]
     },
     "execution_count": 104,
     "metadata": {},
     "output_type": "execute_result"
    }
   ],
   "source": [
    "# View sample\n",
    "athlete_df.head()\n"
   ]
  },
  {
   "cell_type": "markdown",
   "metadata": {},
   "source": [
    "#### 1.5 Combined entries"
   ]
  },
  {
   "cell_type": "code",
   "execution_count": 105,
   "metadata": {},
   "outputs": [
    {
     "data": {
      "text/html": [
       "<div>\n",
       "<style scoped>\n",
       "    .dataframe tbody tr th:only-of-type {\n",
       "        vertical-align: middle;\n",
       "    }\n",
       "\n",
       "    .dataframe tbody tr th {\n",
       "        vertical-align: top;\n",
       "    }\n",
       "\n",
       "    .dataframe thead th {\n",
       "        text-align: right;\n",
       "    }\n",
       "</style>\n",
       "<table border=\"1\" class=\"dataframe\">\n",
       "  <thead>\n",
       "    <tr style=\"text-align: right;\">\n",
       "      <th></th>\n",
       "      <th>event_key</th>\n",
       "      <th>discipline</th>\n",
       "      <th>event</th>\n",
       "      <th>gender</th>\n",
       "      <th>country_code</th>\n",
       "      <th>country</th>\n",
       "      <th>num_athletes</th>\n",
       "      <th>medal_flag</th>\n",
       "      <th>medal_type</th>\n",
       "    </tr>\n",
       "  </thead>\n",
       "  <tbody>\n",
       "    <tr>\n",
       "      <th>0</th>\n",
       "      <td>archery: men's team</td>\n",
       "      <td>archery</td>\n",
       "      <td>men's team</td>\n",
       "      <td>M</td>\n",
       "      <td>CHN</td>\n",
       "      <td>China</td>\n",
       "      <td>3.0</td>\n",
       "      <td>False</td>\n",
       "      <td>NaN</td>\n",
       "    </tr>\n",
       "    <tr>\n",
       "      <th>1</th>\n",
       "      <td>archery: men's team</td>\n",
       "      <td>archery</td>\n",
       "      <td>men's team</td>\n",
       "      <td>M</td>\n",
       "      <td>COL</td>\n",
       "      <td>Colombia</td>\n",
       "      <td>3.0</td>\n",
       "      <td>False</td>\n",
       "      <td>NaN</td>\n",
       "    </tr>\n",
       "    <tr>\n",
       "      <th>2</th>\n",
       "      <td>archery: men's team</td>\n",
       "      <td>archery</td>\n",
       "      <td>men's team</td>\n",
       "      <td>M</td>\n",
       "      <td>FRA</td>\n",
       "      <td>France</td>\n",
       "      <td>3.0</td>\n",
       "      <td>True</td>\n",
       "      <td>Silver Medal</td>\n",
       "    </tr>\n",
       "    <tr>\n",
       "      <th>3</th>\n",
       "      <td>archery: men's team</td>\n",
       "      <td>archery</td>\n",
       "      <td>men's team</td>\n",
       "      <td>M</td>\n",
       "      <td>GBR</td>\n",
       "      <td>Great Britain</td>\n",
       "      <td>3.0</td>\n",
       "      <td>False</td>\n",
       "      <td>NaN</td>\n",
       "    </tr>\n",
       "    <tr>\n",
       "      <th>4</th>\n",
       "      <td>archery: men's team</td>\n",
       "      <td>archery</td>\n",
       "      <td>men's team</td>\n",
       "      <td>M</td>\n",
       "      <td>IND</td>\n",
       "      <td>India</td>\n",
       "      <td>3.0</td>\n",
       "      <td>False</td>\n",
       "      <td>NaN</td>\n",
       "    </tr>\n",
       "  </tbody>\n",
       "</table>\n",
       "</div>"
      ],
      "text/plain": [
       "             event_key discipline       event gender country_code  \\\n",
       "0  archery: men's team    archery  men's team      M          CHN   \n",
       "1  archery: men's team    archery  men's team      M          COL   \n",
       "2  archery: men's team    archery  men's team      M          FRA   \n",
       "3  archery: men's team    archery  men's team      M          GBR   \n",
       "4  archery: men's team    archery  men's team      M          IND   \n",
       "\n",
       "         country  num_athletes medal_flag    medal_type  \n",
       "0          China           3.0      False           NaN  \n",
       "1       Colombia           3.0      False           NaN  \n",
       "2         France           3.0       True  Silver Medal  \n",
       "3  Great Britain           3.0      False           NaN  \n",
       "4          India           3.0      False           NaN  "
      ]
     },
     "execution_count": 105,
     "metadata": {},
     "output_type": "execute_result"
    }
   ],
   "source": [
    "# View sample\n",
    "entry_df.head()\n"
   ]
  },
  {
   "cell_type": "markdown",
   "metadata": {},
   "source": [
    "***\n",
    "***\n",
    "## 2. Medal rates"
   ]
  },
  {
   "cell_type": "code",
   "execution_count": 106,
   "metadata": {},
   "outputs": [],
   "source": [
    "# Load\n",
    "all_data = load_object(\"in/olympic_medals_all_data.p\")\n",
    "\n",
    "entry_df = all_data[\"entry_df\"]\n"
   ]
  },
  {
   "cell_type": "code",
   "execution_count": 107,
   "metadata": {},
   "outputs": [
    {
     "data": {
      "text/html": [
       "<div>\n",
       "<style scoped>\n",
       "    .dataframe tbody tr th:only-of-type {\n",
       "        vertical-align: middle;\n",
       "    }\n",
       "\n",
       "    .dataframe tbody tr th {\n",
       "        vertical-align: top;\n",
       "    }\n",
       "\n",
       "    .dataframe thead th {\n",
       "        text-align: right;\n",
       "    }\n",
       "</style>\n",
       "<table border=\"1\" class=\"dataframe\">\n",
       "  <thead>\n",
       "    <tr style=\"text-align: right;\">\n",
       "      <th></th>\n",
       "      <th>country</th>\n",
       "      <th>entries</th>\n",
       "      <th>total_medals</th>\n",
       "      <th>gold_medals</th>\n",
       "      <th>silver_medals</th>\n",
       "      <th>bronze_medals</th>\n",
       "      <th>total_medals_weighted</th>\n",
       "      <th>medal_rate_unweighted</th>\n",
       "      <th>medal_rate_weighted</th>\n",
       "      <th>medal_rate_unweighted_rank</th>\n",
       "      <th>medal_rate_weighted_rank</th>\n",
       "    </tr>\n",
       "  </thead>\n",
       "  <tbody>\n",
       "    <tr>\n",
       "      <th>0</th>\n",
       "      <td>Saint Lucia</td>\n",
       "      <td>5</td>\n",
       "      <td>2</td>\n",
       "      <td>1</td>\n",
       "      <td>1</td>\n",
       "      <td>0</td>\n",
       "      <td>3.5</td>\n",
       "      <td>0.4</td>\n",
       "      <td>0.700000</td>\n",
       "      <td>1.0</td>\n",
       "      <td>1.0</td>\n",
       "    </tr>\n",
       "    <tr>\n",
       "      <th>1</th>\n",
       "      <td>Dominica</td>\n",
       "      <td>4</td>\n",
       "      <td>1</td>\n",
       "      <td>1</td>\n",
       "      <td>0</td>\n",
       "      <td>0</td>\n",
       "      <td>2.0</td>\n",
       "      <td>0.25</td>\n",
       "      <td>0.500000</td>\n",
       "      <td>9.0</td>\n",
       "      <td>2.0</td>\n",
       "    </tr>\n",
       "    <tr>\n",
       "      <th>2</th>\n",
       "      <td>DPR Korea</td>\n",
       "      <td>15</td>\n",
       "      <td>6</td>\n",
       "      <td>0</td>\n",
       "      <td>2</td>\n",
       "      <td>4</td>\n",
       "      <td>7.0</td>\n",
       "      <td>0.4</td>\n",
       "      <td>0.466667</td>\n",
       "      <td>1.0</td>\n",
       "      <td>3.0</td>\n",
       "    </tr>\n",
       "    <tr>\n",
       "      <th>3</th>\n",
       "      <td>IR Iran</td>\n",
       "      <td>41</td>\n",
       "      <td>12</td>\n",
       "      <td>3</td>\n",
       "      <td>6</td>\n",
       "      <td>3</td>\n",
       "      <td>18.0</td>\n",
       "      <td>0.292683</td>\n",
       "      <td>0.439024</td>\n",
       "      <td>5.0</td>\n",
       "      <td>4.0</td>\n",
       "    </tr>\n",
       "    <tr>\n",
       "      <th>4</th>\n",
       "      <td>Bahrain</td>\n",
       "      <td>15</td>\n",
       "      <td>4</td>\n",
       "      <td>2</td>\n",
       "      <td>1</td>\n",
       "      <td>1</td>\n",
       "      <td>6.5</td>\n",
       "      <td>0.266667</td>\n",
       "      <td>0.433333</td>\n",
       "      <td>6.0</td>\n",
       "      <td>5.0</td>\n",
       "    </tr>\n",
       "    <tr>\n",
       "      <th>...</th>\n",
       "      <td>...</td>\n",
       "      <td>...</td>\n",
       "      <td>...</td>\n",
       "      <td>...</td>\n",
       "      <td>...</td>\n",
       "      <td>...</td>\n",
       "      <td>...</td>\n",
       "      <td>...</td>\n",
       "      <td>...</td>\n",
       "      <td>...</td>\n",
       "      <td>...</td>\n",
       "    </tr>\n",
       "    <tr>\n",
       "      <th>201</th>\n",
       "      <td>Vietnam</td>\n",
       "      <td>19</td>\n",
       "      <td>0</td>\n",
       "      <td>0</td>\n",
       "      <td>0</td>\n",
       "      <td>0</td>\n",
       "      <td>0.0</td>\n",
       "      <td>0.0</td>\n",
       "      <td>0.000000</td>\n",
       "      <td>93.0</td>\n",
       "      <td>93.0</td>\n",
       "    </tr>\n",
       "    <tr>\n",
       "      <th>202</th>\n",
       "      <td>Virgin Islands, B</td>\n",
       "      <td>4</td>\n",
       "      <td>0</td>\n",
       "      <td>0</td>\n",
       "      <td>0</td>\n",
       "      <td>0</td>\n",
       "      <td>0.0</td>\n",
       "      <td>0.0</td>\n",
       "      <td>0.000000</td>\n",
       "      <td>93.0</td>\n",
       "      <td>93.0</td>\n",
       "    </tr>\n",
       "    <tr>\n",
       "      <th>203</th>\n",
       "      <td>Virgin Islands, US</td>\n",
       "      <td>5</td>\n",
       "      <td>0</td>\n",
       "      <td>0</td>\n",
       "      <td>0</td>\n",
       "      <td>0</td>\n",
       "      <td>0.0</td>\n",
       "      <td>0.0</td>\n",
       "      <td>0.000000</td>\n",
       "      <td>93.0</td>\n",
       "      <td>93.0</td>\n",
       "    </tr>\n",
       "    <tr>\n",
       "      <th>204</th>\n",
       "      <td>Yemen</td>\n",
       "      <td>4</td>\n",
       "      <td>0</td>\n",
       "      <td>0</td>\n",
       "      <td>0</td>\n",
       "      <td>0</td>\n",
       "      <td>0.0</td>\n",
       "      <td>0.0</td>\n",
       "      <td>0.000000</td>\n",
       "      <td>93.0</td>\n",
       "      <td>93.0</td>\n",
       "    </tr>\n",
       "    <tr>\n",
       "      <th>205</th>\n",
       "      <td>Zimbabwe</td>\n",
       "      <td>7</td>\n",
       "      <td>0</td>\n",
       "      <td>0</td>\n",
       "      <td>0</td>\n",
       "      <td>0</td>\n",
       "      <td>0.0</td>\n",
       "      <td>0.0</td>\n",
       "      <td>0.000000</td>\n",
       "      <td>93.0</td>\n",
       "      <td>93.0</td>\n",
       "    </tr>\n",
       "  </tbody>\n",
       "</table>\n",
       "<p>206 rows × 11 columns</p>\n",
       "</div>"
      ],
      "text/plain": [
       "                country  entries total_medals  gold_medals  silver_medals  \\\n",
       "0           Saint Lucia        5            2            1              1   \n",
       "1              Dominica        4            1            1              0   \n",
       "2             DPR Korea       15            6            0              2   \n",
       "3               IR Iran       41           12            3              6   \n",
       "4               Bahrain       15            4            2              1   \n",
       "..                  ...      ...          ...          ...            ...   \n",
       "201             Vietnam       19            0            0              0   \n",
       "202   Virgin Islands, B        4            0            0              0   \n",
       "203  Virgin Islands, US        5            0            0              0   \n",
       "204               Yemen        4            0            0              0   \n",
       "205            Zimbabwe        7            0            0              0   \n",
       "\n",
       "     bronze_medals  total_medals_weighted medal_rate_unweighted  \\\n",
       "0                0                    3.5                   0.4   \n",
       "1                0                    2.0                  0.25   \n",
       "2                4                    7.0                   0.4   \n",
       "3                3                   18.0              0.292683   \n",
       "4                1                    6.5              0.266667   \n",
       "..             ...                    ...                   ...   \n",
       "201              0                    0.0                   0.0   \n",
       "202              0                    0.0                   0.0   \n",
       "203              0                    0.0                   0.0   \n",
       "204              0                    0.0                   0.0   \n",
       "205              0                    0.0                   0.0   \n",
       "\n",
       "     medal_rate_weighted  medal_rate_unweighted_rank  medal_rate_weighted_rank  \n",
       "0               0.700000                         1.0                       1.0  \n",
       "1               0.500000                         9.0                       2.0  \n",
       "2               0.466667                         1.0                       3.0  \n",
       "3               0.439024                         5.0                       4.0  \n",
       "4               0.433333                         6.0                       5.0  \n",
       "..                   ...                         ...                       ...  \n",
       "201             0.000000                        93.0                      93.0  \n",
       "202             0.000000                        93.0                      93.0  \n",
       "203             0.000000                        93.0                      93.0  \n",
       "204             0.000000                        93.0                      93.0  \n",
       "205             0.000000                        93.0                      93.0  \n",
       "\n",
       "[206 rows x 11 columns]"
      ]
     },
     "execution_count": 107,
     "metadata": {},
     "output_type": "execute_result"
    }
   ],
   "source": [
    "# Build medal rate df\n",
    "rate_df = U.calc_country_medal_rates(entry_df)\n",
    "\n",
    "# Export and view sample\n",
    "rate_df.to_csv(f\"out/country_medal_rankings.csv\", index=False)\n",
    "rate_df\n"
   ]
  },
  {
   "cell_type": "markdown",
   "metadata": {},
   "source": [
    "***\n",
    "***\n",
    "## 3. Plots"
   ]
  },
  {
   "cell_type": "markdown",
   "metadata": {},
   "source": [
    "#### 3.1 Medal Wins vs Chances"
   ]
  },
  {
   "cell_type": "code",
   "execution_count": 108,
   "metadata": {},
   "outputs": [
    {
     "data": {
      "application/vnd.plotly.v1+json": {
       "config": {
        "plotlyServerURL": "https://plot.ly"
       },
       "data": [
        {
         "marker": {
          "color": "rgb(48, 56, 158)",
          "line": {
           "color": "Black",
           "width": 1
          },
          "opacity": 0.6,
          "size": 5.199600798403194
         },
         "mode": "markers+text",
         "showlegend": false,
         "text": "Saint Lucia",
         "textposition": "top center",
         "type": "scatter",
         "x": [
          5
         ],
         "y": [
          2
         ]
        },
        {
         "marker": {
          "color": "rgb(49, 53, 155)",
          "line": {
           "color": "Black",
           "width": 1
          },
          "opacity": 0.6,
          "size": 5.149700598802395
         },
         "mode": "markers+text",
         "showlegend": false,
         "text": "Dominica",
         "textposition": "top center",
         "type": "scatter",
         "x": [
          4
         ],
         "y": [
          1
         ]
        },
        {
         "marker": {
          "color": "rgb(41, 69, 171)",
          "line": {
           "color": "Black",
           "width": 1
          },
          "opacity": 0.6,
          "size": 5.698602794411178
         },
         "mode": "markers+text",
         "showlegend": false,
         "text": "DPR Korea",
         "textposition": "top center",
         "type": "scatter",
         "x": [
          15
         ],
         "y": [
          6
         ]
        },
        {
         "marker": {
          "color": "rgb(24, 104, 206)",
          "line": {
           "color": "Black",
           "width": 1
          },
          "opacity": 0.6,
          "size": 6.996007984031936
         },
         "mode": "markers+text",
         "showlegend": false,
         "text": "IR Iran",
         "textposition": "top center",
         "type": "scatter",
         "x": [
          41
         ],
         "y": [
          12
         ]
        },
        {
         "marker": {
          "color": "rgb(41, 69, 171)",
          "line": {
           "color": "Black",
           "width": 1
          },
          "opacity": 0.6,
          "size": 5.698602794411178
         },
         "mode": "markers+text",
         "showlegend": false,
         "text": "Bahrain",
         "textposition": "top center",
         "type": "scatter",
         "x": [
          15
         ],
         "y": [
          4
         ]
        },
        {
         "marker": {
          "color": "rgb(40, 72, 174)",
          "line": {
           "color": "Black",
           "width": 1
          },
          "opacity": 0.6,
          "size": 5.798403193612774
         },
         "mode": "markers+text",
         "showlegend": false,
         "text": "Kyrgyzstan",
         "textposition": "top center",
         "type": "scatter",
         "x": [
          17
         ],
         "y": [
          6
         ]
        },
        {
         "marker": {
          "color": "rgb(130, 95, 85)",
          "line": {
           "color": "Black",
           "width": 1
          },
          "opacity": 0.6,
          "size": 23.562874251497004
         },
         "mode": "markers+text",
         "showlegend": false,
         "text": "China",
         "textposition": "top center",
         "type": "scatter",
         "x": [
          373
         ],
         "y": [
          91
         ]
        },
        {
         "marker": {
          "color": "rgb(32, 88, 190)",
          "line": {
           "color": "Black",
           "width": 1
          },
          "opacity": 0.6,
          "size": 6.447105788423154
         },
         "mode": "markers+text",
         "showlegend": false,
         "text": "Georgia",
         "textposition": "top center",
         "type": "scatter",
         "x": [
          30
         ],
         "y": [
          7
         ]
        },
        {
         "marker": {
          "color": "rgb(255, 255, 255)",
          "line": {
           "color": "Black",
           "width": 1
          },
          "opacity": 0.6,
          "size": 30
         },
         "mode": "markers+text",
         "showlegend": false,
         "text": "United States",
         "textposition": "top center",
         "type": "scatter",
         "x": [
          502
         ],
         "y": [
          126
         ]
        },
        {
         "marker": {
          "color": "rgb(41, 69, 171)",
          "line": {
           "color": "Black",
           "width": 1
          },
          "opacity": 0.6,
          "size": 5.698602794411178
         },
         "mode": "markers+text",
         "showlegend": false,
         "text": "Armenia",
         "textposition": "top center",
         "type": "scatter",
         "x": [
          15
         ],
         "y": [
          4
         ]
        },
        {
         "marker": {
          "color": "rgb(48, 56, 158)",
          "line": {
           "color": "Black",
           "width": 1
          },
          "opacity": 0.6,
          "size": 5.249500998003992
         },
         "mode": "markers+text",
         "showlegend": false,
         "text": "Grenada",
         "textposition": "top center",
         "type": "scatter",
         "x": [
          6
         ],
         "y": [
          2
         ]
        },
        {
         "marker": {
          "color": "rgb(19, 115, 217)",
          "line": {
           "color": "Black",
           "width": 1
          },
          "opacity": 0.6,
          "size": 7.345309381237525
         },
         "mode": "markers+text",
         "showlegend": false,
         "text": "Kenya",
         "textposition": "top center",
         "type": "scatter",
         "x": [
          48
         ],
         "y": [
          11
         ]
        },
        {
         "marker": {
          "color": "rgb(72, 218, 116)",
          "line": {
           "color": "Black",
           "width": 1
          },
          "opacity": 0.6,
          "size": 13.08383233532934
         },
         "mode": "markers+text",
         "showlegend": false,
         "text": "Korea",
         "textposition": "top center",
         "type": "scatter",
         "x": [
          163
         ],
         "y": [
          32
         ]
        },
        {
         "marker": {
          "color": "rgb(0, 154, 250)",
          "line": {
           "color": "Black",
           "width": 1
          },
          "opacity": 0.6,
          "size": 8.892215568862277
         },
         "mode": "markers+text",
         "showlegend": false,
         "text": "Uzbekistan",
         "textposition": "top center",
         "type": "scatter",
         "x": [
          79
         ],
         "y": [
          13
         ]
        },
        {
         "marker": {
          "color": "rgb(45, 61, 163)",
          "line": {
           "color": "Black",
           "width": 1
          },
          "opacity": 0.6,
          "size": 5.399201596806387
         },
         "mode": "markers+text",
         "showlegend": false,
         "text": "Kosovo",
         "textposition": "top center",
         "type": "scatter",
         "x": [
          9
         ],
         "y": [
          2
         ]
        },
        {
         "marker": {
          "color": "rgb(178, 156, 111)",
          "line": {
           "color": "Black",
           "width": 1
          },
          "opacity": 0.6,
          "size": 21.26746506986028
         },
         "mode": "markers+text",
         "showlegend": false,
         "text": "Great Britain",
         "textposition": "top center",
         "type": "scatter",
         "x": [
          327
         ],
         "y": [
          65
         ]
        },
        {
         "marker": {
          "color": "rgb(43, 67, 169)",
          "line": {
           "color": "Black",
           "width": 1
          },
          "opacity": 0.6,
          "size": 5.598802395209581
         },
         "mode": "markers+text",
         "showlegend": false,
         "text": "Botswana",
         "textposition": "top center",
         "type": "scatter",
         "x": [
          13
         ],
         "y": [
          2
         ]
        },
        {
         "marker": {
          "color": "rgb(1, 204, 102)",
          "line": {
           "color": "Black",
           "width": 1
          },
          "opacity": 0.6,
          "size": 11.2874251497006
         },
         "mode": "markers+text",
         "showlegend": false,
         "text": "New Zealand",
         "textposition": "top center",
         "type": "scatter",
         "x": [
          127
         ],
         "y": [
          20
         ]
        },
        {
         "marker": {
          "color": "rgb(24, 104, 206)",
          "line": {
           "color": "Black",
           "width": 1
          },
          "opacity": 0.6,
          "size": 7.045908183632735
         },
         "mode": "markers+text",
         "showlegend": false,
         "text": "Azerbaijan",
         "textposition": "top center",
         "type": "scatter",
         "x": [
          42
         ],
         "y": [
          7
         ]
        },
        {
         "marker": {
          "color": "rgb(157, 129, 123)",
          "line": {
           "color": "Black",
           "width": 1
          },
          "opacity": 0.6,
          "size": 25.209580838323355
         },
         "mode": "markers+text",
         "showlegend": false,
         "text": "France",
         "textposition": "top center",
         "type": "scatter",
         "x": [
          406
         ],
         "y": [
          64
         ]
        },
        {
         "marker": {
          "color": "rgb(142, 110, 91)",
          "line": {
           "color": "Black",
           "width": 1
          },
          "opacity": 0.6,
          "size": 23.013972055888225
         },
         "mode": "markers+text",
         "showlegend": false,
         "text": "Australia",
         "textposition": "top center",
         "type": "scatter",
         "x": [
          362
         ],
         "y": [
          53
         ]
        },
        {
         "marker": {
          "color": "rgb(45, 61, 163)",
          "line": {
           "color": "Black",
           "width": 1
          },
          "opacity": 0.6,
          "size": 5.399201596806387
         },
         "mode": "markers+text",
         "showlegend": false,
         "text": "Albania",
         "textposition": "top center",
         "type": "scatter",
         "x": [
          9
         ],
         "y": [
          2
         ]
        },
        {
         "marker": {
          "color": "rgb(45, 61, 163)",
          "line": {
           "color": "Black",
           "width": 1
          },
          "opacity": 0.6,
          "size": 5.399201596806387
         },
         "mode": "markers+text",
         "showlegend": false,
         "text": "Pakistan",
         "textposition": "top center",
         "type": "scatter",
         "x": [
          9
         ],
         "y": [
          1
         ]
        },
        {
         "marker": {
          "color": "rgb(184, 164, 114)",
          "line": {
           "color": "Black",
           "width": 1
          },
          "opacity": 0.6,
          "size": 20.968063872255488
         },
         "mode": "markers+text",
         "showlegend": false,
         "text": "Japan",
         "textposition": "top center",
         "type": "scatter",
         "x": [
          321
         ],
         "y": [
          45
         ]
        },
        {
         "marker": {
          "color": "rgb(43, 67, 169)",
          "line": {
           "color": "Black",
           "width": 1
          },
          "opacity": 0.6,
          "size": 5.648702594810379
         },
         "mode": "markers+text",
         "showlegend": false,
         "text": "Tajikistan",
         "textposition": "top center",
         "type": "scatter",
         "x": [
          14
         ],
         "y": [
          3
         ]
        },
        {
         "marker": {
          "color": "rgb(245, 253, 151)",
          "line": {
           "color": "Black",
           "width": 1
          },
          "opacity": 0.6,
          "size": 17.22554890219561
         },
         "mode": "markers+text",
         "showlegend": false,
         "text": "Netherlands",
         "textposition": "top center",
         "type": "scatter",
         "x": [
          246
         ],
         "y": [
          34
         ]
        },
        {
         "marker": {
          "color": "rgb(16, 120, 222)",
          "line": {
           "color": "Black",
           "width": 1
          },
          "opacity": 0.6,
          "size": 7.594810379241517
         },
         "mode": "markers+text",
         "showlegend": false,
         "text": "Bulgaria",
         "textposition": "top center",
         "type": "scatter",
         "x": [
          53
         ],
         "y": [
          7
         ]
        },
        {
         "marker": {
          "color": "rgb(17, 117, 219)",
          "line": {
           "color": "Black",
           "width": 1
          },
          "opacity": 0.6,
          "size": 7.495009980039921
         },
         "mode": "markers+text",
         "showlegend": false,
         "text": "Croatia",
         "textposition": "top center",
         "type": "scatter",
         "x": [
          51
         ],
         "y": [
          7
         ]
        },
        {
         "marker": {
          "color": "rgb(11, 131, 233)",
          "line": {
           "color": "Black",
           "width": 1
          },
          "opacity": 0.6,
          "size": 7.994011976047904
         },
         "mode": "markers+text",
         "showlegend": false,
         "text": "Cuba",
         "textposition": "top center",
         "type": "scatter",
         "x": [
          61
         ],
         "y": [
          9
         ]
        },
        {
         "marker": {
          "color": "rgb(41, 69, 171)",
          "line": {
           "color": "Black",
           "width": 1
          },
          "opacity": 0.6,
          "size": 5.748502994011976
         },
         "mode": "markers+text",
         "showlegend": false,
         "text": "Guatemala",
         "textposition": "top center",
         "type": "scatter",
         "x": [
          16
         ],
         "y": [
          2
         ]
        },
        {
         "marker": {
          "color": "rgb(28, 96, 198)",
          "line": {
           "color": "Black",
           "width": 1
          },
          "opacity": 0.6,
          "size": 6.696606786427146
         },
         "mode": "markers+text",
         "showlegend": false,
         "text": "Ethiopia",
         "textposition": "top center",
         "type": "scatter",
         "x": [
          35
         ],
         "y": [
          4
         ]
        },
        {
         "marker": {
          "color": "rgb(57, 215, 113)",
          "line": {
           "color": "Black",
           "width": 1
          },
          "opacity": 0.6,
          "size": 12.634730538922156
         },
         "mode": "markers+text",
         "showlegend": false,
         "text": "Hungary",
         "textposition": "top center",
         "type": "scatter",
         "x": [
          154
         ],
         "y": [
          19
         ]
        },
        {
         "marker": {
          "color": "rgb(24, 104, 206)",
          "line": {
           "color": "Black",
           "width": 1
          },
          "opacity": 0.6,
          "size": 6.996007984031936
         },
         "mode": "markers+text",
         "showlegend": false,
         "text": "AIN",
         "textposition": "top center",
         "type": "scatter",
         "x": [
          41
         ],
         "y": [
          5
         ]
        },
        {
         "marker": {
          "color": "rgb(29, 93, 195)",
          "line": {
           "color": "Black",
           "width": 1
          },
          "opacity": 0.6,
          "size": 6.6467065868263475
         },
         "mode": "markers+text",
         "showlegend": false,
         "text": "Hong Kong, China",
         "textposition": "top center",
         "type": "scatter",
         "x": [
          34
         ],
         "y": [
          4
         ]
        },
        {
         "marker": {
          "color": "rgb(32, 88, 190)",
          "line": {
           "color": "Black",
           "width": 1
          },
          "opacity": 0.6,
          "size": 6.397205588822356
         },
         "mode": "markers+text",
         "showlegend": false,
         "text": "Indonesia",
         "textposition": "top center",
         "type": "scatter",
         "x": [
          29
         ],
         "y": [
          3
         ]
        },
        {
         "marker": {
          "color": "rgb(0, 158, 238)",
          "line": {
           "color": "Black",
           "width": 1
          },
          "opacity": 0.6,
          "size": 9.09181636726547
         },
         "mode": "markers+text",
         "showlegend": false,
         "text": "Romania",
         "textposition": "top center",
         "type": "scatter",
         "x": [
          83
         ],
         "y": [
          9
         ]
        },
        {
         "marker": {
          "color": "rgb(0, 180, 172)",
          "line": {
           "color": "Black",
           "width": 1
          },
          "opacity": 0.6,
          "size": 10.089820359281436
         },
         "mode": "markers+text",
         "showlegend": false,
         "text": "Sweden",
         "textposition": "top center",
         "type": "scatter",
         "x": [
          103
         ],
         "y": [
          11
         ]
        },
        {
         "marker": {
          "color": "rgb(33, 85, 187)",
          "line": {
           "color": "Black",
           "width": 1
          },
          "opacity": 0.6,
          "size": 6.347305389221557
         },
         "mode": "markers+text",
         "showlegend": false,
         "text": "Republic of Moldova",
         "textposition": "top center",
         "type": "scatter",
         "x": [
          28
         ],
         "y": [
          4
         ]
        },
        {
         "marker": {
          "color": "rgb(16, 120, 222)",
          "line": {
           "color": "Black",
           "width": 1
          },
          "opacity": 0.6,
          "size": 7.594810379241517
         },
         "mode": "markers+text",
         "showlegend": false,
         "text": "Thailand",
         "textposition": "top center",
         "type": "scatter",
         "x": [
          53
         ],
         "y": [
          6
         ]
        },
        {
         "marker": {
          "color": "rgb(23, 107, 209)",
          "line": {
           "color": "Black",
           "width": 1
          },
          "opacity": 0.6,
          "size": 7.145708582834331
         },
         "mode": "markers+text",
         "showlegend": false,
         "text": "Ecuador",
         "textposition": "top center",
         "type": "scatter",
         "x": [
          44
         ],
         "y": [
          5
         ]
        },
        {
         "marker": {
          "color": "rgb(14, 123, 225)",
          "line": {
           "color": "Black",
           "width": 1
          },
          "opacity": 0.6,
          "size": 7.644710578842315
         },
         "mode": "markers+text",
         "showlegend": false,
         "text": "Serbia",
         "textposition": "top center",
         "type": "scatter",
         "x": [
          54
         ],
         "y": [
          5
         ]
        },
        {
         "marker": {
          "color": "rgb(131, 97, 86)",
          "line": {
           "color": "Black",
           "width": 1
          },
          "opacity": 0.6,
          "size": 23.512974051896208
         },
         "mode": "markers+text",
         "showlegend": false,
         "text": "Italy",
         "textposition": "top center",
         "type": "scatter",
         "x": [
          372
         ],
         "y": [
          40
         ]
        },
        {
         "marker": {
          "color": "rgb(0, 156, 244)",
          "line": {
           "color": "Black",
           "width": 1
          },
          "opacity": 0.6,
          "size": 8.992015968063871
         },
         "mode": "markers+text",
         "showlegend": false,
         "text": "Norway",
         "textposition": "top center",
         "type": "scatter",
         "x": [
          81
         ],
         "y": [
          8
         ]
        },
        {
         "marker": {
          "color": "rgb(25, 101, 203)",
          "line": {
           "color": "Black",
           "width": 1
          },
          "opacity": 0.6,
          "size": 6.946107784431138
         },
         "mode": "markers+text",
         "showlegend": false,
         "text": "Philippines",
         "textposition": "top center",
         "type": "scatter",
         "x": [
          40
         ],
         "y": [
          4
         ]
        },
        {
         "marker": {
          "color": "rgb(32, 88, 190)",
          "line": {
           "color": "Black",
           "width": 1
          },
          "opacity": 0.6,
          "size": 6.447105788423154
         },
         "mode": "markers+text",
         "showlegend": false,
         "text": "Tunisia",
         "textposition": "top center",
         "type": "scatter",
         "x": [
          30
         ],
         "y": [
          3
         ]
        },
        {
         "marker": {
          "color": "rgb(9, 133, 235)",
          "line": {
           "color": "Black",
           "width": 1
          },
          "opacity": 0.6,
          "size": 8.043912175648703
         },
         "mode": "markers+text",
         "showlegend": false,
         "text": "Chinese Taipei",
         "textposition": "top center",
         "type": "scatter",
         "x": [
          62
         ],
         "y": [
          7
         ]
        },
        {
         "marker": {
          "color": "rgb(7, 138, 241)",
          "line": {
           "color": "Black",
           "width": 1
          },
          "opacity": 0.6,
          "size": 8.243512974051896
         },
         "mode": "markers+text",
         "showlegend": false,
         "text": "Greece",
         "textposition": "top center",
         "type": "scatter",
         "x": [
          66
         ],
         "y": [
          8
         ]
        },
        {
         "marker": {
          "color": "rgb(47, 59, 161)",
          "line": {
           "color": "Black",
           "width": 1
          },
          "opacity": 0.6,
          "size": 5.299401197604791
         },
         "mode": "markers+text",
         "showlegend": false,
         "text": "Cabo Verde",
         "textposition": "top center",
         "type": "scatter",
         "x": [
          7
         ],
         "y": [
          1
         ]
        },
        {
         "marker": {
          "color": "rgb(0, 160, 232)",
          "line": {
           "color": "Black",
           "width": 1
          },
          "opacity": 0.6,
          "size": 9.141716566866268
         },
         "mode": "markers+text",
         "showlegend": false,
         "text": "Denmark",
         "textposition": "top center",
         "type": "scatter",
         "x": [
          84
         ],
         "y": [
          9
         ]
        },
        {
         "marker": {
          "color": "rgb(144, 112, 93)",
          "line": {
           "color": "Black",
           "width": 1
          },
          "opacity": 0.6,
          "size": 22.964071856287426
         },
         "mode": "markers+text",
         "showlegend": false,
         "text": "Germany",
         "textposition": "top center",
         "type": "scatter",
         "x": [
          361
         ],
         "y": [
          33
         ]
        },
        {
         "marker": {
          "color": "rgb(11, 131, 233)",
          "line": {
           "color": "Black",
           "width": 1
          },
          "opacity": 0.6,
          "size": 7.944111776447106
         },
         "mode": "markers+text",
         "showlegend": false,
         "text": "Jamaica",
         "textposition": "top center",
         "type": "scatter",
         "x": [
          60
         ],
         "y": [
          6
         ]
        },
        {
         "marker": {
          "color": "rgb(32, 88, 190)",
          "line": {
           "color": "Black",
           "width": 1
          },
          "opacity": 0.6,
          "size": 6.397205588822356
         },
         "mode": "markers+text",
         "showlegend": false,
         "text": "Dominican Republic",
         "textposition": "top center",
         "type": "scatter",
         "x": [
          29
         ],
         "y": [
          3
         ]
        },
        {
         "marker": {
          "color": "rgb(44, 64, 166)",
          "line": {
           "color": "Black",
           "width": 1
          },
          "opacity": 0.6,
          "size": 5.499001996007984
         },
         "mode": "markers+text",
         "showlegend": false,
         "text": "Fiji",
         "textposition": "top center",
         "type": "scatter",
         "x": [
          11
         ],
         "y": [
          1
         ]
        },
        {
         "marker": {
          "color": "rgb(0, 154, 250)",
          "line": {
           "color": "Black",
           "width": 1
          },
          "opacity": 0.6,
          "size": 8.892215568862277
         },
         "mode": "markers+text",
         "showlegend": false,
         "text": "Israel",
         "textposition": "top center",
         "type": "scatter",
         "x": [
          79
         ],
         "y": [
          7
         ]
        },
        {
         "marker": {
          "color": "rgb(206, 192, 126)",
          "line": {
           "color": "Black",
           "width": 1
          },
          "opacity": 0.6,
          "size": 19.920159680638722
         },
         "mode": "markers+text",
         "showlegend": false,
         "text": "Canada",
         "textposition": "top center",
         "type": "scatter",
         "x": [
          300
         ],
         "y": [
          27
         ]
        },
        {
         "marker": {
          "color": "rgb(33, 85, 187)",
          "line": {
           "color": "Black",
           "width": 1
          },
          "opacity": 0.6,
          "size": 6.297405189620759
         },
         "mode": "markers+text",
         "showlegend": false,
         "text": "Uganda",
         "textposition": "top center",
         "type": "scatter",
         "x": [
          27
         ],
         "y": [
          2
         ]
        },
        {
         "marker": {
          "color": "rgb(47, 59, 161)",
          "line": {
           "color": "Black",
           "width": 1
          },
          "opacity": 0.6,
          "size": 5.349301397205589
         },
         "mode": "markers+text",
         "showlegend": false,
         "text": "Zambia",
         "textposition": "top center",
         "type": "scatter",
         "x": [
          8
         ],
         "y": [
          1
         ]
        },
        {
         "marker": {
          "color": "rgb(44, 64, 166)",
          "line": {
           "color": "Black",
           "width": 1
          },
          "opacity": 0.6,
          "size": 5.5489021956087825
         },
         "mode": "markers+text",
         "showlegend": false,
         "text": "Jordan",
         "textposition": "top center",
         "type": "scatter",
         "x": [
          12
         ],
         "y": [
          1
         ]
        },
        {
         "marker": {
          "color": "rgb(44, 64, 166)",
          "line": {
           "color": "Black",
           "width": 1
          },
          "opacity": 0.6,
          "size": 5.5489021956087825
         },
         "mode": "markers+text",
         "showlegend": false,
         "text": "Panama",
         "textposition": "top center",
         "type": "scatter",
         "x": [
          12
         ],
         "y": [
          1
         ]
        },
        {
         "marker": {
          "color": "rgb(0, 168, 208)",
          "line": {
           "color": "Black",
           "width": 1
          },
          "opacity": 0.6,
          "size": 9.540918163672654
         },
         "mode": "markers+text",
         "showlegend": false,
         "text": "Ireland",
         "textposition": "top center",
         "type": "scatter",
         "x": [
          92
         ],
         "y": [
          7
         ]
        },
        {
         "marker": {
          "color": "rgb(49, 213, 111)",
          "line": {
           "color": "Black",
           "width": 1
          },
          "opacity": 0.6,
          "size": 12.435129740518962
         },
         "mode": "markers+text",
         "showlegend": false,
         "text": "Ukraine",
         "textposition": "top center",
         "type": "scatter",
         "x": [
          150
         ],
         "y": [
          12
         ]
        },
        {
         "marker": {
          "color": "rgb(217, 247, 145)",
          "line": {
           "color": "Black",
           "width": 1
          },
          "opacity": 0.6,
          "size": 16.526946107784433
         },
         "mode": "markers+text",
         "showlegend": false,
         "text": "Brazil",
         "textposition": "top center",
         "type": "scatter",
         "x": [
          232
         ],
         "y": [
          20
         ]
        },
        {
         "marker": {
          "color": "rgb(21, 109, 211)",
          "line": {
           "color": "Black",
           "width": 1
          },
          "opacity": 0.6,
          "size": 7.245508982035928
         },
         "mode": "markers+text",
         "showlegend": false,
         "text": "Lithuania",
         "textposition": "top center",
         "type": "scatter",
         "x": [
          46
         ],
         "y": [
          4
         ]
        },
        {
         "marker": {
          "color": "rgb(17, 117, 219)",
          "line": {
           "color": "Black",
           "width": 1
          },
          "opacity": 0.6,
          "size": 7.445109780439122
         },
         "mode": "markers+text",
         "showlegend": false,
         "text": "Algeria",
         "textposition": "top center",
         "type": "scatter",
         "x": [
          50
         ],
         "y": [
          3
         ]
        },
        {
         "marker": {
          "color": "rgb(0, 176, 184)",
          "line": {
           "color": "Black",
           "width": 1
          },
          "opacity": 0.6,
          "size": 9.890219560878243
         },
         "mode": "markers+text",
         "showlegend": false,
         "text": "Kazakhstan",
         "textposition": "top center",
         "type": "scatter",
         "x": [
          99
         ],
         "y": [
          7
         ]
        },
        {
         "marker": {
          "color": "rgb(240, 235, 144)",
          "line": {
           "color": "Black",
           "width": 1
          },
          "opacity": 0.6,
          "size": 18.27345309381238
         },
         "mode": "markers+text",
         "showlegend": false,
         "text": "Spain",
         "textposition": "top center",
         "type": "scatter",
         "x": [
          267
         ],
         "y": [
          18
         ]
        },
        {
         "marker": {
          "color": "rgb(40, 212, 110)",
          "line": {
           "color": "Black",
           "width": 1
          },
          "opacity": 0.6,
          "size": 12.235528942115767
         },
         "mode": "markers+text",
         "showlegend": false,
         "text": "Belgium",
         "textposition": "top center",
         "type": "scatter",
         "x": [
          146
         ],
         "y": [
          10
         ]
        },
        {
         "marker": {
          "color": "rgb(0, 170, 202)",
          "line": {
           "color": "Black",
           "width": 1
          },
          "opacity": 0.6,
          "size": 9.640718562874252
         },
         "mode": "markers+text",
         "showlegend": false,
         "text": "South Africa",
         "textposition": "top center",
         "type": "scatter",
         "x": [
          94
         ],
         "y": [
          6
         ]
        },
        {
         "marker": {
          "color": "rgb(8, 136, 238)",
          "line": {
           "color": "Black",
           "width": 1
          },
          "opacity": 0.6,
          "size": 8.1437125748503
         },
         "mode": "markers+text",
         "showlegend": false,
         "text": "Slovenia",
         "textposition": "top center",
         "type": "scatter",
         "x": [
          64
         ],
         "y": [
          3
         ]
        },
        {
         "marker": {
          "color": "rgb(44, 64, 166)",
          "line": {
           "color": "Black",
           "width": 1
          },
          "opacity": 0.6,
          "size": 5.5489021956087825
         },
         "mode": "markers+text",
         "showlegend": false,
         "text": "Qatar",
         "textposition": "top center",
         "type": "scatter",
         "x": [
          12
         ],
         "y": [
          1
         ]
        },
        {
         "marker": {
          "color": "rgb(13, 125, 227)",
          "line": {
           "color": "Black",
           "width": 1
          },
          "opacity": 0.6,
          "size": 7.794411177644711
         },
         "mode": "markers+text",
         "showlegend": false,
         "text": "Argentina",
         "textposition": "top center",
         "type": "scatter",
         "x": [
          57
         ],
         "y": [
          3
         ]
        },
        {
         "marker": {
          "color": "rgb(0, 198, 118)",
          "line": {
           "color": "Black",
           "width": 1
          },
          "opacity": 0.6,
          "size": 11.037924151696608
         },
         "mode": "markers+text",
         "showlegend": false,
         "text": "Türkiye",
         "textposition": "top center",
         "type": "scatter",
         "x": [
          122
         ],
         "y": [
          8
         ]
        },
        {
         "marker": {
          "color": "rgb(20, 112, 214)",
          "line": {
           "color": "Black",
           "width": 1
          },
          "opacity": 0.6,
          "size": 7.295409181636726
         },
         "mode": "markers+text",
         "showlegend": false,
         "text": "Chile",
         "textposition": "top center",
         "type": "scatter",
         "x": [
          47
         ],
         "y": [
          2
         ]
        },
        {
         "marker": {
          "color": "rgb(33, 85, 187)",
          "line": {
           "color": "Black",
           "width": 1
          },
          "opacity": 0.6,
          "size": 6.297405189620759
         },
         "mode": "markers+text",
         "showlegend": false,
         "text": "Malaysia",
         "textposition": "top center",
         "type": "scatter",
         "x": [
          27
         ],
         "y": [
          2
         ]
        },
        {
         "marker": {
          "color": "rgb(0, 174, 190)",
          "line": {
           "color": "Black",
           "width": 1
          },
          "opacity": 0.6,
          "size": 9.790419161676647
         },
         "mode": "markers+text",
         "showlegend": false,
         "text": "Austria",
         "textposition": "top center",
         "type": "scatter",
         "x": [
          97
         ],
         "y": [
          5
         ]
        },
        {
         "marker": {
          "color": "rgb(43, 67, 169)",
          "line": {
           "color": "Black",
           "width": 1
          },
          "opacity": 0.6,
          "size": 5.648702594810379
         },
         "mode": "markers+text",
         "showlegend": false,
         "text": "Côte d'Ivoire",
         "textposition": "top center",
         "type": "scatter",
         "x": [
          14
         ],
         "y": [
          1
         ]
        },
        {
         "marker": {
          "color": "rgb(0, 160, 232)",
          "line": {
           "color": "Black",
           "width": 1
          },
          "opacity": 0.6,
          "size": 9.191616766467066
         },
         "mode": "markers+text",
         "showlegend": false,
         "text": "Portugal",
         "textposition": "top center",
         "type": "scatter",
         "x": [
          85
         ],
         "y": [
          4
         ]
        },
        {
         "marker": {
          "color": "rgb(0, 156, 244)",
          "line": {
           "color": "Black",
           "width": 1
          },
          "opacity": 0.6,
          "size": 8.942115768463074
         },
         "mode": "markers+text",
         "showlegend": false,
         "text": "Colombia",
         "textposition": "top center",
         "type": "scatter",
         "x": [
          80
         ],
         "y": [
          4
         ]
        },
        {
         "marker": {
          "color": "rgb(0, 172, 196)",
          "line": {
           "color": "Black",
           "width": 1
          },
          "opacity": 0.6,
          "size": 9.69061876247505
         },
         "mode": "markers+text",
         "showlegend": false,
         "text": "India",
         "textposition": "top center",
         "type": "scatter",
         "x": [
          95
         ],
         "y": [
          6
         ]
        },
        {
         "marker": {
          "color": "rgb(37, 77, 179)",
          "line": {
           "color": "Black",
           "width": 1
          },
          "opacity": 0.6,
          "size": 6.047904191616766
         },
         "mode": "markers+text",
         "showlegend": false,
         "text": "Cyprus",
         "textposition": "top center",
         "type": "scatter",
         "x": [
          22
         ],
         "y": [
          1
         ]
        },
        {
         "marker": {
          "color": "rgb(23, 107, 209)",
          "line": {
           "color": "Black",
           "width": 1
          },
          "opacity": 0.6,
          "size": 7.145708582834331
         },
         "mode": "markers+text",
         "showlegend": false,
         "text": "Morocco",
         "textposition": "top center",
         "type": "scatter",
         "x": [
          44
         ],
         "y": [
          2
         ]
        },
        {
         "marker": {
          "color": "rgb(141, 232, 130)",
          "line": {
           "color": "Black",
           "width": 1
          },
          "opacity": 0.6,
          "size": 14.68063872255489
         },
         "mode": "markers+text",
         "showlegend": false,
         "text": "Poland",
         "textposition": "top center",
         "type": "scatter",
         "x": [
          195
         ],
         "y": [
          10
         ]
        },
        {
         "marker": {
          "color": "rgb(31, 91, 193)",
          "line": {
           "color": "Black",
           "width": 1
          },
          "opacity": 0.6,
          "size": 6.497005988023952
         },
         "mode": "markers+text",
         "showlegend": false,
         "text": "Puerto Rico",
         "textposition": "top center",
         "type": "scatter",
         "x": [
          31
         ],
         "y": [
          2
         ]
        },
        {
         "marker": {
          "color": "rgb(1, 204, 102)",
          "line": {
           "color": "Black",
           "width": 1
          },
          "opacity": 0.6,
          "size": 11.2874251497006
         },
         "mode": "markers+text",
         "showlegend": false,
         "text": "Czechia",
         "textposition": "top center",
         "type": "scatter",
         "x": [
          127
         ],
         "y": [
          5
         ]
        },
        {
         "marker": {
          "color": "rgb(65, 217, 115)",
          "line": {
           "color": "Black",
           "width": 1
          },
          "opacity": 0.6,
          "size": 12.884231536926148
         },
         "mode": "markers+text",
         "showlegend": false,
         "text": "Switzerland",
         "textposition": "top center",
         "type": "scatter",
         "x": [
          159
         ],
         "y": [
          8
         ]
        },
        {
         "marker": {
          "color": "rgb(0, 202, 106)",
          "line": {
           "color": "Black",
           "width": 1
          },
          "opacity": 0.6,
          "size": 11.187624750499001
         },
         "mode": "markers+text",
         "showlegend": false,
         "text": "Mexico",
         "textposition": "top center",
         "type": "scatter",
         "x": [
          125
         ],
         "y": [
          5
         ]
        },
        {
         "marker": {
          "color": "rgb(27, 98, 201)",
          "line": {
           "color": "Black",
           "width": 1
          },
          "opacity": 0.6,
          "size": 6.846307385229541
         },
         "mode": "markers+text",
         "showlegend": false,
         "text": "Mongolia",
         "textposition": "top center",
         "type": "scatter",
         "x": [
          38
         ],
         "y": [
          1
         ]
        },
        {
         "marker": {
          "color": "rgb(0, 192, 136)",
          "line": {
           "color": "Black",
           "width": 1
          },
          "opacity": 0.6,
          "size": 10.738522954091817
         },
         "mode": "markers+text",
         "showlegend": false,
         "text": "Egypt",
         "textposition": "top center",
         "type": "scatter",
         "x": [
          116
         ],
         "y": [
          3
         ]
        },
        {
         "marker": {
          "color": "rgb(35, 83, 185)",
          "line": {
           "color": "Black",
           "width": 1
          },
          "opacity": 0.6,
          "size": 6.24750499001996
         },
         "mode": "markers+text",
         "showlegend": false,
         "text": "Singapore",
         "textposition": "top center",
         "type": "scatter",
         "x": [
          26
         ],
         "y": [
          1
         ]
        },
        {
         "marker": {
          "color": "rgb(33, 85, 187)",
          "line": {
           "color": "Black",
           "width": 1
          },
          "opacity": 0.6,
          "size": 6.297405189620759
         },
         "mode": "markers+text",
         "showlegend": false,
         "text": "Peru",
         "textposition": "top center",
         "type": "scatter",
         "x": [
          27
         ],
         "y": [
          1
         ]
        },
        {
         "marker": {
          "color": "rgb(28, 96, 198)",
          "line": {
           "color": "Black",
           "width": 1
          },
          "opacity": 0.6,
          "size": 6.696606786427146
         },
         "mode": "markers+text",
         "showlegend": false,
         "text": "Slovakia",
         "textposition": "top center",
         "type": "scatter",
         "x": [
          35
         ],
         "y": [
          1
         ]
        },
        {
         "marker": {
          "color": "rgb(25, 101, 203)",
          "line": {
           "color": "Black",
           "width": 1
          },
          "opacity": 0.6,
          "size": 6.896207584830339
         },
         "mode": "markers+text",
         "showlegend": false,
         "text": "EOR",
         "textposition": "top center",
         "type": "scatter",
         "x": [
          39
         ],
         "y": [
          1
         ]
        },
        {
         "marker": {
          "color": "rgb(47, 59, 161)",
          "line": {
           "color": "Black",
           "width": 1
          },
          "opacity": 0.6,
          "size": 5.299401197604791
         },
         "mode": "markers+text",
         "showlegend": false,
         "text": "Afghanistan",
         "textposition": "top center",
         "type": "scatter",
         "x": [
          7
         ],
         "y": [
          0
         ]
        },
        {
         "marker": {
          "color": "rgb(51, 51, 153)",
          "line": {
           "color": "Black",
           "width": 1
          },
          "opacity": 0.6,
          "size": 5.049900199600798
         },
         "mode": "markers+text",
         "showlegend": false,
         "text": "American Samoa",
         "textposition": "top center",
         "type": "scatter",
         "x": [
          2
         ],
         "y": [
          0
         ]
        },
        {
         "marker": {
          "color": "rgb(49, 53, 155)",
          "line": {
           "color": "Black",
           "width": 1
          },
          "opacity": 0.6,
          "size": 5.149700598802395
         },
         "mode": "markers+text",
         "showlegend": false,
         "text": "Andorra",
         "textposition": "top center",
         "type": "scatter",
         "x": [
          4
         ],
         "y": [
          0
         ]
        },
        {
         "marker": {
          "color": "rgb(45, 61, 163)",
          "line": {
           "color": "Black",
           "width": 1
          },
          "opacity": 0.6,
          "size": 5.449101796407185
         },
         "mode": "markers+text",
         "showlegend": false,
         "text": "Angola",
         "textposition": "top center",
         "type": "scatter",
         "x": [
          10
         ],
         "y": [
          0
         ]
        },
        {
         "marker": {
          "color": "rgb(48, 56, 158)",
          "line": {
           "color": "Black",
           "width": 1
          },
          "opacity": 0.6,
          "size": 5.199600798403194
         },
         "mode": "markers+text",
         "showlegend": false,
         "text": "Antigua and Barbuda",
         "textposition": "top center",
         "type": "scatter",
         "x": [
          5
         ],
         "y": [
          0
         ]
        },
        {
         "marker": {
          "color": "rgb(47, 59, 161)",
          "line": {
           "color": "Black",
           "width": 1
          },
          "opacity": 0.6,
          "size": 5.299401197604791
         },
         "mode": "markers+text",
         "showlegend": false,
         "text": "Aruba",
         "textposition": "top center",
         "type": "scatter",
         "x": [
          7
         ],
         "y": [
          0
         ]
        },
        {
         "marker": {
          "color": "rgb(40, 72, 174)",
          "line": {
           "color": "Black",
           "width": 1
          },
          "opacity": 0.6,
          "size": 5.798403193612774
         },
         "mode": "markers+text",
         "showlegend": false,
         "text": "Bahamas",
         "textposition": "top center",
         "type": "scatter",
         "x": [
          17
         ],
         "y": [
          0
         ]
        },
        {
         "marker": {
          "color": "rgb(48, 56, 158)",
          "line": {
           "color": "Black",
           "width": 1
          },
          "opacity": 0.6,
          "size": 5.199600798403194
         },
         "mode": "markers+text",
         "showlegend": false,
         "text": "Bangladesh",
         "textposition": "top center",
         "type": "scatter",
         "x": [
          5
         ],
         "y": [
          0
         ]
        },
        {
         "marker": {
          "color": "rgb(49, 53, 155)",
          "line": {
           "color": "Black",
           "width": 1
          },
          "opacity": 0.6,
          "size": 5.149700598802395
         },
         "mode": "markers+text",
         "showlegend": false,
         "text": "Barbados",
         "textposition": "top center",
         "type": "scatter",
         "x": [
          4
         ],
         "y": [
          0
         ]
        },
        {
         "marker": {
          "color": "rgb(51, 51, 153)",
          "line": {
           "color": "Black",
           "width": 1
          },
          "opacity": 0.6,
          "size": 5
         },
         "mode": "markers+text",
         "showlegend": false,
         "text": "Belize",
         "textposition": "top center",
         "type": "scatter",
         "x": [
          1
         ],
         "y": [
          false
         ]
        },
        {
         "marker": {
          "color": "rgb(48, 56, 158)",
          "line": {
           "color": "Black",
           "width": 1
          },
          "opacity": 0.6,
          "size": 5.199600798403194
         },
         "mode": "markers+text",
         "showlegend": false,
         "text": "Benin",
         "textposition": "top center",
         "type": "scatter",
         "x": [
          5
         ],
         "y": [
          0
         ]
        },
        {
         "marker": {
          "color": "rgb(47, 59, 161)",
          "line": {
           "color": "Black",
           "width": 1
          },
          "opacity": 0.6,
          "size": 5.349301397205589
         },
         "mode": "markers+text",
         "showlegend": false,
         "text": "Bermuda",
         "textposition": "top center",
         "type": "scatter",
         "x": [
          8
         ],
         "y": [
          0
         ]
        },
        {
         "marker": {
          "color": "rgb(49, 53, 155)",
          "line": {
           "color": "Black",
           "width": 1
          },
          "opacity": 0.6,
          "size": 5.099800399201597
         },
         "mode": "markers+text",
         "showlegend": false,
         "text": "Bhutan",
         "textposition": "top center",
         "type": "scatter",
         "x": [
          3
         ],
         "y": [
          0
         ]
        },
        {
         "marker": {
          "color": "rgb(49, 53, 155)",
          "line": {
           "color": "Black",
           "width": 1
          },
          "opacity": 0.6,
          "size": 5.149700598802395
         },
         "mode": "markers+text",
         "showlegend": false,
         "text": "Bolivia",
         "textposition": "top center",
         "type": "scatter",
         "x": [
          4
         ],
         "y": [
          0
         ]
        },
        {
         "marker": {
          "color": "rgb(48, 56, 158)",
          "line": {
           "color": "Black",
           "width": 1
          },
          "opacity": 0.6,
          "size": 5.249500998003992
         },
         "mode": "markers+text",
         "showlegend": false,
         "text": "Bosnia & Herzegovina",
         "textposition": "top center",
         "type": "scatter",
         "x": [
          6
         ],
         "y": [
          0
         ]
        },
        {
         "marker": {
          "color": "rgb(49, 53, 155)",
          "line": {
           "color": "Black",
           "width": 1
          },
          "opacity": 0.6,
          "size": 5.099800399201597
         },
         "mode": "markers+text",
         "showlegend": false,
         "text": "Brunei Darussalam",
         "textposition": "top center",
         "type": "scatter",
         "x": [
          3
         ],
         "y": [
          0
         ]
        },
        {
         "marker": {
          "color": "rgb(47, 59, 161)",
          "line": {
           "color": "Black",
           "width": 1
          },
          "opacity": 0.6,
          "size": 5.349301397205589
         },
         "mode": "markers+text",
         "showlegend": false,
         "text": "Burkina Faso",
         "textposition": "top center",
         "type": "scatter",
         "x": [
          8
         ],
         "y": [
          0
         ]
        },
        {
         "marker": {
          "color": "rgb(47, 59, 161)",
          "line": {
           "color": "Black",
           "width": 1
          },
          "opacity": 0.6,
          "size": 5.349301397205589
         },
         "mode": "markers+text",
         "showlegend": false,
         "text": "Burundi",
         "textposition": "top center",
         "type": "scatter",
         "x": [
          8
         ],
         "y": [
          0
         ]
        },
        {
         "marker": {
          "color": "rgb(49, 53, 155)",
          "line": {
           "color": "Black",
           "width": 1
          },
          "opacity": 0.6,
          "size": 5.099800399201597
         },
         "mode": "markers+text",
         "showlegend": false,
         "text": "Cambodia",
         "textposition": "top center",
         "type": "scatter",
         "x": [
          3
         ],
         "y": [
          0
         ]
        },
        {
         "marker": {
          "color": "rgb(48, 56, 158)",
          "line": {
           "color": "Black",
           "width": 1
          },
          "opacity": 0.6,
          "size": 5.249500998003992
         },
         "mode": "markers+text",
         "showlegend": false,
         "text": "Cameroon",
         "textposition": "top center",
         "type": "scatter",
         "x": [
          6
         ],
         "y": [
          0
         ]
        },
        {
         "marker": {
          "color": "rgb(48, 56, 158)",
          "line": {
           "color": "Black",
           "width": 1
          },
          "opacity": 0.6,
          "size": 5.199600798403194
         },
         "mode": "markers+text",
         "showlegend": false,
         "text": "Cayman Islands",
         "textposition": "top center",
         "type": "scatter",
         "x": [
          5
         ],
         "y": [
          0
         ]
        },
        {
         "marker": {
          "color": "rgb(49, 53, 155)",
          "line": {
           "color": "Black",
           "width": 1
          },
          "opacity": 0.6,
          "size": 5.149700598802395
         },
         "mode": "markers+text",
         "showlegend": false,
         "text": "Centr Afric Re",
         "textposition": "top center",
         "type": "scatter",
         "x": [
          4
         ],
         "y": [
          0
         ]
        },
        {
         "marker": {
          "color": "rgb(49, 53, 155)",
          "line": {
           "color": "Black",
           "width": 1
          },
          "opacity": 0.6,
          "size": 5.099800399201597
         },
         "mode": "markers+text",
         "showlegend": false,
         "text": "Chad",
         "textposition": "top center",
         "type": "scatter",
         "x": [
          3
         ],
         "y": [
          0
         ]
        },
        {
         "marker": {
          "color": "rgb(48, 56, 158)",
          "line": {
           "color": "Black",
           "width": 1
          },
          "opacity": 0.6,
          "size": 5.199600798403194
         },
         "mode": "markers+text",
         "showlegend": false,
         "text": "Comoros",
         "textposition": "top center",
         "type": "scatter",
         "x": [
          5
         ],
         "y": [
          0
         ]
        },
        {
         "marker": {
          "color": "rgb(49, 53, 155)",
          "line": {
           "color": "Black",
           "width": 1
          },
          "opacity": 0.6,
          "size": 5.149700598802395
         },
         "mode": "markers+text",
         "showlegend": false,
         "text": "Congo",
         "textposition": "top center",
         "type": "scatter",
         "x": [
          4
         ],
         "y": [
          0
         ]
        },
        {
         "marker": {
          "color": "rgb(51, 51, 153)",
          "line": {
           "color": "Black",
           "width": 1
          },
          "opacity": 0.6,
          "size": 5.049900199600798
         },
         "mode": "markers+text",
         "showlegend": false,
         "text": "Cook Islands",
         "textposition": "top center",
         "type": "scatter",
         "x": [
          2
         ],
         "y": [
          0
         ]
        },
        {
         "marker": {
          "color": "rgb(48, 56, 158)",
          "line": {
           "color": "Black",
           "width": 1
          },
          "opacity": 0.6,
          "size": 5.249500998003992
         },
         "mode": "markers+text",
         "showlegend": false,
         "text": "Costa Rica",
         "textposition": "top center",
         "type": "scatter",
         "x": [
          6
         ],
         "y": [
          0
         ]
        },
        {
         "marker": {
          "color": "rgb(48, 56, 158)",
          "line": {
           "color": "Black",
           "width": 1
          },
          "opacity": 0.6,
          "size": 5.249500998003992
         },
         "mode": "markers+text",
         "showlegend": false,
         "text": "DR Congo",
         "textposition": "top center",
         "type": "scatter",
         "x": [
          6
         ],
         "y": [
          0
         ]
        },
        {
         "marker": {
          "color": "rgb(47, 59, 161)",
          "line": {
           "color": "Black",
           "width": 1
          },
          "opacity": 0.6,
          "size": 5.299401197604791
         },
         "mode": "markers+text",
         "showlegend": false,
         "text": "Djibouti",
         "textposition": "top center",
         "type": "scatter",
         "x": [
          7
         ],
         "y": [
          0
         ]
        },
        {
         "marker": {
          "color": "rgb(45, 61, 163)",
          "line": {
           "color": "Black",
           "width": 1
          },
          "opacity": 0.6,
          "size": 5.399201596806387
         },
         "mode": "markers+text",
         "showlegend": false,
         "text": "El Salvador",
         "textposition": "top center",
         "type": "scatter",
         "x": [
          9
         ],
         "y": [
          0
         ]
        },
        {
         "marker": {
          "color": "rgb(49, 53, 155)",
          "line": {
           "color": "Black",
           "width": 1
          },
          "opacity": 0.6,
          "size": 5.099800399201597
         },
         "mode": "markers+text",
         "showlegend": false,
         "text": "Equatorial Guinea",
         "textposition": "top center",
         "type": "scatter",
         "x": [
          3
         ],
         "y": [
          0
         ]
        },
        {
         "marker": {
          "color": "rgb(44, 64, 166)",
          "line": {
           "color": "Black",
           "width": 1
          },
          "opacity": 0.6,
          "size": 5.5489021956087825
         },
         "mode": "markers+text",
         "showlegend": false,
         "text": "Eritrea",
         "textposition": "top center",
         "type": "scatter",
         "x": [
          12
         ],
         "y": [
          0
         ]
        },
        {
         "marker": {
          "color": "rgb(36, 80, 182)",
          "line": {
           "color": "Black",
           "width": 1
          },
          "opacity": 0.6,
          "size": 6.097804391217565
         },
         "mode": "markers+text",
         "showlegend": false,
         "text": "Estonia",
         "textposition": "top center",
         "type": "scatter",
         "x": [
          23
         ],
         "y": [
          0
         ]
        },
        {
         "marker": {
          "color": "rgb(49, 53, 155)",
          "line": {
           "color": "Black",
           "width": 1
          },
          "opacity": 0.6,
          "size": 5.099800399201597
         },
         "mode": "markers+text",
         "showlegend": false,
         "text": "Eswatini",
         "textposition": "top center",
         "type": "scatter",
         "x": [
          3
         ],
         "y": [
          0
         ]
        },
        {
         "marker": {
          "color": "rgb(13, 125, 227)",
          "line": {
           "color": "Black",
           "width": 1
          },
          "opacity": 0.6,
          "size": 7.794411177644711
         },
         "mode": "markers+text",
         "showlegend": false,
         "text": "Finland",
         "textposition": "top center",
         "type": "scatter",
         "x": [
          57
         ],
         "y": [
          0
         ]
        },
        {
         "marker": {
          "color": "rgb(48, 56, 158)",
          "line": {
           "color": "Black",
           "width": 1
          },
          "opacity": 0.6,
          "size": 5.199600798403194
         },
         "mode": "markers+text",
         "showlegend": false,
         "text": "Gabon",
         "textposition": "top center",
         "type": "scatter",
         "x": [
          5
         ],
         "y": [
          0
         ]
        },
        {
         "marker": {
          "color": "rgb(47, 59, 161)",
          "line": {
           "color": "Black",
           "width": 1
          },
          "opacity": 0.6,
          "size": 5.349301397205589
         },
         "mode": "markers+text",
         "showlegend": false,
         "text": "Gambia",
         "textposition": "top center",
         "type": "scatter",
         "x": [
          8
         ],
         "y": [
          0
         ]
        },
        {
         "marker": {
          "color": "rgb(48, 56, 158)",
          "line": {
           "color": "Black",
           "width": 1
          },
          "opacity": 0.6,
          "size": 5.249500998003992
         },
         "mode": "markers+text",
         "showlegend": false,
         "text": "Ghana",
         "textposition": "top center",
         "type": "scatter",
         "x": [
          6
         ],
         "y": [
          0
         ]
        },
        {
         "marker": {
          "color": "rgb(45, 61, 163)",
          "line": {
           "color": "Black",
           "width": 1
          },
          "opacity": 0.6,
          "size": 5.399201596806387
         },
         "mode": "markers+text",
         "showlegend": false,
         "text": "Guam",
         "textposition": "top center",
         "type": "scatter",
         "x": [
          9
         ],
         "y": [
          0
         ]
        },
        {
         "marker": {
          "color": "rgb(47, 59, 161)",
          "line": {
           "color": "Black",
           "width": 1
          },
          "opacity": 0.6,
          "size": 5.299401197604791
         },
         "mode": "markers+text",
         "showlegend": false,
         "text": "Guinea",
         "textposition": "top center",
         "type": "scatter",
         "x": [
          7
         ],
         "y": [
          0
         ]
        },
        {
         "marker": {
          "color": "rgb(48, 56, 158)",
          "line": {
           "color": "Black",
           "width": 1
          },
          "opacity": 0.6,
          "size": 5.249500998003992
         },
         "mode": "markers+text",
         "showlegend": false,
         "text": "Guinea-Bissau",
         "textposition": "top center",
         "type": "scatter",
         "x": [
          6
         ],
         "y": [
          0
         ]
        },
        {
         "marker": {
          "color": "rgb(48, 56, 158)",
          "line": {
           "color": "Black",
           "width": 1
          },
          "opacity": 0.6,
          "size": 5.199600798403194
         },
         "mode": "markers+text",
         "showlegend": false,
         "text": "Guyana",
         "textposition": "top center",
         "type": "scatter",
         "x": [
          5
         ],
         "y": [
          0
         ]
        },
        {
         "marker": {
          "color": "rgb(44, 64, 166)",
          "line": {
           "color": "Black",
           "width": 1
          },
          "opacity": 0.6,
          "size": 5.499001996007984
         },
         "mode": "markers+text",
         "showlegend": false,
         "text": "Haiti",
         "textposition": "top center",
         "type": "scatter",
         "x": [
          11
         ],
         "y": [
          0
         ]
        },
        {
         "marker": {
          "color": "rgb(49, 53, 155)",
          "line": {
           "color": "Black",
           "width": 1
          },
          "opacity": 0.6,
          "size": 5.149700598802395
         },
         "mode": "markers+text",
         "showlegend": false,
         "text": "Honduras",
         "textposition": "top center",
         "type": "scatter",
         "x": [
          4
         ],
         "y": [
          0
         ]
        },
        {
         "marker": {
          "color": "rgb(47, 59, 161)",
          "line": {
           "color": "Black",
           "width": 1
          },
          "opacity": 0.6,
          "size": 5.299401197604791
         },
         "mode": "markers+text",
         "showlegend": false,
         "text": "Iceland",
         "textposition": "top center",
         "type": "scatter",
         "x": [
          7
         ],
         "y": [
          0
         ]
        },
        {
         "marker": {
          "color": "rgb(48, 56, 158)",
          "line": {
           "color": "Black",
           "width": 1
          },
          "opacity": 0.6,
          "size": 5.199600798403194
         },
         "mode": "markers+text",
         "showlegend": false,
         "text": "Iraq",
         "textposition": "top center",
         "type": "scatter",
         "x": [
          5
         ],
         "y": [
          0
         ]
        },
        {
         "marker": {
          "color": "rgb(49, 53, 155)",
          "line": {
           "color": "Black",
           "width": 1
          },
          "opacity": 0.6,
          "size": 5.099800399201597
         },
         "mode": "markers+text",
         "showlegend": false,
         "text": "Kiribati",
         "textposition": "top center",
         "type": "scatter",
         "x": [
          3
         ],
         "y": [
          0
         ]
        },
        {
         "marker": {
          "color": "rgb(45, 61, 163)",
          "line": {
           "color": "Black",
           "width": 1
          },
          "opacity": 0.6,
          "size": 5.399201596806387
         },
         "mode": "markers+text",
         "showlegend": false,
         "text": "Kuwait",
         "textposition": "top center",
         "type": "scatter",
         "x": [
          9
         ],
         "y": [
          0
         ]
        },
        {
         "marker": {
          "color": "rgb(49, 53, 155)",
          "line": {
           "color": "Black",
           "width": 1
          },
          "opacity": 0.6,
          "size": 5.149700598802395
         },
         "mode": "markers+text",
         "showlegend": false,
         "text": "Lao PDR",
         "textposition": "top center",
         "type": "scatter",
         "x": [
          4
         ],
         "y": [
          0
         ]
        },
        {
         "marker": {
          "color": "rgb(33, 85, 187)",
          "line": {
           "color": "Black",
           "width": 1
          },
          "opacity": 0.6,
          "size": 6.297405189620759
         },
         "mode": "markers+text",
         "showlegend": false,
         "text": "Latvia",
         "textposition": "top center",
         "type": "scatter",
         "x": [
          27
         ],
         "y": [
          0
         ]
        },
        {
         "marker": {
          "color": "rgb(45, 61, 163)",
          "line": {
           "color": "Black",
           "width": 1
          },
          "opacity": 0.6,
          "size": 5.449101796407185
         },
         "mode": "markers+text",
         "showlegend": false,
         "text": "Lebanon",
         "textposition": "top center",
         "type": "scatter",
         "x": [
          10
         ],
         "y": [
          0
         ]
        },
        {
         "marker": {
          "color": "rgb(49, 53, 155)",
          "line": {
           "color": "Black",
           "width": 1
          },
          "opacity": 0.6,
          "size": 5.099800399201597
         },
         "mode": "markers+text",
         "showlegend": false,
         "text": "Lesotho",
         "textposition": "top center",
         "type": "scatter",
         "x": [
          3
         ],
         "y": [
          0
         ]
        },
        {
         "marker": {
          "color": "rgb(48, 56, 158)",
          "line": {
           "color": "Black",
           "width": 1
          },
          "opacity": 0.6,
          "size": 5.249500998003992
         },
         "mode": "markers+text",
         "showlegend": false,
         "text": "Liberia",
         "textposition": "top center",
         "type": "scatter",
         "x": [
          6
         ],
         "y": [
          0
         ]
        },
        {
         "marker": {
          "color": "rgb(48, 56, 158)",
          "line": {
           "color": "Black",
           "width": 1
          },
          "opacity": 0.6,
          "size": 5.249500998003992
         },
         "mode": "markers+text",
         "showlegend": false,
         "text": "Libya",
         "textposition": "top center",
         "type": "scatter",
         "x": [
          6
         ],
         "y": [
          0
         ]
        },
        {
         "marker": {
          "color": "rgb(51, 51, 153)",
          "line": {
           "color": "Black",
           "width": 1
          },
          "opacity": 0.6,
          "size": 5
         },
         "mode": "markers+text",
         "showlegend": false,
         "text": "Liechtenstein",
         "textposition": "top center",
         "type": "scatter",
         "x": [
          1
         ],
         "y": [
          false
         ]
        },
        {
         "marker": {
          "color": "rgb(43, 67, 169)",
          "line": {
           "color": "Black",
           "width": 1
          },
          "opacity": 0.6,
          "size": 5.598802395209581
         },
         "mode": "markers+text",
         "showlegend": false,
         "text": "Luxembourg",
         "textposition": "top center",
         "type": "scatter",
         "x": [
          13
         ],
         "y": [
          0
         ]
        },
        {
         "marker": {
          "color": "rgb(47, 59, 161)",
          "line": {
           "color": "Black",
           "width": 1
          },
          "opacity": 0.6,
          "size": 5.299401197604791
         },
         "mode": "markers+text",
         "showlegend": false,
         "text": "Madagascar",
         "textposition": "top center",
         "type": "scatter",
         "x": [
          7
         ],
         "y": [
          0
         ]
        },
        {
         "marker": {
          "color": "rgb(49, 53, 155)",
          "line": {
           "color": "Black",
           "width": 1
          },
          "opacity": 0.6,
          "size": 5.099800399201597
         },
         "mode": "markers+text",
         "showlegend": false,
         "text": "Malawi",
         "textposition": "top center",
         "type": "scatter",
         "x": [
          3
         ],
         "y": [
          0
         ]
        },
        {
         "marker": {
          "color": "rgb(48, 56, 158)",
          "line": {
           "color": "Black",
           "width": 1
          },
          "opacity": 0.6,
          "size": 5.199600798403194
         },
         "mode": "markers+text",
         "showlegend": false,
         "text": "Maldives",
         "textposition": "top center",
         "type": "scatter",
         "x": [
          5
         ],
         "y": [
          0
         ]
        },
        {
         "marker": {
          "color": "rgb(48, 56, 158)",
          "line": {
           "color": "Black",
           "width": 1
          },
          "opacity": 0.6,
          "size": 5.249500998003992
         },
         "mode": "markers+text",
         "showlegend": false,
         "text": "Mali",
         "textposition": "top center",
         "type": "scatter",
         "x": [
          6
         ],
         "y": [
          0
         ]
        },
        {
         "marker": {
          "color": "rgb(48, 56, 158)",
          "line": {
           "color": "Black",
           "width": 1
          },
          "opacity": 0.6,
          "size": 5.199600798403194
         },
         "mode": "markers+text",
         "showlegend": false,
         "text": "Malta",
         "textposition": "top center",
         "type": "scatter",
         "x": [
          5
         ],
         "y": [
          0
         ]
        },
        {
         "marker": {
          "color": "rgb(49, 53, 155)",
          "line": {
           "color": "Black",
           "width": 1
          },
          "opacity": 0.6,
          "size": 5.149700598802395
         },
         "mode": "markers+text",
         "showlegend": false,
         "text": "Marshall Islands",
         "textposition": "top center",
         "type": "scatter",
         "x": [
          4
         ],
         "y": [
          0
         ]
        },
        {
         "marker": {
          "color": "rgb(51, 51, 153)",
          "line": {
           "color": "Black",
           "width": 1
          },
          "opacity": 0.6,
          "size": 5.049900199600798
         },
         "mode": "markers+text",
         "showlegend": false,
         "text": "Mauritania",
         "textposition": "top center",
         "type": "scatter",
         "x": [
          2
         ],
         "y": [
          0
         ]
        },
        {
         "marker": {
          "color": "rgb(44, 64, 166)",
          "line": {
           "color": "Black",
           "width": 1
          },
          "opacity": 0.6,
          "size": 5.5489021956087825
         },
         "mode": "markers+text",
         "showlegend": false,
         "text": "Mauritius",
         "textposition": "top center",
         "type": "scatter",
         "x": [
          12
         ],
         "y": [
          0
         ]
        },
        {
         "marker": {
          "color": "rgb(49, 53, 155)",
          "line": {
           "color": "Black",
           "width": 1
          },
          "opacity": 0.6,
          "size": 5.099800399201597
         },
         "mode": "markers+text",
         "showlegend": false,
         "text": "Micronesia",
         "textposition": "top center",
         "type": "scatter",
         "x": [
          3
         ],
         "y": [
          0
         ]
        },
        {
         "marker": {
          "color": "rgb(48, 56, 158)",
          "line": {
           "color": "Black",
           "width": 1
          },
          "opacity": 0.6,
          "size": 5.249500998003992
         },
         "mode": "markers+text",
         "showlegend": false,
         "text": "Monaco",
         "textposition": "top center",
         "type": "scatter",
         "x": [
          6
         ],
         "y": [
          0
         ]
        },
        {
         "marker": {
          "color": "rgb(47, 59, 161)",
          "line": {
           "color": "Black",
           "width": 1
          },
          "opacity": 0.6,
          "size": 5.299401197604791
         },
         "mode": "markers+text",
         "showlegend": false,
         "text": "Montenegro",
         "textposition": "top center",
         "type": "scatter",
         "x": [
          7
         ],
         "y": [
          0
         ]
        },
        {
         "marker": {
          "color": "rgb(47, 59, 161)",
          "line": {
           "color": "Black",
           "width": 1
          },
          "opacity": 0.6,
          "size": 5.299401197604791
         },
         "mode": "markers+text",
         "showlegend": false,
         "text": "Mozambique",
         "textposition": "top center",
         "type": "scatter",
         "x": [
          7
         ],
         "y": [
          0
         ]
        },
        {
         "marker": {
          "color": "rgb(51, 51, 153)",
          "line": {
           "color": "Black",
           "width": 1
          },
          "opacity": 0.6,
          "size": 5.049900199600798
         },
         "mode": "markers+text",
         "showlegend": false,
         "text": "Myanmar",
         "textposition": "top center",
         "type": "scatter",
         "x": [
          2
         ],
         "y": [
          0
         ]
        },
        {
         "marker": {
          "color": "rgb(49, 53, 155)",
          "line": {
           "color": "Black",
           "width": 1
          },
          "opacity": 0.6,
          "size": 5.149700598802395
         },
         "mode": "markers+text",
         "showlegend": false,
         "text": "Namibia",
         "textposition": "top center",
         "type": "scatter",
         "x": [
          4
         ],
         "y": [
          0
         ]
        },
        {
         "marker": {
          "color": "rgb(51, 51, 153)",
          "line": {
           "color": "Black",
           "width": 1
          },
          "opacity": 0.6,
          "size": 5
         },
         "mode": "markers+text",
         "showlegend": false,
         "text": "Nauru",
         "textposition": "top center",
         "type": "scatter",
         "x": [
          1
         ],
         "y": [
          false
         ]
        },
        {
         "marker": {
          "color": "rgb(47, 59, 161)",
          "line": {
           "color": "Black",
           "width": 1
          },
          "opacity": 0.6,
          "size": 5.299401197604791
         },
         "mode": "markers+text",
         "showlegend": false,
         "text": "Nepal",
         "textposition": "top center",
         "type": "scatter",
         "x": [
          7
         ],
         "y": [
          0
         ]
        },
        {
         "marker": {
          "color": "rgb(47, 59, 161)",
          "line": {
           "color": "Black",
           "width": 1
          },
          "opacity": 0.6,
          "size": 5.299401197604791
         },
         "mode": "markers+text",
         "showlegend": false,
         "text": "Nicaragua",
         "textposition": "top center",
         "type": "scatter",
         "x": [
          7
         ],
         "y": [
          0
         ]
        },
        {
         "marker": {
          "color": "rgb(47, 59, 161)",
          "line": {
           "color": "Black",
           "width": 1
          },
          "opacity": 0.6,
          "size": 5.299401197604791
         },
         "mode": "markers+text",
         "showlegend": false,
         "text": "Niger",
         "textposition": "top center",
         "type": "scatter",
         "x": [
          7
         ],
         "y": [
          0
         ]
        },
        {
         "marker": {
          "color": "rgb(16, 120, 222)",
          "line": {
           "color": "Black",
           "width": 1
          },
          "opacity": 0.6,
          "size": 7.594810379241517
         },
         "mode": "markers+text",
         "showlegend": false,
         "text": "Nigeria",
         "textposition": "top center",
         "type": "scatter",
         "x": [
          53
         ],
         "y": [
          0
         ]
        },
        {
         "marker": {
          "color": "rgb(48, 56, 158)",
          "line": {
           "color": "Black",
           "width": 1
          },
          "opacity": 0.6,
          "size": 5.249500998003992
         },
         "mode": "markers+text",
         "showlegend": false,
         "text": "North Macedonia",
         "textposition": "top center",
         "type": "scatter",
         "x": [
          6
         ],
         "y": [
          0
         ]
        },
        {
         "marker": {
          "color": "rgb(49, 53, 155)",
          "line": {
           "color": "Black",
           "width": 1
          },
          "opacity": 0.6,
          "size": 5.149700598802395
         },
         "mode": "markers+text",
         "showlegend": false,
         "text": "Oman",
         "textposition": "top center",
         "type": "scatter",
         "x": [
          4
         ],
         "y": [
          0
         ]
        },
        {
         "marker": {
          "color": "rgb(49, 53, 155)",
          "line": {
           "color": "Black",
           "width": 1
          },
          "opacity": 0.6,
          "size": 5.099800399201597
         },
         "mode": "markers+text",
         "showlegend": false,
         "text": "Palau",
         "textposition": "top center",
         "type": "scatter",
         "x": [
          3
         ],
         "y": [
          0
         ]
        },
        {
         "marker": {
          "color": "rgb(47, 59, 161)",
          "line": {
           "color": "Black",
           "width": 1
          },
          "opacity": 0.6,
          "size": 5.349301397205589
         },
         "mode": "markers+text",
         "showlegend": false,
         "text": "Palestine",
         "textposition": "top center",
         "type": "scatter",
         "x": [
          8
         ],
         "y": [
          0
         ]
        },
        {
         "marker": {
          "color": "rgb(47, 59, 161)",
          "line": {
           "color": "Black",
           "width": 1
          },
          "opacity": 0.6,
          "size": 5.299401197604791
         },
         "mode": "markers+text",
         "showlegend": false,
         "text": "Papua New Guinea",
         "textposition": "top center",
         "type": "scatter",
         "x": [
          7
         ],
         "y": [
          0
         ]
        },
        {
         "marker": {
          "color": "rgb(45, 61, 163)",
          "line": {
           "color": "Black",
           "width": 1
          },
          "opacity": 0.6,
          "size": 5.449101796407185
         },
         "mode": "markers+text",
         "showlegend": false,
         "text": "Paraguay",
         "textposition": "top center",
         "type": "scatter",
         "x": [
          10
         ],
         "y": [
          0
         ]
        },
        {
         "marker": {
          "color": "rgb(47, 59, 161)",
          "line": {
           "color": "Black",
           "width": 1
          },
          "opacity": 0.6,
          "size": 5.349301397205589
         },
         "mode": "markers+text",
         "showlegend": false,
         "text": "Rwanda",
         "textposition": "top center",
         "type": "scatter",
         "x": [
          8
         ],
         "y": [
          0
         ]
        },
        {
         "marker": {
          "color": "rgb(43, 67, 169)",
          "line": {
           "color": "Black",
           "width": 1
          },
          "opacity": 0.6,
          "size": 5.598802395209581
         },
         "mode": "markers+text",
         "showlegend": false,
         "text": "Samoa",
         "textposition": "top center",
         "type": "scatter",
         "x": [
          13
         ],
         "y": [
          0
         ]
        },
        {
         "marker": {
          "color": "rgb(48, 56, 158)",
          "line": {
           "color": "Black",
           "width": 1
          },
          "opacity": 0.6,
          "size": 5.199600798403194
         },
         "mode": "markers+text",
         "showlegend": false,
         "text": "San Marino",
         "textposition": "top center",
         "type": "scatter",
         "x": [
          5
         ],
         "y": [
          0
         ]
        },
        {
         "marker": {
          "color": "rgb(49, 53, 155)",
          "line": {
           "color": "Black",
           "width": 1
          },
          "opacity": 0.6,
          "size": 5.099800399201597
         },
         "mode": "markers+text",
         "showlegend": false,
         "text": "Sao Tome & Principe",
         "textposition": "top center",
         "type": "scatter",
         "x": [
          3
         ],
         "y": [
          0
         ]
        },
        {
         "marker": {
          "color": "rgb(45, 61, 163)",
          "line": {
           "color": "Black",
           "width": 1
          },
          "opacity": 0.6,
          "size": 5.399201596806387
         },
         "mode": "markers+text",
         "showlegend": false,
         "text": "Saudi Arabia",
         "textposition": "top center",
         "type": "scatter",
         "x": [
          9
         ],
         "y": [
          0
         ]
        },
        {
         "marker": {
          "color": "rgb(43, 67, 169)",
          "line": {
           "color": "Black",
           "width": 1
          },
          "opacity": 0.6,
          "size": 5.598802395209581
         },
         "mode": "markers+text",
         "showlegend": false,
         "text": "Senegal",
         "textposition": "top center",
         "type": "scatter",
         "x": [
          13
         ],
         "y": [
          0
         ]
        },
        {
         "marker": {
          "color": "rgb(49, 53, 155)",
          "line": {
           "color": "Black",
           "width": 1
          },
          "opacity": 0.6,
          "size": 5.099800399201597
         },
         "mode": "markers+text",
         "showlegend": false,
         "text": "Seychelles",
         "textposition": "top center",
         "type": "scatter",
         "x": [
          3
         ],
         "y": [
          0
         ]
        },
        {
         "marker": {
          "color": "rgb(49, 53, 155)",
          "line": {
           "color": "Black",
           "width": 1
          },
          "opacity": 0.6,
          "size": 5.149700598802395
         },
         "mode": "markers+text",
         "showlegend": false,
         "text": "Sierra Leone",
         "textposition": "top center",
         "type": "scatter",
         "x": [
          4
         ],
         "y": [
          0
         ]
        },
        {
         "marker": {
          "color": "rgb(51, 51, 153)",
          "line": {
           "color": "Black",
           "width": 1
          },
          "opacity": 0.6,
          "size": 5.049900199600798
         },
         "mode": "markers+text",
         "showlegend": false,
         "text": "Solomon Islands",
         "textposition": "top center",
         "type": "scatter",
         "x": [
          2
         ],
         "y": [
          0
         ]
        },
        {
         "marker": {
          "color": "rgb(51, 51, 153)",
          "line": {
           "color": "Black",
           "width": 1
          },
          "opacity": 0.6,
          "size": 5
         },
         "mode": "markers+text",
         "showlegend": false,
         "text": "Somalia",
         "textposition": "top center",
         "type": "scatter",
         "x": [
          1
         ],
         "y": [
          false
         ]
        },
        {
         "marker": {
          "color": "rgb(49, 53, 155)",
          "line": {
           "color": "Black",
           "width": 1
          },
          "opacity": 0.6,
          "size": 5.099800399201597
         },
         "mode": "markers+text",
         "showlegend": false,
         "text": "South Sudan",
         "textposition": "top center",
         "type": "scatter",
         "x": [
          3
         ],
         "y": [
          0
         ]
        },
        {
         "marker": {
          "color": "rgb(48, 56, 158)",
          "line": {
           "color": "Black",
           "width": 1
          },
          "opacity": 0.6,
          "size": 5.249500998003992
         },
         "mode": "markers+text",
         "showlegend": false,
         "text": "Sri Lanka",
         "textposition": "top center",
         "type": "scatter",
         "x": [
          6
         ],
         "y": [
          0
         ]
        },
        {
         "marker": {
          "color": "rgb(49, 53, 155)",
          "line": {
           "color": "Black",
           "width": 1
          },
          "opacity": 0.6,
          "size": 5.099800399201597
         },
         "mode": "markers+text",
         "showlegend": false,
         "text": "St Kitts and Nevis",
         "textposition": "top center",
         "type": "scatter",
         "x": [
          3
         ],
         "y": [
          0
         ]
        },
        {
         "marker": {
          "color": "rgb(49, 53, 155)",
          "line": {
           "color": "Black",
           "width": 1
          },
          "opacity": 0.6,
          "size": 5.149700598802395
         },
         "mode": "markers+text",
         "showlegend": false,
         "text": "StVincent&Grenadines",
         "textposition": "top center",
         "type": "scatter",
         "x": [
          4
         ],
         "y": [
          0
         ]
        },
        {
         "marker": {
          "color": "rgb(49, 53, 155)",
          "line": {
           "color": "Black",
           "width": 1
          },
          "opacity": 0.6,
          "size": 5.149700598802395
         },
         "mode": "markers+text",
         "showlegend": false,
         "text": "Sudan",
         "textposition": "top center",
         "type": "scatter",
         "x": [
          4
         ],
         "y": [
          0
         ]
        },
        {
         "marker": {
          "color": "rgb(48, 56, 158)",
          "line": {
           "color": "Black",
           "width": 1
          },
          "opacity": 0.6,
          "size": 5.249500998003992
         },
         "mode": "markers+text",
         "showlegend": false,
         "text": "Suriname",
         "textposition": "top center",
         "type": "scatter",
         "x": [
          6
         ],
         "y": [
          0
         ]
        },
        {
         "marker": {
          "color": "rgb(45, 61, 163)",
          "line": {
           "color": "Black",
           "width": 1
          },
          "opacity": 0.6,
          "size": 5.399201596806387
         },
         "mode": "markers+text",
         "showlegend": false,
         "text": "Syria",
         "textposition": "top center",
         "type": "scatter",
         "x": [
          9
         ],
         "y": [
          0
         ]
        },
        {
         "marker": {
          "color": "rgb(47, 59, 161)",
          "line": {
           "color": "Black",
           "width": 1
          },
          "opacity": 0.6,
          "size": 5.299401197604791
         },
         "mode": "markers+text",
         "showlegend": false,
         "text": "Tanzania",
         "textposition": "top center",
         "type": "scatter",
         "x": [
          7
         ],
         "y": [
          0
         ]
        },
        {
         "marker": {
          "color": "rgb(49, 53, 155)",
          "line": {
           "color": "Black",
           "width": 1
          },
          "opacity": 0.6,
          "size": 5.149700598802395
         },
         "mode": "markers+text",
         "showlegend": false,
         "text": "Timor-Leste",
         "textposition": "top center",
         "type": "scatter",
         "x": [
          4
         ],
         "y": [
          0
         ]
        },
        {
         "marker": {
          "color": "rgb(48, 56, 158)",
          "line": {
           "color": "Black",
           "width": 1
          },
          "opacity": 0.6,
          "size": 5.199600798403194
         },
         "mode": "markers+text",
         "showlegend": false,
         "text": "Togo",
         "textposition": "top center",
         "type": "scatter",
         "x": [
          5
         ],
         "y": [
          0
         ]
        },
        {
         "marker": {
          "color": "rgb(49, 53, 155)",
          "line": {
           "color": "Black",
           "width": 1
          },
          "opacity": 0.6,
          "size": 5.149700598802395
         },
         "mode": "markers+text",
         "showlegend": false,
         "text": "Tonga",
         "textposition": "top center",
         "type": "scatter",
         "x": [
          4
         ],
         "y": [
          0
         ]
        },
        {
         "marker": {
          "color": "rgb(41, 69, 171)",
          "line": {
           "color": "Black",
           "width": 1
          },
          "opacity": 0.6,
          "size": 5.698602794411178
         },
         "mode": "markers+text",
         "showlegend": false,
         "text": "Trinidad and Tobago",
         "textposition": "top center",
         "type": "scatter",
         "x": [
          15
         ],
         "y": [
          0
         ]
        },
        {
         "marker": {
          "color": "rgb(48, 56, 158)",
          "line": {
           "color": "Black",
           "width": 1
          },
          "opacity": 0.6,
          "size": 5.249500998003992
         },
         "mode": "markers+text",
         "showlegend": false,
         "text": "Turkmenistan",
         "textposition": "top center",
         "type": "scatter",
         "x": [
          6
         ],
         "y": [
          0
         ]
        },
        {
         "marker": {
          "color": "rgb(51, 51, 153)",
          "line": {
           "color": "Black",
           "width": 1
          },
          "opacity": 0.6,
          "size": 5.049900199600798
         },
         "mode": "markers+text",
         "showlegend": false,
         "text": "Tuvalu",
         "textposition": "top center",
         "type": "scatter",
         "x": [
          2
         ],
         "y": [
          0
         ]
        },
        {
         "marker": {
          "color": "rgb(43, 67, 169)",
          "line": {
           "color": "Black",
           "width": 1
          },
          "opacity": 0.6,
          "size": 5.648702594810379
         },
         "mode": "markers+text",
         "showlegend": false,
         "text": "UA Emirates",
         "textposition": "top center",
         "type": "scatter",
         "x": [
          14
         ],
         "y": [
          0
         ]
        },
        {
         "marker": {
          "color": "rgb(43, 67, 169)",
          "line": {
           "color": "Black",
           "width": 1
          },
          "opacity": 0.6,
          "size": 5.598802395209581
         },
         "mode": "markers+text",
         "showlegend": false,
         "text": "Uruguay",
         "textposition": "top center",
         "type": "scatter",
         "x": [
          13
         ],
         "y": [
          0
         ]
        },
        {
         "marker": {
          "color": "rgb(48, 56, 158)",
          "line": {
           "color": "Black",
           "width": 1
          },
          "opacity": 0.6,
          "size": 5.249500998003992
         },
         "mode": "markers+text",
         "showlegend": false,
         "text": "Vanuatu",
         "textposition": "top center",
         "type": "scatter",
         "x": [
          6
         ],
         "y": [
          0
         ]
        },
        {
         "marker": {
          "color": "rgb(29, 93, 195)",
          "line": {
           "color": "Black",
           "width": 1
          },
          "opacity": 0.6,
          "size": 6.6467065868263475
         },
         "mode": "markers+text",
         "showlegend": false,
         "text": "Venezuela",
         "textposition": "top center",
         "type": "scatter",
         "x": [
          34
         ],
         "y": [
          0
         ]
        },
        {
         "marker": {
          "color": "rgb(39, 75, 177)",
          "line": {
           "color": "Black",
           "width": 1
          },
          "opacity": 0.6,
          "size": 5.8982035928143715
         },
         "mode": "markers+text",
         "showlegend": false,
         "text": "Vietnam",
         "textposition": "top center",
         "type": "scatter",
         "x": [
          19
         ],
         "y": [
          0
         ]
        },
        {
         "marker": {
          "color": "rgb(49, 53, 155)",
          "line": {
           "color": "Black",
           "width": 1
          },
          "opacity": 0.6,
          "size": 5.149700598802395
         },
         "mode": "markers+text",
         "showlegend": false,
         "text": "Virgin Islands, B",
         "textposition": "top center",
         "type": "scatter",
         "x": [
          4
         ],
         "y": [
          0
         ]
        },
        {
         "marker": {
          "color": "rgb(48, 56, 158)",
          "line": {
           "color": "Black",
           "width": 1
          },
          "opacity": 0.6,
          "size": 5.199600798403194
         },
         "mode": "markers+text",
         "showlegend": false,
         "text": "Virgin Islands, US",
         "textposition": "top center",
         "type": "scatter",
         "x": [
          5
         ],
         "y": [
          0
         ]
        },
        {
         "marker": {
          "color": "rgb(49, 53, 155)",
          "line": {
           "color": "Black",
           "width": 1
          },
          "opacity": 0.6,
          "size": 5.149700598802395
         },
         "mode": "markers+text",
         "showlegend": false,
         "text": "Yemen",
         "textposition": "top center",
         "type": "scatter",
         "x": [
          4
         ],
         "y": [
          0
         ]
        },
        {
         "marker": {
          "color": "rgb(47, 59, 161)",
          "line": {
           "color": "Black",
           "width": 1
          },
          "opacity": 0.6,
          "size": 5.299401197604791
         },
         "mode": "markers+text",
         "showlegend": false,
         "text": "Zimbabwe",
         "textposition": "top center",
         "type": "scatter",
         "x": [
          7
         ],
         "y": [
          0
         ]
        }
       ],
       "layout": {
        "height": 800,
        "margin": {
         "b": 40,
         "l": 40,
         "r": 40,
         "t": 40
        },
        "template": {
         "data": {
          "bar": [
           {
            "error_x": {
             "color": "#2a3f5f"
            },
            "error_y": {
             "color": "#2a3f5f"
            },
            "marker": {
             "line": {
              "color": "#E5ECF6",
              "width": 0.5
             },
             "pattern": {
              "fillmode": "overlay",
              "size": 10,
              "solidity": 0.2
             }
            },
            "type": "bar"
           }
          ],
          "barpolar": [
           {
            "marker": {
             "line": {
              "color": "#E5ECF6",
              "width": 0.5
             },
             "pattern": {
              "fillmode": "overlay",
              "size": 10,
              "solidity": 0.2
             }
            },
            "type": "barpolar"
           }
          ],
          "carpet": [
           {
            "aaxis": {
             "endlinecolor": "#2a3f5f",
             "gridcolor": "white",
             "linecolor": "white",
             "minorgridcolor": "white",
             "startlinecolor": "#2a3f5f"
            },
            "baxis": {
             "endlinecolor": "#2a3f5f",
             "gridcolor": "white",
             "linecolor": "white",
             "minorgridcolor": "white",
             "startlinecolor": "#2a3f5f"
            },
            "type": "carpet"
           }
          ],
          "choropleth": [
           {
            "colorbar": {
             "outlinewidth": 0,
             "ticks": ""
            },
            "type": "choropleth"
           }
          ],
          "contour": [
           {
            "colorbar": {
             "outlinewidth": 0,
             "ticks": ""
            },
            "colorscale": [
             [
              0,
              "#0d0887"
             ],
             [
              0.1111111111111111,
              "#46039f"
             ],
             [
              0.2222222222222222,
              "#7201a8"
             ],
             [
              0.3333333333333333,
              "#9c179e"
             ],
             [
              0.4444444444444444,
              "#bd3786"
             ],
             [
              0.5555555555555556,
              "#d8576b"
             ],
             [
              0.6666666666666666,
              "#ed7953"
             ],
             [
              0.7777777777777778,
              "#fb9f3a"
             ],
             [
              0.8888888888888888,
              "#fdca26"
             ],
             [
              1,
              "#f0f921"
             ]
            ],
            "type": "contour"
           }
          ],
          "contourcarpet": [
           {
            "colorbar": {
             "outlinewidth": 0,
             "ticks": ""
            },
            "type": "contourcarpet"
           }
          ],
          "heatmap": [
           {
            "colorbar": {
             "outlinewidth": 0,
             "ticks": ""
            },
            "colorscale": [
             [
              0,
              "#0d0887"
             ],
             [
              0.1111111111111111,
              "#46039f"
             ],
             [
              0.2222222222222222,
              "#7201a8"
             ],
             [
              0.3333333333333333,
              "#9c179e"
             ],
             [
              0.4444444444444444,
              "#bd3786"
             ],
             [
              0.5555555555555556,
              "#d8576b"
             ],
             [
              0.6666666666666666,
              "#ed7953"
             ],
             [
              0.7777777777777778,
              "#fb9f3a"
             ],
             [
              0.8888888888888888,
              "#fdca26"
             ],
             [
              1,
              "#f0f921"
             ]
            ],
            "type": "heatmap"
           }
          ],
          "heatmapgl": [
           {
            "colorbar": {
             "outlinewidth": 0,
             "ticks": ""
            },
            "colorscale": [
             [
              0,
              "#0d0887"
             ],
             [
              0.1111111111111111,
              "#46039f"
             ],
             [
              0.2222222222222222,
              "#7201a8"
             ],
             [
              0.3333333333333333,
              "#9c179e"
             ],
             [
              0.4444444444444444,
              "#bd3786"
             ],
             [
              0.5555555555555556,
              "#d8576b"
             ],
             [
              0.6666666666666666,
              "#ed7953"
             ],
             [
              0.7777777777777778,
              "#fb9f3a"
             ],
             [
              0.8888888888888888,
              "#fdca26"
             ],
             [
              1,
              "#f0f921"
             ]
            ],
            "type": "heatmapgl"
           }
          ],
          "histogram": [
           {
            "marker": {
             "pattern": {
              "fillmode": "overlay",
              "size": 10,
              "solidity": 0.2
             }
            },
            "type": "histogram"
           }
          ],
          "histogram2d": [
           {
            "colorbar": {
             "outlinewidth": 0,
             "ticks": ""
            },
            "colorscale": [
             [
              0,
              "#0d0887"
             ],
             [
              0.1111111111111111,
              "#46039f"
             ],
             [
              0.2222222222222222,
              "#7201a8"
             ],
             [
              0.3333333333333333,
              "#9c179e"
             ],
             [
              0.4444444444444444,
              "#bd3786"
             ],
             [
              0.5555555555555556,
              "#d8576b"
             ],
             [
              0.6666666666666666,
              "#ed7953"
             ],
             [
              0.7777777777777778,
              "#fb9f3a"
             ],
             [
              0.8888888888888888,
              "#fdca26"
             ],
             [
              1,
              "#f0f921"
             ]
            ],
            "type": "histogram2d"
           }
          ],
          "histogram2dcontour": [
           {
            "colorbar": {
             "outlinewidth": 0,
             "ticks": ""
            },
            "colorscale": [
             [
              0,
              "#0d0887"
             ],
             [
              0.1111111111111111,
              "#46039f"
             ],
             [
              0.2222222222222222,
              "#7201a8"
             ],
             [
              0.3333333333333333,
              "#9c179e"
             ],
             [
              0.4444444444444444,
              "#bd3786"
             ],
             [
              0.5555555555555556,
              "#d8576b"
             ],
             [
              0.6666666666666666,
              "#ed7953"
             ],
             [
              0.7777777777777778,
              "#fb9f3a"
             ],
             [
              0.8888888888888888,
              "#fdca26"
             ],
             [
              1,
              "#f0f921"
             ]
            ],
            "type": "histogram2dcontour"
           }
          ],
          "mesh3d": [
           {
            "colorbar": {
             "outlinewidth": 0,
             "ticks": ""
            },
            "type": "mesh3d"
           }
          ],
          "parcoords": [
           {
            "line": {
             "colorbar": {
              "outlinewidth": 0,
              "ticks": ""
             }
            },
            "type": "parcoords"
           }
          ],
          "pie": [
           {
            "automargin": true,
            "type": "pie"
           }
          ],
          "scatter": [
           {
            "fillpattern": {
             "fillmode": "overlay",
             "size": 10,
             "solidity": 0.2
            },
            "type": "scatter"
           }
          ],
          "scatter3d": [
           {
            "line": {
             "colorbar": {
              "outlinewidth": 0,
              "ticks": ""
             }
            },
            "marker": {
             "colorbar": {
              "outlinewidth": 0,
              "ticks": ""
             }
            },
            "type": "scatter3d"
           }
          ],
          "scattercarpet": [
           {
            "marker": {
             "colorbar": {
              "outlinewidth": 0,
              "ticks": ""
             }
            },
            "type": "scattercarpet"
           }
          ],
          "scattergeo": [
           {
            "marker": {
             "colorbar": {
              "outlinewidth": 0,
              "ticks": ""
             }
            },
            "type": "scattergeo"
           }
          ],
          "scattergl": [
           {
            "marker": {
             "colorbar": {
              "outlinewidth": 0,
              "ticks": ""
             }
            },
            "type": "scattergl"
           }
          ],
          "scattermapbox": [
           {
            "marker": {
             "colorbar": {
              "outlinewidth": 0,
              "ticks": ""
             }
            },
            "type": "scattermapbox"
           }
          ],
          "scatterpolar": [
           {
            "marker": {
             "colorbar": {
              "outlinewidth": 0,
              "ticks": ""
             }
            },
            "type": "scatterpolar"
           }
          ],
          "scatterpolargl": [
           {
            "marker": {
             "colorbar": {
              "outlinewidth": 0,
              "ticks": ""
             }
            },
            "type": "scatterpolargl"
           }
          ],
          "scatterternary": [
           {
            "marker": {
             "colorbar": {
              "outlinewidth": 0,
              "ticks": ""
             }
            },
            "type": "scatterternary"
           }
          ],
          "surface": [
           {
            "colorbar": {
             "outlinewidth": 0,
             "ticks": ""
            },
            "colorscale": [
             [
              0,
              "#0d0887"
             ],
             [
              0.1111111111111111,
              "#46039f"
             ],
             [
              0.2222222222222222,
              "#7201a8"
             ],
             [
              0.3333333333333333,
              "#9c179e"
             ],
             [
              0.4444444444444444,
              "#bd3786"
             ],
             [
              0.5555555555555556,
              "#d8576b"
             ],
             [
              0.6666666666666666,
              "#ed7953"
             ],
             [
              0.7777777777777778,
              "#fb9f3a"
             ],
             [
              0.8888888888888888,
              "#fdca26"
             ],
             [
              1,
              "#f0f921"
             ]
            ],
            "type": "surface"
           }
          ],
          "table": [
           {
            "cells": {
             "fill": {
              "color": "#EBF0F8"
             },
             "line": {
              "color": "white"
             }
            },
            "header": {
             "fill": {
              "color": "#C8D4E3"
             },
             "line": {
              "color": "white"
             }
            },
            "type": "table"
           }
          ]
         },
         "layout": {
          "annotationdefaults": {
           "arrowcolor": "#2a3f5f",
           "arrowhead": 0,
           "arrowwidth": 1
          },
          "autotypenumbers": "strict",
          "coloraxis": {
           "colorbar": {
            "outlinewidth": 0,
            "ticks": ""
           }
          },
          "colorscale": {
           "diverging": [
            [
             0,
             "#8e0152"
            ],
            [
             0.1,
             "#c51b7d"
            ],
            [
             0.2,
             "#de77ae"
            ],
            [
             0.3,
             "#f1b6da"
            ],
            [
             0.4,
             "#fde0ef"
            ],
            [
             0.5,
             "#f7f7f7"
            ],
            [
             0.6,
             "#e6f5d0"
            ],
            [
             0.7,
             "#b8e186"
            ],
            [
             0.8,
             "#7fbc41"
            ],
            [
             0.9,
             "#4d9221"
            ],
            [
             1,
             "#276419"
            ]
           ],
           "sequential": [
            [
             0,
             "#0d0887"
            ],
            [
             0.1111111111111111,
             "#46039f"
            ],
            [
             0.2222222222222222,
             "#7201a8"
            ],
            [
             0.3333333333333333,
             "#9c179e"
            ],
            [
             0.4444444444444444,
             "#bd3786"
            ],
            [
             0.5555555555555556,
             "#d8576b"
            ],
            [
             0.6666666666666666,
             "#ed7953"
            ],
            [
             0.7777777777777778,
             "#fb9f3a"
            ],
            [
             0.8888888888888888,
             "#fdca26"
            ],
            [
             1,
             "#f0f921"
            ]
           ],
           "sequentialminus": [
            [
             0,
             "#0d0887"
            ],
            [
             0.1111111111111111,
             "#46039f"
            ],
            [
             0.2222222222222222,
             "#7201a8"
            ],
            [
             0.3333333333333333,
             "#9c179e"
            ],
            [
             0.4444444444444444,
             "#bd3786"
            ],
            [
             0.5555555555555556,
             "#d8576b"
            ],
            [
             0.6666666666666666,
             "#ed7953"
            ],
            [
             0.7777777777777778,
             "#fb9f3a"
            ],
            [
             0.8888888888888888,
             "#fdca26"
            ],
            [
             1,
             "#f0f921"
            ]
           ]
          },
          "colorway": [
           "#636efa",
           "#EF553B",
           "#00cc96",
           "#ab63fa",
           "#FFA15A",
           "#19d3f3",
           "#FF6692",
           "#B6E880",
           "#FF97FF",
           "#FECB52"
          ],
          "font": {
           "color": "#2a3f5f"
          },
          "geo": {
           "bgcolor": "white",
           "lakecolor": "white",
           "landcolor": "#E5ECF6",
           "showlakes": true,
           "showland": true,
           "subunitcolor": "white"
          },
          "hoverlabel": {
           "align": "left"
          },
          "hovermode": "closest",
          "mapbox": {
           "style": "light"
          },
          "paper_bgcolor": "white",
          "plot_bgcolor": "#E5ECF6",
          "polar": {
           "angularaxis": {
            "gridcolor": "white",
            "linecolor": "white",
            "ticks": ""
           },
           "bgcolor": "#E5ECF6",
           "radialaxis": {
            "gridcolor": "white",
            "linecolor": "white",
            "ticks": ""
           }
          },
          "scene": {
           "xaxis": {
            "backgroundcolor": "#E5ECF6",
            "gridcolor": "white",
            "gridwidth": 2,
            "linecolor": "white",
            "showbackground": true,
            "ticks": "",
            "zerolinecolor": "white"
           },
           "yaxis": {
            "backgroundcolor": "#E5ECF6",
            "gridcolor": "white",
            "gridwidth": 2,
            "linecolor": "white",
            "showbackground": true,
            "ticks": "",
            "zerolinecolor": "white"
           },
           "zaxis": {
            "backgroundcolor": "#E5ECF6",
            "gridcolor": "white",
            "gridwidth": 2,
            "linecolor": "white",
            "showbackground": true,
            "ticks": "",
            "zerolinecolor": "white"
           }
          },
          "shapedefaults": {
           "line": {
            "color": "#2a3f5f"
           }
          },
          "ternary": {
           "aaxis": {
            "gridcolor": "white",
            "linecolor": "white",
            "ticks": ""
           },
           "baxis": {
            "gridcolor": "white",
            "linecolor": "white",
            "ticks": ""
           },
           "bgcolor": "#E5ECF6",
           "caxis": {
            "gridcolor": "white",
            "linecolor": "white",
            "ticks": ""
           }
          },
          "title": {
           "x": 0.05
          },
          "xaxis": {
           "automargin": true,
           "gridcolor": "white",
           "linecolor": "white",
           "ticks": "",
           "title": {
            "standoff": 15
           },
           "zerolinecolor": "white",
           "zerolinewidth": 2
          },
          "yaxis": {
           "automargin": true,
           "gridcolor": "white",
           "linecolor": "white",
           "ticks": "",
           "title": {
            "standoff": 15
           },
           "zerolinecolor": "white",
           "zerolinewidth": 2
          }
         }
        },
        "title": {
         "text": "Medal Wins vs Chances"
        },
        "width": 800,
        "xaxis": {
         "dtick": 20,
         "gridcolor": "LightGray",
         "gridwidth": 0.5,
         "title": {
          "standoff": 10,
          "text": "Medal Chances"
         },
         "zeroline": true,
         "zerolinecolor": "Gray",
         "zerolinewidth": 2
        },
        "yaxis": {
         "dtick": 10,
         "gridcolor": "LightGray",
         "gridwidth": 0.5,
         "title": {
          "standoff": 10,
          "text": "Medal Wins"
         },
         "zeroline": true,
         "zerolinecolor": "Gray",
         "zerolinewidth": 2
        }
       }
      }
     },
     "metadata": {},
     "output_type": "display_data"
    }
   ],
   "source": [
    "# Setup\n",
    "config = {\n",
    "    # Data\n",
    "    \"name_col\": \"country\",\n",
    "    \"size_col\": \"entries\",\n",
    "    \"color_col\": \"entries\",\n",
    "    \"x_axis_col\": \"entries\",\n",
    "    \"y_axis_col\": \"total_medals\",\n",
    "    # Labels\n",
    "    \"title\": \"Medal Wins vs Chances\",\n",
    "    \"x_axis_title\": \"Medal Chances\",\n",
    "    \"y_axis_title\": \"Medal Wins\",\n",
    "    # Formatting\n",
    "    \"min_point_size\": 5,\n",
    "    \"max_point_size\": 30,\n",
    "    \"x_axis_dtick\": 20,\n",
    "    \"y_axis_dtick\": 10,\n",
    "    \"width\": 800,\n",
    "    \"height\": 800\n",
    "}\n",
    "\n",
    "# Plot and save html version\n",
    "fig = plotly_scatter_v1(rate_df, config)\n",
    "fig.write_html(\"md/olympic_medals/medal_wins_vs_chances.html\")\n"
   ]
  },
  {
   "cell_type": "markdown",
   "metadata": {},
   "source": [
    "#### 3.2 Weighted Medal Wins vs Chances"
   ]
  },
  {
   "cell_type": "code",
   "execution_count": 109,
   "metadata": {},
   "outputs": [
    {
     "data": {
      "application/vnd.plotly.v1+json": {
       "config": {
        "plotlyServerURL": "https://plot.ly"
       },
       "data": [
        {
         "marker": {
          "color": "rgb(48, 56, 158)",
          "line": {
           "color": "Black",
           "width": 1
          },
          "opacity": 0.6,
          "size": 5.199600798403194
         },
         "mode": "markers+text",
         "showlegend": false,
         "text": "Saint Lucia",
         "textposition": "top center",
         "type": "scatter",
         "x": [
          5
         ],
         "y": [
          3.5
         ]
        },
        {
         "marker": {
          "color": "rgb(49, 53, 155)",
          "line": {
           "color": "Black",
           "width": 1
          },
          "opacity": 0.6,
          "size": 5.149700598802395
         },
         "mode": "markers+text",
         "showlegend": false,
         "text": "Dominica",
         "textposition": "top center",
         "type": "scatter",
         "x": [
          4
         ],
         "y": [
          2
         ]
        },
        {
         "marker": {
          "color": "rgb(41, 69, 171)",
          "line": {
           "color": "Black",
           "width": 1
          },
          "opacity": 0.6,
          "size": 5.698602794411178
         },
         "mode": "markers+text",
         "showlegend": false,
         "text": "DPR Korea",
         "textposition": "top center",
         "type": "scatter",
         "x": [
          15
         ],
         "y": [
          7
         ]
        },
        {
         "marker": {
          "color": "rgb(24, 104, 206)",
          "line": {
           "color": "Black",
           "width": 1
          },
          "opacity": 0.6,
          "size": 6.996007984031936
         },
         "mode": "markers+text",
         "showlegend": false,
         "text": "IR Iran",
         "textposition": "top center",
         "type": "scatter",
         "x": [
          41
         ],
         "y": [
          18
         ]
        },
        {
         "marker": {
          "color": "rgb(41, 69, 171)",
          "line": {
           "color": "Black",
           "width": 1
          },
          "opacity": 0.6,
          "size": 5.698602794411178
         },
         "mode": "markers+text",
         "showlegend": false,
         "text": "Bahrain",
         "textposition": "top center",
         "type": "scatter",
         "x": [
          15
         ],
         "y": [
          6.5
         ]
        },
        {
         "marker": {
          "color": "rgb(40, 72, 174)",
          "line": {
           "color": "Black",
           "width": 1
          },
          "opacity": 0.6,
          "size": 5.798403193612774
         },
         "mode": "markers+text",
         "showlegend": false,
         "text": "Kyrgyzstan",
         "textposition": "top center",
         "type": "scatter",
         "x": [
          17
         ],
         "y": [
          7
         ]
        },
        {
         "marker": {
          "color": "rgb(130, 95, 85)",
          "line": {
           "color": "Black",
           "width": 1
          },
          "opacity": 0.6,
          "size": 23.562874251497004
         },
         "mode": "markers+text",
         "showlegend": false,
         "text": "China",
         "textposition": "top center",
         "type": "scatter",
         "x": [
          373
         ],
         "y": [
          144.5
         ]
        },
        {
         "marker": {
          "color": "rgb(32, 88, 190)",
          "line": {
           "color": "Black",
           "width": 1
          },
          "opacity": 0.6,
          "size": 6.447105788423154
         },
         "mode": "markers+text",
         "showlegend": false,
         "text": "Georgia",
         "textposition": "top center",
         "type": "scatter",
         "x": [
          30
         ],
         "y": [
          11.5
         ]
        },
        {
         "marker": {
          "color": "rgb(255, 255, 255)",
          "line": {
           "color": "Black",
           "width": 1
          },
          "opacity": 0.6,
          "size": 30
         },
         "mode": "markers+text",
         "showlegend": false,
         "text": "United States",
         "textposition": "top center",
         "type": "scatter",
         "x": [
          502
         ],
         "y": [
          188
         ]
        },
        {
         "marker": {
          "color": "rgb(41, 69, 171)",
          "line": {
           "color": "Black",
           "width": 1
          },
          "opacity": 0.6,
          "size": 5.698602794411178
         },
         "mode": "markers+text",
         "showlegend": false,
         "text": "Armenia",
         "textposition": "top center",
         "type": "scatter",
         "x": [
          15
         ],
         "y": [
          5.5
         ]
        },
        {
         "marker": {
          "color": "rgb(48, 56, 158)",
          "line": {
           "color": "Black",
           "width": 1
          },
          "opacity": 0.6,
          "size": 5.249500998003992
         },
         "mode": "markers+text",
         "showlegend": false,
         "text": "Grenada",
         "textposition": "top center",
         "type": "scatter",
         "x": [
          6
         ],
         "y": [
          2
         ]
        },
        {
         "marker": {
          "color": "rgb(19, 115, 217)",
          "line": {
           "color": "Black",
           "width": 1
          },
          "opacity": 0.6,
          "size": 7.345309381237525
         },
         "mode": "markers+text",
         "showlegend": false,
         "text": "Kenya",
         "textposition": "top center",
         "type": "scatter",
         "x": [
          48
         ],
         "y": [
          16
         ]
        },
        {
         "marker": {
          "color": "rgb(72, 218, 116)",
          "line": {
           "color": "Black",
           "width": 1
          },
          "opacity": 0.6,
          "size": 13.08383233532934
         },
         "mode": "markers+text",
         "showlegend": false,
         "text": "Korea",
         "textposition": "top center",
         "type": "scatter",
         "x": [
          163
         ],
         "y": [
          49.5
         ]
        },
        {
         "marker": {
          "color": "rgb(0, 154, 250)",
          "line": {
           "color": "Black",
           "width": 1
          },
          "opacity": 0.6,
          "size": 8.892215568862277
         },
         "mode": "markers+text",
         "showlegend": false,
         "text": "Uzbekistan",
         "textposition": "top center",
         "type": "scatter",
         "x": [
          79
         ],
         "y": [
          22
         ]
        },
        {
         "marker": {
          "color": "rgb(45, 61, 163)",
          "line": {
           "color": "Black",
           "width": 1
          },
          "opacity": 0.6,
          "size": 5.399201596806387
         },
         "mode": "markers+text",
         "showlegend": false,
         "text": "Kosovo",
         "textposition": "top center",
         "type": "scatter",
         "x": [
          9
         ],
         "y": [
          2.5
         ]
        },
        {
         "marker": {
          "color": "rgb(178, 156, 111)",
          "line": {
           "color": "Black",
           "width": 1
          },
          "opacity": 0.6,
          "size": 21.26746506986028
         },
         "mode": "markers+text",
         "showlegend": false,
         "text": "Great Britain",
         "textposition": "top center",
         "type": "scatter",
         "x": [
          327
         ],
         "y": [
          90
         ]
        },
        {
         "marker": {
          "color": "rgb(43, 67, 169)",
          "line": {
           "color": "Black",
           "width": 1
          },
          "opacity": 0.6,
          "size": 5.598802395209581
         },
         "mode": "markers+text",
         "showlegend": false,
         "text": "Botswana",
         "textposition": "top center",
         "type": "scatter",
         "x": [
          13
         ],
         "y": [
          3.5
         ]
        },
        {
         "marker": {
          "color": "rgb(1, 204, 102)",
          "line": {
           "color": "Black",
           "width": 1
          },
          "opacity": 0.6,
          "size": 11.2874251497006
         },
         "mode": "markers+text",
         "showlegend": false,
         "text": "New Zealand",
         "textposition": "top center",
         "type": "scatter",
         "x": [
          127
         ],
         "y": [
          33.5
         ]
        },
        {
         "marker": {
          "color": "rgb(24, 104, 206)",
          "line": {
           "color": "Black",
           "width": 1
          },
          "opacity": 0.6,
          "size": 7.045908183632735
         },
         "mode": "markers+text",
         "showlegend": false,
         "text": "Azerbaijan",
         "textposition": "top center",
         "type": "scatter",
         "x": [
          42
         ],
         "y": [
          10
         ]
        },
        {
         "marker": {
          "color": "rgb(157, 129, 123)",
          "line": {
           "color": "Black",
           "width": 1
          },
          "opacity": 0.6,
          "size": 25.209580838323355
         },
         "mode": "markers+text",
         "showlegend": false,
         "text": "France",
         "textposition": "top center",
         "type": "scatter",
         "x": [
          406
         ],
         "y": [
          93
         ]
        },
        {
         "marker": {
          "color": "rgb(142, 110, 91)",
          "line": {
           "color": "Black",
           "width": 1
          },
          "opacity": 0.6,
          "size": 23.013972055888225
         },
         "mode": "markers+text",
         "showlegend": false,
         "text": "Australia",
         "textposition": "top center",
         "type": "scatter",
         "x": [
          362
         ],
         "y": [
          80.5
         ]
        },
        {
         "marker": {
          "color": "rgb(45, 61, 163)",
          "line": {
           "color": "Black",
           "width": 1
          },
          "opacity": 0.6,
          "size": 5.399201596806387
         },
         "mode": "markers+text",
         "showlegend": false,
         "text": "Albania",
         "textposition": "top center",
         "type": "scatter",
         "x": [
          9
         ],
         "y": [
          2
         ]
        },
        {
         "marker": {
          "color": "rgb(45, 61, 163)",
          "line": {
           "color": "Black",
           "width": 1
          },
          "opacity": 0.6,
          "size": 5.399201596806387
         },
         "mode": "markers+text",
         "showlegend": false,
         "text": "Pakistan",
         "textposition": "top center",
         "type": "scatter",
         "x": [
          9
         ],
         "y": [
          2
         ]
        },
        {
         "marker": {
          "color": "rgb(184, 164, 114)",
          "line": {
           "color": "Black",
           "width": 1
          },
          "opacity": 0.6,
          "size": 20.968063872255488
         },
         "mode": "markers+text",
         "showlegend": false,
         "text": "Japan",
         "textposition": "top center",
         "type": "scatter",
         "x": [
          321
         ],
         "y": [
          71
         ]
        },
        {
         "marker": {
          "color": "rgb(43, 67, 169)",
          "line": {
           "color": "Black",
           "width": 1
          },
          "opacity": 0.6,
          "size": 5.648702594810379
         },
         "mode": "markers+text",
         "showlegend": false,
         "text": "Tajikistan",
         "textposition": "top center",
         "type": "scatter",
         "x": [
          14
         ],
         "y": [
          3
         ]
        },
        {
         "marker": {
          "color": "rgb(245, 253, 151)",
          "line": {
           "color": "Black",
           "width": 1
          },
          "opacity": 0.6,
          "size": 17.22554890219561
         },
         "mode": "markers+text",
         "showlegend": false,
         "text": "Netherlands",
         "textposition": "top center",
         "type": "scatter",
         "x": [
          246
         ],
         "y": [
          52.5
         ]
        },
        {
         "marker": {
          "color": "rgb(16, 120, 222)",
          "line": {
           "color": "Black",
           "width": 1
          },
          "opacity": 0.6,
          "size": 7.594810379241517
         },
         "mode": "markers+text",
         "showlegend": false,
         "text": "Bulgaria",
         "textposition": "top center",
         "type": "scatter",
         "x": [
          53
         ],
         "y": [
          10.5
         ]
        },
        {
         "marker": {
          "color": "rgb(17, 117, 219)",
          "line": {
           "color": "Black",
           "width": 1
          },
          "opacity": 0.6,
          "size": 7.495009980039921
         },
         "mode": "markers+text",
         "showlegend": false,
         "text": "Croatia",
         "textposition": "top center",
         "type": "scatter",
         "x": [
          51
         ],
         "y": [
          10
         ]
        },
        {
         "marker": {
          "color": "rgb(11, 131, 233)",
          "line": {
           "color": "Black",
           "width": 1
          },
          "opacity": 0.6,
          "size": 7.994011976047904
         },
         "mode": "markers+text",
         "showlegend": false,
         "text": "Cuba",
         "textposition": "top center",
         "type": "scatter",
         "x": [
          61
         ],
         "y": [
          11.5
         ]
        },
        {
         "marker": {
          "color": "rgb(41, 69, 171)",
          "line": {
           "color": "Black",
           "width": 1
          },
          "opacity": 0.6,
          "size": 5.748502994011976
         },
         "mode": "markers+text",
         "showlegend": false,
         "text": "Guatemala",
         "textposition": "top center",
         "type": "scatter",
         "x": [
          16
         ],
         "y": [
          3
         ]
        },
        {
         "marker": {
          "color": "rgb(28, 96, 198)",
          "line": {
           "color": "Black",
           "width": 1
          },
          "opacity": 0.6,
          "size": 6.696606786427146
         },
         "mode": "markers+text",
         "showlegend": false,
         "text": "Ethiopia",
         "textposition": "top center",
         "type": "scatter",
         "x": [
          35
         ],
         "y": [
          6.5
         ]
        },
        {
         "marker": {
          "color": "rgb(57, 215, 113)",
          "line": {
           "color": "Black",
           "width": 1
          },
          "opacity": 0.6,
          "size": 12.634730538922156
         },
         "mode": "markers+text",
         "showlegend": false,
         "text": "Hungary",
         "textposition": "top center",
         "type": "scatter",
         "x": [
          154
         ],
         "y": [
          28.5
         ]
        },
        {
         "marker": {
          "color": "rgb(24, 104, 206)",
          "line": {
           "color": "Black",
           "width": 1
          },
          "opacity": 0.6,
          "size": 6.996007984031936
         },
         "mode": "markers+text",
         "showlegend": false,
         "text": "AIN",
         "textposition": "top center",
         "type": "scatter",
         "x": [
          41
         ],
         "y": [
          7.5
         ]
        },
        {
         "marker": {
          "color": "rgb(29, 93, 195)",
          "line": {
           "color": "Black",
           "width": 1
          },
          "opacity": 0.6,
          "size": 6.6467065868263475
         },
         "mode": "markers+text",
         "showlegend": false,
         "text": "Hong Kong, China",
         "textposition": "top center",
         "type": "scatter",
         "x": [
          34
         ],
         "y": [
          6
         ]
        },
        {
         "marker": {
          "color": "rgb(32, 88, 190)",
          "line": {
           "color": "Black",
           "width": 1
          },
          "opacity": 0.6,
          "size": 6.397205588822356
         },
         "mode": "markers+text",
         "showlegend": false,
         "text": "Indonesia",
         "textposition": "top center",
         "type": "scatter",
         "x": [
          29
         ],
         "y": [
          5
         ]
        },
        {
         "marker": {
          "color": "rgb(0, 158, 238)",
          "line": {
           "color": "Black",
           "width": 1
          },
          "opacity": 0.6,
          "size": 9.09181636726547
         },
         "mode": "markers+text",
         "showlegend": false,
         "text": "Romania",
         "textposition": "top center",
         "type": "scatter",
         "x": [
          83
         ],
         "y": [
          14
         ]
        },
        {
         "marker": {
          "color": "rgb(0, 180, 172)",
          "line": {
           "color": "Black",
           "width": 1
          },
          "opacity": 0.6,
          "size": 10.089820359281436
         },
         "mode": "markers+text",
         "showlegend": false,
         "text": "Sweden",
         "textposition": "top center",
         "type": "scatter",
         "x": [
          103
         ],
         "y": [
          17
         ]
        },
        {
         "marker": {
          "color": "rgb(33, 85, 187)",
          "line": {
           "color": "Black",
           "width": 1
          },
          "opacity": 0.6,
          "size": 6.347305389221557
         },
         "mode": "markers+text",
         "showlegend": false,
         "text": "Republic of Moldova",
         "textposition": "top center",
         "type": "scatter",
         "x": [
          28
         ],
         "y": [
          4.5
         ]
        },
        {
         "marker": {
          "color": "rgb(16, 120, 222)",
          "line": {
           "color": "Black",
           "width": 1
          },
          "opacity": 0.6,
          "size": 7.594810379241517
         },
         "mode": "markers+text",
         "showlegend": false,
         "text": "Thailand",
         "textposition": "top center",
         "type": "scatter",
         "x": [
          53
         ],
         "y": [
          8.5
         ]
        },
        {
         "marker": {
          "color": "rgb(23, 107, 209)",
          "line": {
           "color": "Black",
           "width": 1
          },
          "opacity": 0.6,
          "size": 7.145708582834331
         },
         "mode": "markers+text",
         "showlegend": false,
         "text": "Ecuador",
         "textposition": "top center",
         "type": "scatter",
         "x": [
          44
         ],
         "y": [
          7
         ]
        },
        {
         "marker": {
          "color": "rgb(14, 123, 225)",
          "line": {
           "color": "Black",
           "width": 1
          },
          "opacity": 0.6,
          "size": 7.644710578842315
         },
         "mode": "markers+text",
         "showlegend": false,
         "text": "Serbia",
         "textposition": "top center",
         "type": "scatter",
         "x": [
          54
         ],
         "y": [
          8.5
         ]
        },
        {
         "marker": {
          "color": "rgb(131, 97, 86)",
          "line": {
           "color": "Black",
           "width": 1
          },
          "opacity": 0.6,
          "size": 23.512974051896208
         },
         "mode": "markers+text",
         "showlegend": false,
         "text": "Italy",
         "textposition": "top center",
         "type": "scatter",
         "x": [
          372
         ],
         "y": [
          58.5
         ]
        },
        {
         "marker": {
          "color": "rgb(0, 156, 244)",
          "line": {
           "color": "Black",
           "width": 1
          },
          "opacity": 0.6,
          "size": 8.992015968063871
         },
         "mode": "markers+text",
         "showlegend": false,
         "text": "Norway",
         "textposition": "top center",
         "type": "scatter",
         "x": [
          81
         ],
         "y": [
          12.5
         ]
        },
        {
         "marker": {
          "color": "rgb(25, 101, 203)",
          "line": {
           "color": "Black",
           "width": 1
          },
          "opacity": 0.6,
          "size": 6.946107784431138
         },
         "mode": "markers+text",
         "showlegend": false,
         "text": "Philippines",
         "textposition": "top center",
         "type": "scatter",
         "x": [
          40
         ],
         "y": [
          6
         ]
        },
        {
         "marker": {
          "color": "rgb(32, 88, 190)",
          "line": {
           "color": "Black",
           "width": 1
          },
          "opacity": 0.6,
          "size": 6.447105788423154
         },
         "mode": "markers+text",
         "showlegend": false,
         "text": "Tunisia",
         "textposition": "top center",
         "type": "scatter",
         "x": [
          30
         ],
         "y": [
          4.5
         ]
        },
        {
         "marker": {
          "color": "rgb(9, 133, 235)",
          "line": {
           "color": "Black",
           "width": 1
          },
          "opacity": 0.6,
          "size": 8.043912175648703
         },
         "mode": "markers+text",
         "showlegend": false,
         "text": "Chinese Taipei",
         "textposition": "top center",
         "type": "scatter",
         "x": [
          62
         ],
         "y": [
          9
         ]
        },
        {
         "marker": {
          "color": "rgb(7, 138, 241)",
          "line": {
           "color": "Black",
           "width": 1
          },
          "opacity": 0.6,
          "size": 8.243512974051896
         },
         "mode": "markers+text",
         "showlegend": false,
         "text": "Greece",
         "textposition": "top center",
         "type": "scatter",
         "x": [
          66
         ],
         "y": [
          9.5
         ]
        },
        {
         "marker": {
          "color": "rgb(47, 59, 161)",
          "line": {
           "color": "Black",
           "width": 1
          },
          "opacity": 0.6,
          "size": 5.299401197604791
         },
         "mode": "markers+text",
         "showlegend": false,
         "text": "Cabo Verde",
         "textposition": "top center",
         "type": "scatter",
         "x": [
          7
         ],
         "y": [
          1
         ]
        },
        {
         "marker": {
          "color": "rgb(0, 160, 232)",
          "line": {
           "color": "Black",
           "width": 1
          },
          "opacity": 0.6,
          "size": 9.141716566866268
         },
         "mode": "markers+text",
         "showlegend": false,
         "text": "Denmark",
         "textposition": "top center",
         "type": "scatter",
         "x": [
          84
         ],
         "y": [
          12
         ]
        },
        {
         "marker": {
          "color": "rgb(144, 112, 93)",
          "line": {
           "color": "Black",
           "width": 1
          },
          "opacity": 0.6,
          "size": 22.964071856287426
         },
         "mode": "markers+text",
         "showlegend": false,
         "text": "Germany",
         "textposition": "top center",
         "type": "scatter",
         "x": [
          361
         ],
         "y": [
          51.5
         ]
        },
        {
         "marker": {
          "color": "rgb(11, 131, 233)",
          "line": {
           "color": "Black",
           "width": 1
          },
          "opacity": 0.6,
          "size": 7.944111776447106
         },
         "mode": "markers+text",
         "showlegend": false,
         "text": "Jamaica",
         "textposition": "top center",
         "type": "scatter",
         "x": [
          60
         ],
         "y": [
          8.5
         ]
        },
        {
         "marker": {
          "color": "rgb(32, 88, 190)",
          "line": {
           "color": "Black",
           "width": 1
          },
          "opacity": 0.6,
          "size": 6.397205588822356
         },
         "mode": "markers+text",
         "showlegend": false,
         "text": "Dominican Republic",
         "textposition": "top center",
         "type": "scatter",
         "x": [
          29
         ],
         "y": [
          4
         ]
        },
        {
         "marker": {
          "color": "rgb(44, 64, 166)",
          "line": {
           "color": "Black",
           "width": 1
          },
          "opacity": 0.6,
          "size": 5.499001996007984
         },
         "mode": "markers+text",
         "showlegend": false,
         "text": "Fiji",
         "textposition": "top center",
         "type": "scatter",
         "x": [
          11
         ],
         "y": [
          1.5
         ]
        },
        {
         "marker": {
          "color": "rgb(0, 154, 250)",
          "line": {
           "color": "Black",
           "width": 1
          },
          "opacity": 0.6,
          "size": 8.892215568862277
         },
         "mode": "markers+text",
         "showlegend": false,
         "text": "Israel",
         "textposition": "top center",
         "type": "scatter",
         "x": [
          79
         ],
         "y": [
          10.5
         ]
        },
        {
         "marker": {
          "color": "rgb(206, 192, 126)",
          "line": {
           "color": "Black",
           "width": 1
          },
          "opacity": 0.6,
          "size": 19.920159680638722
         },
         "mode": "markers+text",
         "showlegend": false,
         "text": "Canada",
         "textposition": "top center",
         "type": "scatter",
         "x": [
          300
         ],
         "y": [
          39.5
         ]
        },
        {
         "marker": {
          "color": "rgb(33, 85, 187)",
          "line": {
           "color": "Black",
           "width": 1
          },
          "opacity": 0.6,
          "size": 6.297405189620759
         },
         "mode": "markers+text",
         "showlegend": false,
         "text": "Uganda",
         "textposition": "top center",
         "type": "scatter",
         "x": [
          27
         ],
         "y": [
          3.5
         ]
        },
        {
         "marker": {
          "color": "rgb(47, 59, 161)",
          "line": {
           "color": "Black",
           "width": 1
          },
          "opacity": 0.6,
          "size": 5.349301397205589
         },
         "mode": "markers+text",
         "showlegend": false,
         "text": "Zambia",
         "textposition": "top center",
         "type": "scatter",
         "x": [
          8
         ],
         "y": [
          1
         ]
        },
        {
         "marker": {
          "color": "rgb(44, 64, 166)",
          "line": {
           "color": "Black",
           "width": 1
          },
          "opacity": 0.6,
          "size": 5.5489021956087825
         },
         "mode": "markers+text",
         "showlegend": false,
         "text": "Jordan",
         "textposition": "top center",
         "type": "scatter",
         "x": [
          12
         ],
         "y": [
          1.5
         ]
        },
        {
         "marker": {
          "color": "rgb(44, 64, 166)",
          "line": {
           "color": "Black",
           "width": 1
          },
          "opacity": 0.6,
          "size": 5.5489021956087825
         },
         "mode": "markers+text",
         "showlegend": false,
         "text": "Panama",
         "textposition": "top center",
         "type": "scatter",
         "x": [
          12
         ],
         "y": [
          1.5
         ]
        },
        {
         "marker": {
          "color": "rgb(0, 168, 208)",
          "line": {
           "color": "Black",
           "width": 1
          },
          "opacity": 0.6,
          "size": 9.540918163672654
         },
         "mode": "markers+text",
         "showlegend": false,
         "text": "Ireland",
         "textposition": "top center",
         "type": "scatter",
         "x": [
          92
         ],
         "y": [
          11
         ]
        },
        {
         "marker": {
          "color": "rgb(49, 213, 111)",
          "line": {
           "color": "Black",
           "width": 1
          },
          "opacity": 0.6,
          "size": 12.435129740518962
         },
         "mode": "markers+text",
         "showlegend": false,
         "text": "Ukraine",
         "textposition": "top center",
         "type": "scatter",
         "x": [
          150
         ],
         "y": [
          17.5
         ]
        },
        {
         "marker": {
          "color": "rgb(217, 247, 145)",
          "line": {
           "color": "Black",
           "width": 1
          },
          "opacity": 0.6,
          "size": 16.526946107784433
         },
         "mode": "markers+text",
         "showlegend": false,
         "text": "Brazil",
         "textposition": "top center",
         "type": "scatter",
         "x": [
          232
         ],
         "y": [
          26.5
         ]
        },
        {
         "marker": {
          "color": "rgb(21, 109, 211)",
          "line": {
           "color": "Black",
           "width": 1
          },
          "opacity": 0.6,
          "size": 7.245508982035928
         },
         "mode": "markers+text",
         "showlegend": false,
         "text": "Lithuania",
         "textposition": "top center",
         "type": "scatter",
         "x": [
          46
         ],
         "y": [
          5
         ]
        },
        {
         "marker": {
          "color": "rgb(17, 117, 219)",
          "line": {
           "color": "Black",
           "width": 1
          },
          "opacity": 0.6,
          "size": 7.445109780439122
         },
         "mode": "markers+text",
         "showlegend": false,
         "text": "Algeria",
         "textposition": "top center",
         "type": "scatter",
         "x": [
          50
         ],
         "y": [
          5
         ]
        },
        {
         "marker": {
          "color": "rgb(0, 176, 184)",
          "line": {
           "color": "Black",
           "width": 1
          },
          "opacity": 0.6,
          "size": 9.890219560878243
         },
         "mode": "markers+text",
         "showlegend": false,
         "text": "Kazakhstan",
         "textposition": "top center",
         "type": "scatter",
         "x": [
          99
         ],
         "y": [
          9.5
         ]
        },
        {
         "marker": {
          "color": "rgb(240, 235, 144)",
          "line": {
           "color": "Black",
           "width": 1
          },
          "opacity": 0.6,
          "size": 18.27345309381238
         },
         "mode": "markers+text",
         "showlegend": false,
         "text": "Spain",
         "textposition": "top center",
         "type": "scatter",
         "x": [
          267
         ],
         "y": [
          25
         ]
        },
        {
         "marker": {
          "color": "rgb(40, 212, 110)",
          "line": {
           "color": "Black",
           "width": 1
          },
          "opacity": 0.6,
          "size": 12.235528942115767
         },
         "mode": "markers+text",
         "showlegend": false,
         "text": "Belgium",
         "textposition": "top center",
         "type": "scatter",
         "x": [
          146
         ],
         "y": [
          13.5
         ]
        },
        {
         "marker": {
          "color": "rgb(0, 170, 202)",
          "line": {
           "color": "Black",
           "width": 1
          },
          "opacity": 0.6,
          "size": 9.640718562874252
         },
         "mode": "markers+text",
         "showlegend": false,
         "text": "South Africa",
         "textposition": "top center",
         "type": "scatter",
         "x": [
          94
         ],
         "y": [
          8.5
         ]
        },
        {
         "marker": {
          "color": "rgb(8, 136, 238)",
          "line": {
           "color": "Black",
           "width": 1
          },
          "opacity": 0.6,
          "size": 8.1437125748503
         },
         "mode": "markers+text",
         "showlegend": false,
         "text": "Slovenia",
         "textposition": "top center",
         "type": "scatter",
         "x": [
          64
         ],
         "y": [
          5.5
         ]
        },
        {
         "marker": {
          "color": "rgb(44, 64, 166)",
          "line": {
           "color": "Black",
           "width": 1
          },
          "opacity": 0.6,
          "size": 5.5489021956087825
         },
         "mode": "markers+text",
         "showlegend": false,
         "text": "Qatar",
         "textposition": "top center",
         "type": "scatter",
         "x": [
          12
         ],
         "y": [
          1
         ]
        },
        {
         "marker": {
          "color": "rgb(13, 125, 227)",
          "line": {
           "color": "Black",
           "width": 1
          },
          "opacity": 0.6,
          "size": 7.794411177644711
         },
         "mode": "markers+text",
         "showlegend": false,
         "text": "Argentina",
         "textposition": "top center",
         "type": "scatter",
         "x": [
          57
         ],
         "y": [
          4.5
         ]
        },
        {
         "marker": {
          "color": "rgb(0, 198, 118)",
          "line": {
           "color": "Black",
           "width": 1
          },
          "opacity": 0.6,
          "size": 11.037924151696608
         },
         "mode": "markers+text",
         "showlegend": false,
         "text": "Türkiye",
         "textposition": "top center",
         "type": "scatter",
         "x": [
          122
         ],
         "y": [
          9.5
         ]
        },
        {
         "marker": {
          "color": "rgb(20, 112, 214)",
          "line": {
           "color": "Black",
           "width": 1
          },
          "opacity": 0.6,
          "size": 7.295409181636726
         },
         "mode": "markers+text",
         "showlegend": false,
         "text": "Chile",
         "textposition": "top center",
         "type": "scatter",
         "x": [
          47
         ],
         "y": [
          3.5
         ]
        },
        {
         "marker": {
          "color": "rgb(33, 85, 187)",
          "line": {
           "color": "Black",
           "width": 1
          },
          "opacity": 0.6,
          "size": 6.297405189620759
         },
         "mode": "markers+text",
         "showlegend": false,
         "text": "Malaysia",
         "textposition": "top center",
         "type": "scatter",
         "x": [
          27
         ],
         "y": [
          2
         ]
        },
        {
         "marker": {
          "color": "rgb(0, 174, 190)",
          "line": {
           "color": "Black",
           "width": 1
          },
          "opacity": 0.6,
          "size": 9.790419161676647
         },
         "mode": "markers+text",
         "showlegend": false,
         "text": "Austria",
         "textposition": "top center",
         "type": "scatter",
         "x": [
          97
         ],
         "y": [
          7
         ]
        },
        {
         "marker": {
          "color": "rgb(43, 67, 169)",
          "line": {
           "color": "Black",
           "width": 1
          },
          "opacity": 0.6,
          "size": 5.648702594810379
         },
         "mode": "markers+text",
         "showlegend": false,
         "text": "Côte d'Ivoire",
         "textposition": "top center",
         "type": "scatter",
         "x": [
          14
         ],
         "y": [
          1
         ]
        },
        {
         "marker": {
          "color": "rgb(0, 160, 232)",
          "line": {
           "color": "Black",
           "width": 1
          },
          "opacity": 0.6,
          "size": 9.191616766467066
         },
         "mode": "markers+text",
         "showlegend": false,
         "text": "Portugal",
         "textposition": "top center",
         "type": "scatter",
         "x": [
          85
         ],
         "y": [
          6
         ]
        },
        {
         "marker": {
          "color": "rgb(0, 156, 244)",
          "line": {
           "color": "Black",
           "width": 1
          },
          "opacity": 0.6,
          "size": 8.942115768463074
         },
         "mode": "markers+text",
         "showlegend": false,
         "text": "Colombia",
         "textposition": "top center",
         "type": "scatter",
         "x": [
          80
         ],
         "y": [
          5.5
         ]
        },
        {
         "marker": {
          "color": "rgb(0, 172, 196)",
          "line": {
           "color": "Black",
           "width": 1
          },
          "opacity": 0.6,
          "size": 9.69061876247505
         },
         "mode": "markers+text",
         "showlegend": false,
         "text": "India",
         "textposition": "top center",
         "type": "scatter",
         "x": [
          95
         ],
         "y": [
          6.5
         ]
        },
        {
         "marker": {
          "color": "rgb(37, 77, 179)",
          "line": {
           "color": "Black",
           "width": 1
          },
          "opacity": 0.6,
          "size": 6.047904191616766
         },
         "mode": "markers+text",
         "showlegend": false,
         "text": "Cyprus",
         "textposition": "top center",
         "type": "scatter",
         "x": [
          22
         ],
         "y": [
          1.5
         ]
        },
        {
         "marker": {
          "color": "rgb(23, 107, 209)",
          "line": {
           "color": "Black",
           "width": 1
          },
          "opacity": 0.6,
          "size": 7.145708582834331
         },
         "mode": "markers+text",
         "showlegend": false,
         "text": "Morocco",
         "textposition": "top center",
         "type": "scatter",
         "x": [
          44
         ],
         "y": [
          3
         ]
        },
        {
         "marker": {
          "color": "rgb(141, 232, 130)",
          "line": {
           "color": "Black",
           "width": 1
          },
          "opacity": 0.6,
          "size": 14.68063872255489
         },
         "mode": "markers+text",
         "showlegend": false,
         "text": "Poland",
         "textposition": "top center",
         "type": "scatter",
         "x": [
          195
         ],
         "y": [
          13
         ]
        },
        {
         "marker": {
          "color": "rgb(31, 91, 193)",
          "line": {
           "color": "Black",
           "width": 1
          },
          "opacity": 0.6,
          "size": 6.497005988023952
         },
         "mode": "markers+text",
         "showlegend": false,
         "text": "Puerto Rico",
         "textposition": "top center",
         "type": "scatter",
         "x": [
          31
         ],
         "y": [
          2
         ]
        },
        {
         "marker": {
          "color": "rgb(1, 204, 102)",
          "line": {
           "color": "Black",
           "width": 1
          },
          "opacity": 0.6,
          "size": 11.2874251497006
         },
         "mode": "markers+text",
         "showlegend": false,
         "text": "Czechia",
         "textposition": "top center",
         "type": "scatter",
         "x": [
          127
         ],
         "y": [
          8
         ]
        },
        {
         "marker": {
          "color": "rgb(65, 217, 115)",
          "line": {
           "color": "Black",
           "width": 1
          },
          "opacity": 0.6,
          "size": 12.884231536926148
         },
         "mode": "markers+text",
         "showlegend": false,
         "text": "Switzerland",
         "textposition": "top center",
         "type": "scatter",
         "x": [
          159
         ],
         "y": [
          10
         ]
        },
        {
         "marker": {
          "color": "rgb(0, 202, 106)",
          "line": {
           "color": "Black",
           "width": 1
          },
          "opacity": 0.6,
          "size": 11.187624750499001
         },
         "mode": "markers+text",
         "showlegend": false,
         "text": "Mexico",
         "textposition": "top center",
         "type": "scatter",
         "x": [
          125
         ],
         "y": [
          6.5
         ]
        },
        {
         "marker": {
          "color": "rgb(27, 98, 201)",
          "line": {
           "color": "Black",
           "width": 1
          },
          "opacity": 0.6,
          "size": 6.846307385229541
         },
         "mode": "markers+text",
         "showlegend": false,
         "text": "Mongolia",
         "textposition": "top center",
         "type": "scatter",
         "x": [
          38
         ],
         "y": [
          1.5
         ]
        },
        {
         "marker": {
          "color": "rgb(0, 192, 136)",
          "line": {
           "color": "Black",
           "width": 1
          },
          "opacity": 0.6,
          "size": 10.738522954091817
         },
         "mode": "markers+text",
         "showlegend": false,
         "text": "Egypt",
         "textposition": "top center",
         "type": "scatter",
         "x": [
          116
         ],
         "y": [
          4.5
         ]
        },
        {
         "marker": {
          "color": "rgb(35, 83, 185)",
          "line": {
           "color": "Black",
           "width": 1
          },
          "opacity": 0.6,
          "size": 6.24750499001996
         },
         "mode": "markers+text",
         "showlegend": false,
         "text": "Singapore",
         "textposition": "top center",
         "type": "scatter",
         "x": [
          26
         ],
         "y": [
          1
         ]
        },
        {
         "marker": {
          "color": "rgb(33, 85, 187)",
          "line": {
           "color": "Black",
           "width": 1
          },
          "opacity": 0.6,
          "size": 6.297405189620759
         },
         "mode": "markers+text",
         "showlegend": false,
         "text": "Peru",
         "textposition": "top center",
         "type": "scatter",
         "x": [
          27
         ],
         "y": [
          1
         ]
        },
        {
         "marker": {
          "color": "rgb(28, 96, 198)",
          "line": {
           "color": "Black",
           "width": 1
          },
          "opacity": 0.6,
          "size": 6.696606786427146
         },
         "mode": "markers+text",
         "showlegend": false,
         "text": "Slovakia",
         "textposition": "top center",
         "type": "scatter",
         "x": [
          35
         ],
         "y": [
          1
         ]
        },
        {
         "marker": {
          "color": "rgb(25, 101, 203)",
          "line": {
           "color": "Black",
           "width": 1
          },
          "opacity": 0.6,
          "size": 6.896207584830339
         },
         "mode": "markers+text",
         "showlegend": false,
         "text": "EOR",
         "textposition": "top center",
         "type": "scatter",
         "x": [
          39
         ],
         "y": [
          1
         ]
        },
        {
         "marker": {
          "color": "rgb(47, 59, 161)",
          "line": {
           "color": "Black",
           "width": 1
          },
          "opacity": 0.6,
          "size": 5.299401197604791
         },
         "mode": "markers+text",
         "showlegend": false,
         "text": "Afghanistan",
         "textposition": "top center",
         "type": "scatter",
         "x": [
          7
         ],
         "y": [
          0
         ]
        },
        {
         "marker": {
          "color": "rgb(51, 51, 153)",
          "line": {
           "color": "Black",
           "width": 1
          },
          "opacity": 0.6,
          "size": 5.049900199600798
         },
         "mode": "markers+text",
         "showlegend": false,
         "text": "American Samoa",
         "textposition": "top center",
         "type": "scatter",
         "x": [
          2
         ],
         "y": [
          0
         ]
        },
        {
         "marker": {
          "color": "rgb(49, 53, 155)",
          "line": {
           "color": "Black",
           "width": 1
          },
          "opacity": 0.6,
          "size": 5.149700598802395
         },
         "mode": "markers+text",
         "showlegend": false,
         "text": "Andorra",
         "textposition": "top center",
         "type": "scatter",
         "x": [
          4
         ],
         "y": [
          0
         ]
        },
        {
         "marker": {
          "color": "rgb(45, 61, 163)",
          "line": {
           "color": "Black",
           "width": 1
          },
          "opacity": 0.6,
          "size": 5.449101796407185
         },
         "mode": "markers+text",
         "showlegend": false,
         "text": "Angola",
         "textposition": "top center",
         "type": "scatter",
         "x": [
          10
         ],
         "y": [
          0
         ]
        },
        {
         "marker": {
          "color": "rgb(48, 56, 158)",
          "line": {
           "color": "Black",
           "width": 1
          },
          "opacity": 0.6,
          "size": 5.199600798403194
         },
         "mode": "markers+text",
         "showlegend": false,
         "text": "Antigua and Barbuda",
         "textposition": "top center",
         "type": "scatter",
         "x": [
          5
         ],
         "y": [
          0
         ]
        },
        {
         "marker": {
          "color": "rgb(47, 59, 161)",
          "line": {
           "color": "Black",
           "width": 1
          },
          "opacity": 0.6,
          "size": 5.299401197604791
         },
         "mode": "markers+text",
         "showlegend": false,
         "text": "Aruba",
         "textposition": "top center",
         "type": "scatter",
         "x": [
          7
         ],
         "y": [
          0
         ]
        },
        {
         "marker": {
          "color": "rgb(40, 72, 174)",
          "line": {
           "color": "Black",
           "width": 1
          },
          "opacity": 0.6,
          "size": 5.798403193612774
         },
         "mode": "markers+text",
         "showlegend": false,
         "text": "Bahamas",
         "textposition": "top center",
         "type": "scatter",
         "x": [
          17
         ],
         "y": [
          0
         ]
        },
        {
         "marker": {
          "color": "rgb(48, 56, 158)",
          "line": {
           "color": "Black",
           "width": 1
          },
          "opacity": 0.6,
          "size": 5.199600798403194
         },
         "mode": "markers+text",
         "showlegend": false,
         "text": "Bangladesh",
         "textposition": "top center",
         "type": "scatter",
         "x": [
          5
         ],
         "y": [
          0
         ]
        },
        {
         "marker": {
          "color": "rgb(49, 53, 155)",
          "line": {
           "color": "Black",
           "width": 1
          },
          "opacity": 0.6,
          "size": 5.149700598802395
         },
         "mode": "markers+text",
         "showlegend": false,
         "text": "Barbados",
         "textposition": "top center",
         "type": "scatter",
         "x": [
          4
         ],
         "y": [
          0
         ]
        },
        {
         "marker": {
          "color": "rgb(51, 51, 153)",
          "line": {
           "color": "Black",
           "width": 1
          },
          "opacity": 0.6,
          "size": 5
         },
         "mode": "markers+text",
         "showlegend": false,
         "text": "Belize",
         "textposition": "top center",
         "type": "scatter",
         "x": [
          1
         ],
         "y": [
          0
         ]
        },
        {
         "marker": {
          "color": "rgb(48, 56, 158)",
          "line": {
           "color": "Black",
           "width": 1
          },
          "opacity": 0.6,
          "size": 5.199600798403194
         },
         "mode": "markers+text",
         "showlegend": false,
         "text": "Benin",
         "textposition": "top center",
         "type": "scatter",
         "x": [
          5
         ],
         "y": [
          0
         ]
        },
        {
         "marker": {
          "color": "rgb(47, 59, 161)",
          "line": {
           "color": "Black",
           "width": 1
          },
          "opacity": 0.6,
          "size": 5.349301397205589
         },
         "mode": "markers+text",
         "showlegend": false,
         "text": "Bermuda",
         "textposition": "top center",
         "type": "scatter",
         "x": [
          8
         ],
         "y": [
          0
         ]
        },
        {
         "marker": {
          "color": "rgb(49, 53, 155)",
          "line": {
           "color": "Black",
           "width": 1
          },
          "opacity": 0.6,
          "size": 5.099800399201597
         },
         "mode": "markers+text",
         "showlegend": false,
         "text": "Bhutan",
         "textposition": "top center",
         "type": "scatter",
         "x": [
          3
         ],
         "y": [
          0
         ]
        },
        {
         "marker": {
          "color": "rgb(49, 53, 155)",
          "line": {
           "color": "Black",
           "width": 1
          },
          "opacity": 0.6,
          "size": 5.149700598802395
         },
         "mode": "markers+text",
         "showlegend": false,
         "text": "Bolivia",
         "textposition": "top center",
         "type": "scatter",
         "x": [
          4
         ],
         "y": [
          0
         ]
        },
        {
         "marker": {
          "color": "rgb(48, 56, 158)",
          "line": {
           "color": "Black",
           "width": 1
          },
          "opacity": 0.6,
          "size": 5.249500998003992
         },
         "mode": "markers+text",
         "showlegend": false,
         "text": "Bosnia & Herzegovina",
         "textposition": "top center",
         "type": "scatter",
         "x": [
          6
         ],
         "y": [
          0
         ]
        },
        {
         "marker": {
          "color": "rgb(49, 53, 155)",
          "line": {
           "color": "Black",
           "width": 1
          },
          "opacity": 0.6,
          "size": 5.099800399201597
         },
         "mode": "markers+text",
         "showlegend": false,
         "text": "Brunei Darussalam",
         "textposition": "top center",
         "type": "scatter",
         "x": [
          3
         ],
         "y": [
          0
         ]
        },
        {
         "marker": {
          "color": "rgb(47, 59, 161)",
          "line": {
           "color": "Black",
           "width": 1
          },
          "opacity": 0.6,
          "size": 5.349301397205589
         },
         "mode": "markers+text",
         "showlegend": false,
         "text": "Burkina Faso",
         "textposition": "top center",
         "type": "scatter",
         "x": [
          8
         ],
         "y": [
          0
         ]
        },
        {
         "marker": {
          "color": "rgb(47, 59, 161)",
          "line": {
           "color": "Black",
           "width": 1
          },
          "opacity": 0.6,
          "size": 5.349301397205589
         },
         "mode": "markers+text",
         "showlegend": false,
         "text": "Burundi",
         "textposition": "top center",
         "type": "scatter",
         "x": [
          8
         ],
         "y": [
          0
         ]
        },
        {
         "marker": {
          "color": "rgb(49, 53, 155)",
          "line": {
           "color": "Black",
           "width": 1
          },
          "opacity": 0.6,
          "size": 5.099800399201597
         },
         "mode": "markers+text",
         "showlegend": false,
         "text": "Cambodia",
         "textposition": "top center",
         "type": "scatter",
         "x": [
          3
         ],
         "y": [
          0
         ]
        },
        {
         "marker": {
          "color": "rgb(48, 56, 158)",
          "line": {
           "color": "Black",
           "width": 1
          },
          "opacity": 0.6,
          "size": 5.249500998003992
         },
         "mode": "markers+text",
         "showlegend": false,
         "text": "Cameroon",
         "textposition": "top center",
         "type": "scatter",
         "x": [
          6
         ],
         "y": [
          0
         ]
        },
        {
         "marker": {
          "color": "rgb(48, 56, 158)",
          "line": {
           "color": "Black",
           "width": 1
          },
          "opacity": 0.6,
          "size": 5.199600798403194
         },
         "mode": "markers+text",
         "showlegend": false,
         "text": "Cayman Islands",
         "textposition": "top center",
         "type": "scatter",
         "x": [
          5
         ],
         "y": [
          0
         ]
        },
        {
         "marker": {
          "color": "rgb(49, 53, 155)",
          "line": {
           "color": "Black",
           "width": 1
          },
          "opacity": 0.6,
          "size": 5.149700598802395
         },
         "mode": "markers+text",
         "showlegend": false,
         "text": "Centr Afric Re",
         "textposition": "top center",
         "type": "scatter",
         "x": [
          4
         ],
         "y": [
          0
         ]
        },
        {
         "marker": {
          "color": "rgb(49, 53, 155)",
          "line": {
           "color": "Black",
           "width": 1
          },
          "opacity": 0.6,
          "size": 5.099800399201597
         },
         "mode": "markers+text",
         "showlegend": false,
         "text": "Chad",
         "textposition": "top center",
         "type": "scatter",
         "x": [
          3
         ],
         "y": [
          0
         ]
        },
        {
         "marker": {
          "color": "rgb(48, 56, 158)",
          "line": {
           "color": "Black",
           "width": 1
          },
          "opacity": 0.6,
          "size": 5.199600798403194
         },
         "mode": "markers+text",
         "showlegend": false,
         "text": "Comoros",
         "textposition": "top center",
         "type": "scatter",
         "x": [
          5
         ],
         "y": [
          0
         ]
        },
        {
         "marker": {
          "color": "rgb(49, 53, 155)",
          "line": {
           "color": "Black",
           "width": 1
          },
          "opacity": 0.6,
          "size": 5.149700598802395
         },
         "mode": "markers+text",
         "showlegend": false,
         "text": "Congo",
         "textposition": "top center",
         "type": "scatter",
         "x": [
          4
         ],
         "y": [
          0
         ]
        },
        {
         "marker": {
          "color": "rgb(51, 51, 153)",
          "line": {
           "color": "Black",
           "width": 1
          },
          "opacity": 0.6,
          "size": 5.049900199600798
         },
         "mode": "markers+text",
         "showlegend": false,
         "text": "Cook Islands",
         "textposition": "top center",
         "type": "scatter",
         "x": [
          2
         ],
         "y": [
          0
         ]
        },
        {
         "marker": {
          "color": "rgb(48, 56, 158)",
          "line": {
           "color": "Black",
           "width": 1
          },
          "opacity": 0.6,
          "size": 5.249500998003992
         },
         "mode": "markers+text",
         "showlegend": false,
         "text": "Costa Rica",
         "textposition": "top center",
         "type": "scatter",
         "x": [
          6
         ],
         "y": [
          0
         ]
        },
        {
         "marker": {
          "color": "rgb(48, 56, 158)",
          "line": {
           "color": "Black",
           "width": 1
          },
          "opacity": 0.6,
          "size": 5.249500998003992
         },
         "mode": "markers+text",
         "showlegend": false,
         "text": "DR Congo",
         "textposition": "top center",
         "type": "scatter",
         "x": [
          6
         ],
         "y": [
          0
         ]
        },
        {
         "marker": {
          "color": "rgb(47, 59, 161)",
          "line": {
           "color": "Black",
           "width": 1
          },
          "opacity": 0.6,
          "size": 5.299401197604791
         },
         "mode": "markers+text",
         "showlegend": false,
         "text": "Djibouti",
         "textposition": "top center",
         "type": "scatter",
         "x": [
          7
         ],
         "y": [
          0
         ]
        },
        {
         "marker": {
          "color": "rgb(45, 61, 163)",
          "line": {
           "color": "Black",
           "width": 1
          },
          "opacity": 0.6,
          "size": 5.399201596806387
         },
         "mode": "markers+text",
         "showlegend": false,
         "text": "El Salvador",
         "textposition": "top center",
         "type": "scatter",
         "x": [
          9
         ],
         "y": [
          0
         ]
        },
        {
         "marker": {
          "color": "rgb(49, 53, 155)",
          "line": {
           "color": "Black",
           "width": 1
          },
          "opacity": 0.6,
          "size": 5.099800399201597
         },
         "mode": "markers+text",
         "showlegend": false,
         "text": "Equatorial Guinea",
         "textposition": "top center",
         "type": "scatter",
         "x": [
          3
         ],
         "y": [
          0
         ]
        },
        {
         "marker": {
          "color": "rgb(44, 64, 166)",
          "line": {
           "color": "Black",
           "width": 1
          },
          "opacity": 0.6,
          "size": 5.5489021956087825
         },
         "mode": "markers+text",
         "showlegend": false,
         "text": "Eritrea",
         "textposition": "top center",
         "type": "scatter",
         "x": [
          12
         ],
         "y": [
          0
         ]
        },
        {
         "marker": {
          "color": "rgb(36, 80, 182)",
          "line": {
           "color": "Black",
           "width": 1
          },
          "opacity": 0.6,
          "size": 6.097804391217565
         },
         "mode": "markers+text",
         "showlegend": false,
         "text": "Estonia",
         "textposition": "top center",
         "type": "scatter",
         "x": [
          23
         ],
         "y": [
          0
         ]
        },
        {
         "marker": {
          "color": "rgb(49, 53, 155)",
          "line": {
           "color": "Black",
           "width": 1
          },
          "opacity": 0.6,
          "size": 5.099800399201597
         },
         "mode": "markers+text",
         "showlegend": false,
         "text": "Eswatini",
         "textposition": "top center",
         "type": "scatter",
         "x": [
          3
         ],
         "y": [
          0
         ]
        },
        {
         "marker": {
          "color": "rgb(13, 125, 227)",
          "line": {
           "color": "Black",
           "width": 1
          },
          "opacity": 0.6,
          "size": 7.794411177644711
         },
         "mode": "markers+text",
         "showlegend": false,
         "text": "Finland",
         "textposition": "top center",
         "type": "scatter",
         "x": [
          57
         ],
         "y": [
          0
         ]
        },
        {
         "marker": {
          "color": "rgb(48, 56, 158)",
          "line": {
           "color": "Black",
           "width": 1
          },
          "opacity": 0.6,
          "size": 5.199600798403194
         },
         "mode": "markers+text",
         "showlegend": false,
         "text": "Gabon",
         "textposition": "top center",
         "type": "scatter",
         "x": [
          5
         ],
         "y": [
          0
         ]
        },
        {
         "marker": {
          "color": "rgb(47, 59, 161)",
          "line": {
           "color": "Black",
           "width": 1
          },
          "opacity": 0.6,
          "size": 5.349301397205589
         },
         "mode": "markers+text",
         "showlegend": false,
         "text": "Gambia",
         "textposition": "top center",
         "type": "scatter",
         "x": [
          8
         ],
         "y": [
          0
         ]
        },
        {
         "marker": {
          "color": "rgb(48, 56, 158)",
          "line": {
           "color": "Black",
           "width": 1
          },
          "opacity": 0.6,
          "size": 5.249500998003992
         },
         "mode": "markers+text",
         "showlegend": false,
         "text": "Ghana",
         "textposition": "top center",
         "type": "scatter",
         "x": [
          6
         ],
         "y": [
          0
         ]
        },
        {
         "marker": {
          "color": "rgb(45, 61, 163)",
          "line": {
           "color": "Black",
           "width": 1
          },
          "opacity": 0.6,
          "size": 5.399201596806387
         },
         "mode": "markers+text",
         "showlegend": false,
         "text": "Guam",
         "textposition": "top center",
         "type": "scatter",
         "x": [
          9
         ],
         "y": [
          0
         ]
        },
        {
         "marker": {
          "color": "rgb(47, 59, 161)",
          "line": {
           "color": "Black",
           "width": 1
          },
          "opacity": 0.6,
          "size": 5.299401197604791
         },
         "mode": "markers+text",
         "showlegend": false,
         "text": "Guinea",
         "textposition": "top center",
         "type": "scatter",
         "x": [
          7
         ],
         "y": [
          0
         ]
        },
        {
         "marker": {
          "color": "rgb(48, 56, 158)",
          "line": {
           "color": "Black",
           "width": 1
          },
          "opacity": 0.6,
          "size": 5.249500998003992
         },
         "mode": "markers+text",
         "showlegend": false,
         "text": "Guinea-Bissau",
         "textposition": "top center",
         "type": "scatter",
         "x": [
          6
         ],
         "y": [
          0
         ]
        },
        {
         "marker": {
          "color": "rgb(48, 56, 158)",
          "line": {
           "color": "Black",
           "width": 1
          },
          "opacity": 0.6,
          "size": 5.199600798403194
         },
         "mode": "markers+text",
         "showlegend": false,
         "text": "Guyana",
         "textposition": "top center",
         "type": "scatter",
         "x": [
          5
         ],
         "y": [
          0
         ]
        },
        {
         "marker": {
          "color": "rgb(44, 64, 166)",
          "line": {
           "color": "Black",
           "width": 1
          },
          "opacity": 0.6,
          "size": 5.499001996007984
         },
         "mode": "markers+text",
         "showlegend": false,
         "text": "Haiti",
         "textposition": "top center",
         "type": "scatter",
         "x": [
          11
         ],
         "y": [
          0
         ]
        },
        {
         "marker": {
          "color": "rgb(49, 53, 155)",
          "line": {
           "color": "Black",
           "width": 1
          },
          "opacity": 0.6,
          "size": 5.149700598802395
         },
         "mode": "markers+text",
         "showlegend": false,
         "text": "Honduras",
         "textposition": "top center",
         "type": "scatter",
         "x": [
          4
         ],
         "y": [
          0
         ]
        },
        {
         "marker": {
          "color": "rgb(47, 59, 161)",
          "line": {
           "color": "Black",
           "width": 1
          },
          "opacity": 0.6,
          "size": 5.299401197604791
         },
         "mode": "markers+text",
         "showlegend": false,
         "text": "Iceland",
         "textposition": "top center",
         "type": "scatter",
         "x": [
          7
         ],
         "y": [
          0
         ]
        },
        {
         "marker": {
          "color": "rgb(48, 56, 158)",
          "line": {
           "color": "Black",
           "width": 1
          },
          "opacity": 0.6,
          "size": 5.199600798403194
         },
         "mode": "markers+text",
         "showlegend": false,
         "text": "Iraq",
         "textposition": "top center",
         "type": "scatter",
         "x": [
          5
         ],
         "y": [
          0
         ]
        },
        {
         "marker": {
          "color": "rgb(49, 53, 155)",
          "line": {
           "color": "Black",
           "width": 1
          },
          "opacity": 0.6,
          "size": 5.099800399201597
         },
         "mode": "markers+text",
         "showlegend": false,
         "text": "Kiribati",
         "textposition": "top center",
         "type": "scatter",
         "x": [
          3
         ],
         "y": [
          0
         ]
        },
        {
         "marker": {
          "color": "rgb(45, 61, 163)",
          "line": {
           "color": "Black",
           "width": 1
          },
          "opacity": 0.6,
          "size": 5.399201596806387
         },
         "mode": "markers+text",
         "showlegend": false,
         "text": "Kuwait",
         "textposition": "top center",
         "type": "scatter",
         "x": [
          9
         ],
         "y": [
          0
         ]
        },
        {
         "marker": {
          "color": "rgb(49, 53, 155)",
          "line": {
           "color": "Black",
           "width": 1
          },
          "opacity": 0.6,
          "size": 5.149700598802395
         },
         "mode": "markers+text",
         "showlegend": false,
         "text": "Lao PDR",
         "textposition": "top center",
         "type": "scatter",
         "x": [
          4
         ],
         "y": [
          0
         ]
        },
        {
         "marker": {
          "color": "rgb(33, 85, 187)",
          "line": {
           "color": "Black",
           "width": 1
          },
          "opacity": 0.6,
          "size": 6.297405189620759
         },
         "mode": "markers+text",
         "showlegend": false,
         "text": "Latvia",
         "textposition": "top center",
         "type": "scatter",
         "x": [
          27
         ],
         "y": [
          0
         ]
        },
        {
         "marker": {
          "color": "rgb(45, 61, 163)",
          "line": {
           "color": "Black",
           "width": 1
          },
          "opacity": 0.6,
          "size": 5.449101796407185
         },
         "mode": "markers+text",
         "showlegend": false,
         "text": "Lebanon",
         "textposition": "top center",
         "type": "scatter",
         "x": [
          10
         ],
         "y": [
          0
         ]
        },
        {
         "marker": {
          "color": "rgb(49, 53, 155)",
          "line": {
           "color": "Black",
           "width": 1
          },
          "opacity": 0.6,
          "size": 5.099800399201597
         },
         "mode": "markers+text",
         "showlegend": false,
         "text": "Lesotho",
         "textposition": "top center",
         "type": "scatter",
         "x": [
          3
         ],
         "y": [
          0
         ]
        },
        {
         "marker": {
          "color": "rgb(48, 56, 158)",
          "line": {
           "color": "Black",
           "width": 1
          },
          "opacity": 0.6,
          "size": 5.249500998003992
         },
         "mode": "markers+text",
         "showlegend": false,
         "text": "Liberia",
         "textposition": "top center",
         "type": "scatter",
         "x": [
          6
         ],
         "y": [
          0
         ]
        },
        {
         "marker": {
          "color": "rgb(48, 56, 158)",
          "line": {
           "color": "Black",
           "width": 1
          },
          "opacity": 0.6,
          "size": 5.249500998003992
         },
         "mode": "markers+text",
         "showlegend": false,
         "text": "Libya",
         "textposition": "top center",
         "type": "scatter",
         "x": [
          6
         ],
         "y": [
          0
         ]
        },
        {
         "marker": {
          "color": "rgb(51, 51, 153)",
          "line": {
           "color": "Black",
           "width": 1
          },
          "opacity": 0.6,
          "size": 5
         },
         "mode": "markers+text",
         "showlegend": false,
         "text": "Liechtenstein",
         "textposition": "top center",
         "type": "scatter",
         "x": [
          1
         ],
         "y": [
          0
         ]
        },
        {
         "marker": {
          "color": "rgb(43, 67, 169)",
          "line": {
           "color": "Black",
           "width": 1
          },
          "opacity": 0.6,
          "size": 5.598802395209581
         },
         "mode": "markers+text",
         "showlegend": false,
         "text": "Luxembourg",
         "textposition": "top center",
         "type": "scatter",
         "x": [
          13
         ],
         "y": [
          0
         ]
        },
        {
         "marker": {
          "color": "rgb(47, 59, 161)",
          "line": {
           "color": "Black",
           "width": 1
          },
          "opacity": 0.6,
          "size": 5.299401197604791
         },
         "mode": "markers+text",
         "showlegend": false,
         "text": "Madagascar",
         "textposition": "top center",
         "type": "scatter",
         "x": [
          7
         ],
         "y": [
          0
         ]
        },
        {
         "marker": {
          "color": "rgb(49, 53, 155)",
          "line": {
           "color": "Black",
           "width": 1
          },
          "opacity": 0.6,
          "size": 5.099800399201597
         },
         "mode": "markers+text",
         "showlegend": false,
         "text": "Malawi",
         "textposition": "top center",
         "type": "scatter",
         "x": [
          3
         ],
         "y": [
          0
         ]
        },
        {
         "marker": {
          "color": "rgb(48, 56, 158)",
          "line": {
           "color": "Black",
           "width": 1
          },
          "opacity": 0.6,
          "size": 5.199600798403194
         },
         "mode": "markers+text",
         "showlegend": false,
         "text": "Maldives",
         "textposition": "top center",
         "type": "scatter",
         "x": [
          5
         ],
         "y": [
          0
         ]
        },
        {
         "marker": {
          "color": "rgb(48, 56, 158)",
          "line": {
           "color": "Black",
           "width": 1
          },
          "opacity": 0.6,
          "size": 5.249500998003992
         },
         "mode": "markers+text",
         "showlegend": false,
         "text": "Mali",
         "textposition": "top center",
         "type": "scatter",
         "x": [
          6
         ],
         "y": [
          0
         ]
        },
        {
         "marker": {
          "color": "rgb(48, 56, 158)",
          "line": {
           "color": "Black",
           "width": 1
          },
          "opacity": 0.6,
          "size": 5.199600798403194
         },
         "mode": "markers+text",
         "showlegend": false,
         "text": "Malta",
         "textposition": "top center",
         "type": "scatter",
         "x": [
          5
         ],
         "y": [
          0
         ]
        },
        {
         "marker": {
          "color": "rgb(49, 53, 155)",
          "line": {
           "color": "Black",
           "width": 1
          },
          "opacity": 0.6,
          "size": 5.149700598802395
         },
         "mode": "markers+text",
         "showlegend": false,
         "text": "Marshall Islands",
         "textposition": "top center",
         "type": "scatter",
         "x": [
          4
         ],
         "y": [
          0
         ]
        },
        {
         "marker": {
          "color": "rgb(51, 51, 153)",
          "line": {
           "color": "Black",
           "width": 1
          },
          "opacity": 0.6,
          "size": 5.049900199600798
         },
         "mode": "markers+text",
         "showlegend": false,
         "text": "Mauritania",
         "textposition": "top center",
         "type": "scatter",
         "x": [
          2
         ],
         "y": [
          0
         ]
        },
        {
         "marker": {
          "color": "rgb(44, 64, 166)",
          "line": {
           "color": "Black",
           "width": 1
          },
          "opacity": 0.6,
          "size": 5.5489021956087825
         },
         "mode": "markers+text",
         "showlegend": false,
         "text": "Mauritius",
         "textposition": "top center",
         "type": "scatter",
         "x": [
          12
         ],
         "y": [
          0
         ]
        },
        {
         "marker": {
          "color": "rgb(49, 53, 155)",
          "line": {
           "color": "Black",
           "width": 1
          },
          "opacity": 0.6,
          "size": 5.099800399201597
         },
         "mode": "markers+text",
         "showlegend": false,
         "text": "Micronesia",
         "textposition": "top center",
         "type": "scatter",
         "x": [
          3
         ],
         "y": [
          0
         ]
        },
        {
         "marker": {
          "color": "rgb(48, 56, 158)",
          "line": {
           "color": "Black",
           "width": 1
          },
          "opacity": 0.6,
          "size": 5.249500998003992
         },
         "mode": "markers+text",
         "showlegend": false,
         "text": "Monaco",
         "textposition": "top center",
         "type": "scatter",
         "x": [
          6
         ],
         "y": [
          0
         ]
        },
        {
         "marker": {
          "color": "rgb(47, 59, 161)",
          "line": {
           "color": "Black",
           "width": 1
          },
          "opacity": 0.6,
          "size": 5.299401197604791
         },
         "mode": "markers+text",
         "showlegend": false,
         "text": "Montenegro",
         "textposition": "top center",
         "type": "scatter",
         "x": [
          7
         ],
         "y": [
          0
         ]
        },
        {
         "marker": {
          "color": "rgb(47, 59, 161)",
          "line": {
           "color": "Black",
           "width": 1
          },
          "opacity": 0.6,
          "size": 5.299401197604791
         },
         "mode": "markers+text",
         "showlegend": false,
         "text": "Mozambique",
         "textposition": "top center",
         "type": "scatter",
         "x": [
          7
         ],
         "y": [
          0
         ]
        },
        {
         "marker": {
          "color": "rgb(51, 51, 153)",
          "line": {
           "color": "Black",
           "width": 1
          },
          "opacity": 0.6,
          "size": 5.049900199600798
         },
         "mode": "markers+text",
         "showlegend": false,
         "text": "Myanmar",
         "textposition": "top center",
         "type": "scatter",
         "x": [
          2
         ],
         "y": [
          0
         ]
        },
        {
         "marker": {
          "color": "rgb(49, 53, 155)",
          "line": {
           "color": "Black",
           "width": 1
          },
          "opacity": 0.6,
          "size": 5.149700598802395
         },
         "mode": "markers+text",
         "showlegend": false,
         "text": "Namibia",
         "textposition": "top center",
         "type": "scatter",
         "x": [
          4
         ],
         "y": [
          0
         ]
        },
        {
         "marker": {
          "color": "rgb(51, 51, 153)",
          "line": {
           "color": "Black",
           "width": 1
          },
          "opacity": 0.6,
          "size": 5
         },
         "mode": "markers+text",
         "showlegend": false,
         "text": "Nauru",
         "textposition": "top center",
         "type": "scatter",
         "x": [
          1
         ],
         "y": [
          0
         ]
        },
        {
         "marker": {
          "color": "rgb(47, 59, 161)",
          "line": {
           "color": "Black",
           "width": 1
          },
          "opacity": 0.6,
          "size": 5.299401197604791
         },
         "mode": "markers+text",
         "showlegend": false,
         "text": "Nepal",
         "textposition": "top center",
         "type": "scatter",
         "x": [
          7
         ],
         "y": [
          0
         ]
        },
        {
         "marker": {
          "color": "rgb(47, 59, 161)",
          "line": {
           "color": "Black",
           "width": 1
          },
          "opacity": 0.6,
          "size": 5.299401197604791
         },
         "mode": "markers+text",
         "showlegend": false,
         "text": "Nicaragua",
         "textposition": "top center",
         "type": "scatter",
         "x": [
          7
         ],
         "y": [
          0
         ]
        },
        {
         "marker": {
          "color": "rgb(47, 59, 161)",
          "line": {
           "color": "Black",
           "width": 1
          },
          "opacity": 0.6,
          "size": 5.299401197604791
         },
         "mode": "markers+text",
         "showlegend": false,
         "text": "Niger",
         "textposition": "top center",
         "type": "scatter",
         "x": [
          7
         ],
         "y": [
          0
         ]
        },
        {
         "marker": {
          "color": "rgb(16, 120, 222)",
          "line": {
           "color": "Black",
           "width": 1
          },
          "opacity": 0.6,
          "size": 7.594810379241517
         },
         "mode": "markers+text",
         "showlegend": false,
         "text": "Nigeria",
         "textposition": "top center",
         "type": "scatter",
         "x": [
          53
         ],
         "y": [
          0
         ]
        },
        {
         "marker": {
          "color": "rgb(48, 56, 158)",
          "line": {
           "color": "Black",
           "width": 1
          },
          "opacity": 0.6,
          "size": 5.249500998003992
         },
         "mode": "markers+text",
         "showlegend": false,
         "text": "North Macedonia",
         "textposition": "top center",
         "type": "scatter",
         "x": [
          6
         ],
         "y": [
          0
         ]
        },
        {
         "marker": {
          "color": "rgb(49, 53, 155)",
          "line": {
           "color": "Black",
           "width": 1
          },
          "opacity": 0.6,
          "size": 5.149700598802395
         },
         "mode": "markers+text",
         "showlegend": false,
         "text": "Oman",
         "textposition": "top center",
         "type": "scatter",
         "x": [
          4
         ],
         "y": [
          0
         ]
        },
        {
         "marker": {
          "color": "rgb(49, 53, 155)",
          "line": {
           "color": "Black",
           "width": 1
          },
          "opacity": 0.6,
          "size": 5.099800399201597
         },
         "mode": "markers+text",
         "showlegend": false,
         "text": "Palau",
         "textposition": "top center",
         "type": "scatter",
         "x": [
          3
         ],
         "y": [
          0
         ]
        },
        {
         "marker": {
          "color": "rgb(47, 59, 161)",
          "line": {
           "color": "Black",
           "width": 1
          },
          "opacity": 0.6,
          "size": 5.349301397205589
         },
         "mode": "markers+text",
         "showlegend": false,
         "text": "Palestine",
         "textposition": "top center",
         "type": "scatter",
         "x": [
          8
         ],
         "y": [
          0
         ]
        },
        {
         "marker": {
          "color": "rgb(47, 59, 161)",
          "line": {
           "color": "Black",
           "width": 1
          },
          "opacity": 0.6,
          "size": 5.299401197604791
         },
         "mode": "markers+text",
         "showlegend": false,
         "text": "Papua New Guinea",
         "textposition": "top center",
         "type": "scatter",
         "x": [
          7
         ],
         "y": [
          0
         ]
        },
        {
         "marker": {
          "color": "rgb(45, 61, 163)",
          "line": {
           "color": "Black",
           "width": 1
          },
          "opacity": 0.6,
          "size": 5.449101796407185
         },
         "mode": "markers+text",
         "showlegend": false,
         "text": "Paraguay",
         "textposition": "top center",
         "type": "scatter",
         "x": [
          10
         ],
         "y": [
          0
         ]
        },
        {
         "marker": {
          "color": "rgb(47, 59, 161)",
          "line": {
           "color": "Black",
           "width": 1
          },
          "opacity": 0.6,
          "size": 5.349301397205589
         },
         "mode": "markers+text",
         "showlegend": false,
         "text": "Rwanda",
         "textposition": "top center",
         "type": "scatter",
         "x": [
          8
         ],
         "y": [
          0
         ]
        },
        {
         "marker": {
          "color": "rgb(43, 67, 169)",
          "line": {
           "color": "Black",
           "width": 1
          },
          "opacity": 0.6,
          "size": 5.598802395209581
         },
         "mode": "markers+text",
         "showlegend": false,
         "text": "Samoa",
         "textposition": "top center",
         "type": "scatter",
         "x": [
          13
         ],
         "y": [
          0
         ]
        },
        {
         "marker": {
          "color": "rgb(48, 56, 158)",
          "line": {
           "color": "Black",
           "width": 1
          },
          "opacity": 0.6,
          "size": 5.199600798403194
         },
         "mode": "markers+text",
         "showlegend": false,
         "text": "San Marino",
         "textposition": "top center",
         "type": "scatter",
         "x": [
          5
         ],
         "y": [
          0
         ]
        },
        {
         "marker": {
          "color": "rgb(49, 53, 155)",
          "line": {
           "color": "Black",
           "width": 1
          },
          "opacity": 0.6,
          "size": 5.099800399201597
         },
         "mode": "markers+text",
         "showlegend": false,
         "text": "Sao Tome & Principe",
         "textposition": "top center",
         "type": "scatter",
         "x": [
          3
         ],
         "y": [
          0
         ]
        },
        {
         "marker": {
          "color": "rgb(45, 61, 163)",
          "line": {
           "color": "Black",
           "width": 1
          },
          "opacity": 0.6,
          "size": 5.399201596806387
         },
         "mode": "markers+text",
         "showlegend": false,
         "text": "Saudi Arabia",
         "textposition": "top center",
         "type": "scatter",
         "x": [
          9
         ],
         "y": [
          0
         ]
        },
        {
         "marker": {
          "color": "rgb(43, 67, 169)",
          "line": {
           "color": "Black",
           "width": 1
          },
          "opacity": 0.6,
          "size": 5.598802395209581
         },
         "mode": "markers+text",
         "showlegend": false,
         "text": "Senegal",
         "textposition": "top center",
         "type": "scatter",
         "x": [
          13
         ],
         "y": [
          0
         ]
        },
        {
         "marker": {
          "color": "rgb(49, 53, 155)",
          "line": {
           "color": "Black",
           "width": 1
          },
          "opacity": 0.6,
          "size": 5.099800399201597
         },
         "mode": "markers+text",
         "showlegend": false,
         "text": "Seychelles",
         "textposition": "top center",
         "type": "scatter",
         "x": [
          3
         ],
         "y": [
          0
         ]
        },
        {
         "marker": {
          "color": "rgb(49, 53, 155)",
          "line": {
           "color": "Black",
           "width": 1
          },
          "opacity": 0.6,
          "size": 5.149700598802395
         },
         "mode": "markers+text",
         "showlegend": false,
         "text": "Sierra Leone",
         "textposition": "top center",
         "type": "scatter",
         "x": [
          4
         ],
         "y": [
          0
         ]
        },
        {
         "marker": {
          "color": "rgb(51, 51, 153)",
          "line": {
           "color": "Black",
           "width": 1
          },
          "opacity": 0.6,
          "size": 5.049900199600798
         },
         "mode": "markers+text",
         "showlegend": false,
         "text": "Solomon Islands",
         "textposition": "top center",
         "type": "scatter",
         "x": [
          2
         ],
         "y": [
          0
         ]
        },
        {
         "marker": {
          "color": "rgb(51, 51, 153)",
          "line": {
           "color": "Black",
           "width": 1
          },
          "opacity": 0.6,
          "size": 5
         },
         "mode": "markers+text",
         "showlegend": false,
         "text": "Somalia",
         "textposition": "top center",
         "type": "scatter",
         "x": [
          1
         ],
         "y": [
          0
         ]
        },
        {
         "marker": {
          "color": "rgb(49, 53, 155)",
          "line": {
           "color": "Black",
           "width": 1
          },
          "opacity": 0.6,
          "size": 5.099800399201597
         },
         "mode": "markers+text",
         "showlegend": false,
         "text": "South Sudan",
         "textposition": "top center",
         "type": "scatter",
         "x": [
          3
         ],
         "y": [
          0
         ]
        },
        {
         "marker": {
          "color": "rgb(48, 56, 158)",
          "line": {
           "color": "Black",
           "width": 1
          },
          "opacity": 0.6,
          "size": 5.249500998003992
         },
         "mode": "markers+text",
         "showlegend": false,
         "text": "Sri Lanka",
         "textposition": "top center",
         "type": "scatter",
         "x": [
          6
         ],
         "y": [
          0
         ]
        },
        {
         "marker": {
          "color": "rgb(49, 53, 155)",
          "line": {
           "color": "Black",
           "width": 1
          },
          "opacity": 0.6,
          "size": 5.099800399201597
         },
         "mode": "markers+text",
         "showlegend": false,
         "text": "St Kitts and Nevis",
         "textposition": "top center",
         "type": "scatter",
         "x": [
          3
         ],
         "y": [
          0
         ]
        },
        {
         "marker": {
          "color": "rgb(49, 53, 155)",
          "line": {
           "color": "Black",
           "width": 1
          },
          "opacity": 0.6,
          "size": 5.149700598802395
         },
         "mode": "markers+text",
         "showlegend": false,
         "text": "StVincent&Grenadines",
         "textposition": "top center",
         "type": "scatter",
         "x": [
          4
         ],
         "y": [
          0
         ]
        },
        {
         "marker": {
          "color": "rgb(49, 53, 155)",
          "line": {
           "color": "Black",
           "width": 1
          },
          "opacity": 0.6,
          "size": 5.149700598802395
         },
         "mode": "markers+text",
         "showlegend": false,
         "text": "Sudan",
         "textposition": "top center",
         "type": "scatter",
         "x": [
          4
         ],
         "y": [
          0
         ]
        },
        {
         "marker": {
          "color": "rgb(48, 56, 158)",
          "line": {
           "color": "Black",
           "width": 1
          },
          "opacity": 0.6,
          "size": 5.249500998003992
         },
         "mode": "markers+text",
         "showlegend": false,
         "text": "Suriname",
         "textposition": "top center",
         "type": "scatter",
         "x": [
          6
         ],
         "y": [
          0
         ]
        },
        {
         "marker": {
          "color": "rgb(45, 61, 163)",
          "line": {
           "color": "Black",
           "width": 1
          },
          "opacity": 0.6,
          "size": 5.399201596806387
         },
         "mode": "markers+text",
         "showlegend": false,
         "text": "Syria",
         "textposition": "top center",
         "type": "scatter",
         "x": [
          9
         ],
         "y": [
          0
         ]
        },
        {
         "marker": {
          "color": "rgb(47, 59, 161)",
          "line": {
           "color": "Black",
           "width": 1
          },
          "opacity": 0.6,
          "size": 5.299401197604791
         },
         "mode": "markers+text",
         "showlegend": false,
         "text": "Tanzania",
         "textposition": "top center",
         "type": "scatter",
         "x": [
          7
         ],
         "y": [
          0
         ]
        },
        {
         "marker": {
          "color": "rgb(49, 53, 155)",
          "line": {
           "color": "Black",
           "width": 1
          },
          "opacity": 0.6,
          "size": 5.149700598802395
         },
         "mode": "markers+text",
         "showlegend": false,
         "text": "Timor-Leste",
         "textposition": "top center",
         "type": "scatter",
         "x": [
          4
         ],
         "y": [
          0
         ]
        },
        {
         "marker": {
          "color": "rgb(48, 56, 158)",
          "line": {
           "color": "Black",
           "width": 1
          },
          "opacity": 0.6,
          "size": 5.199600798403194
         },
         "mode": "markers+text",
         "showlegend": false,
         "text": "Togo",
         "textposition": "top center",
         "type": "scatter",
         "x": [
          5
         ],
         "y": [
          0
         ]
        },
        {
         "marker": {
          "color": "rgb(49, 53, 155)",
          "line": {
           "color": "Black",
           "width": 1
          },
          "opacity": 0.6,
          "size": 5.149700598802395
         },
         "mode": "markers+text",
         "showlegend": false,
         "text": "Tonga",
         "textposition": "top center",
         "type": "scatter",
         "x": [
          4
         ],
         "y": [
          0
         ]
        },
        {
         "marker": {
          "color": "rgb(41, 69, 171)",
          "line": {
           "color": "Black",
           "width": 1
          },
          "opacity": 0.6,
          "size": 5.698602794411178
         },
         "mode": "markers+text",
         "showlegend": false,
         "text": "Trinidad and Tobago",
         "textposition": "top center",
         "type": "scatter",
         "x": [
          15
         ],
         "y": [
          0
         ]
        },
        {
         "marker": {
          "color": "rgb(48, 56, 158)",
          "line": {
           "color": "Black",
           "width": 1
          },
          "opacity": 0.6,
          "size": 5.249500998003992
         },
         "mode": "markers+text",
         "showlegend": false,
         "text": "Turkmenistan",
         "textposition": "top center",
         "type": "scatter",
         "x": [
          6
         ],
         "y": [
          0
         ]
        },
        {
         "marker": {
          "color": "rgb(51, 51, 153)",
          "line": {
           "color": "Black",
           "width": 1
          },
          "opacity": 0.6,
          "size": 5.049900199600798
         },
         "mode": "markers+text",
         "showlegend": false,
         "text": "Tuvalu",
         "textposition": "top center",
         "type": "scatter",
         "x": [
          2
         ],
         "y": [
          0
         ]
        },
        {
         "marker": {
          "color": "rgb(43, 67, 169)",
          "line": {
           "color": "Black",
           "width": 1
          },
          "opacity": 0.6,
          "size": 5.648702594810379
         },
         "mode": "markers+text",
         "showlegend": false,
         "text": "UA Emirates",
         "textposition": "top center",
         "type": "scatter",
         "x": [
          14
         ],
         "y": [
          0
         ]
        },
        {
         "marker": {
          "color": "rgb(43, 67, 169)",
          "line": {
           "color": "Black",
           "width": 1
          },
          "opacity": 0.6,
          "size": 5.598802395209581
         },
         "mode": "markers+text",
         "showlegend": false,
         "text": "Uruguay",
         "textposition": "top center",
         "type": "scatter",
         "x": [
          13
         ],
         "y": [
          0
         ]
        },
        {
         "marker": {
          "color": "rgb(48, 56, 158)",
          "line": {
           "color": "Black",
           "width": 1
          },
          "opacity": 0.6,
          "size": 5.249500998003992
         },
         "mode": "markers+text",
         "showlegend": false,
         "text": "Vanuatu",
         "textposition": "top center",
         "type": "scatter",
         "x": [
          6
         ],
         "y": [
          0
         ]
        },
        {
         "marker": {
          "color": "rgb(29, 93, 195)",
          "line": {
           "color": "Black",
           "width": 1
          },
          "opacity": 0.6,
          "size": 6.6467065868263475
         },
         "mode": "markers+text",
         "showlegend": false,
         "text": "Venezuela",
         "textposition": "top center",
         "type": "scatter",
         "x": [
          34
         ],
         "y": [
          0
         ]
        },
        {
         "marker": {
          "color": "rgb(39, 75, 177)",
          "line": {
           "color": "Black",
           "width": 1
          },
          "opacity": 0.6,
          "size": 5.8982035928143715
         },
         "mode": "markers+text",
         "showlegend": false,
         "text": "Vietnam",
         "textposition": "top center",
         "type": "scatter",
         "x": [
          19
         ],
         "y": [
          0
         ]
        },
        {
         "marker": {
          "color": "rgb(49, 53, 155)",
          "line": {
           "color": "Black",
           "width": 1
          },
          "opacity": 0.6,
          "size": 5.149700598802395
         },
         "mode": "markers+text",
         "showlegend": false,
         "text": "Virgin Islands, B",
         "textposition": "top center",
         "type": "scatter",
         "x": [
          4
         ],
         "y": [
          0
         ]
        },
        {
         "marker": {
          "color": "rgb(48, 56, 158)",
          "line": {
           "color": "Black",
           "width": 1
          },
          "opacity": 0.6,
          "size": 5.199600798403194
         },
         "mode": "markers+text",
         "showlegend": false,
         "text": "Virgin Islands, US",
         "textposition": "top center",
         "type": "scatter",
         "x": [
          5
         ],
         "y": [
          0
         ]
        },
        {
         "marker": {
          "color": "rgb(49, 53, 155)",
          "line": {
           "color": "Black",
           "width": 1
          },
          "opacity": 0.6,
          "size": 5.149700598802395
         },
         "mode": "markers+text",
         "showlegend": false,
         "text": "Yemen",
         "textposition": "top center",
         "type": "scatter",
         "x": [
          4
         ],
         "y": [
          0
         ]
        },
        {
         "marker": {
          "color": "rgb(47, 59, 161)",
          "line": {
           "color": "Black",
           "width": 1
          },
          "opacity": 0.6,
          "size": 5.299401197604791
         },
         "mode": "markers+text",
         "showlegend": false,
         "text": "Zimbabwe",
         "textposition": "top center",
         "type": "scatter",
         "x": [
          7
         ],
         "y": [
          0
         ]
        }
       ],
       "layout": {
        "height": 800,
        "margin": {
         "b": 40,
         "l": 40,
         "r": 40,
         "t": 40
        },
        "template": {
         "data": {
          "bar": [
           {
            "error_x": {
             "color": "#2a3f5f"
            },
            "error_y": {
             "color": "#2a3f5f"
            },
            "marker": {
             "line": {
              "color": "#E5ECF6",
              "width": 0.5
             },
             "pattern": {
              "fillmode": "overlay",
              "size": 10,
              "solidity": 0.2
             }
            },
            "type": "bar"
           }
          ],
          "barpolar": [
           {
            "marker": {
             "line": {
              "color": "#E5ECF6",
              "width": 0.5
             },
             "pattern": {
              "fillmode": "overlay",
              "size": 10,
              "solidity": 0.2
             }
            },
            "type": "barpolar"
           }
          ],
          "carpet": [
           {
            "aaxis": {
             "endlinecolor": "#2a3f5f",
             "gridcolor": "white",
             "linecolor": "white",
             "minorgridcolor": "white",
             "startlinecolor": "#2a3f5f"
            },
            "baxis": {
             "endlinecolor": "#2a3f5f",
             "gridcolor": "white",
             "linecolor": "white",
             "minorgridcolor": "white",
             "startlinecolor": "#2a3f5f"
            },
            "type": "carpet"
           }
          ],
          "choropleth": [
           {
            "colorbar": {
             "outlinewidth": 0,
             "ticks": ""
            },
            "type": "choropleth"
           }
          ],
          "contour": [
           {
            "colorbar": {
             "outlinewidth": 0,
             "ticks": ""
            },
            "colorscale": [
             [
              0,
              "#0d0887"
             ],
             [
              0.1111111111111111,
              "#46039f"
             ],
             [
              0.2222222222222222,
              "#7201a8"
             ],
             [
              0.3333333333333333,
              "#9c179e"
             ],
             [
              0.4444444444444444,
              "#bd3786"
             ],
             [
              0.5555555555555556,
              "#d8576b"
             ],
             [
              0.6666666666666666,
              "#ed7953"
             ],
             [
              0.7777777777777778,
              "#fb9f3a"
             ],
             [
              0.8888888888888888,
              "#fdca26"
             ],
             [
              1,
              "#f0f921"
             ]
            ],
            "type": "contour"
           }
          ],
          "contourcarpet": [
           {
            "colorbar": {
             "outlinewidth": 0,
             "ticks": ""
            },
            "type": "contourcarpet"
           }
          ],
          "heatmap": [
           {
            "colorbar": {
             "outlinewidth": 0,
             "ticks": ""
            },
            "colorscale": [
             [
              0,
              "#0d0887"
             ],
             [
              0.1111111111111111,
              "#46039f"
             ],
             [
              0.2222222222222222,
              "#7201a8"
             ],
             [
              0.3333333333333333,
              "#9c179e"
             ],
             [
              0.4444444444444444,
              "#bd3786"
             ],
             [
              0.5555555555555556,
              "#d8576b"
             ],
             [
              0.6666666666666666,
              "#ed7953"
             ],
             [
              0.7777777777777778,
              "#fb9f3a"
             ],
             [
              0.8888888888888888,
              "#fdca26"
             ],
             [
              1,
              "#f0f921"
             ]
            ],
            "type": "heatmap"
           }
          ],
          "heatmapgl": [
           {
            "colorbar": {
             "outlinewidth": 0,
             "ticks": ""
            },
            "colorscale": [
             [
              0,
              "#0d0887"
             ],
             [
              0.1111111111111111,
              "#46039f"
             ],
             [
              0.2222222222222222,
              "#7201a8"
             ],
             [
              0.3333333333333333,
              "#9c179e"
             ],
             [
              0.4444444444444444,
              "#bd3786"
             ],
             [
              0.5555555555555556,
              "#d8576b"
             ],
             [
              0.6666666666666666,
              "#ed7953"
             ],
             [
              0.7777777777777778,
              "#fb9f3a"
             ],
             [
              0.8888888888888888,
              "#fdca26"
             ],
             [
              1,
              "#f0f921"
             ]
            ],
            "type": "heatmapgl"
           }
          ],
          "histogram": [
           {
            "marker": {
             "pattern": {
              "fillmode": "overlay",
              "size": 10,
              "solidity": 0.2
             }
            },
            "type": "histogram"
           }
          ],
          "histogram2d": [
           {
            "colorbar": {
             "outlinewidth": 0,
             "ticks": ""
            },
            "colorscale": [
             [
              0,
              "#0d0887"
             ],
             [
              0.1111111111111111,
              "#46039f"
             ],
             [
              0.2222222222222222,
              "#7201a8"
             ],
             [
              0.3333333333333333,
              "#9c179e"
             ],
             [
              0.4444444444444444,
              "#bd3786"
             ],
             [
              0.5555555555555556,
              "#d8576b"
             ],
             [
              0.6666666666666666,
              "#ed7953"
             ],
             [
              0.7777777777777778,
              "#fb9f3a"
             ],
             [
              0.8888888888888888,
              "#fdca26"
             ],
             [
              1,
              "#f0f921"
             ]
            ],
            "type": "histogram2d"
           }
          ],
          "histogram2dcontour": [
           {
            "colorbar": {
             "outlinewidth": 0,
             "ticks": ""
            },
            "colorscale": [
             [
              0,
              "#0d0887"
             ],
             [
              0.1111111111111111,
              "#46039f"
             ],
             [
              0.2222222222222222,
              "#7201a8"
             ],
             [
              0.3333333333333333,
              "#9c179e"
             ],
             [
              0.4444444444444444,
              "#bd3786"
             ],
             [
              0.5555555555555556,
              "#d8576b"
             ],
             [
              0.6666666666666666,
              "#ed7953"
             ],
             [
              0.7777777777777778,
              "#fb9f3a"
             ],
             [
              0.8888888888888888,
              "#fdca26"
             ],
             [
              1,
              "#f0f921"
             ]
            ],
            "type": "histogram2dcontour"
           }
          ],
          "mesh3d": [
           {
            "colorbar": {
             "outlinewidth": 0,
             "ticks": ""
            },
            "type": "mesh3d"
           }
          ],
          "parcoords": [
           {
            "line": {
             "colorbar": {
              "outlinewidth": 0,
              "ticks": ""
             }
            },
            "type": "parcoords"
           }
          ],
          "pie": [
           {
            "automargin": true,
            "type": "pie"
           }
          ],
          "scatter": [
           {
            "fillpattern": {
             "fillmode": "overlay",
             "size": 10,
             "solidity": 0.2
            },
            "type": "scatter"
           }
          ],
          "scatter3d": [
           {
            "line": {
             "colorbar": {
              "outlinewidth": 0,
              "ticks": ""
             }
            },
            "marker": {
             "colorbar": {
              "outlinewidth": 0,
              "ticks": ""
             }
            },
            "type": "scatter3d"
           }
          ],
          "scattercarpet": [
           {
            "marker": {
             "colorbar": {
              "outlinewidth": 0,
              "ticks": ""
             }
            },
            "type": "scattercarpet"
           }
          ],
          "scattergeo": [
           {
            "marker": {
             "colorbar": {
              "outlinewidth": 0,
              "ticks": ""
             }
            },
            "type": "scattergeo"
           }
          ],
          "scattergl": [
           {
            "marker": {
             "colorbar": {
              "outlinewidth": 0,
              "ticks": ""
             }
            },
            "type": "scattergl"
           }
          ],
          "scattermapbox": [
           {
            "marker": {
             "colorbar": {
              "outlinewidth": 0,
              "ticks": ""
             }
            },
            "type": "scattermapbox"
           }
          ],
          "scatterpolar": [
           {
            "marker": {
             "colorbar": {
              "outlinewidth": 0,
              "ticks": ""
             }
            },
            "type": "scatterpolar"
           }
          ],
          "scatterpolargl": [
           {
            "marker": {
             "colorbar": {
              "outlinewidth": 0,
              "ticks": ""
             }
            },
            "type": "scatterpolargl"
           }
          ],
          "scatterternary": [
           {
            "marker": {
             "colorbar": {
              "outlinewidth": 0,
              "ticks": ""
             }
            },
            "type": "scatterternary"
           }
          ],
          "surface": [
           {
            "colorbar": {
             "outlinewidth": 0,
             "ticks": ""
            },
            "colorscale": [
             [
              0,
              "#0d0887"
             ],
             [
              0.1111111111111111,
              "#46039f"
             ],
             [
              0.2222222222222222,
              "#7201a8"
             ],
             [
              0.3333333333333333,
              "#9c179e"
             ],
             [
              0.4444444444444444,
              "#bd3786"
             ],
             [
              0.5555555555555556,
              "#d8576b"
             ],
             [
              0.6666666666666666,
              "#ed7953"
             ],
             [
              0.7777777777777778,
              "#fb9f3a"
             ],
             [
              0.8888888888888888,
              "#fdca26"
             ],
             [
              1,
              "#f0f921"
             ]
            ],
            "type": "surface"
           }
          ],
          "table": [
           {
            "cells": {
             "fill": {
              "color": "#EBF0F8"
             },
             "line": {
              "color": "white"
             }
            },
            "header": {
             "fill": {
              "color": "#C8D4E3"
             },
             "line": {
              "color": "white"
             }
            },
            "type": "table"
           }
          ]
         },
         "layout": {
          "annotationdefaults": {
           "arrowcolor": "#2a3f5f",
           "arrowhead": 0,
           "arrowwidth": 1
          },
          "autotypenumbers": "strict",
          "coloraxis": {
           "colorbar": {
            "outlinewidth": 0,
            "ticks": ""
           }
          },
          "colorscale": {
           "diverging": [
            [
             0,
             "#8e0152"
            ],
            [
             0.1,
             "#c51b7d"
            ],
            [
             0.2,
             "#de77ae"
            ],
            [
             0.3,
             "#f1b6da"
            ],
            [
             0.4,
             "#fde0ef"
            ],
            [
             0.5,
             "#f7f7f7"
            ],
            [
             0.6,
             "#e6f5d0"
            ],
            [
             0.7,
             "#b8e186"
            ],
            [
             0.8,
             "#7fbc41"
            ],
            [
             0.9,
             "#4d9221"
            ],
            [
             1,
             "#276419"
            ]
           ],
           "sequential": [
            [
             0,
             "#0d0887"
            ],
            [
             0.1111111111111111,
             "#46039f"
            ],
            [
             0.2222222222222222,
             "#7201a8"
            ],
            [
             0.3333333333333333,
             "#9c179e"
            ],
            [
             0.4444444444444444,
             "#bd3786"
            ],
            [
             0.5555555555555556,
             "#d8576b"
            ],
            [
             0.6666666666666666,
             "#ed7953"
            ],
            [
             0.7777777777777778,
             "#fb9f3a"
            ],
            [
             0.8888888888888888,
             "#fdca26"
            ],
            [
             1,
             "#f0f921"
            ]
           ],
           "sequentialminus": [
            [
             0,
             "#0d0887"
            ],
            [
             0.1111111111111111,
             "#46039f"
            ],
            [
             0.2222222222222222,
             "#7201a8"
            ],
            [
             0.3333333333333333,
             "#9c179e"
            ],
            [
             0.4444444444444444,
             "#bd3786"
            ],
            [
             0.5555555555555556,
             "#d8576b"
            ],
            [
             0.6666666666666666,
             "#ed7953"
            ],
            [
             0.7777777777777778,
             "#fb9f3a"
            ],
            [
             0.8888888888888888,
             "#fdca26"
            ],
            [
             1,
             "#f0f921"
            ]
           ]
          },
          "colorway": [
           "#636efa",
           "#EF553B",
           "#00cc96",
           "#ab63fa",
           "#FFA15A",
           "#19d3f3",
           "#FF6692",
           "#B6E880",
           "#FF97FF",
           "#FECB52"
          ],
          "font": {
           "color": "#2a3f5f"
          },
          "geo": {
           "bgcolor": "white",
           "lakecolor": "white",
           "landcolor": "#E5ECF6",
           "showlakes": true,
           "showland": true,
           "subunitcolor": "white"
          },
          "hoverlabel": {
           "align": "left"
          },
          "hovermode": "closest",
          "mapbox": {
           "style": "light"
          },
          "paper_bgcolor": "white",
          "plot_bgcolor": "#E5ECF6",
          "polar": {
           "angularaxis": {
            "gridcolor": "white",
            "linecolor": "white",
            "ticks": ""
           },
           "bgcolor": "#E5ECF6",
           "radialaxis": {
            "gridcolor": "white",
            "linecolor": "white",
            "ticks": ""
           }
          },
          "scene": {
           "xaxis": {
            "backgroundcolor": "#E5ECF6",
            "gridcolor": "white",
            "gridwidth": 2,
            "linecolor": "white",
            "showbackground": true,
            "ticks": "",
            "zerolinecolor": "white"
           },
           "yaxis": {
            "backgroundcolor": "#E5ECF6",
            "gridcolor": "white",
            "gridwidth": 2,
            "linecolor": "white",
            "showbackground": true,
            "ticks": "",
            "zerolinecolor": "white"
           },
           "zaxis": {
            "backgroundcolor": "#E5ECF6",
            "gridcolor": "white",
            "gridwidth": 2,
            "linecolor": "white",
            "showbackground": true,
            "ticks": "",
            "zerolinecolor": "white"
           }
          },
          "shapedefaults": {
           "line": {
            "color": "#2a3f5f"
           }
          },
          "ternary": {
           "aaxis": {
            "gridcolor": "white",
            "linecolor": "white",
            "ticks": ""
           },
           "baxis": {
            "gridcolor": "white",
            "linecolor": "white",
            "ticks": ""
           },
           "bgcolor": "#E5ECF6",
           "caxis": {
            "gridcolor": "white",
            "linecolor": "white",
            "ticks": ""
           }
          },
          "title": {
           "x": 0.05
          },
          "xaxis": {
           "automargin": true,
           "gridcolor": "white",
           "linecolor": "white",
           "ticks": "",
           "title": {
            "standoff": 15
           },
           "zerolinecolor": "white",
           "zerolinewidth": 2
          },
          "yaxis": {
           "automargin": true,
           "gridcolor": "white",
           "linecolor": "white",
           "ticks": "",
           "title": {
            "standoff": 15
           },
           "zerolinecolor": "white",
           "zerolinewidth": 2
          }
         }
        },
        "title": {
         "text": "Weighted Medal Wins vs Chances"
        },
        "width": 800,
        "xaxis": {
         "dtick": 20,
         "gridcolor": "LightGray",
         "gridwidth": 0.5,
         "title": {
          "standoff": 10,
          "text": "Medal Chances"
         },
         "zeroline": true,
         "zerolinecolor": "Gray",
         "zerolinewidth": 2
        },
        "yaxis": {
         "dtick": 10,
         "gridcolor": "LightGray",
         "gridwidth": 0.5,
         "title": {
          "standoff": 10,
          "text": "Weighted Medal Wins (Gold = 2, Silver = 1.5, Bronze = 1)"
         },
         "zeroline": true,
         "zerolinecolor": "Gray",
         "zerolinewidth": 2
        }
       }
      }
     },
     "metadata": {},
     "output_type": "display_data"
    }
   ],
   "source": [
    "# Setup\n",
    "config = {\n",
    "    # Data\n",
    "    \"name_col\": \"country\",\n",
    "    \"size_col\": \"entries\",\n",
    "    \"color_col\": \"entries\",\n",
    "    \"x_axis_col\": \"entries\",\n",
    "    \"y_axis_col\": \"total_medals_weighted\",\n",
    "    # Labels\n",
    "    \"title\": \"Weighted Medal Wins vs Chances\",\n",
    "    \"x_axis_title\": \"Medal Chances\",\n",
    "    \"y_axis_title\": \"Weighted Medal Wins (Gold = 2, Silver = 1.5, Bronze = 1)\",\n",
    "    # Formatting\n",
    "    \"min_point_size\": 5,\n",
    "    \"max_point_size\": 30,\n",
    "    \"x_axis_dtick\": 20,\n",
    "    \"y_axis_dtick\": 10,\n",
    "    \"width\": 800,\n",
    "    \"height\": 800\n",
    "}\n",
    "\n",
    "# Plot and save html version\n",
    "fig = plotly_scatter_v1(rate_df, config)\n",
    "fig.write_html(\"md/olympic_medals/weighted_medal_wins_vs_chances.html\")\n"
   ]
  },
  {
   "cell_type": "markdown",
   "metadata": {},
   "source": [
    "#### 3.3 Medal Rate vs Chances"
   ]
  },
  {
   "cell_type": "code",
   "execution_count": 110,
   "metadata": {},
   "outputs": [
    {
     "data": {
      "application/vnd.plotly.v1+json": {
       "config": {
        "plotlyServerURL": "https://plot.ly"
       },
       "data": [
        {
         "marker": {
          "color": "rgb(48, 56, 158)",
          "line": {
           "color": "Black",
           "width": 1
          },
          "opacity": 0.6,
          "size": 5.199600798403194
         },
         "mode": "markers+text",
         "showlegend": false,
         "text": "Saint Lucia",
         "textposition": "top center",
         "type": "scatter",
         "x": [
          5
         ],
         "y": [
          0.4
         ]
        },
        {
         "marker": {
          "color": "rgb(49, 53, 155)",
          "line": {
           "color": "Black",
           "width": 1
          },
          "opacity": 0.6,
          "size": 5.149700598802395
         },
         "mode": "markers+text",
         "showlegend": false,
         "text": "Dominica",
         "textposition": "top center",
         "type": "scatter",
         "x": [
          4
         ],
         "y": [
          0.25
         ]
        },
        {
         "marker": {
          "color": "rgb(41, 69, 171)",
          "line": {
           "color": "Black",
           "width": 1
          },
          "opacity": 0.6,
          "size": 5.698602794411178
         },
         "mode": "markers+text",
         "showlegend": false,
         "text": "DPR Korea",
         "textposition": "top center",
         "type": "scatter",
         "x": [
          15
         ],
         "y": [
          0.4
         ]
        },
        {
         "marker": {
          "color": "rgb(24, 104, 206)",
          "line": {
           "color": "Black",
           "width": 1
          },
          "opacity": 0.6,
          "size": 6.996007984031936
         },
         "mode": "markers+text",
         "showlegend": false,
         "text": "IR Iran",
         "textposition": "top center",
         "type": "scatter",
         "x": [
          41
         ],
         "y": [
          0.2926829268292683
         ]
        },
        {
         "marker": {
          "color": "rgb(41, 69, 171)",
          "line": {
           "color": "Black",
           "width": 1
          },
          "opacity": 0.6,
          "size": 5.698602794411178
         },
         "mode": "markers+text",
         "showlegend": false,
         "text": "Bahrain",
         "textposition": "top center",
         "type": "scatter",
         "x": [
          15
         ],
         "y": [
          0.26666666666666666
         ]
        },
        {
         "marker": {
          "color": "rgb(40, 72, 174)",
          "line": {
           "color": "Black",
           "width": 1
          },
          "opacity": 0.6,
          "size": 5.798403193612774
         },
         "mode": "markers+text",
         "showlegend": false,
         "text": "Kyrgyzstan",
         "textposition": "top center",
         "type": "scatter",
         "x": [
          17
         ],
         "y": [
          0.35294117647058826
         ]
        },
        {
         "marker": {
          "color": "rgb(130, 95, 85)",
          "line": {
           "color": "Black",
           "width": 1
          },
          "opacity": 0.6,
          "size": 23.562874251497004
         },
         "mode": "markers+text",
         "showlegend": false,
         "text": "China",
         "textposition": "top center",
         "type": "scatter",
         "x": [
          373
         ],
         "y": [
          0.24396782841823056
         ]
        },
        {
         "marker": {
          "color": "rgb(32, 88, 190)",
          "line": {
           "color": "Black",
           "width": 1
          },
          "opacity": 0.6,
          "size": 6.447105788423154
         },
         "mode": "markers+text",
         "showlegend": false,
         "text": "Georgia",
         "textposition": "top center",
         "type": "scatter",
         "x": [
          30
         ],
         "y": [
          0.23333333333333334
         ]
        },
        {
         "marker": {
          "color": "rgb(255, 255, 255)",
          "line": {
           "color": "Black",
           "width": 1
          },
          "opacity": 0.6,
          "size": 30
         },
         "mode": "markers+text",
         "showlegend": false,
         "text": "United States",
         "textposition": "top center",
         "type": "scatter",
         "x": [
          502
         ],
         "y": [
          0.250996015936255
         ]
        },
        {
         "marker": {
          "color": "rgb(41, 69, 171)",
          "line": {
           "color": "Black",
           "width": 1
          },
          "opacity": 0.6,
          "size": 5.698602794411178
         },
         "mode": "markers+text",
         "showlegend": false,
         "text": "Armenia",
         "textposition": "top center",
         "type": "scatter",
         "x": [
          15
         ],
         "y": [
          0.26666666666666666
         ]
        },
        {
         "marker": {
          "color": "rgb(48, 56, 158)",
          "line": {
           "color": "Black",
           "width": 1
          },
          "opacity": 0.6,
          "size": 5.249500998003992
         },
         "mode": "markers+text",
         "showlegend": false,
         "text": "Grenada",
         "textposition": "top center",
         "type": "scatter",
         "x": [
          6
         ],
         "y": [
          0.3333333333333333
         ]
        },
        {
         "marker": {
          "color": "rgb(19, 115, 217)",
          "line": {
           "color": "Black",
           "width": 1
          },
          "opacity": 0.6,
          "size": 7.345309381237525
         },
         "mode": "markers+text",
         "showlegend": false,
         "text": "Kenya",
         "textposition": "top center",
         "type": "scatter",
         "x": [
          48
         ],
         "y": [
          0.22916666666666666
         ]
        },
        {
         "marker": {
          "color": "rgb(72, 218, 116)",
          "line": {
           "color": "Black",
           "width": 1
          },
          "opacity": 0.6,
          "size": 13.08383233532934
         },
         "mode": "markers+text",
         "showlegend": false,
         "text": "Korea",
         "textposition": "top center",
         "type": "scatter",
         "x": [
          163
         ],
         "y": [
          0.19631901840490798
         ]
        },
        {
         "marker": {
          "color": "rgb(0, 154, 250)",
          "line": {
           "color": "Black",
           "width": 1
          },
          "opacity": 0.6,
          "size": 8.892215568862277
         },
         "mode": "markers+text",
         "showlegend": false,
         "text": "Uzbekistan",
         "textposition": "top center",
         "type": "scatter",
         "x": [
          79
         ],
         "y": [
          0.16455696202531644
         ]
        },
        {
         "marker": {
          "color": "rgb(45, 61, 163)",
          "line": {
           "color": "Black",
           "width": 1
          },
          "opacity": 0.6,
          "size": 5.399201596806387
         },
         "mode": "markers+text",
         "showlegend": false,
         "text": "Kosovo",
         "textposition": "top center",
         "type": "scatter",
         "x": [
          9
         ],
         "y": [
          0.2222222222222222
         ]
        },
        {
         "marker": {
          "color": "rgb(178, 156, 111)",
          "line": {
           "color": "Black",
           "width": 1
          },
          "opacity": 0.6,
          "size": 21.26746506986028
         },
         "mode": "markers+text",
         "showlegend": false,
         "text": "Great Britain",
         "textposition": "top center",
         "type": "scatter",
         "x": [
          327
         ],
         "y": [
          0.19877675840978593
         ]
        },
        {
         "marker": {
          "color": "rgb(43, 67, 169)",
          "line": {
           "color": "Black",
           "width": 1
          },
          "opacity": 0.6,
          "size": 5.598802395209581
         },
         "mode": "markers+text",
         "showlegend": false,
         "text": "Botswana",
         "textposition": "top center",
         "type": "scatter",
         "x": [
          13
         ],
         "y": [
          0.15384615384615385
         ]
        },
        {
         "marker": {
          "color": "rgb(1, 204, 102)",
          "line": {
           "color": "Black",
           "width": 1
          },
          "opacity": 0.6,
          "size": 11.2874251497006
         },
         "mode": "markers+text",
         "showlegend": false,
         "text": "New Zealand",
         "textposition": "top center",
         "type": "scatter",
         "x": [
          127
         ],
         "y": [
          0.15748031496062992
         ]
        },
        {
         "marker": {
          "color": "rgb(24, 104, 206)",
          "line": {
           "color": "Black",
           "width": 1
          },
          "opacity": 0.6,
          "size": 7.045908183632735
         },
         "mode": "markers+text",
         "showlegend": false,
         "text": "Azerbaijan",
         "textposition": "top center",
         "type": "scatter",
         "x": [
          42
         ],
         "y": [
          0.16666666666666666
         ]
        },
        {
         "marker": {
          "color": "rgb(157, 129, 123)",
          "line": {
           "color": "Black",
           "width": 1
          },
          "opacity": 0.6,
          "size": 25.209580838323355
         },
         "mode": "markers+text",
         "showlegend": false,
         "text": "France",
         "textposition": "top center",
         "type": "scatter",
         "x": [
          406
         ],
         "y": [
          0.15763546798029557
         ]
        },
        {
         "marker": {
          "color": "rgb(142, 110, 91)",
          "line": {
           "color": "Black",
           "width": 1
          },
          "opacity": 0.6,
          "size": 23.013972055888225
         },
         "mode": "markers+text",
         "showlegend": false,
         "text": "Australia",
         "textposition": "top center",
         "type": "scatter",
         "x": [
          362
         ],
         "y": [
          0.1464088397790055
         ]
        },
        {
         "marker": {
          "color": "rgb(45, 61, 163)",
          "line": {
           "color": "Black",
           "width": 1
          },
          "opacity": 0.6,
          "size": 5.399201596806387
         },
         "mode": "markers+text",
         "showlegend": false,
         "text": "Albania",
         "textposition": "top center",
         "type": "scatter",
         "x": [
          9
         ],
         "y": [
          0.2222222222222222
         ]
        },
        {
         "marker": {
          "color": "rgb(45, 61, 163)",
          "line": {
           "color": "Black",
           "width": 1
          },
          "opacity": 0.6,
          "size": 5.399201596806387
         },
         "mode": "markers+text",
         "showlegend": false,
         "text": "Pakistan",
         "textposition": "top center",
         "type": "scatter",
         "x": [
          9
         ],
         "y": [
          0.1111111111111111
         ]
        },
        {
         "marker": {
          "color": "rgb(184, 164, 114)",
          "line": {
           "color": "Black",
           "width": 1
          },
          "opacity": 0.6,
          "size": 20.968063872255488
         },
         "mode": "markers+text",
         "showlegend": false,
         "text": "Japan",
         "textposition": "top center",
         "type": "scatter",
         "x": [
          321
         ],
         "y": [
          0.14018691588785046
         ]
        },
        {
         "marker": {
          "color": "rgb(43, 67, 169)",
          "line": {
           "color": "Black",
           "width": 1
          },
          "opacity": 0.6,
          "size": 5.648702594810379
         },
         "mode": "markers+text",
         "showlegend": false,
         "text": "Tajikistan",
         "textposition": "top center",
         "type": "scatter",
         "x": [
          14
         ],
         "y": [
          0.21428571428571427
         ]
        },
        {
         "marker": {
          "color": "rgb(245, 253, 151)",
          "line": {
           "color": "Black",
           "width": 1
          },
          "opacity": 0.6,
          "size": 17.22554890219561
         },
         "mode": "markers+text",
         "showlegend": false,
         "text": "Netherlands",
         "textposition": "top center",
         "type": "scatter",
         "x": [
          246
         ],
         "y": [
          0.13821138211382114
         ]
        },
        {
         "marker": {
          "color": "rgb(16, 120, 222)",
          "line": {
           "color": "Black",
           "width": 1
          },
          "opacity": 0.6,
          "size": 7.594810379241517
         },
         "mode": "markers+text",
         "showlegend": false,
         "text": "Bulgaria",
         "textposition": "top center",
         "type": "scatter",
         "x": [
          53
         ],
         "y": [
          0.1320754716981132
         ]
        },
        {
         "marker": {
          "color": "rgb(17, 117, 219)",
          "line": {
           "color": "Black",
           "width": 1
          },
          "opacity": 0.6,
          "size": 7.495009980039921
         },
         "mode": "markers+text",
         "showlegend": false,
         "text": "Croatia",
         "textposition": "top center",
         "type": "scatter",
         "x": [
          51
         ],
         "y": [
          0.13725490196078433
         ]
        },
        {
         "marker": {
          "color": "rgb(11, 131, 233)",
          "line": {
           "color": "Black",
           "width": 1
          },
          "opacity": 0.6,
          "size": 7.994011976047904
         },
         "mode": "markers+text",
         "showlegend": false,
         "text": "Cuba",
         "textposition": "top center",
         "type": "scatter",
         "x": [
          61
         ],
         "y": [
          0.14754098360655737
         ]
        },
        {
         "marker": {
          "color": "rgb(41, 69, 171)",
          "line": {
           "color": "Black",
           "width": 1
          },
          "opacity": 0.6,
          "size": 5.748502994011976
         },
         "mode": "markers+text",
         "showlegend": false,
         "text": "Guatemala",
         "textposition": "top center",
         "type": "scatter",
         "x": [
          16
         ],
         "y": [
          0.125
         ]
        },
        {
         "marker": {
          "color": "rgb(28, 96, 198)",
          "line": {
           "color": "Black",
           "width": 1
          },
          "opacity": 0.6,
          "size": 6.696606786427146
         },
         "mode": "markers+text",
         "showlegend": false,
         "text": "Ethiopia",
         "textposition": "top center",
         "type": "scatter",
         "x": [
          35
         ],
         "y": [
          0.11428571428571428
         ]
        },
        {
         "marker": {
          "color": "rgb(57, 215, 113)",
          "line": {
           "color": "Black",
           "width": 1
          },
          "opacity": 0.6,
          "size": 12.634730538922156
         },
         "mode": "markers+text",
         "showlegend": false,
         "text": "Hungary",
         "textposition": "top center",
         "type": "scatter",
         "x": [
          154
         ],
         "y": [
          0.12337662337662338
         ]
        },
        {
         "marker": {
          "color": "rgb(24, 104, 206)",
          "line": {
           "color": "Black",
           "width": 1
          },
          "opacity": 0.6,
          "size": 6.996007984031936
         },
         "mode": "markers+text",
         "showlegend": false,
         "text": "AIN",
         "textposition": "top center",
         "type": "scatter",
         "x": [
          41
         ],
         "y": [
          0.12195121951219512
         ]
        },
        {
         "marker": {
          "color": "rgb(29, 93, 195)",
          "line": {
           "color": "Black",
           "width": 1
          },
          "opacity": 0.6,
          "size": 6.6467065868263475
         },
         "mode": "markers+text",
         "showlegend": false,
         "text": "Hong Kong, China",
         "textposition": "top center",
         "type": "scatter",
         "x": [
          34
         ],
         "y": [
          0.11764705882352941
         ]
        },
        {
         "marker": {
          "color": "rgb(32, 88, 190)",
          "line": {
           "color": "Black",
           "width": 1
          },
          "opacity": 0.6,
          "size": 6.397205588822356
         },
         "mode": "markers+text",
         "showlegend": false,
         "text": "Indonesia",
         "textposition": "top center",
         "type": "scatter",
         "x": [
          29
         ],
         "y": [
          0.10344827586206896
         ]
        },
        {
         "marker": {
          "color": "rgb(0, 158, 238)",
          "line": {
           "color": "Black",
           "width": 1
          },
          "opacity": 0.6,
          "size": 9.09181636726547
         },
         "mode": "markers+text",
         "showlegend": false,
         "text": "Romania",
         "textposition": "top center",
         "type": "scatter",
         "x": [
          83
         ],
         "y": [
          0.10843373493975904
         ]
        },
        {
         "marker": {
          "color": "rgb(0, 180, 172)",
          "line": {
           "color": "Black",
           "width": 1
          },
          "opacity": 0.6,
          "size": 10.089820359281436
         },
         "mode": "markers+text",
         "showlegend": false,
         "text": "Sweden",
         "textposition": "top center",
         "type": "scatter",
         "x": [
          103
         ],
         "y": [
          0.10679611650485436
         ]
        },
        {
         "marker": {
          "color": "rgb(33, 85, 187)",
          "line": {
           "color": "Black",
           "width": 1
          },
          "opacity": 0.6,
          "size": 6.347305389221557
         },
         "mode": "markers+text",
         "showlegend": false,
         "text": "Republic of Moldova",
         "textposition": "top center",
         "type": "scatter",
         "x": [
          28
         ],
         "y": [
          0.14285714285714285
         ]
        },
        {
         "marker": {
          "color": "rgb(16, 120, 222)",
          "line": {
           "color": "Black",
           "width": 1
          },
          "opacity": 0.6,
          "size": 7.594810379241517
         },
         "mode": "markers+text",
         "showlegend": false,
         "text": "Thailand",
         "textposition": "top center",
         "type": "scatter",
         "x": [
          53
         ],
         "y": [
          0.11320754716981132
         ]
        },
        {
         "marker": {
          "color": "rgb(23, 107, 209)",
          "line": {
           "color": "Black",
           "width": 1
          },
          "opacity": 0.6,
          "size": 7.145708582834331
         },
         "mode": "markers+text",
         "showlegend": false,
         "text": "Ecuador",
         "textposition": "top center",
         "type": "scatter",
         "x": [
          44
         ],
         "y": [
          0.11363636363636363
         ]
        },
        {
         "marker": {
          "color": "rgb(14, 123, 225)",
          "line": {
           "color": "Black",
           "width": 1
          },
          "opacity": 0.6,
          "size": 7.644710578842315
         },
         "mode": "markers+text",
         "showlegend": false,
         "text": "Serbia",
         "textposition": "top center",
         "type": "scatter",
         "x": [
          54
         ],
         "y": [
          0.09259259259259259
         ]
        },
        {
         "marker": {
          "color": "rgb(131, 97, 86)",
          "line": {
           "color": "Black",
           "width": 1
          },
          "opacity": 0.6,
          "size": 23.512974051896208
         },
         "mode": "markers+text",
         "showlegend": false,
         "text": "Italy",
         "textposition": "top center",
         "type": "scatter",
         "x": [
          372
         ],
         "y": [
          0.10752688172043011
         ]
        },
        {
         "marker": {
          "color": "rgb(0, 156, 244)",
          "line": {
           "color": "Black",
           "width": 1
          },
          "opacity": 0.6,
          "size": 8.992015968063871
         },
         "mode": "markers+text",
         "showlegend": false,
         "text": "Norway",
         "textposition": "top center",
         "type": "scatter",
         "x": [
          81
         ],
         "y": [
          0.09876543209876543
         ]
        },
        {
         "marker": {
          "color": "rgb(25, 101, 203)",
          "line": {
           "color": "Black",
           "width": 1
          },
          "opacity": 0.6,
          "size": 6.946107784431138
         },
         "mode": "markers+text",
         "showlegend": false,
         "text": "Philippines",
         "textposition": "top center",
         "type": "scatter",
         "x": [
          40
         ],
         "y": [
          0.1
         ]
        },
        {
         "marker": {
          "color": "rgb(32, 88, 190)",
          "line": {
           "color": "Black",
           "width": 1
          },
          "opacity": 0.6,
          "size": 6.447105788423154
         },
         "mode": "markers+text",
         "showlegend": false,
         "text": "Tunisia",
         "textposition": "top center",
         "type": "scatter",
         "x": [
          30
         ],
         "y": [
          0.1
         ]
        },
        {
         "marker": {
          "color": "rgb(9, 133, 235)",
          "line": {
           "color": "Black",
           "width": 1
          },
          "opacity": 0.6,
          "size": 8.043912175648703
         },
         "mode": "markers+text",
         "showlegend": false,
         "text": "Chinese Taipei",
         "textposition": "top center",
         "type": "scatter",
         "x": [
          62
         ],
         "y": [
          0.11290322580645161
         ]
        },
        {
         "marker": {
          "color": "rgb(7, 138, 241)",
          "line": {
           "color": "Black",
           "width": 1
          },
          "opacity": 0.6,
          "size": 8.243512974051896
         },
         "mode": "markers+text",
         "showlegend": false,
         "text": "Greece",
         "textposition": "top center",
         "type": "scatter",
         "x": [
          66
         ],
         "y": [
          0.12121212121212122
         ]
        },
        {
         "marker": {
          "color": "rgb(47, 59, 161)",
          "line": {
           "color": "Black",
           "width": 1
          },
          "opacity": 0.6,
          "size": 5.299401197604791
         },
         "mode": "markers+text",
         "showlegend": false,
         "text": "Cabo Verde",
         "textposition": "top center",
         "type": "scatter",
         "x": [
          7
         ],
         "y": [
          0.14285714285714285
         ]
        },
        {
         "marker": {
          "color": "rgb(0, 160, 232)",
          "line": {
           "color": "Black",
           "width": 1
          },
          "opacity": 0.6,
          "size": 9.141716566866268
         },
         "mode": "markers+text",
         "showlegend": false,
         "text": "Denmark",
         "textposition": "top center",
         "type": "scatter",
         "x": [
          84
         ],
         "y": [
          0.10714285714285714
         ]
        },
        {
         "marker": {
          "color": "rgb(144, 112, 93)",
          "line": {
           "color": "Black",
           "width": 1
          },
          "opacity": 0.6,
          "size": 22.964071856287426
         },
         "mode": "markers+text",
         "showlegend": false,
         "text": "Germany",
         "textposition": "top center",
         "type": "scatter",
         "x": [
          361
         ],
         "y": [
          0.09141274238227147
         ]
        },
        {
         "marker": {
          "color": "rgb(11, 131, 233)",
          "line": {
           "color": "Black",
           "width": 1
          },
          "opacity": 0.6,
          "size": 7.944111776447106
         },
         "mode": "markers+text",
         "showlegend": false,
         "text": "Jamaica",
         "textposition": "top center",
         "type": "scatter",
         "x": [
          60
         ],
         "y": [
          0.1
         ]
        },
        {
         "marker": {
          "color": "rgb(32, 88, 190)",
          "line": {
           "color": "Black",
           "width": 1
          },
          "opacity": 0.6,
          "size": 6.397205588822356
         },
         "mode": "markers+text",
         "showlegend": false,
         "text": "Dominican Republic",
         "textposition": "top center",
         "type": "scatter",
         "x": [
          29
         ],
         "y": [
          0.10344827586206896
         ]
        },
        {
         "marker": {
          "color": "rgb(44, 64, 166)",
          "line": {
           "color": "Black",
           "width": 1
          },
          "opacity": 0.6,
          "size": 5.499001996007984
         },
         "mode": "markers+text",
         "showlegend": false,
         "text": "Fiji",
         "textposition": "top center",
         "type": "scatter",
         "x": [
          11
         ],
         "y": [
          0.09090909090909091
         ]
        },
        {
         "marker": {
          "color": "rgb(0, 154, 250)",
          "line": {
           "color": "Black",
           "width": 1
          },
          "opacity": 0.6,
          "size": 8.892215568862277
         },
         "mode": "markers+text",
         "showlegend": false,
         "text": "Israel",
         "textposition": "top center",
         "type": "scatter",
         "x": [
          79
         ],
         "y": [
          0.08860759493670886
         ]
        },
        {
         "marker": {
          "color": "rgb(206, 192, 126)",
          "line": {
           "color": "Black",
           "width": 1
          },
          "opacity": 0.6,
          "size": 19.920159680638722
         },
         "mode": "markers+text",
         "showlegend": false,
         "text": "Canada",
         "textposition": "top center",
         "type": "scatter",
         "x": [
          300
         ],
         "y": [
          0.09
         ]
        },
        {
         "marker": {
          "color": "rgb(33, 85, 187)",
          "line": {
           "color": "Black",
           "width": 1
          },
          "opacity": 0.6,
          "size": 6.297405189620759
         },
         "mode": "markers+text",
         "showlegend": false,
         "text": "Uganda",
         "textposition": "top center",
         "type": "scatter",
         "x": [
          27
         ],
         "y": [
          0.07407407407407407
         ]
        },
        {
         "marker": {
          "color": "rgb(47, 59, 161)",
          "line": {
           "color": "Black",
           "width": 1
          },
          "opacity": 0.6,
          "size": 5.349301397205589
         },
         "mode": "markers+text",
         "showlegend": false,
         "text": "Zambia",
         "textposition": "top center",
         "type": "scatter",
         "x": [
          8
         ],
         "y": [
          0.125
         ]
        },
        {
         "marker": {
          "color": "rgb(44, 64, 166)",
          "line": {
           "color": "Black",
           "width": 1
          },
          "opacity": 0.6,
          "size": 5.5489021956087825
         },
         "mode": "markers+text",
         "showlegend": false,
         "text": "Jordan",
         "textposition": "top center",
         "type": "scatter",
         "x": [
          12
         ],
         "y": [
          0.08333333333333333
         ]
        },
        {
         "marker": {
          "color": "rgb(44, 64, 166)",
          "line": {
           "color": "Black",
           "width": 1
          },
          "opacity": 0.6,
          "size": 5.5489021956087825
         },
         "mode": "markers+text",
         "showlegend": false,
         "text": "Panama",
         "textposition": "top center",
         "type": "scatter",
         "x": [
          12
         ],
         "y": [
          0.08333333333333333
         ]
        },
        {
         "marker": {
          "color": "rgb(0, 168, 208)",
          "line": {
           "color": "Black",
           "width": 1
          },
          "opacity": 0.6,
          "size": 9.540918163672654
         },
         "mode": "markers+text",
         "showlegend": false,
         "text": "Ireland",
         "textposition": "top center",
         "type": "scatter",
         "x": [
          92
         ],
         "y": [
          0.07608695652173914
         ]
        },
        {
         "marker": {
          "color": "rgb(49, 213, 111)",
          "line": {
           "color": "Black",
           "width": 1
          },
          "opacity": 0.6,
          "size": 12.435129740518962
         },
         "mode": "markers+text",
         "showlegend": false,
         "text": "Ukraine",
         "textposition": "top center",
         "type": "scatter",
         "x": [
          150
         ],
         "y": [
          0.08
         ]
        },
        {
         "marker": {
          "color": "rgb(217, 247, 145)",
          "line": {
           "color": "Black",
           "width": 1
          },
          "opacity": 0.6,
          "size": 16.526946107784433
         },
         "mode": "markers+text",
         "showlegend": false,
         "text": "Brazil",
         "textposition": "top center",
         "type": "scatter",
         "x": [
          232
         ],
         "y": [
          0.08620689655172414
         ]
        },
        {
         "marker": {
          "color": "rgb(21, 109, 211)",
          "line": {
           "color": "Black",
           "width": 1
          },
          "opacity": 0.6,
          "size": 7.245508982035928
         },
         "mode": "markers+text",
         "showlegend": false,
         "text": "Lithuania",
         "textposition": "top center",
         "type": "scatter",
         "x": [
          46
         ],
         "y": [
          0.08695652173913043
         ]
        },
        {
         "marker": {
          "color": "rgb(17, 117, 219)",
          "line": {
           "color": "Black",
           "width": 1
          },
          "opacity": 0.6,
          "size": 7.445109780439122
         },
         "mode": "markers+text",
         "showlegend": false,
         "text": "Algeria",
         "textposition": "top center",
         "type": "scatter",
         "x": [
          50
         ],
         "y": [
          0.06
         ]
        },
        {
         "marker": {
          "color": "rgb(0, 176, 184)",
          "line": {
           "color": "Black",
           "width": 1
          },
          "opacity": 0.6,
          "size": 9.890219560878243
         },
         "mode": "markers+text",
         "showlegend": false,
         "text": "Kazakhstan",
         "textposition": "top center",
         "type": "scatter",
         "x": [
          99
         ],
         "y": [
          0.0707070707070707
         ]
        },
        {
         "marker": {
          "color": "rgb(240, 235, 144)",
          "line": {
           "color": "Black",
           "width": 1
          },
          "opacity": 0.6,
          "size": 18.27345309381238
         },
         "mode": "markers+text",
         "showlegend": false,
         "text": "Spain",
         "textposition": "top center",
         "type": "scatter",
         "x": [
          267
         ],
         "y": [
          0.06741573033707865
         ]
        },
        {
         "marker": {
          "color": "rgb(40, 212, 110)",
          "line": {
           "color": "Black",
           "width": 1
          },
          "opacity": 0.6,
          "size": 12.235528942115767
         },
         "mode": "markers+text",
         "showlegend": false,
         "text": "Belgium",
         "textposition": "top center",
         "type": "scatter",
         "x": [
          146
         ],
         "y": [
          0.0684931506849315
         ]
        },
        {
         "marker": {
          "color": "rgb(0, 170, 202)",
          "line": {
           "color": "Black",
           "width": 1
          },
          "opacity": 0.6,
          "size": 9.640718562874252
         },
         "mode": "markers+text",
         "showlegend": false,
         "text": "South Africa",
         "textposition": "top center",
         "type": "scatter",
         "x": [
          94
         ],
         "y": [
          0.06382978723404255
         ]
        },
        {
         "marker": {
          "color": "rgb(8, 136, 238)",
          "line": {
           "color": "Black",
           "width": 1
          },
          "opacity": 0.6,
          "size": 8.1437125748503
         },
         "mode": "markers+text",
         "showlegend": false,
         "text": "Slovenia",
         "textposition": "top center",
         "type": "scatter",
         "x": [
          64
         ],
         "y": [
          0.046875
         ]
        },
        {
         "marker": {
          "color": "rgb(44, 64, 166)",
          "line": {
           "color": "Black",
           "width": 1
          },
          "opacity": 0.6,
          "size": 5.5489021956087825
         },
         "mode": "markers+text",
         "showlegend": false,
         "text": "Qatar",
         "textposition": "top center",
         "type": "scatter",
         "x": [
          12
         ],
         "y": [
          0.08333333333333333
         ]
        },
        {
         "marker": {
          "color": "rgb(13, 125, 227)",
          "line": {
           "color": "Black",
           "width": 1
          },
          "opacity": 0.6,
          "size": 7.794411177644711
         },
         "mode": "markers+text",
         "showlegend": false,
         "text": "Argentina",
         "textposition": "top center",
         "type": "scatter",
         "x": [
          57
         ],
         "y": [
          0.05263157894736842
         ]
        },
        {
         "marker": {
          "color": "rgb(0, 198, 118)",
          "line": {
           "color": "Black",
           "width": 1
          },
          "opacity": 0.6,
          "size": 11.037924151696608
         },
         "mode": "markers+text",
         "showlegend": false,
         "text": "Türkiye",
         "textposition": "top center",
         "type": "scatter",
         "x": [
          122
         ],
         "y": [
          0.06557377049180328
         ]
        },
        {
         "marker": {
          "color": "rgb(20, 112, 214)",
          "line": {
           "color": "Black",
           "width": 1
          },
          "opacity": 0.6,
          "size": 7.295409181636726
         },
         "mode": "markers+text",
         "showlegend": false,
         "text": "Chile",
         "textposition": "top center",
         "type": "scatter",
         "x": [
          47
         ],
         "y": [
          0.0425531914893617
         ]
        },
        {
         "marker": {
          "color": "rgb(33, 85, 187)",
          "line": {
           "color": "Black",
           "width": 1
          },
          "opacity": 0.6,
          "size": 6.297405189620759
         },
         "mode": "markers+text",
         "showlegend": false,
         "text": "Malaysia",
         "textposition": "top center",
         "type": "scatter",
         "x": [
          27
         ],
         "y": [
          0.07407407407407407
         ]
        },
        {
         "marker": {
          "color": "rgb(0, 174, 190)",
          "line": {
           "color": "Black",
           "width": 1
          },
          "opacity": 0.6,
          "size": 9.790419161676647
         },
         "mode": "markers+text",
         "showlegend": false,
         "text": "Austria",
         "textposition": "top center",
         "type": "scatter",
         "x": [
          97
         ],
         "y": [
          0.05154639175257732
         ]
        },
        {
         "marker": {
          "color": "rgb(43, 67, 169)",
          "line": {
           "color": "Black",
           "width": 1
          },
          "opacity": 0.6,
          "size": 5.648702594810379
         },
         "mode": "markers+text",
         "showlegend": false,
         "text": "Côte d'Ivoire",
         "textposition": "top center",
         "type": "scatter",
         "x": [
          14
         ],
         "y": [
          0.07142857142857142
         ]
        },
        {
         "marker": {
          "color": "rgb(0, 160, 232)",
          "line": {
           "color": "Black",
           "width": 1
          },
          "opacity": 0.6,
          "size": 9.191616766467066
         },
         "mode": "markers+text",
         "showlegend": false,
         "text": "Portugal",
         "textposition": "top center",
         "type": "scatter",
         "x": [
          85
         ],
         "y": [
          0.047058823529411764
         ]
        },
        {
         "marker": {
          "color": "rgb(0, 156, 244)",
          "line": {
           "color": "Black",
           "width": 1
          },
          "opacity": 0.6,
          "size": 8.942115768463074
         },
         "mode": "markers+text",
         "showlegend": false,
         "text": "Colombia",
         "textposition": "top center",
         "type": "scatter",
         "x": [
          80
         ],
         "y": [
          0.05
         ]
        },
        {
         "marker": {
          "color": "rgb(0, 172, 196)",
          "line": {
           "color": "Black",
           "width": 1
          },
          "opacity": 0.6,
          "size": 9.69061876247505
         },
         "mode": "markers+text",
         "showlegend": false,
         "text": "India",
         "textposition": "top center",
         "type": "scatter",
         "x": [
          95
         ],
         "y": [
          0.06315789473684211
         ]
        },
        {
         "marker": {
          "color": "rgb(37, 77, 179)",
          "line": {
           "color": "Black",
           "width": 1
          },
          "opacity": 0.6,
          "size": 6.047904191616766
         },
         "mode": "markers+text",
         "showlegend": false,
         "text": "Cyprus",
         "textposition": "top center",
         "type": "scatter",
         "x": [
          22
         ],
         "y": [
          0.045454545454545456
         ]
        },
        {
         "marker": {
          "color": "rgb(23, 107, 209)",
          "line": {
           "color": "Black",
           "width": 1
          },
          "opacity": 0.6,
          "size": 7.145708582834331
         },
         "mode": "markers+text",
         "showlegend": false,
         "text": "Morocco",
         "textposition": "top center",
         "type": "scatter",
         "x": [
          44
         ],
         "y": [
          0.045454545454545456
         ]
        },
        {
         "marker": {
          "color": "rgb(141, 232, 130)",
          "line": {
           "color": "Black",
           "width": 1
          },
          "opacity": 0.6,
          "size": 14.68063872255489
         },
         "mode": "markers+text",
         "showlegend": false,
         "text": "Poland",
         "textposition": "top center",
         "type": "scatter",
         "x": [
          195
         ],
         "y": [
          0.05128205128205128
         ]
        },
        {
         "marker": {
          "color": "rgb(31, 91, 193)",
          "line": {
           "color": "Black",
           "width": 1
          },
          "opacity": 0.6,
          "size": 6.497005988023952
         },
         "mode": "markers+text",
         "showlegend": false,
         "text": "Puerto Rico",
         "textposition": "top center",
         "type": "scatter",
         "x": [
          31
         ],
         "y": [
          0.06451612903225806
         ]
        },
        {
         "marker": {
          "color": "rgb(1, 204, 102)",
          "line": {
           "color": "Black",
           "width": 1
          },
          "opacity": 0.6,
          "size": 11.2874251497006
         },
         "mode": "markers+text",
         "showlegend": false,
         "text": "Czechia",
         "textposition": "top center",
         "type": "scatter",
         "x": [
          127
         ],
         "y": [
          0.03937007874015748
         ]
        },
        {
         "marker": {
          "color": "rgb(65, 217, 115)",
          "line": {
           "color": "Black",
           "width": 1
          },
          "opacity": 0.6,
          "size": 12.884231536926148
         },
         "mode": "markers+text",
         "showlegend": false,
         "text": "Switzerland",
         "textposition": "top center",
         "type": "scatter",
         "x": [
          159
         ],
         "y": [
          0.050314465408805034
         ]
        },
        {
         "marker": {
          "color": "rgb(0, 202, 106)",
          "line": {
           "color": "Black",
           "width": 1
          },
          "opacity": 0.6,
          "size": 11.187624750499001
         },
         "mode": "markers+text",
         "showlegend": false,
         "text": "Mexico",
         "textposition": "top center",
         "type": "scatter",
         "x": [
          125
         ],
         "y": [
          0.04
         ]
        },
        {
         "marker": {
          "color": "rgb(27, 98, 201)",
          "line": {
           "color": "Black",
           "width": 1
          },
          "opacity": 0.6,
          "size": 6.846307385229541
         },
         "mode": "markers+text",
         "showlegend": false,
         "text": "Mongolia",
         "textposition": "top center",
         "type": "scatter",
         "x": [
          38
         ],
         "y": [
          0.02631578947368421
         ]
        },
        {
         "marker": {
          "color": "rgb(0, 192, 136)",
          "line": {
           "color": "Black",
           "width": 1
          },
          "opacity": 0.6,
          "size": 10.738522954091817
         },
         "mode": "markers+text",
         "showlegend": false,
         "text": "Egypt",
         "textposition": "top center",
         "type": "scatter",
         "x": [
          116
         ],
         "y": [
          0.02586206896551724
         ]
        },
        {
         "marker": {
          "color": "rgb(35, 83, 185)",
          "line": {
           "color": "Black",
           "width": 1
          },
          "opacity": 0.6,
          "size": 6.24750499001996
         },
         "mode": "markers+text",
         "showlegend": false,
         "text": "Singapore",
         "textposition": "top center",
         "type": "scatter",
         "x": [
          26
         ],
         "y": [
          0.038461538461538464
         ]
        },
        {
         "marker": {
          "color": "rgb(33, 85, 187)",
          "line": {
           "color": "Black",
           "width": 1
          },
          "opacity": 0.6,
          "size": 6.297405189620759
         },
         "mode": "markers+text",
         "showlegend": false,
         "text": "Peru",
         "textposition": "top center",
         "type": "scatter",
         "x": [
          27
         ],
         "y": [
          0.037037037037037035
         ]
        },
        {
         "marker": {
          "color": "rgb(28, 96, 198)",
          "line": {
           "color": "Black",
           "width": 1
          },
          "opacity": 0.6,
          "size": 6.696606786427146
         },
         "mode": "markers+text",
         "showlegend": false,
         "text": "Slovakia",
         "textposition": "top center",
         "type": "scatter",
         "x": [
          35
         ],
         "y": [
          0.02857142857142857
         ]
        },
        {
         "marker": {
          "color": "rgb(25, 101, 203)",
          "line": {
           "color": "Black",
           "width": 1
          },
          "opacity": 0.6,
          "size": 6.896207584830339
         },
         "mode": "markers+text",
         "showlegend": false,
         "text": "EOR",
         "textposition": "top center",
         "type": "scatter",
         "x": [
          39
         ],
         "y": [
          0.02564102564102564
         ]
        },
        {
         "marker": {
          "color": "rgb(47, 59, 161)",
          "line": {
           "color": "Black",
           "width": 1
          },
          "opacity": 0.6,
          "size": 5.299401197604791
         },
         "mode": "markers+text",
         "showlegend": false,
         "text": "Afghanistan",
         "textposition": "top center",
         "type": "scatter",
         "x": [
          7
         ],
         "y": [
          0
         ]
        },
        {
         "marker": {
          "color": "rgb(51, 51, 153)",
          "line": {
           "color": "Black",
           "width": 1
          },
          "opacity": 0.6,
          "size": 5.049900199600798
         },
         "mode": "markers+text",
         "showlegend": false,
         "text": "American Samoa",
         "textposition": "top center",
         "type": "scatter",
         "x": [
          2
         ],
         "y": [
          0
         ]
        },
        {
         "marker": {
          "color": "rgb(49, 53, 155)",
          "line": {
           "color": "Black",
           "width": 1
          },
          "opacity": 0.6,
          "size": 5.149700598802395
         },
         "mode": "markers+text",
         "showlegend": false,
         "text": "Andorra",
         "textposition": "top center",
         "type": "scatter",
         "x": [
          4
         ],
         "y": [
          0
         ]
        },
        {
         "marker": {
          "color": "rgb(45, 61, 163)",
          "line": {
           "color": "Black",
           "width": 1
          },
          "opacity": 0.6,
          "size": 5.449101796407185
         },
         "mode": "markers+text",
         "showlegend": false,
         "text": "Angola",
         "textposition": "top center",
         "type": "scatter",
         "x": [
          10
         ],
         "y": [
          0
         ]
        },
        {
         "marker": {
          "color": "rgb(48, 56, 158)",
          "line": {
           "color": "Black",
           "width": 1
          },
          "opacity": 0.6,
          "size": 5.199600798403194
         },
         "mode": "markers+text",
         "showlegend": false,
         "text": "Antigua and Barbuda",
         "textposition": "top center",
         "type": "scatter",
         "x": [
          5
         ],
         "y": [
          0
         ]
        },
        {
         "marker": {
          "color": "rgb(47, 59, 161)",
          "line": {
           "color": "Black",
           "width": 1
          },
          "opacity": 0.6,
          "size": 5.299401197604791
         },
         "mode": "markers+text",
         "showlegend": false,
         "text": "Aruba",
         "textposition": "top center",
         "type": "scatter",
         "x": [
          7
         ],
         "y": [
          0
         ]
        },
        {
         "marker": {
          "color": "rgb(40, 72, 174)",
          "line": {
           "color": "Black",
           "width": 1
          },
          "opacity": 0.6,
          "size": 5.798403193612774
         },
         "mode": "markers+text",
         "showlegend": false,
         "text": "Bahamas",
         "textposition": "top center",
         "type": "scatter",
         "x": [
          17
         ],
         "y": [
          0
         ]
        },
        {
         "marker": {
          "color": "rgb(48, 56, 158)",
          "line": {
           "color": "Black",
           "width": 1
          },
          "opacity": 0.6,
          "size": 5.199600798403194
         },
         "mode": "markers+text",
         "showlegend": false,
         "text": "Bangladesh",
         "textposition": "top center",
         "type": "scatter",
         "x": [
          5
         ],
         "y": [
          0
         ]
        },
        {
         "marker": {
          "color": "rgb(49, 53, 155)",
          "line": {
           "color": "Black",
           "width": 1
          },
          "opacity": 0.6,
          "size": 5.149700598802395
         },
         "mode": "markers+text",
         "showlegend": false,
         "text": "Barbados",
         "textposition": "top center",
         "type": "scatter",
         "x": [
          4
         ],
         "y": [
          0
         ]
        },
        {
         "marker": {
          "color": "rgb(51, 51, 153)",
          "line": {
           "color": "Black",
           "width": 1
          },
          "opacity": 0.6,
          "size": 5
         },
         "mode": "markers+text",
         "showlegend": false,
         "text": "Belize",
         "textposition": "top center",
         "type": "scatter",
         "x": [
          1
         ],
         "y": [
          0
         ]
        },
        {
         "marker": {
          "color": "rgb(48, 56, 158)",
          "line": {
           "color": "Black",
           "width": 1
          },
          "opacity": 0.6,
          "size": 5.199600798403194
         },
         "mode": "markers+text",
         "showlegend": false,
         "text": "Benin",
         "textposition": "top center",
         "type": "scatter",
         "x": [
          5
         ],
         "y": [
          0
         ]
        },
        {
         "marker": {
          "color": "rgb(47, 59, 161)",
          "line": {
           "color": "Black",
           "width": 1
          },
          "opacity": 0.6,
          "size": 5.349301397205589
         },
         "mode": "markers+text",
         "showlegend": false,
         "text": "Bermuda",
         "textposition": "top center",
         "type": "scatter",
         "x": [
          8
         ],
         "y": [
          0
         ]
        },
        {
         "marker": {
          "color": "rgb(49, 53, 155)",
          "line": {
           "color": "Black",
           "width": 1
          },
          "opacity": 0.6,
          "size": 5.099800399201597
         },
         "mode": "markers+text",
         "showlegend": false,
         "text": "Bhutan",
         "textposition": "top center",
         "type": "scatter",
         "x": [
          3
         ],
         "y": [
          0
         ]
        },
        {
         "marker": {
          "color": "rgb(49, 53, 155)",
          "line": {
           "color": "Black",
           "width": 1
          },
          "opacity": 0.6,
          "size": 5.149700598802395
         },
         "mode": "markers+text",
         "showlegend": false,
         "text": "Bolivia",
         "textposition": "top center",
         "type": "scatter",
         "x": [
          4
         ],
         "y": [
          0
         ]
        },
        {
         "marker": {
          "color": "rgb(48, 56, 158)",
          "line": {
           "color": "Black",
           "width": 1
          },
          "opacity": 0.6,
          "size": 5.249500998003992
         },
         "mode": "markers+text",
         "showlegend": false,
         "text": "Bosnia & Herzegovina",
         "textposition": "top center",
         "type": "scatter",
         "x": [
          6
         ],
         "y": [
          0
         ]
        },
        {
         "marker": {
          "color": "rgb(49, 53, 155)",
          "line": {
           "color": "Black",
           "width": 1
          },
          "opacity": 0.6,
          "size": 5.099800399201597
         },
         "mode": "markers+text",
         "showlegend": false,
         "text": "Brunei Darussalam",
         "textposition": "top center",
         "type": "scatter",
         "x": [
          3
         ],
         "y": [
          0
         ]
        },
        {
         "marker": {
          "color": "rgb(47, 59, 161)",
          "line": {
           "color": "Black",
           "width": 1
          },
          "opacity": 0.6,
          "size": 5.349301397205589
         },
         "mode": "markers+text",
         "showlegend": false,
         "text": "Burkina Faso",
         "textposition": "top center",
         "type": "scatter",
         "x": [
          8
         ],
         "y": [
          0
         ]
        },
        {
         "marker": {
          "color": "rgb(47, 59, 161)",
          "line": {
           "color": "Black",
           "width": 1
          },
          "opacity": 0.6,
          "size": 5.349301397205589
         },
         "mode": "markers+text",
         "showlegend": false,
         "text": "Burundi",
         "textposition": "top center",
         "type": "scatter",
         "x": [
          8
         ],
         "y": [
          0
         ]
        },
        {
         "marker": {
          "color": "rgb(49, 53, 155)",
          "line": {
           "color": "Black",
           "width": 1
          },
          "opacity": 0.6,
          "size": 5.099800399201597
         },
         "mode": "markers+text",
         "showlegend": false,
         "text": "Cambodia",
         "textposition": "top center",
         "type": "scatter",
         "x": [
          3
         ],
         "y": [
          0
         ]
        },
        {
         "marker": {
          "color": "rgb(48, 56, 158)",
          "line": {
           "color": "Black",
           "width": 1
          },
          "opacity": 0.6,
          "size": 5.249500998003992
         },
         "mode": "markers+text",
         "showlegend": false,
         "text": "Cameroon",
         "textposition": "top center",
         "type": "scatter",
         "x": [
          6
         ],
         "y": [
          0
         ]
        },
        {
         "marker": {
          "color": "rgb(48, 56, 158)",
          "line": {
           "color": "Black",
           "width": 1
          },
          "opacity": 0.6,
          "size": 5.199600798403194
         },
         "mode": "markers+text",
         "showlegend": false,
         "text": "Cayman Islands",
         "textposition": "top center",
         "type": "scatter",
         "x": [
          5
         ],
         "y": [
          0
         ]
        },
        {
         "marker": {
          "color": "rgb(49, 53, 155)",
          "line": {
           "color": "Black",
           "width": 1
          },
          "opacity": 0.6,
          "size": 5.149700598802395
         },
         "mode": "markers+text",
         "showlegend": false,
         "text": "Centr Afric Re",
         "textposition": "top center",
         "type": "scatter",
         "x": [
          4
         ],
         "y": [
          0
         ]
        },
        {
         "marker": {
          "color": "rgb(49, 53, 155)",
          "line": {
           "color": "Black",
           "width": 1
          },
          "opacity": 0.6,
          "size": 5.099800399201597
         },
         "mode": "markers+text",
         "showlegend": false,
         "text": "Chad",
         "textposition": "top center",
         "type": "scatter",
         "x": [
          3
         ],
         "y": [
          0
         ]
        },
        {
         "marker": {
          "color": "rgb(48, 56, 158)",
          "line": {
           "color": "Black",
           "width": 1
          },
          "opacity": 0.6,
          "size": 5.199600798403194
         },
         "mode": "markers+text",
         "showlegend": false,
         "text": "Comoros",
         "textposition": "top center",
         "type": "scatter",
         "x": [
          5
         ],
         "y": [
          0
         ]
        },
        {
         "marker": {
          "color": "rgb(49, 53, 155)",
          "line": {
           "color": "Black",
           "width": 1
          },
          "opacity": 0.6,
          "size": 5.149700598802395
         },
         "mode": "markers+text",
         "showlegend": false,
         "text": "Congo",
         "textposition": "top center",
         "type": "scatter",
         "x": [
          4
         ],
         "y": [
          0
         ]
        },
        {
         "marker": {
          "color": "rgb(51, 51, 153)",
          "line": {
           "color": "Black",
           "width": 1
          },
          "opacity": 0.6,
          "size": 5.049900199600798
         },
         "mode": "markers+text",
         "showlegend": false,
         "text": "Cook Islands",
         "textposition": "top center",
         "type": "scatter",
         "x": [
          2
         ],
         "y": [
          0
         ]
        },
        {
         "marker": {
          "color": "rgb(48, 56, 158)",
          "line": {
           "color": "Black",
           "width": 1
          },
          "opacity": 0.6,
          "size": 5.249500998003992
         },
         "mode": "markers+text",
         "showlegend": false,
         "text": "Costa Rica",
         "textposition": "top center",
         "type": "scatter",
         "x": [
          6
         ],
         "y": [
          0
         ]
        },
        {
         "marker": {
          "color": "rgb(48, 56, 158)",
          "line": {
           "color": "Black",
           "width": 1
          },
          "opacity": 0.6,
          "size": 5.249500998003992
         },
         "mode": "markers+text",
         "showlegend": false,
         "text": "DR Congo",
         "textposition": "top center",
         "type": "scatter",
         "x": [
          6
         ],
         "y": [
          0
         ]
        },
        {
         "marker": {
          "color": "rgb(47, 59, 161)",
          "line": {
           "color": "Black",
           "width": 1
          },
          "opacity": 0.6,
          "size": 5.299401197604791
         },
         "mode": "markers+text",
         "showlegend": false,
         "text": "Djibouti",
         "textposition": "top center",
         "type": "scatter",
         "x": [
          7
         ],
         "y": [
          0
         ]
        },
        {
         "marker": {
          "color": "rgb(45, 61, 163)",
          "line": {
           "color": "Black",
           "width": 1
          },
          "opacity": 0.6,
          "size": 5.399201596806387
         },
         "mode": "markers+text",
         "showlegend": false,
         "text": "El Salvador",
         "textposition": "top center",
         "type": "scatter",
         "x": [
          9
         ],
         "y": [
          0
         ]
        },
        {
         "marker": {
          "color": "rgb(49, 53, 155)",
          "line": {
           "color": "Black",
           "width": 1
          },
          "opacity": 0.6,
          "size": 5.099800399201597
         },
         "mode": "markers+text",
         "showlegend": false,
         "text": "Equatorial Guinea",
         "textposition": "top center",
         "type": "scatter",
         "x": [
          3
         ],
         "y": [
          0
         ]
        },
        {
         "marker": {
          "color": "rgb(44, 64, 166)",
          "line": {
           "color": "Black",
           "width": 1
          },
          "opacity": 0.6,
          "size": 5.5489021956087825
         },
         "mode": "markers+text",
         "showlegend": false,
         "text": "Eritrea",
         "textposition": "top center",
         "type": "scatter",
         "x": [
          12
         ],
         "y": [
          0
         ]
        },
        {
         "marker": {
          "color": "rgb(36, 80, 182)",
          "line": {
           "color": "Black",
           "width": 1
          },
          "opacity": 0.6,
          "size": 6.097804391217565
         },
         "mode": "markers+text",
         "showlegend": false,
         "text": "Estonia",
         "textposition": "top center",
         "type": "scatter",
         "x": [
          23
         ],
         "y": [
          0
         ]
        },
        {
         "marker": {
          "color": "rgb(49, 53, 155)",
          "line": {
           "color": "Black",
           "width": 1
          },
          "opacity": 0.6,
          "size": 5.099800399201597
         },
         "mode": "markers+text",
         "showlegend": false,
         "text": "Eswatini",
         "textposition": "top center",
         "type": "scatter",
         "x": [
          3
         ],
         "y": [
          0
         ]
        },
        {
         "marker": {
          "color": "rgb(13, 125, 227)",
          "line": {
           "color": "Black",
           "width": 1
          },
          "opacity": 0.6,
          "size": 7.794411177644711
         },
         "mode": "markers+text",
         "showlegend": false,
         "text": "Finland",
         "textposition": "top center",
         "type": "scatter",
         "x": [
          57
         ],
         "y": [
          0
         ]
        },
        {
         "marker": {
          "color": "rgb(48, 56, 158)",
          "line": {
           "color": "Black",
           "width": 1
          },
          "opacity": 0.6,
          "size": 5.199600798403194
         },
         "mode": "markers+text",
         "showlegend": false,
         "text": "Gabon",
         "textposition": "top center",
         "type": "scatter",
         "x": [
          5
         ],
         "y": [
          0
         ]
        },
        {
         "marker": {
          "color": "rgb(47, 59, 161)",
          "line": {
           "color": "Black",
           "width": 1
          },
          "opacity": 0.6,
          "size": 5.349301397205589
         },
         "mode": "markers+text",
         "showlegend": false,
         "text": "Gambia",
         "textposition": "top center",
         "type": "scatter",
         "x": [
          8
         ],
         "y": [
          0
         ]
        },
        {
         "marker": {
          "color": "rgb(48, 56, 158)",
          "line": {
           "color": "Black",
           "width": 1
          },
          "opacity": 0.6,
          "size": 5.249500998003992
         },
         "mode": "markers+text",
         "showlegend": false,
         "text": "Ghana",
         "textposition": "top center",
         "type": "scatter",
         "x": [
          6
         ],
         "y": [
          0
         ]
        },
        {
         "marker": {
          "color": "rgb(45, 61, 163)",
          "line": {
           "color": "Black",
           "width": 1
          },
          "opacity": 0.6,
          "size": 5.399201596806387
         },
         "mode": "markers+text",
         "showlegend": false,
         "text": "Guam",
         "textposition": "top center",
         "type": "scatter",
         "x": [
          9
         ],
         "y": [
          0
         ]
        },
        {
         "marker": {
          "color": "rgb(47, 59, 161)",
          "line": {
           "color": "Black",
           "width": 1
          },
          "opacity": 0.6,
          "size": 5.299401197604791
         },
         "mode": "markers+text",
         "showlegend": false,
         "text": "Guinea",
         "textposition": "top center",
         "type": "scatter",
         "x": [
          7
         ],
         "y": [
          0
         ]
        },
        {
         "marker": {
          "color": "rgb(48, 56, 158)",
          "line": {
           "color": "Black",
           "width": 1
          },
          "opacity": 0.6,
          "size": 5.249500998003992
         },
         "mode": "markers+text",
         "showlegend": false,
         "text": "Guinea-Bissau",
         "textposition": "top center",
         "type": "scatter",
         "x": [
          6
         ],
         "y": [
          0
         ]
        },
        {
         "marker": {
          "color": "rgb(48, 56, 158)",
          "line": {
           "color": "Black",
           "width": 1
          },
          "opacity": 0.6,
          "size": 5.199600798403194
         },
         "mode": "markers+text",
         "showlegend": false,
         "text": "Guyana",
         "textposition": "top center",
         "type": "scatter",
         "x": [
          5
         ],
         "y": [
          0
         ]
        },
        {
         "marker": {
          "color": "rgb(44, 64, 166)",
          "line": {
           "color": "Black",
           "width": 1
          },
          "opacity": 0.6,
          "size": 5.499001996007984
         },
         "mode": "markers+text",
         "showlegend": false,
         "text": "Haiti",
         "textposition": "top center",
         "type": "scatter",
         "x": [
          11
         ],
         "y": [
          0
         ]
        },
        {
         "marker": {
          "color": "rgb(49, 53, 155)",
          "line": {
           "color": "Black",
           "width": 1
          },
          "opacity": 0.6,
          "size": 5.149700598802395
         },
         "mode": "markers+text",
         "showlegend": false,
         "text": "Honduras",
         "textposition": "top center",
         "type": "scatter",
         "x": [
          4
         ],
         "y": [
          0
         ]
        },
        {
         "marker": {
          "color": "rgb(47, 59, 161)",
          "line": {
           "color": "Black",
           "width": 1
          },
          "opacity": 0.6,
          "size": 5.299401197604791
         },
         "mode": "markers+text",
         "showlegend": false,
         "text": "Iceland",
         "textposition": "top center",
         "type": "scatter",
         "x": [
          7
         ],
         "y": [
          0
         ]
        },
        {
         "marker": {
          "color": "rgb(48, 56, 158)",
          "line": {
           "color": "Black",
           "width": 1
          },
          "opacity": 0.6,
          "size": 5.199600798403194
         },
         "mode": "markers+text",
         "showlegend": false,
         "text": "Iraq",
         "textposition": "top center",
         "type": "scatter",
         "x": [
          5
         ],
         "y": [
          0
         ]
        },
        {
         "marker": {
          "color": "rgb(49, 53, 155)",
          "line": {
           "color": "Black",
           "width": 1
          },
          "opacity": 0.6,
          "size": 5.099800399201597
         },
         "mode": "markers+text",
         "showlegend": false,
         "text": "Kiribati",
         "textposition": "top center",
         "type": "scatter",
         "x": [
          3
         ],
         "y": [
          0
         ]
        },
        {
         "marker": {
          "color": "rgb(45, 61, 163)",
          "line": {
           "color": "Black",
           "width": 1
          },
          "opacity": 0.6,
          "size": 5.399201596806387
         },
         "mode": "markers+text",
         "showlegend": false,
         "text": "Kuwait",
         "textposition": "top center",
         "type": "scatter",
         "x": [
          9
         ],
         "y": [
          0
         ]
        },
        {
         "marker": {
          "color": "rgb(49, 53, 155)",
          "line": {
           "color": "Black",
           "width": 1
          },
          "opacity": 0.6,
          "size": 5.149700598802395
         },
         "mode": "markers+text",
         "showlegend": false,
         "text": "Lao PDR",
         "textposition": "top center",
         "type": "scatter",
         "x": [
          4
         ],
         "y": [
          0
         ]
        },
        {
         "marker": {
          "color": "rgb(33, 85, 187)",
          "line": {
           "color": "Black",
           "width": 1
          },
          "opacity": 0.6,
          "size": 6.297405189620759
         },
         "mode": "markers+text",
         "showlegend": false,
         "text": "Latvia",
         "textposition": "top center",
         "type": "scatter",
         "x": [
          27
         ],
         "y": [
          0
         ]
        },
        {
         "marker": {
          "color": "rgb(45, 61, 163)",
          "line": {
           "color": "Black",
           "width": 1
          },
          "opacity": 0.6,
          "size": 5.449101796407185
         },
         "mode": "markers+text",
         "showlegend": false,
         "text": "Lebanon",
         "textposition": "top center",
         "type": "scatter",
         "x": [
          10
         ],
         "y": [
          0
         ]
        },
        {
         "marker": {
          "color": "rgb(49, 53, 155)",
          "line": {
           "color": "Black",
           "width": 1
          },
          "opacity": 0.6,
          "size": 5.099800399201597
         },
         "mode": "markers+text",
         "showlegend": false,
         "text": "Lesotho",
         "textposition": "top center",
         "type": "scatter",
         "x": [
          3
         ],
         "y": [
          0
         ]
        },
        {
         "marker": {
          "color": "rgb(48, 56, 158)",
          "line": {
           "color": "Black",
           "width": 1
          },
          "opacity": 0.6,
          "size": 5.249500998003992
         },
         "mode": "markers+text",
         "showlegend": false,
         "text": "Liberia",
         "textposition": "top center",
         "type": "scatter",
         "x": [
          6
         ],
         "y": [
          0
         ]
        },
        {
         "marker": {
          "color": "rgb(48, 56, 158)",
          "line": {
           "color": "Black",
           "width": 1
          },
          "opacity": 0.6,
          "size": 5.249500998003992
         },
         "mode": "markers+text",
         "showlegend": false,
         "text": "Libya",
         "textposition": "top center",
         "type": "scatter",
         "x": [
          6
         ],
         "y": [
          0
         ]
        },
        {
         "marker": {
          "color": "rgb(51, 51, 153)",
          "line": {
           "color": "Black",
           "width": 1
          },
          "opacity": 0.6,
          "size": 5
         },
         "mode": "markers+text",
         "showlegend": false,
         "text": "Liechtenstein",
         "textposition": "top center",
         "type": "scatter",
         "x": [
          1
         ],
         "y": [
          0
         ]
        },
        {
         "marker": {
          "color": "rgb(43, 67, 169)",
          "line": {
           "color": "Black",
           "width": 1
          },
          "opacity": 0.6,
          "size": 5.598802395209581
         },
         "mode": "markers+text",
         "showlegend": false,
         "text": "Luxembourg",
         "textposition": "top center",
         "type": "scatter",
         "x": [
          13
         ],
         "y": [
          0
         ]
        },
        {
         "marker": {
          "color": "rgb(47, 59, 161)",
          "line": {
           "color": "Black",
           "width": 1
          },
          "opacity": 0.6,
          "size": 5.299401197604791
         },
         "mode": "markers+text",
         "showlegend": false,
         "text": "Madagascar",
         "textposition": "top center",
         "type": "scatter",
         "x": [
          7
         ],
         "y": [
          0
         ]
        },
        {
         "marker": {
          "color": "rgb(49, 53, 155)",
          "line": {
           "color": "Black",
           "width": 1
          },
          "opacity": 0.6,
          "size": 5.099800399201597
         },
         "mode": "markers+text",
         "showlegend": false,
         "text": "Malawi",
         "textposition": "top center",
         "type": "scatter",
         "x": [
          3
         ],
         "y": [
          0
         ]
        },
        {
         "marker": {
          "color": "rgb(48, 56, 158)",
          "line": {
           "color": "Black",
           "width": 1
          },
          "opacity": 0.6,
          "size": 5.199600798403194
         },
         "mode": "markers+text",
         "showlegend": false,
         "text": "Maldives",
         "textposition": "top center",
         "type": "scatter",
         "x": [
          5
         ],
         "y": [
          0
         ]
        },
        {
         "marker": {
          "color": "rgb(48, 56, 158)",
          "line": {
           "color": "Black",
           "width": 1
          },
          "opacity": 0.6,
          "size": 5.249500998003992
         },
         "mode": "markers+text",
         "showlegend": false,
         "text": "Mali",
         "textposition": "top center",
         "type": "scatter",
         "x": [
          6
         ],
         "y": [
          0
         ]
        },
        {
         "marker": {
          "color": "rgb(48, 56, 158)",
          "line": {
           "color": "Black",
           "width": 1
          },
          "opacity": 0.6,
          "size": 5.199600798403194
         },
         "mode": "markers+text",
         "showlegend": false,
         "text": "Malta",
         "textposition": "top center",
         "type": "scatter",
         "x": [
          5
         ],
         "y": [
          0
         ]
        },
        {
         "marker": {
          "color": "rgb(49, 53, 155)",
          "line": {
           "color": "Black",
           "width": 1
          },
          "opacity": 0.6,
          "size": 5.149700598802395
         },
         "mode": "markers+text",
         "showlegend": false,
         "text": "Marshall Islands",
         "textposition": "top center",
         "type": "scatter",
         "x": [
          4
         ],
         "y": [
          0
         ]
        },
        {
         "marker": {
          "color": "rgb(51, 51, 153)",
          "line": {
           "color": "Black",
           "width": 1
          },
          "opacity": 0.6,
          "size": 5.049900199600798
         },
         "mode": "markers+text",
         "showlegend": false,
         "text": "Mauritania",
         "textposition": "top center",
         "type": "scatter",
         "x": [
          2
         ],
         "y": [
          0
         ]
        },
        {
         "marker": {
          "color": "rgb(44, 64, 166)",
          "line": {
           "color": "Black",
           "width": 1
          },
          "opacity": 0.6,
          "size": 5.5489021956087825
         },
         "mode": "markers+text",
         "showlegend": false,
         "text": "Mauritius",
         "textposition": "top center",
         "type": "scatter",
         "x": [
          12
         ],
         "y": [
          0
         ]
        },
        {
         "marker": {
          "color": "rgb(49, 53, 155)",
          "line": {
           "color": "Black",
           "width": 1
          },
          "opacity": 0.6,
          "size": 5.099800399201597
         },
         "mode": "markers+text",
         "showlegend": false,
         "text": "Micronesia",
         "textposition": "top center",
         "type": "scatter",
         "x": [
          3
         ],
         "y": [
          0
         ]
        },
        {
         "marker": {
          "color": "rgb(48, 56, 158)",
          "line": {
           "color": "Black",
           "width": 1
          },
          "opacity": 0.6,
          "size": 5.249500998003992
         },
         "mode": "markers+text",
         "showlegend": false,
         "text": "Monaco",
         "textposition": "top center",
         "type": "scatter",
         "x": [
          6
         ],
         "y": [
          0
         ]
        },
        {
         "marker": {
          "color": "rgb(47, 59, 161)",
          "line": {
           "color": "Black",
           "width": 1
          },
          "opacity": 0.6,
          "size": 5.299401197604791
         },
         "mode": "markers+text",
         "showlegend": false,
         "text": "Montenegro",
         "textposition": "top center",
         "type": "scatter",
         "x": [
          7
         ],
         "y": [
          0
         ]
        },
        {
         "marker": {
          "color": "rgb(47, 59, 161)",
          "line": {
           "color": "Black",
           "width": 1
          },
          "opacity": 0.6,
          "size": 5.299401197604791
         },
         "mode": "markers+text",
         "showlegend": false,
         "text": "Mozambique",
         "textposition": "top center",
         "type": "scatter",
         "x": [
          7
         ],
         "y": [
          0
         ]
        },
        {
         "marker": {
          "color": "rgb(51, 51, 153)",
          "line": {
           "color": "Black",
           "width": 1
          },
          "opacity": 0.6,
          "size": 5.049900199600798
         },
         "mode": "markers+text",
         "showlegend": false,
         "text": "Myanmar",
         "textposition": "top center",
         "type": "scatter",
         "x": [
          2
         ],
         "y": [
          0
         ]
        },
        {
         "marker": {
          "color": "rgb(49, 53, 155)",
          "line": {
           "color": "Black",
           "width": 1
          },
          "opacity": 0.6,
          "size": 5.149700598802395
         },
         "mode": "markers+text",
         "showlegend": false,
         "text": "Namibia",
         "textposition": "top center",
         "type": "scatter",
         "x": [
          4
         ],
         "y": [
          0
         ]
        },
        {
         "marker": {
          "color": "rgb(51, 51, 153)",
          "line": {
           "color": "Black",
           "width": 1
          },
          "opacity": 0.6,
          "size": 5
         },
         "mode": "markers+text",
         "showlegend": false,
         "text": "Nauru",
         "textposition": "top center",
         "type": "scatter",
         "x": [
          1
         ],
         "y": [
          0
         ]
        },
        {
         "marker": {
          "color": "rgb(47, 59, 161)",
          "line": {
           "color": "Black",
           "width": 1
          },
          "opacity": 0.6,
          "size": 5.299401197604791
         },
         "mode": "markers+text",
         "showlegend": false,
         "text": "Nepal",
         "textposition": "top center",
         "type": "scatter",
         "x": [
          7
         ],
         "y": [
          0
         ]
        },
        {
         "marker": {
          "color": "rgb(47, 59, 161)",
          "line": {
           "color": "Black",
           "width": 1
          },
          "opacity": 0.6,
          "size": 5.299401197604791
         },
         "mode": "markers+text",
         "showlegend": false,
         "text": "Nicaragua",
         "textposition": "top center",
         "type": "scatter",
         "x": [
          7
         ],
         "y": [
          0
         ]
        },
        {
         "marker": {
          "color": "rgb(47, 59, 161)",
          "line": {
           "color": "Black",
           "width": 1
          },
          "opacity": 0.6,
          "size": 5.299401197604791
         },
         "mode": "markers+text",
         "showlegend": false,
         "text": "Niger",
         "textposition": "top center",
         "type": "scatter",
         "x": [
          7
         ],
         "y": [
          0
         ]
        },
        {
         "marker": {
          "color": "rgb(16, 120, 222)",
          "line": {
           "color": "Black",
           "width": 1
          },
          "opacity": 0.6,
          "size": 7.594810379241517
         },
         "mode": "markers+text",
         "showlegend": false,
         "text": "Nigeria",
         "textposition": "top center",
         "type": "scatter",
         "x": [
          53
         ],
         "y": [
          0
         ]
        },
        {
         "marker": {
          "color": "rgb(48, 56, 158)",
          "line": {
           "color": "Black",
           "width": 1
          },
          "opacity": 0.6,
          "size": 5.249500998003992
         },
         "mode": "markers+text",
         "showlegend": false,
         "text": "North Macedonia",
         "textposition": "top center",
         "type": "scatter",
         "x": [
          6
         ],
         "y": [
          0
         ]
        },
        {
         "marker": {
          "color": "rgb(49, 53, 155)",
          "line": {
           "color": "Black",
           "width": 1
          },
          "opacity": 0.6,
          "size": 5.149700598802395
         },
         "mode": "markers+text",
         "showlegend": false,
         "text": "Oman",
         "textposition": "top center",
         "type": "scatter",
         "x": [
          4
         ],
         "y": [
          0
         ]
        },
        {
         "marker": {
          "color": "rgb(49, 53, 155)",
          "line": {
           "color": "Black",
           "width": 1
          },
          "opacity": 0.6,
          "size": 5.099800399201597
         },
         "mode": "markers+text",
         "showlegend": false,
         "text": "Palau",
         "textposition": "top center",
         "type": "scatter",
         "x": [
          3
         ],
         "y": [
          0
         ]
        },
        {
         "marker": {
          "color": "rgb(47, 59, 161)",
          "line": {
           "color": "Black",
           "width": 1
          },
          "opacity": 0.6,
          "size": 5.349301397205589
         },
         "mode": "markers+text",
         "showlegend": false,
         "text": "Palestine",
         "textposition": "top center",
         "type": "scatter",
         "x": [
          8
         ],
         "y": [
          0
         ]
        },
        {
         "marker": {
          "color": "rgb(47, 59, 161)",
          "line": {
           "color": "Black",
           "width": 1
          },
          "opacity": 0.6,
          "size": 5.299401197604791
         },
         "mode": "markers+text",
         "showlegend": false,
         "text": "Papua New Guinea",
         "textposition": "top center",
         "type": "scatter",
         "x": [
          7
         ],
         "y": [
          0
         ]
        },
        {
         "marker": {
          "color": "rgb(45, 61, 163)",
          "line": {
           "color": "Black",
           "width": 1
          },
          "opacity": 0.6,
          "size": 5.449101796407185
         },
         "mode": "markers+text",
         "showlegend": false,
         "text": "Paraguay",
         "textposition": "top center",
         "type": "scatter",
         "x": [
          10
         ],
         "y": [
          0
         ]
        },
        {
         "marker": {
          "color": "rgb(47, 59, 161)",
          "line": {
           "color": "Black",
           "width": 1
          },
          "opacity": 0.6,
          "size": 5.349301397205589
         },
         "mode": "markers+text",
         "showlegend": false,
         "text": "Rwanda",
         "textposition": "top center",
         "type": "scatter",
         "x": [
          8
         ],
         "y": [
          0
         ]
        },
        {
         "marker": {
          "color": "rgb(43, 67, 169)",
          "line": {
           "color": "Black",
           "width": 1
          },
          "opacity": 0.6,
          "size": 5.598802395209581
         },
         "mode": "markers+text",
         "showlegend": false,
         "text": "Samoa",
         "textposition": "top center",
         "type": "scatter",
         "x": [
          13
         ],
         "y": [
          0
         ]
        },
        {
         "marker": {
          "color": "rgb(48, 56, 158)",
          "line": {
           "color": "Black",
           "width": 1
          },
          "opacity": 0.6,
          "size": 5.199600798403194
         },
         "mode": "markers+text",
         "showlegend": false,
         "text": "San Marino",
         "textposition": "top center",
         "type": "scatter",
         "x": [
          5
         ],
         "y": [
          0
         ]
        },
        {
         "marker": {
          "color": "rgb(49, 53, 155)",
          "line": {
           "color": "Black",
           "width": 1
          },
          "opacity": 0.6,
          "size": 5.099800399201597
         },
         "mode": "markers+text",
         "showlegend": false,
         "text": "Sao Tome & Principe",
         "textposition": "top center",
         "type": "scatter",
         "x": [
          3
         ],
         "y": [
          0
         ]
        },
        {
         "marker": {
          "color": "rgb(45, 61, 163)",
          "line": {
           "color": "Black",
           "width": 1
          },
          "opacity": 0.6,
          "size": 5.399201596806387
         },
         "mode": "markers+text",
         "showlegend": false,
         "text": "Saudi Arabia",
         "textposition": "top center",
         "type": "scatter",
         "x": [
          9
         ],
         "y": [
          0
         ]
        },
        {
         "marker": {
          "color": "rgb(43, 67, 169)",
          "line": {
           "color": "Black",
           "width": 1
          },
          "opacity": 0.6,
          "size": 5.598802395209581
         },
         "mode": "markers+text",
         "showlegend": false,
         "text": "Senegal",
         "textposition": "top center",
         "type": "scatter",
         "x": [
          13
         ],
         "y": [
          0
         ]
        },
        {
         "marker": {
          "color": "rgb(49, 53, 155)",
          "line": {
           "color": "Black",
           "width": 1
          },
          "opacity": 0.6,
          "size": 5.099800399201597
         },
         "mode": "markers+text",
         "showlegend": false,
         "text": "Seychelles",
         "textposition": "top center",
         "type": "scatter",
         "x": [
          3
         ],
         "y": [
          0
         ]
        },
        {
         "marker": {
          "color": "rgb(49, 53, 155)",
          "line": {
           "color": "Black",
           "width": 1
          },
          "opacity": 0.6,
          "size": 5.149700598802395
         },
         "mode": "markers+text",
         "showlegend": false,
         "text": "Sierra Leone",
         "textposition": "top center",
         "type": "scatter",
         "x": [
          4
         ],
         "y": [
          0
         ]
        },
        {
         "marker": {
          "color": "rgb(51, 51, 153)",
          "line": {
           "color": "Black",
           "width": 1
          },
          "opacity": 0.6,
          "size": 5.049900199600798
         },
         "mode": "markers+text",
         "showlegend": false,
         "text": "Solomon Islands",
         "textposition": "top center",
         "type": "scatter",
         "x": [
          2
         ],
         "y": [
          0
         ]
        },
        {
         "marker": {
          "color": "rgb(51, 51, 153)",
          "line": {
           "color": "Black",
           "width": 1
          },
          "opacity": 0.6,
          "size": 5
         },
         "mode": "markers+text",
         "showlegend": false,
         "text": "Somalia",
         "textposition": "top center",
         "type": "scatter",
         "x": [
          1
         ],
         "y": [
          0
         ]
        },
        {
         "marker": {
          "color": "rgb(49, 53, 155)",
          "line": {
           "color": "Black",
           "width": 1
          },
          "opacity": 0.6,
          "size": 5.099800399201597
         },
         "mode": "markers+text",
         "showlegend": false,
         "text": "South Sudan",
         "textposition": "top center",
         "type": "scatter",
         "x": [
          3
         ],
         "y": [
          0
         ]
        },
        {
         "marker": {
          "color": "rgb(48, 56, 158)",
          "line": {
           "color": "Black",
           "width": 1
          },
          "opacity": 0.6,
          "size": 5.249500998003992
         },
         "mode": "markers+text",
         "showlegend": false,
         "text": "Sri Lanka",
         "textposition": "top center",
         "type": "scatter",
         "x": [
          6
         ],
         "y": [
          0
         ]
        },
        {
         "marker": {
          "color": "rgb(49, 53, 155)",
          "line": {
           "color": "Black",
           "width": 1
          },
          "opacity": 0.6,
          "size": 5.099800399201597
         },
         "mode": "markers+text",
         "showlegend": false,
         "text": "St Kitts and Nevis",
         "textposition": "top center",
         "type": "scatter",
         "x": [
          3
         ],
         "y": [
          0
         ]
        },
        {
         "marker": {
          "color": "rgb(49, 53, 155)",
          "line": {
           "color": "Black",
           "width": 1
          },
          "opacity": 0.6,
          "size": 5.149700598802395
         },
         "mode": "markers+text",
         "showlegend": false,
         "text": "StVincent&Grenadines",
         "textposition": "top center",
         "type": "scatter",
         "x": [
          4
         ],
         "y": [
          0
         ]
        },
        {
         "marker": {
          "color": "rgb(49, 53, 155)",
          "line": {
           "color": "Black",
           "width": 1
          },
          "opacity": 0.6,
          "size": 5.149700598802395
         },
         "mode": "markers+text",
         "showlegend": false,
         "text": "Sudan",
         "textposition": "top center",
         "type": "scatter",
         "x": [
          4
         ],
         "y": [
          0
         ]
        },
        {
         "marker": {
          "color": "rgb(48, 56, 158)",
          "line": {
           "color": "Black",
           "width": 1
          },
          "opacity": 0.6,
          "size": 5.249500998003992
         },
         "mode": "markers+text",
         "showlegend": false,
         "text": "Suriname",
         "textposition": "top center",
         "type": "scatter",
         "x": [
          6
         ],
         "y": [
          0
         ]
        },
        {
         "marker": {
          "color": "rgb(45, 61, 163)",
          "line": {
           "color": "Black",
           "width": 1
          },
          "opacity": 0.6,
          "size": 5.399201596806387
         },
         "mode": "markers+text",
         "showlegend": false,
         "text": "Syria",
         "textposition": "top center",
         "type": "scatter",
         "x": [
          9
         ],
         "y": [
          0
         ]
        },
        {
         "marker": {
          "color": "rgb(47, 59, 161)",
          "line": {
           "color": "Black",
           "width": 1
          },
          "opacity": 0.6,
          "size": 5.299401197604791
         },
         "mode": "markers+text",
         "showlegend": false,
         "text": "Tanzania",
         "textposition": "top center",
         "type": "scatter",
         "x": [
          7
         ],
         "y": [
          0
         ]
        },
        {
         "marker": {
          "color": "rgb(49, 53, 155)",
          "line": {
           "color": "Black",
           "width": 1
          },
          "opacity": 0.6,
          "size": 5.149700598802395
         },
         "mode": "markers+text",
         "showlegend": false,
         "text": "Timor-Leste",
         "textposition": "top center",
         "type": "scatter",
         "x": [
          4
         ],
         "y": [
          0
         ]
        },
        {
         "marker": {
          "color": "rgb(48, 56, 158)",
          "line": {
           "color": "Black",
           "width": 1
          },
          "opacity": 0.6,
          "size": 5.199600798403194
         },
         "mode": "markers+text",
         "showlegend": false,
         "text": "Togo",
         "textposition": "top center",
         "type": "scatter",
         "x": [
          5
         ],
         "y": [
          0
         ]
        },
        {
         "marker": {
          "color": "rgb(49, 53, 155)",
          "line": {
           "color": "Black",
           "width": 1
          },
          "opacity": 0.6,
          "size": 5.149700598802395
         },
         "mode": "markers+text",
         "showlegend": false,
         "text": "Tonga",
         "textposition": "top center",
         "type": "scatter",
         "x": [
          4
         ],
         "y": [
          0
         ]
        },
        {
         "marker": {
          "color": "rgb(41, 69, 171)",
          "line": {
           "color": "Black",
           "width": 1
          },
          "opacity": 0.6,
          "size": 5.698602794411178
         },
         "mode": "markers+text",
         "showlegend": false,
         "text": "Trinidad and Tobago",
         "textposition": "top center",
         "type": "scatter",
         "x": [
          15
         ],
         "y": [
          0
         ]
        },
        {
         "marker": {
          "color": "rgb(48, 56, 158)",
          "line": {
           "color": "Black",
           "width": 1
          },
          "opacity": 0.6,
          "size": 5.249500998003992
         },
         "mode": "markers+text",
         "showlegend": false,
         "text": "Turkmenistan",
         "textposition": "top center",
         "type": "scatter",
         "x": [
          6
         ],
         "y": [
          0
         ]
        },
        {
         "marker": {
          "color": "rgb(51, 51, 153)",
          "line": {
           "color": "Black",
           "width": 1
          },
          "opacity": 0.6,
          "size": 5.049900199600798
         },
         "mode": "markers+text",
         "showlegend": false,
         "text": "Tuvalu",
         "textposition": "top center",
         "type": "scatter",
         "x": [
          2
         ],
         "y": [
          0
         ]
        },
        {
         "marker": {
          "color": "rgb(43, 67, 169)",
          "line": {
           "color": "Black",
           "width": 1
          },
          "opacity": 0.6,
          "size": 5.648702594810379
         },
         "mode": "markers+text",
         "showlegend": false,
         "text": "UA Emirates",
         "textposition": "top center",
         "type": "scatter",
         "x": [
          14
         ],
         "y": [
          0
         ]
        },
        {
         "marker": {
          "color": "rgb(43, 67, 169)",
          "line": {
           "color": "Black",
           "width": 1
          },
          "opacity": 0.6,
          "size": 5.598802395209581
         },
         "mode": "markers+text",
         "showlegend": false,
         "text": "Uruguay",
         "textposition": "top center",
         "type": "scatter",
         "x": [
          13
         ],
         "y": [
          0
         ]
        },
        {
         "marker": {
          "color": "rgb(48, 56, 158)",
          "line": {
           "color": "Black",
           "width": 1
          },
          "opacity": 0.6,
          "size": 5.249500998003992
         },
         "mode": "markers+text",
         "showlegend": false,
         "text": "Vanuatu",
         "textposition": "top center",
         "type": "scatter",
         "x": [
          6
         ],
         "y": [
          0
         ]
        },
        {
         "marker": {
          "color": "rgb(29, 93, 195)",
          "line": {
           "color": "Black",
           "width": 1
          },
          "opacity": 0.6,
          "size": 6.6467065868263475
         },
         "mode": "markers+text",
         "showlegend": false,
         "text": "Venezuela",
         "textposition": "top center",
         "type": "scatter",
         "x": [
          34
         ],
         "y": [
          0
         ]
        },
        {
         "marker": {
          "color": "rgb(39, 75, 177)",
          "line": {
           "color": "Black",
           "width": 1
          },
          "opacity": 0.6,
          "size": 5.8982035928143715
         },
         "mode": "markers+text",
         "showlegend": false,
         "text": "Vietnam",
         "textposition": "top center",
         "type": "scatter",
         "x": [
          19
         ],
         "y": [
          0
         ]
        },
        {
         "marker": {
          "color": "rgb(49, 53, 155)",
          "line": {
           "color": "Black",
           "width": 1
          },
          "opacity": 0.6,
          "size": 5.149700598802395
         },
         "mode": "markers+text",
         "showlegend": false,
         "text": "Virgin Islands, B",
         "textposition": "top center",
         "type": "scatter",
         "x": [
          4
         ],
         "y": [
          0
         ]
        },
        {
         "marker": {
          "color": "rgb(48, 56, 158)",
          "line": {
           "color": "Black",
           "width": 1
          },
          "opacity": 0.6,
          "size": 5.199600798403194
         },
         "mode": "markers+text",
         "showlegend": false,
         "text": "Virgin Islands, US",
         "textposition": "top center",
         "type": "scatter",
         "x": [
          5
         ],
         "y": [
          0
         ]
        },
        {
         "marker": {
          "color": "rgb(49, 53, 155)",
          "line": {
           "color": "Black",
           "width": 1
          },
          "opacity": 0.6,
          "size": 5.149700598802395
         },
         "mode": "markers+text",
         "showlegend": false,
         "text": "Yemen",
         "textposition": "top center",
         "type": "scatter",
         "x": [
          4
         ],
         "y": [
          0
         ]
        },
        {
         "marker": {
          "color": "rgb(47, 59, 161)",
          "line": {
           "color": "Black",
           "width": 1
          },
          "opacity": 0.6,
          "size": 5.299401197604791
         },
         "mode": "markers+text",
         "showlegend": false,
         "text": "Zimbabwe",
         "textposition": "top center",
         "type": "scatter",
         "x": [
          7
         ],
         "y": [
          0
         ]
        }
       ],
       "layout": {
        "height": 800,
        "margin": {
         "b": 40,
         "l": 40,
         "r": 40,
         "t": 40
        },
        "template": {
         "data": {
          "bar": [
           {
            "error_x": {
             "color": "#2a3f5f"
            },
            "error_y": {
             "color": "#2a3f5f"
            },
            "marker": {
             "line": {
              "color": "#E5ECF6",
              "width": 0.5
             },
             "pattern": {
              "fillmode": "overlay",
              "size": 10,
              "solidity": 0.2
             }
            },
            "type": "bar"
           }
          ],
          "barpolar": [
           {
            "marker": {
             "line": {
              "color": "#E5ECF6",
              "width": 0.5
             },
             "pattern": {
              "fillmode": "overlay",
              "size": 10,
              "solidity": 0.2
             }
            },
            "type": "barpolar"
           }
          ],
          "carpet": [
           {
            "aaxis": {
             "endlinecolor": "#2a3f5f",
             "gridcolor": "white",
             "linecolor": "white",
             "minorgridcolor": "white",
             "startlinecolor": "#2a3f5f"
            },
            "baxis": {
             "endlinecolor": "#2a3f5f",
             "gridcolor": "white",
             "linecolor": "white",
             "minorgridcolor": "white",
             "startlinecolor": "#2a3f5f"
            },
            "type": "carpet"
           }
          ],
          "choropleth": [
           {
            "colorbar": {
             "outlinewidth": 0,
             "ticks": ""
            },
            "type": "choropleth"
           }
          ],
          "contour": [
           {
            "colorbar": {
             "outlinewidth": 0,
             "ticks": ""
            },
            "colorscale": [
             [
              0,
              "#0d0887"
             ],
             [
              0.1111111111111111,
              "#46039f"
             ],
             [
              0.2222222222222222,
              "#7201a8"
             ],
             [
              0.3333333333333333,
              "#9c179e"
             ],
             [
              0.4444444444444444,
              "#bd3786"
             ],
             [
              0.5555555555555556,
              "#d8576b"
             ],
             [
              0.6666666666666666,
              "#ed7953"
             ],
             [
              0.7777777777777778,
              "#fb9f3a"
             ],
             [
              0.8888888888888888,
              "#fdca26"
             ],
             [
              1,
              "#f0f921"
             ]
            ],
            "type": "contour"
           }
          ],
          "contourcarpet": [
           {
            "colorbar": {
             "outlinewidth": 0,
             "ticks": ""
            },
            "type": "contourcarpet"
           }
          ],
          "heatmap": [
           {
            "colorbar": {
             "outlinewidth": 0,
             "ticks": ""
            },
            "colorscale": [
             [
              0,
              "#0d0887"
             ],
             [
              0.1111111111111111,
              "#46039f"
             ],
             [
              0.2222222222222222,
              "#7201a8"
             ],
             [
              0.3333333333333333,
              "#9c179e"
             ],
             [
              0.4444444444444444,
              "#bd3786"
             ],
             [
              0.5555555555555556,
              "#d8576b"
             ],
             [
              0.6666666666666666,
              "#ed7953"
             ],
             [
              0.7777777777777778,
              "#fb9f3a"
             ],
             [
              0.8888888888888888,
              "#fdca26"
             ],
             [
              1,
              "#f0f921"
             ]
            ],
            "type": "heatmap"
           }
          ],
          "heatmapgl": [
           {
            "colorbar": {
             "outlinewidth": 0,
             "ticks": ""
            },
            "colorscale": [
             [
              0,
              "#0d0887"
             ],
             [
              0.1111111111111111,
              "#46039f"
             ],
             [
              0.2222222222222222,
              "#7201a8"
             ],
             [
              0.3333333333333333,
              "#9c179e"
             ],
             [
              0.4444444444444444,
              "#bd3786"
             ],
             [
              0.5555555555555556,
              "#d8576b"
             ],
             [
              0.6666666666666666,
              "#ed7953"
             ],
             [
              0.7777777777777778,
              "#fb9f3a"
             ],
             [
              0.8888888888888888,
              "#fdca26"
             ],
             [
              1,
              "#f0f921"
             ]
            ],
            "type": "heatmapgl"
           }
          ],
          "histogram": [
           {
            "marker": {
             "pattern": {
              "fillmode": "overlay",
              "size": 10,
              "solidity": 0.2
             }
            },
            "type": "histogram"
           }
          ],
          "histogram2d": [
           {
            "colorbar": {
             "outlinewidth": 0,
             "ticks": ""
            },
            "colorscale": [
             [
              0,
              "#0d0887"
             ],
             [
              0.1111111111111111,
              "#46039f"
             ],
             [
              0.2222222222222222,
              "#7201a8"
             ],
             [
              0.3333333333333333,
              "#9c179e"
             ],
             [
              0.4444444444444444,
              "#bd3786"
             ],
             [
              0.5555555555555556,
              "#d8576b"
             ],
             [
              0.6666666666666666,
              "#ed7953"
             ],
             [
              0.7777777777777778,
              "#fb9f3a"
             ],
             [
              0.8888888888888888,
              "#fdca26"
             ],
             [
              1,
              "#f0f921"
             ]
            ],
            "type": "histogram2d"
           }
          ],
          "histogram2dcontour": [
           {
            "colorbar": {
             "outlinewidth": 0,
             "ticks": ""
            },
            "colorscale": [
             [
              0,
              "#0d0887"
             ],
             [
              0.1111111111111111,
              "#46039f"
             ],
             [
              0.2222222222222222,
              "#7201a8"
             ],
             [
              0.3333333333333333,
              "#9c179e"
             ],
             [
              0.4444444444444444,
              "#bd3786"
             ],
             [
              0.5555555555555556,
              "#d8576b"
             ],
             [
              0.6666666666666666,
              "#ed7953"
             ],
             [
              0.7777777777777778,
              "#fb9f3a"
             ],
             [
              0.8888888888888888,
              "#fdca26"
             ],
             [
              1,
              "#f0f921"
             ]
            ],
            "type": "histogram2dcontour"
           }
          ],
          "mesh3d": [
           {
            "colorbar": {
             "outlinewidth": 0,
             "ticks": ""
            },
            "type": "mesh3d"
           }
          ],
          "parcoords": [
           {
            "line": {
             "colorbar": {
              "outlinewidth": 0,
              "ticks": ""
             }
            },
            "type": "parcoords"
           }
          ],
          "pie": [
           {
            "automargin": true,
            "type": "pie"
           }
          ],
          "scatter": [
           {
            "fillpattern": {
             "fillmode": "overlay",
             "size": 10,
             "solidity": 0.2
            },
            "type": "scatter"
           }
          ],
          "scatter3d": [
           {
            "line": {
             "colorbar": {
              "outlinewidth": 0,
              "ticks": ""
             }
            },
            "marker": {
             "colorbar": {
              "outlinewidth": 0,
              "ticks": ""
             }
            },
            "type": "scatter3d"
           }
          ],
          "scattercarpet": [
           {
            "marker": {
             "colorbar": {
              "outlinewidth": 0,
              "ticks": ""
             }
            },
            "type": "scattercarpet"
           }
          ],
          "scattergeo": [
           {
            "marker": {
             "colorbar": {
              "outlinewidth": 0,
              "ticks": ""
             }
            },
            "type": "scattergeo"
           }
          ],
          "scattergl": [
           {
            "marker": {
             "colorbar": {
              "outlinewidth": 0,
              "ticks": ""
             }
            },
            "type": "scattergl"
           }
          ],
          "scattermapbox": [
           {
            "marker": {
             "colorbar": {
              "outlinewidth": 0,
              "ticks": ""
             }
            },
            "type": "scattermapbox"
           }
          ],
          "scatterpolar": [
           {
            "marker": {
             "colorbar": {
              "outlinewidth": 0,
              "ticks": ""
             }
            },
            "type": "scatterpolar"
           }
          ],
          "scatterpolargl": [
           {
            "marker": {
             "colorbar": {
              "outlinewidth": 0,
              "ticks": ""
             }
            },
            "type": "scatterpolargl"
           }
          ],
          "scatterternary": [
           {
            "marker": {
             "colorbar": {
              "outlinewidth": 0,
              "ticks": ""
             }
            },
            "type": "scatterternary"
           }
          ],
          "surface": [
           {
            "colorbar": {
             "outlinewidth": 0,
             "ticks": ""
            },
            "colorscale": [
             [
              0,
              "#0d0887"
             ],
             [
              0.1111111111111111,
              "#46039f"
             ],
             [
              0.2222222222222222,
              "#7201a8"
             ],
             [
              0.3333333333333333,
              "#9c179e"
             ],
             [
              0.4444444444444444,
              "#bd3786"
             ],
             [
              0.5555555555555556,
              "#d8576b"
             ],
             [
              0.6666666666666666,
              "#ed7953"
             ],
             [
              0.7777777777777778,
              "#fb9f3a"
             ],
             [
              0.8888888888888888,
              "#fdca26"
             ],
             [
              1,
              "#f0f921"
             ]
            ],
            "type": "surface"
           }
          ],
          "table": [
           {
            "cells": {
             "fill": {
              "color": "#EBF0F8"
             },
             "line": {
              "color": "white"
             }
            },
            "header": {
             "fill": {
              "color": "#C8D4E3"
             },
             "line": {
              "color": "white"
             }
            },
            "type": "table"
           }
          ]
         },
         "layout": {
          "annotationdefaults": {
           "arrowcolor": "#2a3f5f",
           "arrowhead": 0,
           "arrowwidth": 1
          },
          "autotypenumbers": "strict",
          "coloraxis": {
           "colorbar": {
            "outlinewidth": 0,
            "ticks": ""
           }
          },
          "colorscale": {
           "diverging": [
            [
             0,
             "#8e0152"
            ],
            [
             0.1,
             "#c51b7d"
            ],
            [
             0.2,
             "#de77ae"
            ],
            [
             0.3,
             "#f1b6da"
            ],
            [
             0.4,
             "#fde0ef"
            ],
            [
             0.5,
             "#f7f7f7"
            ],
            [
             0.6,
             "#e6f5d0"
            ],
            [
             0.7,
             "#b8e186"
            ],
            [
             0.8,
             "#7fbc41"
            ],
            [
             0.9,
             "#4d9221"
            ],
            [
             1,
             "#276419"
            ]
           ],
           "sequential": [
            [
             0,
             "#0d0887"
            ],
            [
             0.1111111111111111,
             "#46039f"
            ],
            [
             0.2222222222222222,
             "#7201a8"
            ],
            [
             0.3333333333333333,
             "#9c179e"
            ],
            [
             0.4444444444444444,
             "#bd3786"
            ],
            [
             0.5555555555555556,
             "#d8576b"
            ],
            [
             0.6666666666666666,
             "#ed7953"
            ],
            [
             0.7777777777777778,
             "#fb9f3a"
            ],
            [
             0.8888888888888888,
             "#fdca26"
            ],
            [
             1,
             "#f0f921"
            ]
           ],
           "sequentialminus": [
            [
             0,
             "#0d0887"
            ],
            [
             0.1111111111111111,
             "#46039f"
            ],
            [
             0.2222222222222222,
             "#7201a8"
            ],
            [
             0.3333333333333333,
             "#9c179e"
            ],
            [
             0.4444444444444444,
             "#bd3786"
            ],
            [
             0.5555555555555556,
             "#d8576b"
            ],
            [
             0.6666666666666666,
             "#ed7953"
            ],
            [
             0.7777777777777778,
             "#fb9f3a"
            ],
            [
             0.8888888888888888,
             "#fdca26"
            ],
            [
             1,
             "#f0f921"
            ]
           ]
          },
          "colorway": [
           "#636efa",
           "#EF553B",
           "#00cc96",
           "#ab63fa",
           "#FFA15A",
           "#19d3f3",
           "#FF6692",
           "#B6E880",
           "#FF97FF",
           "#FECB52"
          ],
          "font": {
           "color": "#2a3f5f"
          },
          "geo": {
           "bgcolor": "white",
           "lakecolor": "white",
           "landcolor": "#E5ECF6",
           "showlakes": true,
           "showland": true,
           "subunitcolor": "white"
          },
          "hoverlabel": {
           "align": "left"
          },
          "hovermode": "closest",
          "mapbox": {
           "style": "light"
          },
          "paper_bgcolor": "white",
          "plot_bgcolor": "#E5ECF6",
          "polar": {
           "angularaxis": {
            "gridcolor": "white",
            "linecolor": "white",
            "ticks": ""
           },
           "bgcolor": "#E5ECF6",
           "radialaxis": {
            "gridcolor": "white",
            "linecolor": "white",
            "ticks": ""
           }
          },
          "scene": {
           "xaxis": {
            "backgroundcolor": "#E5ECF6",
            "gridcolor": "white",
            "gridwidth": 2,
            "linecolor": "white",
            "showbackground": true,
            "ticks": "",
            "zerolinecolor": "white"
           },
           "yaxis": {
            "backgroundcolor": "#E5ECF6",
            "gridcolor": "white",
            "gridwidth": 2,
            "linecolor": "white",
            "showbackground": true,
            "ticks": "",
            "zerolinecolor": "white"
           },
           "zaxis": {
            "backgroundcolor": "#E5ECF6",
            "gridcolor": "white",
            "gridwidth": 2,
            "linecolor": "white",
            "showbackground": true,
            "ticks": "",
            "zerolinecolor": "white"
           }
          },
          "shapedefaults": {
           "line": {
            "color": "#2a3f5f"
           }
          },
          "ternary": {
           "aaxis": {
            "gridcolor": "white",
            "linecolor": "white",
            "ticks": ""
           },
           "baxis": {
            "gridcolor": "white",
            "linecolor": "white",
            "ticks": ""
           },
           "bgcolor": "#E5ECF6",
           "caxis": {
            "gridcolor": "white",
            "linecolor": "white",
            "ticks": ""
           }
          },
          "title": {
           "x": 0.05
          },
          "xaxis": {
           "automargin": true,
           "gridcolor": "white",
           "linecolor": "white",
           "ticks": "",
           "title": {
            "standoff": 15
           },
           "zerolinecolor": "white",
           "zerolinewidth": 2
          },
          "yaxis": {
           "automargin": true,
           "gridcolor": "white",
           "linecolor": "white",
           "ticks": "",
           "title": {
            "standoff": 15
           },
           "zerolinecolor": "white",
           "zerolinewidth": 2
          }
         }
        },
        "title": {
         "text": "Medal Rate vs Chances"
        },
        "width": 800,
        "xaxis": {
         "dtick": 20,
         "gridcolor": "LightGray",
         "gridwidth": 0.5,
         "title": {
          "standoff": 10,
          "text": "Medal Chances"
         },
         "zeroline": true,
         "zerolinecolor": "Gray",
         "zerolinewidth": 2
        },
        "yaxis": {
         "dtick": 0.1,
         "gridcolor": "LightGray",
         "gridwidth": 0.5,
         "title": {
          "standoff": 10,
          "text": "Medal Rate"
         },
         "zeroline": true,
         "zerolinecolor": "Gray",
         "zerolinewidth": 2
        }
       }
      }
     },
     "metadata": {},
     "output_type": "display_data"
    }
   ],
   "source": [
    "# Setup\n",
    "config = {\n",
    "    # Data\n",
    "    \"name_col\": \"country\",\n",
    "    \"size_col\": \"entries\",\n",
    "    \"color_col\": \"entries\",\n",
    "    \"x_axis_col\": \"entries\",\n",
    "    \"y_axis_col\": \"medal_rate_unweighted\",\n",
    "    # Labels\n",
    "    \"title\": \"Medal Rate vs Chances\",\n",
    "    \"x_axis_title\": \"Medal Chances\",\n",
    "    \"y_axis_title\": \"Medal Rate\",\n",
    "    # Formatting\n",
    "    \"min_point_size\": 5,\n",
    "    \"max_point_size\": 30,\n",
    "    \"x_axis_dtick\": 20,\n",
    "    \"y_axis_dtick\": 0.1,\n",
    "    \"width\": 800,\n",
    "    \"height\": 800\n",
    "}\n",
    "\n",
    "# Plot and save html version\n",
    "fig = plotly_scatter_v1(rate_df, config)\n",
    "fig.write_html(\"md/olympic_medals/medal_rate_vs_chances.html\")\n"
   ]
  },
  {
   "cell_type": "markdown",
   "metadata": {},
   "source": [
    "#### 3.4 Weighted Medal Rate vs Chances"
   ]
  },
  {
   "cell_type": "code",
   "execution_count": 111,
   "metadata": {},
   "outputs": [
    {
     "data": {
      "application/vnd.plotly.v1+json": {
       "config": {
        "plotlyServerURL": "https://plot.ly"
       },
       "data": [
        {
         "marker": {
          "color": "rgb(48, 56, 158)",
          "line": {
           "color": "Black",
           "width": 1
          },
          "opacity": 0.6,
          "size": 5.199600798403194
         },
         "mode": "markers+text",
         "showlegend": false,
         "text": "Saint Lucia",
         "textposition": "top center",
         "type": "scatter",
         "x": [
          5
         ],
         "y": [
          0.7
         ]
        },
        {
         "marker": {
          "color": "rgb(49, 53, 155)",
          "line": {
           "color": "Black",
           "width": 1
          },
          "opacity": 0.6,
          "size": 5.149700598802395
         },
         "mode": "markers+text",
         "showlegend": false,
         "text": "Dominica",
         "textposition": "top center",
         "type": "scatter",
         "x": [
          4
         ],
         "y": [
          0.5
         ]
        },
        {
         "marker": {
          "color": "rgb(41, 69, 171)",
          "line": {
           "color": "Black",
           "width": 1
          },
          "opacity": 0.6,
          "size": 5.698602794411178
         },
         "mode": "markers+text",
         "showlegend": false,
         "text": "DPR Korea",
         "textposition": "top center",
         "type": "scatter",
         "x": [
          15
         ],
         "y": [
          0.4666666666666667
         ]
        },
        {
         "marker": {
          "color": "rgb(24, 104, 206)",
          "line": {
           "color": "Black",
           "width": 1
          },
          "opacity": 0.6,
          "size": 6.996007984031936
         },
         "mode": "markers+text",
         "showlegend": false,
         "text": "IR Iran",
         "textposition": "top center",
         "type": "scatter",
         "x": [
          41
         ],
         "y": [
          0.43902439024390244
         ]
        },
        {
         "marker": {
          "color": "rgb(41, 69, 171)",
          "line": {
           "color": "Black",
           "width": 1
          },
          "opacity": 0.6,
          "size": 5.698602794411178
         },
         "mode": "markers+text",
         "showlegend": false,
         "text": "Bahrain",
         "textposition": "top center",
         "type": "scatter",
         "x": [
          15
         ],
         "y": [
          0.43333333333333335
         ]
        },
        {
         "marker": {
          "color": "rgb(40, 72, 174)",
          "line": {
           "color": "Black",
           "width": 1
          },
          "opacity": 0.6,
          "size": 5.798403193612774
         },
         "mode": "markers+text",
         "showlegend": false,
         "text": "Kyrgyzstan",
         "textposition": "top center",
         "type": "scatter",
         "x": [
          17
         ],
         "y": [
          0.4117647058823529
         ]
        },
        {
         "marker": {
          "color": "rgb(130, 95, 85)",
          "line": {
           "color": "Black",
           "width": 1
          },
          "opacity": 0.6,
          "size": 23.562874251497004
         },
         "mode": "markers+text",
         "showlegend": false,
         "text": "China",
         "textposition": "top center",
         "type": "scatter",
         "x": [
          373
         ],
         "y": [
          0.3873994638069705
         ]
        },
        {
         "marker": {
          "color": "rgb(32, 88, 190)",
          "line": {
           "color": "Black",
           "width": 1
          },
          "opacity": 0.6,
          "size": 6.447105788423154
         },
         "mode": "markers+text",
         "showlegend": false,
         "text": "Georgia",
         "textposition": "top center",
         "type": "scatter",
         "x": [
          30
         ],
         "y": [
          0.38333333333333336
         ]
        },
        {
         "marker": {
          "color": "rgb(255, 255, 255)",
          "line": {
           "color": "Black",
           "width": 1
          },
          "opacity": 0.6,
          "size": 30
         },
         "mode": "markers+text",
         "showlegend": false,
         "text": "United States",
         "textposition": "top center",
         "type": "scatter",
         "x": [
          502
         ],
         "y": [
          0.3745019920318725
         ]
        },
        {
         "marker": {
          "color": "rgb(41, 69, 171)",
          "line": {
           "color": "Black",
           "width": 1
          },
          "opacity": 0.6,
          "size": 5.698602794411178
         },
         "mode": "markers+text",
         "showlegend": false,
         "text": "Armenia",
         "textposition": "top center",
         "type": "scatter",
         "x": [
          15
         ],
         "y": [
          0.36666666666666664
         ]
        },
        {
         "marker": {
          "color": "rgb(48, 56, 158)",
          "line": {
           "color": "Black",
           "width": 1
          },
          "opacity": 0.6,
          "size": 5.249500998003992
         },
         "mode": "markers+text",
         "showlegend": false,
         "text": "Grenada",
         "textposition": "top center",
         "type": "scatter",
         "x": [
          6
         ],
         "y": [
          0.3333333333333333
         ]
        },
        {
         "marker": {
          "color": "rgb(19, 115, 217)",
          "line": {
           "color": "Black",
           "width": 1
          },
          "opacity": 0.6,
          "size": 7.345309381237525
         },
         "mode": "markers+text",
         "showlegend": false,
         "text": "Kenya",
         "textposition": "top center",
         "type": "scatter",
         "x": [
          48
         ],
         "y": [
          0.3333333333333333
         ]
        },
        {
         "marker": {
          "color": "rgb(72, 218, 116)",
          "line": {
           "color": "Black",
           "width": 1
          },
          "opacity": 0.6,
          "size": 13.08383233532934
         },
         "mode": "markers+text",
         "showlegend": false,
         "text": "Korea",
         "textposition": "top center",
         "type": "scatter",
         "x": [
          163
         ],
         "y": [
          0.30368098159509205
         ]
        },
        {
         "marker": {
          "color": "rgb(0, 154, 250)",
          "line": {
           "color": "Black",
           "width": 1
          },
          "opacity": 0.6,
          "size": 8.892215568862277
         },
         "mode": "markers+text",
         "showlegend": false,
         "text": "Uzbekistan",
         "textposition": "top center",
         "type": "scatter",
         "x": [
          79
         ],
         "y": [
          0.27848101265822783
         ]
        },
        {
         "marker": {
          "color": "rgb(45, 61, 163)",
          "line": {
           "color": "Black",
           "width": 1
          },
          "opacity": 0.6,
          "size": 5.399201596806387
         },
         "mode": "markers+text",
         "showlegend": false,
         "text": "Kosovo",
         "textposition": "top center",
         "type": "scatter",
         "x": [
          9
         ],
         "y": [
          0.2777777777777778
         ]
        },
        {
         "marker": {
          "color": "rgb(178, 156, 111)",
          "line": {
           "color": "Black",
           "width": 1
          },
          "opacity": 0.6,
          "size": 21.26746506986028
         },
         "mode": "markers+text",
         "showlegend": false,
         "text": "Great Britain",
         "textposition": "top center",
         "type": "scatter",
         "x": [
          327
         ],
         "y": [
          0.27522935779816515
         ]
        },
        {
         "marker": {
          "color": "rgb(43, 67, 169)",
          "line": {
           "color": "Black",
           "width": 1
          },
          "opacity": 0.6,
          "size": 5.598802395209581
         },
         "mode": "markers+text",
         "showlegend": false,
         "text": "Botswana",
         "textposition": "top center",
         "type": "scatter",
         "x": [
          13
         ],
         "y": [
          0.2692307692307692
         ]
        },
        {
         "marker": {
          "color": "rgb(1, 204, 102)",
          "line": {
           "color": "Black",
           "width": 1
          },
          "opacity": 0.6,
          "size": 11.2874251497006
         },
         "mode": "markers+text",
         "showlegend": false,
         "text": "New Zealand",
         "textposition": "top center",
         "type": "scatter",
         "x": [
          127
         ],
         "y": [
          0.2637795275590551
         ]
        },
        {
         "marker": {
          "color": "rgb(24, 104, 206)",
          "line": {
           "color": "Black",
           "width": 1
          },
          "opacity": 0.6,
          "size": 7.045908183632735
         },
         "mode": "markers+text",
         "showlegend": false,
         "text": "Azerbaijan",
         "textposition": "top center",
         "type": "scatter",
         "x": [
          42
         ],
         "y": [
          0.23809523809523808
         ]
        },
        {
         "marker": {
          "color": "rgb(157, 129, 123)",
          "line": {
           "color": "Black",
           "width": 1
          },
          "opacity": 0.6,
          "size": 25.209580838323355
         },
         "mode": "markers+text",
         "showlegend": false,
         "text": "France",
         "textposition": "top center",
         "type": "scatter",
         "x": [
          406
         ],
         "y": [
          0.229064039408867
         ]
        },
        {
         "marker": {
          "color": "rgb(142, 110, 91)",
          "line": {
           "color": "Black",
           "width": 1
          },
          "opacity": 0.6,
          "size": 23.013972055888225
         },
         "mode": "markers+text",
         "showlegend": false,
         "text": "Australia",
         "textposition": "top center",
         "type": "scatter",
         "x": [
          362
         ],
         "y": [
          0.2223756906077348
         ]
        },
        {
         "marker": {
          "color": "rgb(45, 61, 163)",
          "line": {
           "color": "Black",
           "width": 1
          },
          "opacity": 0.6,
          "size": 5.399201596806387
         },
         "mode": "markers+text",
         "showlegend": false,
         "text": "Albania",
         "textposition": "top center",
         "type": "scatter",
         "x": [
          9
         ],
         "y": [
          0.2222222222222222
         ]
        },
        {
         "marker": {
          "color": "rgb(45, 61, 163)",
          "line": {
           "color": "Black",
           "width": 1
          },
          "opacity": 0.6,
          "size": 5.399201596806387
         },
         "mode": "markers+text",
         "showlegend": false,
         "text": "Pakistan",
         "textposition": "top center",
         "type": "scatter",
         "x": [
          9
         ],
         "y": [
          0.2222222222222222
         ]
        },
        {
         "marker": {
          "color": "rgb(184, 164, 114)",
          "line": {
           "color": "Black",
           "width": 1
          },
          "opacity": 0.6,
          "size": 20.968063872255488
         },
         "mode": "markers+text",
         "showlegend": false,
         "text": "Japan",
         "textposition": "top center",
         "type": "scatter",
         "x": [
          321
         ],
         "y": [
          0.22118380062305296
         ]
        },
        {
         "marker": {
          "color": "rgb(43, 67, 169)",
          "line": {
           "color": "Black",
           "width": 1
          },
          "opacity": 0.6,
          "size": 5.648702594810379
         },
         "mode": "markers+text",
         "showlegend": false,
         "text": "Tajikistan",
         "textposition": "top center",
         "type": "scatter",
         "x": [
          14
         ],
         "y": [
          0.21428571428571427
         ]
        },
        {
         "marker": {
          "color": "rgb(245, 253, 151)",
          "line": {
           "color": "Black",
           "width": 1
          },
          "opacity": 0.6,
          "size": 17.22554890219561
         },
         "mode": "markers+text",
         "showlegend": false,
         "text": "Netherlands",
         "textposition": "top center",
         "type": "scatter",
         "x": [
          246
         ],
         "y": [
          0.21341463414634146
         ]
        },
        {
         "marker": {
          "color": "rgb(16, 120, 222)",
          "line": {
           "color": "Black",
           "width": 1
          },
          "opacity": 0.6,
          "size": 7.594810379241517
         },
         "mode": "markers+text",
         "showlegend": false,
         "text": "Bulgaria",
         "textposition": "top center",
         "type": "scatter",
         "x": [
          53
         ],
         "y": [
          0.19811320754716982
         ]
        },
        {
         "marker": {
          "color": "rgb(17, 117, 219)",
          "line": {
           "color": "Black",
           "width": 1
          },
          "opacity": 0.6,
          "size": 7.495009980039921
         },
         "mode": "markers+text",
         "showlegend": false,
         "text": "Croatia",
         "textposition": "top center",
         "type": "scatter",
         "x": [
          51
         ],
         "y": [
          0.19607843137254902
         ]
        },
        {
         "marker": {
          "color": "rgb(11, 131, 233)",
          "line": {
           "color": "Black",
           "width": 1
          },
          "opacity": 0.6,
          "size": 7.994011976047904
         },
         "mode": "markers+text",
         "showlegend": false,
         "text": "Cuba",
         "textposition": "top center",
         "type": "scatter",
         "x": [
          61
         ],
         "y": [
          0.1885245901639344
         ]
        },
        {
         "marker": {
          "color": "rgb(41, 69, 171)",
          "line": {
           "color": "Black",
           "width": 1
          },
          "opacity": 0.6,
          "size": 5.748502994011976
         },
         "mode": "markers+text",
         "showlegend": false,
         "text": "Guatemala",
         "textposition": "top center",
         "type": "scatter",
         "x": [
          16
         ],
         "y": [
          0.1875
         ]
        },
        {
         "marker": {
          "color": "rgb(28, 96, 198)",
          "line": {
           "color": "Black",
           "width": 1
          },
          "opacity": 0.6,
          "size": 6.696606786427146
         },
         "mode": "markers+text",
         "showlegend": false,
         "text": "Ethiopia",
         "textposition": "top center",
         "type": "scatter",
         "x": [
          35
         ],
         "y": [
          0.18571428571428572
         ]
        },
        {
         "marker": {
          "color": "rgb(57, 215, 113)",
          "line": {
           "color": "Black",
           "width": 1
          },
          "opacity": 0.6,
          "size": 12.634730538922156
         },
         "mode": "markers+text",
         "showlegend": false,
         "text": "Hungary",
         "textposition": "top center",
         "type": "scatter",
         "x": [
          154
         ],
         "y": [
          0.18506493506493507
         ]
        },
        {
         "marker": {
          "color": "rgb(24, 104, 206)",
          "line": {
           "color": "Black",
           "width": 1
          },
          "opacity": 0.6,
          "size": 6.996007984031936
         },
         "mode": "markers+text",
         "showlegend": false,
         "text": "AIN",
         "textposition": "top center",
         "type": "scatter",
         "x": [
          41
         ],
         "y": [
          0.18292682926829268
         ]
        },
        {
         "marker": {
          "color": "rgb(29, 93, 195)",
          "line": {
           "color": "Black",
           "width": 1
          },
          "opacity": 0.6,
          "size": 6.6467065868263475
         },
         "mode": "markers+text",
         "showlegend": false,
         "text": "Hong Kong, China",
         "textposition": "top center",
         "type": "scatter",
         "x": [
          34
         ],
         "y": [
          0.17647058823529413
         ]
        },
        {
         "marker": {
          "color": "rgb(32, 88, 190)",
          "line": {
           "color": "Black",
           "width": 1
          },
          "opacity": 0.6,
          "size": 6.397205588822356
         },
         "mode": "markers+text",
         "showlegend": false,
         "text": "Indonesia",
         "textposition": "top center",
         "type": "scatter",
         "x": [
          29
         ],
         "y": [
          0.1724137931034483
         ]
        },
        {
         "marker": {
          "color": "rgb(0, 158, 238)",
          "line": {
           "color": "Black",
           "width": 1
          },
          "opacity": 0.6,
          "size": 9.09181636726547
         },
         "mode": "markers+text",
         "showlegend": false,
         "text": "Romania",
         "textposition": "top center",
         "type": "scatter",
         "x": [
          83
         ],
         "y": [
          0.1686746987951807
         ]
        },
        {
         "marker": {
          "color": "rgb(0, 180, 172)",
          "line": {
           "color": "Black",
           "width": 1
          },
          "opacity": 0.6,
          "size": 10.089820359281436
         },
         "mode": "markers+text",
         "showlegend": false,
         "text": "Sweden",
         "textposition": "top center",
         "type": "scatter",
         "x": [
          103
         ],
         "y": [
          0.1650485436893204
         ]
        },
        {
         "marker": {
          "color": "rgb(33, 85, 187)",
          "line": {
           "color": "Black",
           "width": 1
          },
          "opacity": 0.6,
          "size": 6.347305389221557
         },
         "mode": "markers+text",
         "showlegend": false,
         "text": "Republic of Moldova",
         "textposition": "top center",
         "type": "scatter",
         "x": [
          28
         ],
         "y": [
          0.16071428571428573
         ]
        },
        {
         "marker": {
          "color": "rgb(16, 120, 222)",
          "line": {
           "color": "Black",
           "width": 1
          },
          "opacity": 0.6,
          "size": 7.594810379241517
         },
         "mode": "markers+text",
         "showlegend": false,
         "text": "Thailand",
         "textposition": "top center",
         "type": "scatter",
         "x": [
          53
         ],
         "y": [
          0.16037735849056603
         ]
        },
        {
         "marker": {
          "color": "rgb(23, 107, 209)",
          "line": {
           "color": "Black",
           "width": 1
          },
          "opacity": 0.6,
          "size": 7.145708582834331
         },
         "mode": "markers+text",
         "showlegend": false,
         "text": "Ecuador",
         "textposition": "top center",
         "type": "scatter",
         "x": [
          44
         ],
         "y": [
          0.1590909090909091
         ]
        },
        {
         "marker": {
          "color": "rgb(14, 123, 225)",
          "line": {
           "color": "Black",
           "width": 1
          },
          "opacity": 0.6,
          "size": 7.644710578842315
         },
         "mode": "markers+text",
         "showlegend": false,
         "text": "Serbia",
         "textposition": "top center",
         "type": "scatter",
         "x": [
          54
         ],
         "y": [
          0.1574074074074074
         ]
        },
        {
         "marker": {
          "color": "rgb(131, 97, 86)",
          "line": {
           "color": "Black",
           "width": 1
          },
          "opacity": 0.6,
          "size": 23.512974051896208
         },
         "mode": "markers+text",
         "showlegend": false,
         "text": "Italy",
         "textposition": "top center",
         "type": "scatter",
         "x": [
          372
         ],
         "y": [
          0.15725806451612903
         ]
        },
        {
         "marker": {
          "color": "rgb(0, 156, 244)",
          "line": {
           "color": "Black",
           "width": 1
          },
          "opacity": 0.6,
          "size": 8.992015968063871
         },
         "mode": "markers+text",
         "showlegend": false,
         "text": "Norway",
         "textposition": "top center",
         "type": "scatter",
         "x": [
          81
         ],
         "y": [
          0.15432098765432098
         ]
        },
        {
         "marker": {
          "color": "rgb(25, 101, 203)",
          "line": {
           "color": "Black",
           "width": 1
          },
          "opacity": 0.6,
          "size": 6.946107784431138
         },
         "mode": "markers+text",
         "showlegend": false,
         "text": "Philippines",
         "textposition": "top center",
         "type": "scatter",
         "x": [
          40
         ],
         "y": [
          0.15
         ]
        },
        {
         "marker": {
          "color": "rgb(32, 88, 190)",
          "line": {
           "color": "Black",
           "width": 1
          },
          "opacity": 0.6,
          "size": 6.447105788423154
         },
         "mode": "markers+text",
         "showlegend": false,
         "text": "Tunisia",
         "textposition": "top center",
         "type": "scatter",
         "x": [
          30
         ],
         "y": [
          0.15
         ]
        },
        {
         "marker": {
          "color": "rgb(9, 133, 235)",
          "line": {
           "color": "Black",
           "width": 1
          },
          "opacity": 0.6,
          "size": 8.043912175648703
         },
         "mode": "markers+text",
         "showlegend": false,
         "text": "Chinese Taipei",
         "textposition": "top center",
         "type": "scatter",
         "x": [
          62
         ],
         "y": [
          0.14516129032258066
         ]
        },
        {
         "marker": {
          "color": "rgb(7, 138, 241)",
          "line": {
           "color": "Black",
           "width": 1
          },
          "opacity": 0.6,
          "size": 8.243512974051896
         },
         "mode": "markers+text",
         "showlegend": false,
         "text": "Greece",
         "textposition": "top center",
         "type": "scatter",
         "x": [
          66
         ],
         "y": [
          0.14393939393939395
         ]
        },
        {
         "marker": {
          "color": "rgb(47, 59, 161)",
          "line": {
           "color": "Black",
           "width": 1
          },
          "opacity": 0.6,
          "size": 5.299401197604791
         },
         "mode": "markers+text",
         "showlegend": false,
         "text": "Cabo Verde",
         "textposition": "top center",
         "type": "scatter",
         "x": [
          7
         ],
         "y": [
          0.14285714285714285
         ]
        },
        {
         "marker": {
          "color": "rgb(0, 160, 232)",
          "line": {
           "color": "Black",
           "width": 1
          },
          "opacity": 0.6,
          "size": 9.141716566866268
         },
         "mode": "markers+text",
         "showlegend": false,
         "text": "Denmark",
         "textposition": "top center",
         "type": "scatter",
         "x": [
          84
         ],
         "y": [
          0.14285714285714285
         ]
        },
        {
         "marker": {
          "color": "rgb(144, 112, 93)",
          "line": {
           "color": "Black",
           "width": 1
          },
          "opacity": 0.6,
          "size": 22.964071856287426
         },
         "mode": "markers+text",
         "showlegend": false,
         "text": "Germany",
         "textposition": "top center",
         "type": "scatter",
         "x": [
          361
         ],
         "y": [
          0.14265927977839335
         ]
        },
        {
         "marker": {
          "color": "rgb(11, 131, 233)",
          "line": {
           "color": "Black",
           "width": 1
          },
          "opacity": 0.6,
          "size": 7.944111776447106
         },
         "mode": "markers+text",
         "showlegend": false,
         "text": "Jamaica",
         "textposition": "top center",
         "type": "scatter",
         "x": [
          60
         ],
         "y": [
          0.14166666666666666
         ]
        },
        {
         "marker": {
          "color": "rgb(32, 88, 190)",
          "line": {
           "color": "Black",
           "width": 1
          },
          "opacity": 0.6,
          "size": 6.397205588822356
         },
         "mode": "markers+text",
         "showlegend": false,
         "text": "Dominican Republic",
         "textposition": "top center",
         "type": "scatter",
         "x": [
          29
         ],
         "y": [
          0.13793103448275862
         ]
        },
        {
         "marker": {
          "color": "rgb(44, 64, 166)",
          "line": {
           "color": "Black",
           "width": 1
          },
          "opacity": 0.6,
          "size": 5.499001996007984
         },
         "mode": "markers+text",
         "showlegend": false,
         "text": "Fiji",
         "textposition": "top center",
         "type": "scatter",
         "x": [
          11
         ],
         "y": [
          0.13636363636363635
         ]
        },
        {
         "marker": {
          "color": "rgb(0, 154, 250)",
          "line": {
           "color": "Black",
           "width": 1
          },
          "opacity": 0.6,
          "size": 8.892215568862277
         },
         "mode": "markers+text",
         "showlegend": false,
         "text": "Israel",
         "textposition": "top center",
         "type": "scatter",
         "x": [
          79
         ],
         "y": [
          0.13291139240506328
         ]
        },
        {
         "marker": {
          "color": "rgb(206, 192, 126)",
          "line": {
           "color": "Black",
           "width": 1
          },
          "opacity": 0.6,
          "size": 19.920159680638722
         },
         "mode": "markers+text",
         "showlegend": false,
         "text": "Canada",
         "textposition": "top center",
         "type": "scatter",
         "x": [
          300
         ],
         "y": [
          0.13166666666666665
         ]
        },
        {
         "marker": {
          "color": "rgb(33, 85, 187)",
          "line": {
           "color": "Black",
           "width": 1
          },
          "opacity": 0.6,
          "size": 6.297405189620759
         },
         "mode": "markers+text",
         "showlegend": false,
         "text": "Uganda",
         "textposition": "top center",
         "type": "scatter",
         "x": [
          27
         ],
         "y": [
          0.12962962962962962
         ]
        },
        {
         "marker": {
          "color": "rgb(47, 59, 161)",
          "line": {
           "color": "Black",
           "width": 1
          },
          "opacity": 0.6,
          "size": 5.349301397205589
         },
         "mode": "markers+text",
         "showlegend": false,
         "text": "Zambia",
         "textposition": "top center",
         "type": "scatter",
         "x": [
          8
         ],
         "y": [
          0.125
         ]
        },
        {
         "marker": {
          "color": "rgb(44, 64, 166)",
          "line": {
           "color": "Black",
           "width": 1
          },
          "opacity": 0.6,
          "size": 5.5489021956087825
         },
         "mode": "markers+text",
         "showlegend": false,
         "text": "Jordan",
         "textposition": "top center",
         "type": "scatter",
         "x": [
          12
         ],
         "y": [
          0.125
         ]
        },
        {
         "marker": {
          "color": "rgb(44, 64, 166)",
          "line": {
           "color": "Black",
           "width": 1
          },
          "opacity": 0.6,
          "size": 5.5489021956087825
         },
         "mode": "markers+text",
         "showlegend": false,
         "text": "Panama",
         "textposition": "top center",
         "type": "scatter",
         "x": [
          12
         ],
         "y": [
          0.125
         ]
        },
        {
         "marker": {
          "color": "rgb(0, 168, 208)",
          "line": {
           "color": "Black",
           "width": 1
          },
          "opacity": 0.6,
          "size": 9.540918163672654
         },
         "mode": "markers+text",
         "showlegend": false,
         "text": "Ireland",
         "textposition": "top center",
         "type": "scatter",
         "x": [
          92
         ],
         "y": [
          0.11956521739130435
         ]
        },
        {
         "marker": {
          "color": "rgb(49, 213, 111)",
          "line": {
           "color": "Black",
           "width": 1
          },
          "opacity": 0.6,
          "size": 12.435129740518962
         },
         "mode": "markers+text",
         "showlegend": false,
         "text": "Ukraine",
         "textposition": "top center",
         "type": "scatter",
         "x": [
          150
         ],
         "y": [
          0.11666666666666667
         ]
        },
        {
         "marker": {
          "color": "rgb(217, 247, 145)",
          "line": {
           "color": "Black",
           "width": 1
          },
          "opacity": 0.6,
          "size": 16.526946107784433
         },
         "mode": "markers+text",
         "showlegend": false,
         "text": "Brazil",
         "textposition": "top center",
         "type": "scatter",
         "x": [
          232
         ],
         "y": [
          0.11422413793103449
         ]
        },
        {
         "marker": {
          "color": "rgb(21, 109, 211)",
          "line": {
           "color": "Black",
           "width": 1
          },
          "opacity": 0.6,
          "size": 7.245508982035928
         },
         "mode": "markers+text",
         "showlegend": false,
         "text": "Lithuania",
         "textposition": "top center",
         "type": "scatter",
         "x": [
          46
         ],
         "y": [
          0.10869565217391304
         ]
        },
        {
         "marker": {
          "color": "rgb(17, 117, 219)",
          "line": {
           "color": "Black",
           "width": 1
          },
          "opacity": 0.6,
          "size": 7.445109780439122
         },
         "mode": "markers+text",
         "showlegend": false,
         "text": "Algeria",
         "textposition": "top center",
         "type": "scatter",
         "x": [
          50
         ],
         "y": [
          0.1
         ]
        },
        {
         "marker": {
          "color": "rgb(0, 176, 184)",
          "line": {
           "color": "Black",
           "width": 1
          },
          "opacity": 0.6,
          "size": 9.890219560878243
         },
         "mode": "markers+text",
         "showlegend": false,
         "text": "Kazakhstan",
         "textposition": "top center",
         "type": "scatter",
         "x": [
          99
         ],
         "y": [
          0.09595959595959595
         ]
        },
        {
         "marker": {
          "color": "rgb(240, 235, 144)",
          "line": {
           "color": "Black",
           "width": 1
          },
          "opacity": 0.6,
          "size": 18.27345309381238
         },
         "mode": "markers+text",
         "showlegend": false,
         "text": "Spain",
         "textposition": "top center",
         "type": "scatter",
         "x": [
          267
         ],
         "y": [
          0.09363295880149813
         ]
        },
        {
         "marker": {
          "color": "rgb(40, 212, 110)",
          "line": {
           "color": "Black",
           "width": 1
          },
          "opacity": 0.6,
          "size": 12.235528942115767
         },
         "mode": "markers+text",
         "showlegend": false,
         "text": "Belgium",
         "textposition": "top center",
         "type": "scatter",
         "x": [
          146
         ],
         "y": [
          0.09246575342465753
         ]
        },
        {
         "marker": {
          "color": "rgb(0, 170, 202)",
          "line": {
           "color": "Black",
           "width": 1
          },
          "opacity": 0.6,
          "size": 9.640718562874252
         },
         "mode": "markers+text",
         "showlegend": false,
         "text": "South Africa",
         "textposition": "top center",
         "type": "scatter",
         "x": [
          94
         ],
         "y": [
          0.09042553191489362
         ]
        },
        {
         "marker": {
          "color": "rgb(8, 136, 238)",
          "line": {
           "color": "Black",
           "width": 1
          },
          "opacity": 0.6,
          "size": 8.1437125748503
         },
         "mode": "markers+text",
         "showlegend": false,
         "text": "Slovenia",
         "textposition": "top center",
         "type": "scatter",
         "x": [
          64
         ],
         "y": [
          0.0859375
         ]
        },
        {
         "marker": {
          "color": "rgb(44, 64, 166)",
          "line": {
           "color": "Black",
           "width": 1
          },
          "opacity": 0.6,
          "size": 5.5489021956087825
         },
         "mode": "markers+text",
         "showlegend": false,
         "text": "Qatar",
         "textposition": "top center",
         "type": "scatter",
         "x": [
          12
         ],
         "y": [
          0.08333333333333333
         ]
        },
        {
         "marker": {
          "color": "rgb(13, 125, 227)",
          "line": {
           "color": "Black",
           "width": 1
          },
          "opacity": 0.6,
          "size": 7.794411177644711
         },
         "mode": "markers+text",
         "showlegend": false,
         "text": "Argentina",
         "textposition": "top center",
         "type": "scatter",
         "x": [
          57
         ],
         "y": [
          0.07894736842105263
         ]
        },
        {
         "marker": {
          "color": "rgb(0, 198, 118)",
          "line": {
           "color": "Black",
           "width": 1
          },
          "opacity": 0.6,
          "size": 11.037924151696608
         },
         "mode": "markers+text",
         "showlegend": false,
         "text": "Türkiye",
         "textposition": "top center",
         "type": "scatter",
         "x": [
          122
         ],
         "y": [
          0.0778688524590164
         ]
        },
        {
         "marker": {
          "color": "rgb(20, 112, 214)",
          "line": {
           "color": "Black",
           "width": 1
          },
          "opacity": 0.6,
          "size": 7.295409181636726
         },
         "mode": "markers+text",
         "showlegend": false,
         "text": "Chile",
         "textposition": "top center",
         "type": "scatter",
         "x": [
          47
         ],
         "y": [
          0.07446808510638298
         ]
        },
        {
         "marker": {
          "color": "rgb(33, 85, 187)",
          "line": {
           "color": "Black",
           "width": 1
          },
          "opacity": 0.6,
          "size": 6.297405189620759
         },
         "mode": "markers+text",
         "showlegend": false,
         "text": "Malaysia",
         "textposition": "top center",
         "type": "scatter",
         "x": [
          27
         ],
         "y": [
          0.07407407407407407
         ]
        },
        {
         "marker": {
          "color": "rgb(0, 174, 190)",
          "line": {
           "color": "Black",
           "width": 1
          },
          "opacity": 0.6,
          "size": 9.790419161676647
         },
         "mode": "markers+text",
         "showlegend": false,
         "text": "Austria",
         "textposition": "top center",
         "type": "scatter",
         "x": [
          97
         ],
         "y": [
          0.07216494845360824
         ]
        },
        {
         "marker": {
          "color": "rgb(43, 67, 169)",
          "line": {
           "color": "Black",
           "width": 1
          },
          "opacity": 0.6,
          "size": 5.648702594810379
         },
         "mode": "markers+text",
         "showlegend": false,
         "text": "Côte d'Ivoire",
         "textposition": "top center",
         "type": "scatter",
         "x": [
          14
         ],
         "y": [
          0.07142857142857142
         ]
        },
        {
         "marker": {
          "color": "rgb(0, 160, 232)",
          "line": {
           "color": "Black",
           "width": 1
          },
          "opacity": 0.6,
          "size": 9.191616766467066
         },
         "mode": "markers+text",
         "showlegend": false,
         "text": "Portugal",
         "textposition": "top center",
         "type": "scatter",
         "x": [
          85
         ],
         "y": [
          0.07058823529411765
         ]
        },
        {
         "marker": {
          "color": "rgb(0, 156, 244)",
          "line": {
           "color": "Black",
           "width": 1
          },
          "opacity": 0.6,
          "size": 8.942115768463074
         },
         "mode": "markers+text",
         "showlegend": false,
         "text": "Colombia",
         "textposition": "top center",
         "type": "scatter",
         "x": [
          80
         ],
         "y": [
          0.06875
         ]
        },
        {
         "marker": {
          "color": "rgb(0, 172, 196)",
          "line": {
           "color": "Black",
           "width": 1
          },
          "opacity": 0.6,
          "size": 9.69061876247505
         },
         "mode": "markers+text",
         "showlegend": false,
         "text": "India",
         "textposition": "top center",
         "type": "scatter",
         "x": [
          95
         ],
         "y": [
          0.06842105263157895
         ]
        },
        {
         "marker": {
          "color": "rgb(37, 77, 179)",
          "line": {
           "color": "Black",
           "width": 1
          },
          "opacity": 0.6,
          "size": 6.047904191616766
         },
         "mode": "markers+text",
         "showlegend": false,
         "text": "Cyprus",
         "textposition": "top center",
         "type": "scatter",
         "x": [
          22
         ],
         "y": [
          0.06818181818181818
         ]
        },
        {
         "marker": {
          "color": "rgb(23, 107, 209)",
          "line": {
           "color": "Black",
           "width": 1
          },
          "opacity": 0.6,
          "size": 7.145708582834331
         },
         "mode": "markers+text",
         "showlegend": false,
         "text": "Morocco",
         "textposition": "top center",
         "type": "scatter",
         "x": [
          44
         ],
         "y": [
          0.06818181818181818
         ]
        },
        {
         "marker": {
          "color": "rgb(141, 232, 130)",
          "line": {
           "color": "Black",
           "width": 1
          },
          "opacity": 0.6,
          "size": 14.68063872255489
         },
         "mode": "markers+text",
         "showlegend": false,
         "text": "Poland",
         "textposition": "top center",
         "type": "scatter",
         "x": [
          195
         ],
         "y": [
          0.06666666666666667
         ]
        },
        {
         "marker": {
          "color": "rgb(31, 91, 193)",
          "line": {
           "color": "Black",
           "width": 1
          },
          "opacity": 0.6,
          "size": 6.497005988023952
         },
         "mode": "markers+text",
         "showlegend": false,
         "text": "Puerto Rico",
         "textposition": "top center",
         "type": "scatter",
         "x": [
          31
         ],
         "y": [
          0.06451612903225806
         ]
        },
        {
         "marker": {
          "color": "rgb(1, 204, 102)",
          "line": {
           "color": "Black",
           "width": 1
          },
          "opacity": 0.6,
          "size": 11.2874251497006
         },
         "mode": "markers+text",
         "showlegend": false,
         "text": "Czechia",
         "textposition": "top center",
         "type": "scatter",
         "x": [
          127
         ],
         "y": [
          0.06299212598425197
         ]
        },
        {
         "marker": {
          "color": "rgb(65, 217, 115)",
          "line": {
           "color": "Black",
           "width": 1
          },
          "opacity": 0.6,
          "size": 12.884231536926148
         },
         "mode": "markers+text",
         "showlegend": false,
         "text": "Switzerland",
         "textposition": "top center",
         "type": "scatter",
         "x": [
          159
         ],
         "y": [
          0.06289308176100629
         ]
        },
        {
         "marker": {
          "color": "rgb(0, 202, 106)",
          "line": {
           "color": "Black",
           "width": 1
          },
          "opacity": 0.6,
          "size": 11.187624750499001
         },
         "mode": "markers+text",
         "showlegend": false,
         "text": "Mexico",
         "textposition": "top center",
         "type": "scatter",
         "x": [
          125
         ],
         "y": [
          0.052
         ]
        },
        {
         "marker": {
          "color": "rgb(27, 98, 201)",
          "line": {
           "color": "Black",
           "width": 1
          },
          "opacity": 0.6,
          "size": 6.846307385229541
         },
         "mode": "markers+text",
         "showlegend": false,
         "text": "Mongolia",
         "textposition": "top center",
         "type": "scatter",
         "x": [
          38
         ],
         "y": [
          0.039473684210526314
         ]
        },
        {
         "marker": {
          "color": "rgb(0, 192, 136)",
          "line": {
           "color": "Black",
           "width": 1
          },
          "opacity": 0.6,
          "size": 10.738522954091817
         },
         "mode": "markers+text",
         "showlegend": false,
         "text": "Egypt",
         "textposition": "top center",
         "type": "scatter",
         "x": [
          116
         ],
         "y": [
          0.03879310344827586
         ]
        },
        {
         "marker": {
          "color": "rgb(35, 83, 185)",
          "line": {
           "color": "Black",
           "width": 1
          },
          "opacity": 0.6,
          "size": 6.24750499001996
         },
         "mode": "markers+text",
         "showlegend": false,
         "text": "Singapore",
         "textposition": "top center",
         "type": "scatter",
         "x": [
          26
         ],
         "y": [
          0.038461538461538464
         ]
        },
        {
         "marker": {
          "color": "rgb(33, 85, 187)",
          "line": {
           "color": "Black",
           "width": 1
          },
          "opacity": 0.6,
          "size": 6.297405189620759
         },
         "mode": "markers+text",
         "showlegend": false,
         "text": "Peru",
         "textposition": "top center",
         "type": "scatter",
         "x": [
          27
         ],
         "y": [
          0.037037037037037035
         ]
        },
        {
         "marker": {
          "color": "rgb(28, 96, 198)",
          "line": {
           "color": "Black",
           "width": 1
          },
          "opacity": 0.6,
          "size": 6.696606786427146
         },
         "mode": "markers+text",
         "showlegend": false,
         "text": "Slovakia",
         "textposition": "top center",
         "type": "scatter",
         "x": [
          35
         ],
         "y": [
          0.02857142857142857
         ]
        },
        {
         "marker": {
          "color": "rgb(25, 101, 203)",
          "line": {
           "color": "Black",
           "width": 1
          },
          "opacity": 0.6,
          "size": 6.896207584830339
         },
         "mode": "markers+text",
         "showlegend": false,
         "text": "EOR",
         "textposition": "top center",
         "type": "scatter",
         "x": [
          39
         ],
         "y": [
          0.02564102564102564
         ]
        },
        {
         "marker": {
          "color": "rgb(47, 59, 161)",
          "line": {
           "color": "Black",
           "width": 1
          },
          "opacity": 0.6,
          "size": 5.299401197604791
         },
         "mode": "markers+text",
         "showlegend": false,
         "text": "Afghanistan",
         "textposition": "top center",
         "type": "scatter",
         "x": [
          7
         ],
         "y": [
          0
         ]
        },
        {
         "marker": {
          "color": "rgb(51, 51, 153)",
          "line": {
           "color": "Black",
           "width": 1
          },
          "opacity": 0.6,
          "size": 5.049900199600798
         },
         "mode": "markers+text",
         "showlegend": false,
         "text": "American Samoa",
         "textposition": "top center",
         "type": "scatter",
         "x": [
          2
         ],
         "y": [
          0
         ]
        },
        {
         "marker": {
          "color": "rgb(49, 53, 155)",
          "line": {
           "color": "Black",
           "width": 1
          },
          "opacity": 0.6,
          "size": 5.149700598802395
         },
         "mode": "markers+text",
         "showlegend": false,
         "text": "Andorra",
         "textposition": "top center",
         "type": "scatter",
         "x": [
          4
         ],
         "y": [
          0
         ]
        },
        {
         "marker": {
          "color": "rgb(45, 61, 163)",
          "line": {
           "color": "Black",
           "width": 1
          },
          "opacity": 0.6,
          "size": 5.449101796407185
         },
         "mode": "markers+text",
         "showlegend": false,
         "text": "Angola",
         "textposition": "top center",
         "type": "scatter",
         "x": [
          10
         ],
         "y": [
          0
         ]
        },
        {
         "marker": {
          "color": "rgb(48, 56, 158)",
          "line": {
           "color": "Black",
           "width": 1
          },
          "opacity": 0.6,
          "size": 5.199600798403194
         },
         "mode": "markers+text",
         "showlegend": false,
         "text": "Antigua and Barbuda",
         "textposition": "top center",
         "type": "scatter",
         "x": [
          5
         ],
         "y": [
          0
         ]
        },
        {
         "marker": {
          "color": "rgb(47, 59, 161)",
          "line": {
           "color": "Black",
           "width": 1
          },
          "opacity": 0.6,
          "size": 5.299401197604791
         },
         "mode": "markers+text",
         "showlegend": false,
         "text": "Aruba",
         "textposition": "top center",
         "type": "scatter",
         "x": [
          7
         ],
         "y": [
          0
         ]
        },
        {
         "marker": {
          "color": "rgb(40, 72, 174)",
          "line": {
           "color": "Black",
           "width": 1
          },
          "opacity": 0.6,
          "size": 5.798403193612774
         },
         "mode": "markers+text",
         "showlegend": false,
         "text": "Bahamas",
         "textposition": "top center",
         "type": "scatter",
         "x": [
          17
         ],
         "y": [
          0
         ]
        },
        {
         "marker": {
          "color": "rgb(48, 56, 158)",
          "line": {
           "color": "Black",
           "width": 1
          },
          "opacity": 0.6,
          "size": 5.199600798403194
         },
         "mode": "markers+text",
         "showlegend": false,
         "text": "Bangladesh",
         "textposition": "top center",
         "type": "scatter",
         "x": [
          5
         ],
         "y": [
          0
         ]
        },
        {
         "marker": {
          "color": "rgb(49, 53, 155)",
          "line": {
           "color": "Black",
           "width": 1
          },
          "opacity": 0.6,
          "size": 5.149700598802395
         },
         "mode": "markers+text",
         "showlegend": false,
         "text": "Barbados",
         "textposition": "top center",
         "type": "scatter",
         "x": [
          4
         ],
         "y": [
          0
         ]
        },
        {
         "marker": {
          "color": "rgb(51, 51, 153)",
          "line": {
           "color": "Black",
           "width": 1
          },
          "opacity": 0.6,
          "size": 5
         },
         "mode": "markers+text",
         "showlegend": false,
         "text": "Belize",
         "textposition": "top center",
         "type": "scatter",
         "x": [
          1
         ],
         "y": [
          0
         ]
        },
        {
         "marker": {
          "color": "rgb(48, 56, 158)",
          "line": {
           "color": "Black",
           "width": 1
          },
          "opacity": 0.6,
          "size": 5.199600798403194
         },
         "mode": "markers+text",
         "showlegend": false,
         "text": "Benin",
         "textposition": "top center",
         "type": "scatter",
         "x": [
          5
         ],
         "y": [
          0
         ]
        },
        {
         "marker": {
          "color": "rgb(47, 59, 161)",
          "line": {
           "color": "Black",
           "width": 1
          },
          "opacity": 0.6,
          "size": 5.349301397205589
         },
         "mode": "markers+text",
         "showlegend": false,
         "text": "Bermuda",
         "textposition": "top center",
         "type": "scatter",
         "x": [
          8
         ],
         "y": [
          0
         ]
        },
        {
         "marker": {
          "color": "rgb(49, 53, 155)",
          "line": {
           "color": "Black",
           "width": 1
          },
          "opacity": 0.6,
          "size": 5.099800399201597
         },
         "mode": "markers+text",
         "showlegend": false,
         "text": "Bhutan",
         "textposition": "top center",
         "type": "scatter",
         "x": [
          3
         ],
         "y": [
          0
         ]
        },
        {
         "marker": {
          "color": "rgb(49, 53, 155)",
          "line": {
           "color": "Black",
           "width": 1
          },
          "opacity": 0.6,
          "size": 5.149700598802395
         },
         "mode": "markers+text",
         "showlegend": false,
         "text": "Bolivia",
         "textposition": "top center",
         "type": "scatter",
         "x": [
          4
         ],
         "y": [
          0
         ]
        },
        {
         "marker": {
          "color": "rgb(48, 56, 158)",
          "line": {
           "color": "Black",
           "width": 1
          },
          "opacity": 0.6,
          "size": 5.249500998003992
         },
         "mode": "markers+text",
         "showlegend": false,
         "text": "Bosnia & Herzegovina",
         "textposition": "top center",
         "type": "scatter",
         "x": [
          6
         ],
         "y": [
          0
         ]
        },
        {
         "marker": {
          "color": "rgb(49, 53, 155)",
          "line": {
           "color": "Black",
           "width": 1
          },
          "opacity": 0.6,
          "size": 5.099800399201597
         },
         "mode": "markers+text",
         "showlegend": false,
         "text": "Brunei Darussalam",
         "textposition": "top center",
         "type": "scatter",
         "x": [
          3
         ],
         "y": [
          0
         ]
        },
        {
         "marker": {
          "color": "rgb(47, 59, 161)",
          "line": {
           "color": "Black",
           "width": 1
          },
          "opacity": 0.6,
          "size": 5.349301397205589
         },
         "mode": "markers+text",
         "showlegend": false,
         "text": "Burkina Faso",
         "textposition": "top center",
         "type": "scatter",
         "x": [
          8
         ],
         "y": [
          0
         ]
        },
        {
         "marker": {
          "color": "rgb(47, 59, 161)",
          "line": {
           "color": "Black",
           "width": 1
          },
          "opacity": 0.6,
          "size": 5.349301397205589
         },
         "mode": "markers+text",
         "showlegend": false,
         "text": "Burundi",
         "textposition": "top center",
         "type": "scatter",
         "x": [
          8
         ],
         "y": [
          0
         ]
        },
        {
         "marker": {
          "color": "rgb(49, 53, 155)",
          "line": {
           "color": "Black",
           "width": 1
          },
          "opacity": 0.6,
          "size": 5.099800399201597
         },
         "mode": "markers+text",
         "showlegend": false,
         "text": "Cambodia",
         "textposition": "top center",
         "type": "scatter",
         "x": [
          3
         ],
         "y": [
          0
         ]
        },
        {
         "marker": {
          "color": "rgb(48, 56, 158)",
          "line": {
           "color": "Black",
           "width": 1
          },
          "opacity": 0.6,
          "size": 5.249500998003992
         },
         "mode": "markers+text",
         "showlegend": false,
         "text": "Cameroon",
         "textposition": "top center",
         "type": "scatter",
         "x": [
          6
         ],
         "y": [
          0
         ]
        },
        {
         "marker": {
          "color": "rgb(48, 56, 158)",
          "line": {
           "color": "Black",
           "width": 1
          },
          "opacity": 0.6,
          "size": 5.199600798403194
         },
         "mode": "markers+text",
         "showlegend": false,
         "text": "Cayman Islands",
         "textposition": "top center",
         "type": "scatter",
         "x": [
          5
         ],
         "y": [
          0
         ]
        },
        {
         "marker": {
          "color": "rgb(49, 53, 155)",
          "line": {
           "color": "Black",
           "width": 1
          },
          "opacity": 0.6,
          "size": 5.149700598802395
         },
         "mode": "markers+text",
         "showlegend": false,
         "text": "Centr Afric Re",
         "textposition": "top center",
         "type": "scatter",
         "x": [
          4
         ],
         "y": [
          0
         ]
        },
        {
         "marker": {
          "color": "rgb(49, 53, 155)",
          "line": {
           "color": "Black",
           "width": 1
          },
          "opacity": 0.6,
          "size": 5.099800399201597
         },
         "mode": "markers+text",
         "showlegend": false,
         "text": "Chad",
         "textposition": "top center",
         "type": "scatter",
         "x": [
          3
         ],
         "y": [
          0
         ]
        },
        {
         "marker": {
          "color": "rgb(48, 56, 158)",
          "line": {
           "color": "Black",
           "width": 1
          },
          "opacity": 0.6,
          "size": 5.199600798403194
         },
         "mode": "markers+text",
         "showlegend": false,
         "text": "Comoros",
         "textposition": "top center",
         "type": "scatter",
         "x": [
          5
         ],
         "y": [
          0
         ]
        },
        {
         "marker": {
          "color": "rgb(49, 53, 155)",
          "line": {
           "color": "Black",
           "width": 1
          },
          "opacity": 0.6,
          "size": 5.149700598802395
         },
         "mode": "markers+text",
         "showlegend": false,
         "text": "Congo",
         "textposition": "top center",
         "type": "scatter",
         "x": [
          4
         ],
         "y": [
          0
         ]
        },
        {
         "marker": {
          "color": "rgb(51, 51, 153)",
          "line": {
           "color": "Black",
           "width": 1
          },
          "opacity": 0.6,
          "size": 5.049900199600798
         },
         "mode": "markers+text",
         "showlegend": false,
         "text": "Cook Islands",
         "textposition": "top center",
         "type": "scatter",
         "x": [
          2
         ],
         "y": [
          0
         ]
        },
        {
         "marker": {
          "color": "rgb(48, 56, 158)",
          "line": {
           "color": "Black",
           "width": 1
          },
          "opacity": 0.6,
          "size": 5.249500998003992
         },
         "mode": "markers+text",
         "showlegend": false,
         "text": "Costa Rica",
         "textposition": "top center",
         "type": "scatter",
         "x": [
          6
         ],
         "y": [
          0
         ]
        },
        {
         "marker": {
          "color": "rgb(48, 56, 158)",
          "line": {
           "color": "Black",
           "width": 1
          },
          "opacity": 0.6,
          "size": 5.249500998003992
         },
         "mode": "markers+text",
         "showlegend": false,
         "text": "DR Congo",
         "textposition": "top center",
         "type": "scatter",
         "x": [
          6
         ],
         "y": [
          0
         ]
        },
        {
         "marker": {
          "color": "rgb(47, 59, 161)",
          "line": {
           "color": "Black",
           "width": 1
          },
          "opacity": 0.6,
          "size": 5.299401197604791
         },
         "mode": "markers+text",
         "showlegend": false,
         "text": "Djibouti",
         "textposition": "top center",
         "type": "scatter",
         "x": [
          7
         ],
         "y": [
          0
         ]
        },
        {
         "marker": {
          "color": "rgb(45, 61, 163)",
          "line": {
           "color": "Black",
           "width": 1
          },
          "opacity": 0.6,
          "size": 5.399201596806387
         },
         "mode": "markers+text",
         "showlegend": false,
         "text": "El Salvador",
         "textposition": "top center",
         "type": "scatter",
         "x": [
          9
         ],
         "y": [
          0
         ]
        },
        {
         "marker": {
          "color": "rgb(49, 53, 155)",
          "line": {
           "color": "Black",
           "width": 1
          },
          "opacity": 0.6,
          "size": 5.099800399201597
         },
         "mode": "markers+text",
         "showlegend": false,
         "text": "Equatorial Guinea",
         "textposition": "top center",
         "type": "scatter",
         "x": [
          3
         ],
         "y": [
          0
         ]
        },
        {
         "marker": {
          "color": "rgb(44, 64, 166)",
          "line": {
           "color": "Black",
           "width": 1
          },
          "opacity": 0.6,
          "size": 5.5489021956087825
         },
         "mode": "markers+text",
         "showlegend": false,
         "text": "Eritrea",
         "textposition": "top center",
         "type": "scatter",
         "x": [
          12
         ],
         "y": [
          0
         ]
        },
        {
         "marker": {
          "color": "rgb(36, 80, 182)",
          "line": {
           "color": "Black",
           "width": 1
          },
          "opacity": 0.6,
          "size": 6.097804391217565
         },
         "mode": "markers+text",
         "showlegend": false,
         "text": "Estonia",
         "textposition": "top center",
         "type": "scatter",
         "x": [
          23
         ],
         "y": [
          0
         ]
        },
        {
         "marker": {
          "color": "rgb(49, 53, 155)",
          "line": {
           "color": "Black",
           "width": 1
          },
          "opacity": 0.6,
          "size": 5.099800399201597
         },
         "mode": "markers+text",
         "showlegend": false,
         "text": "Eswatini",
         "textposition": "top center",
         "type": "scatter",
         "x": [
          3
         ],
         "y": [
          0
         ]
        },
        {
         "marker": {
          "color": "rgb(13, 125, 227)",
          "line": {
           "color": "Black",
           "width": 1
          },
          "opacity": 0.6,
          "size": 7.794411177644711
         },
         "mode": "markers+text",
         "showlegend": false,
         "text": "Finland",
         "textposition": "top center",
         "type": "scatter",
         "x": [
          57
         ],
         "y": [
          0
         ]
        },
        {
         "marker": {
          "color": "rgb(48, 56, 158)",
          "line": {
           "color": "Black",
           "width": 1
          },
          "opacity": 0.6,
          "size": 5.199600798403194
         },
         "mode": "markers+text",
         "showlegend": false,
         "text": "Gabon",
         "textposition": "top center",
         "type": "scatter",
         "x": [
          5
         ],
         "y": [
          0
         ]
        },
        {
         "marker": {
          "color": "rgb(47, 59, 161)",
          "line": {
           "color": "Black",
           "width": 1
          },
          "opacity": 0.6,
          "size": 5.349301397205589
         },
         "mode": "markers+text",
         "showlegend": false,
         "text": "Gambia",
         "textposition": "top center",
         "type": "scatter",
         "x": [
          8
         ],
         "y": [
          0
         ]
        },
        {
         "marker": {
          "color": "rgb(48, 56, 158)",
          "line": {
           "color": "Black",
           "width": 1
          },
          "opacity": 0.6,
          "size": 5.249500998003992
         },
         "mode": "markers+text",
         "showlegend": false,
         "text": "Ghana",
         "textposition": "top center",
         "type": "scatter",
         "x": [
          6
         ],
         "y": [
          0
         ]
        },
        {
         "marker": {
          "color": "rgb(45, 61, 163)",
          "line": {
           "color": "Black",
           "width": 1
          },
          "opacity": 0.6,
          "size": 5.399201596806387
         },
         "mode": "markers+text",
         "showlegend": false,
         "text": "Guam",
         "textposition": "top center",
         "type": "scatter",
         "x": [
          9
         ],
         "y": [
          0
         ]
        },
        {
         "marker": {
          "color": "rgb(47, 59, 161)",
          "line": {
           "color": "Black",
           "width": 1
          },
          "opacity": 0.6,
          "size": 5.299401197604791
         },
         "mode": "markers+text",
         "showlegend": false,
         "text": "Guinea",
         "textposition": "top center",
         "type": "scatter",
         "x": [
          7
         ],
         "y": [
          0
         ]
        },
        {
         "marker": {
          "color": "rgb(48, 56, 158)",
          "line": {
           "color": "Black",
           "width": 1
          },
          "opacity": 0.6,
          "size": 5.249500998003992
         },
         "mode": "markers+text",
         "showlegend": false,
         "text": "Guinea-Bissau",
         "textposition": "top center",
         "type": "scatter",
         "x": [
          6
         ],
         "y": [
          0
         ]
        },
        {
         "marker": {
          "color": "rgb(48, 56, 158)",
          "line": {
           "color": "Black",
           "width": 1
          },
          "opacity": 0.6,
          "size": 5.199600798403194
         },
         "mode": "markers+text",
         "showlegend": false,
         "text": "Guyana",
         "textposition": "top center",
         "type": "scatter",
         "x": [
          5
         ],
         "y": [
          0
         ]
        },
        {
         "marker": {
          "color": "rgb(44, 64, 166)",
          "line": {
           "color": "Black",
           "width": 1
          },
          "opacity": 0.6,
          "size": 5.499001996007984
         },
         "mode": "markers+text",
         "showlegend": false,
         "text": "Haiti",
         "textposition": "top center",
         "type": "scatter",
         "x": [
          11
         ],
         "y": [
          0
         ]
        },
        {
         "marker": {
          "color": "rgb(49, 53, 155)",
          "line": {
           "color": "Black",
           "width": 1
          },
          "opacity": 0.6,
          "size": 5.149700598802395
         },
         "mode": "markers+text",
         "showlegend": false,
         "text": "Honduras",
         "textposition": "top center",
         "type": "scatter",
         "x": [
          4
         ],
         "y": [
          0
         ]
        },
        {
         "marker": {
          "color": "rgb(47, 59, 161)",
          "line": {
           "color": "Black",
           "width": 1
          },
          "opacity": 0.6,
          "size": 5.299401197604791
         },
         "mode": "markers+text",
         "showlegend": false,
         "text": "Iceland",
         "textposition": "top center",
         "type": "scatter",
         "x": [
          7
         ],
         "y": [
          0
         ]
        },
        {
         "marker": {
          "color": "rgb(48, 56, 158)",
          "line": {
           "color": "Black",
           "width": 1
          },
          "opacity": 0.6,
          "size": 5.199600798403194
         },
         "mode": "markers+text",
         "showlegend": false,
         "text": "Iraq",
         "textposition": "top center",
         "type": "scatter",
         "x": [
          5
         ],
         "y": [
          0
         ]
        },
        {
         "marker": {
          "color": "rgb(49, 53, 155)",
          "line": {
           "color": "Black",
           "width": 1
          },
          "opacity": 0.6,
          "size": 5.099800399201597
         },
         "mode": "markers+text",
         "showlegend": false,
         "text": "Kiribati",
         "textposition": "top center",
         "type": "scatter",
         "x": [
          3
         ],
         "y": [
          0
         ]
        },
        {
         "marker": {
          "color": "rgb(45, 61, 163)",
          "line": {
           "color": "Black",
           "width": 1
          },
          "opacity": 0.6,
          "size": 5.399201596806387
         },
         "mode": "markers+text",
         "showlegend": false,
         "text": "Kuwait",
         "textposition": "top center",
         "type": "scatter",
         "x": [
          9
         ],
         "y": [
          0
         ]
        },
        {
         "marker": {
          "color": "rgb(49, 53, 155)",
          "line": {
           "color": "Black",
           "width": 1
          },
          "opacity": 0.6,
          "size": 5.149700598802395
         },
         "mode": "markers+text",
         "showlegend": false,
         "text": "Lao PDR",
         "textposition": "top center",
         "type": "scatter",
         "x": [
          4
         ],
         "y": [
          0
         ]
        },
        {
         "marker": {
          "color": "rgb(33, 85, 187)",
          "line": {
           "color": "Black",
           "width": 1
          },
          "opacity": 0.6,
          "size": 6.297405189620759
         },
         "mode": "markers+text",
         "showlegend": false,
         "text": "Latvia",
         "textposition": "top center",
         "type": "scatter",
         "x": [
          27
         ],
         "y": [
          0
         ]
        },
        {
         "marker": {
          "color": "rgb(45, 61, 163)",
          "line": {
           "color": "Black",
           "width": 1
          },
          "opacity": 0.6,
          "size": 5.449101796407185
         },
         "mode": "markers+text",
         "showlegend": false,
         "text": "Lebanon",
         "textposition": "top center",
         "type": "scatter",
         "x": [
          10
         ],
         "y": [
          0
         ]
        },
        {
         "marker": {
          "color": "rgb(49, 53, 155)",
          "line": {
           "color": "Black",
           "width": 1
          },
          "opacity": 0.6,
          "size": 5.099800399201597
         },
         "mode": "markers+text",
         "showlegend": false,
         "text": "Lesotho",
         "textposition": "top center",
         "type": "scatter",
         "x": [
          3
         ],
         "y": [
          0
         ]
        },
        {
         "marker": {
          "color": "rgb(48, 56, 158)",
          "line": {
           "color": "Black",
           "width": 1
          },
          "opacity": 0.6,
          "size": 5.249500998003992
         },
         "mode": "markers+text",
         "showlegend": false,
         "text": "Liberia",
         "textposition": "top center",
         "type": "scatter",
         "x": [
          6
         ],
         "y": [
          0
         ]
        },
        {
         "marker": {
          "color": "rgb(48, 56, 158)",
          "line": {
           "color": "Black",
           "width": 1
          },
          "opacity": 0.6,
          "size": 5.249500998003992
         },
         "mode": "markers+text",
         "showlegend": false,
         "text": "Libya",
         "textposition": "top center",
         "type": "scatter",
         "x": [
          6
         ],
         "y": [
          0
         ]
        },
        {
         "marker": {
          "color": "rgb(51, 51, 153)",
          "line": {
           "color": "Black",
           "width": 1
          },
          "opacity": 0.6,
          "size": 5
         },
         "mode": "markers+text",
         "showlegend": false,
         "text": "Liechtenstein",
         "textposition": "top center",
         "type": "scatter",
         "x": [
          1
         ],
         "y": [
          0
         ]
        },
        {
         "marker": {
          "color": "rgb(43, 67, 169)",
          "line": {
           "color": "Black",
           "width": 1
          },
          "opacity": 0.6,
          "size": 5.598802395209581
         },
         "mode": "markers+text",
         "showlegend": false,
         "text": "Luxembourg",
         "textposition": "top center",
         "type": "scatter",
         "x": [
          13
         ],
         "y": [
          0
         ]
        },
        {
         "marker": {
          "color": "rgb(47, 59, 161)",
          "line": {
           "color": "Black",
           "width": 1
          },
          "opacity": 0.6,
          "size": 5.299401197604791
         },
         "mode": "markers+text",
         "showlegend": false,
         "text": "Madagascar",
         "textposition": "top center",
         "type": "scatter",
         "x": [
          7
         ],
         "y": [
          0
         ]
        },
        {
         "marker": {
          "color": "rgb(49, 53, 155)",
          "line": {
           "color": "Black",
           "width": 1
          },
          "opacity": 0.6,
          "size": 5.099800399201597
         },
         "mode": "markers+text",
         "showlegend": false,
         "text": "Malawi",
         "textposition": "top center",
         "type": "scatter",
         "x": [
          3
         ],
         "y": [
          0
         ]
        },
        {
         "marker": {
          "color": "rgb(48, 56, 158)",
          "line": {
           "color": "Black",
           "width": 1
          },
          "opacity": 0.6,
          "size": 5.199600798403194
         },
         "mode": "markers+text",
         "showlegend": false,
         "text": "Maldives",
         "textposition": "top center",
         "type": "scatter",
         "x": [
          5
         ],
         "y": [
          0
         ]
        },
        {
         "marker": {
          "color": "rgb(48, 56, 158)",
          "line": {
           "color": "Black",
           "width": 1
          },
          "opacity": 0.6,
          "size": 5.249500998003992
         },
         "mode": "markers+text",
         "showlegend": false,
         "text": "Mali",
         "textposition": "top center",
         "type": "scatter",
         "x": [
          6
         ],
         "y": [
          0
         ]
        },
        {
         "marker": {
          "color": "rgb(48, 56, 158)",
          "line": {
           "color": "Black",
           "width": 1
          },
          "opacity": 0.6,
          "size": 5.199600798403194
         },
         "mode": "markers+text",
         "showlegend": false,
         "text": "Malta",
         "textposition": "top center",
         "type": "scatter",
         "x": [
          5
         ],
         "y": [
          0
         ]
        },
        {
         "marker": {
          "color": "rgb(49, 53, 155)",
          "line": {
           "color": "Black",
           "width": 1
          },
          "opacity": 0.6,
          "size": 5.149700598802395
         },
         "mode": "markers+text",
         "showlegend": false,
         "text": "Marshall Islands",
         "textposition": "top center",
         "type": "scatter",
         "x": [
          4
         ],
         "y": [
          0
         ]
        },
        {
         "marker": {
          "color": "rgb(51, 51, 153)",
          "line": {
           "color": "Black",
           "width": 1
          },
          "opacity": 0.6,
          "size": 5.049900199600798
         },
         "mode": "markers+text",
         "showlegend": false,
         "text": "Mauritania",
         "textposition": "top center",
         "type": "scatter",
         "x": [
          2
         ],
         "y": [
          0
         ]
        },
        {
         "marker": {
          "color": "rgb(44, 64, 166)",
          "line": {
           "color": "Black",
           "width": 1
          },
          "opacity": 0.6,
          "size": 5.5489021956087825
         },
         "mode": "markers+text",
         "showlegend": false,
         "text": "Mauritius",
         "textposition": "top center",
         "type": "scatter",
         "x": [
          12
         ],
         "y": [
          0
         ]
        },
        {
         "marker": {
          "color": "rgb(49, 53, 155)",
          "line": {
           "color": "Black",
           "width": 1
          },
          "opacity": 0.6,
          "size": 5.099800399201597
         },
         "mode": "markers+text",
         "showlegend": false,
         "text": "Micronesia",
         "textposition": "top center",
         "type": "scatter",
         "x": [
          3
         ],
         "y": [
          0
         ]
        },
        {
         "marker": {
          "color": "rgb(48, 56, 158)",
          "line": {
           "color": "Black",
           "width": 1
          },
          "opacity": 0.6,
          "size": 5.249500998003992
         },
         "mode": "markers+text",
         "showlegend": false,
         "text": "Monaco",
         "textposition": "top center",
         "type": "scatter",
         "x": [
          6
         ],
         "y": [
          0
         ]
        },
        {
         "marker": {
          "color": "rgb(47, 59, 161)",
          "line": {
           "color": "Black",
           "width": 1
          },
          "opacity": 0.6,
          "size": 5.299401197604791
         },
         "mode": "markers+text",
         "showlegend": false,
         "text": "Montenegro",
         "textposition": "top center",
         "type": "scatter",
         "x": [
          7
         ],
         "y": [
          0
         ]
        },
        {
         "marker": {
          "color": "rgb(47, 59, 161)",
          "line": {
           "color": "Black",
           "width": 1
          },
          "opacity": 0.6,
          "size": 5.299401197604791
         },
         "mode": "markers+text",
         "showlegend": false,
         "text": "Mozambique",
         "textposition": "top center",
         "type": "scatter",
         "x": [
          7
         ],
         "y": [
          0
         ]
        },
        {
         "marker": {
          "color": "rgb(51, 51, 153)",
          "line": {
           "color": "Black",
           "width": 1
          },
          "opacity": 0.6,
          "size": 5.049900199600798
         },
         "mode": "markers+text",
         "showlegend": false,
         "text": "Myanmar",
         "textposition": "top center",
         "type": "scatter",
         "x": [
          2
         ],
         "y": [
          0
         ]
        },
        {
         "marker": {
          "color": "rgb(49, 53, 155)",
          "line": {
           "color": "Black",
           "width": 1
          },
          "opacity": 0.6,
          "size": 5.149700598802395
         },
         "mode": "markers+text",
         "showlegend": false,
         "text": "Namibia",
         "textposition": "top center",
         "type": "scatter",
         "x": [
          4
         ],
         "y": [
          0
         ]
        },
        {
         "marker": {
          "color": "rgb(51, 51, 153)",
          "line": {
           "color": "Black",
           "width": 1
          },
          "opacity": 0.6,
          "size": 5
         },
         "mode": "markers+text",
         "showlegend": false,
         "text": "Nauru",
         "textposition": "top center",
         "type": "scatter",
         "x": [
          1
         ],
         "y": [
          0
         ]
        },
        {
         "marker": {
          "color": "rgb(47, 59, 161)",
          "line": {
           "color": "Black",
           "width": 1
          },
          "opacity": 0.6,
          "size": 5.299401197604791
         },
         "mode": "markers+text",
         "showlegend": false,
         "text": "Nepal",
         "textposition": "top center",
         "type": "scatter",
         "x": [
          7
         ],
         "y": [
          0
         ]
        },
        {
         "marker": {
          "color": "rgb(47, 59, 161)",
          "line": {
           "color": "Black",
           "width": 1
          },
          "opacity": 0.6,
          "size": 5.299401197604791
         },
         "mode": "markers+text",
         "showlegend": false,
         "text": "Nicaragua",
         "textposition": "top center",
         "type": "scatter",
         "x": [
          7
         ],
         "y": [
          0
         ]
        },
        {
         "marker": {
          "color": "rgb(47, 59, 161)",
          "line": {
           "color": "Black",
           "width": 1
          },
          "opacity": 0.6,
          "size": 5.299401197604791
         },
         "mode": "markers+text",
         "showlegend": false,
         "text": "Niger",
         "textposition": "top center",
         "type": "scatter",
         "x": [
          7
         ],
         "y": [
          0
         ]
        },
        {
         "marker": {
          "color": "rgb(16, 120, 222)",
          "line": {
           "color": "Black",
           "width": 1
          },
          "opacity": 0.6,
          "size": 7.594810379241517
         },
         "mode": "markers+text",
         "showlegend": false,
         "text": "Nigeria",
         "textposition": "top center",
         "type": "scatter",
         "x": [
          53
         ],
         "y": [
          0
         ]
        },
        {
         "marker": {
          "color": "rgb(48, 56, 158)",
          "line": {
           "color": "Black",
           "width": 1
          },
          "opacity": 0.6,
          "size": 5.249500998003992
         },
         "mode": "markers+text",
         "showlegend": false,
         "text": "North Macedonia",
         "textposition": "top center",
         "type": "scatter",
         "x": [
          6
         ],
         "y": [
          0
         ]
        },
        {
         "marker": {
          "color": "rgb(49, 53, 155)",
          "line": {
           "color": "Black",
           "width": 1
          },
          "opacity": 0.6,
          "size": 5.149700598802395
         },
         "mode": "markers+text",
         "showlegend": false,
         "text": "Oman",
         "textposition": "top center",
         "type": "scatter",
         "x": [
          4
         ],
         "y": [
          0
         ]
        },
        {
         "marker": {
          "color": "rgb(49, 53, 155)",
          "line": {
           "color": "Black",
           "width": 1
          },
          "opacity": 0.6,
          "size": 5.099800399201597
         },
         "mode": "markers+text",
         "showlegend": false,
         "text": "Palau",
         "textposition": "top center",
         "type": "scatter",
         "x": [
          3
         ],
         "y": [
          0
         ]
        },
        {
         "marker": {
          "color": "rgb(47, 59, 161)",
          "line": {
           "color": "Black",
           "width": 1
          },
          "opacity": 0.6,
          "size": 5.349301397205589
         },
         "mode": "markers+text",
         "showlegend": false,
         "text": "Palestine",
         "textposition": "top center",
         "type": "scatter",
         "x": [
          8
         ],
         "y": [
          0
         ]
        },
        {
         "marker": {
          "color": "rgb(47, 59, 161)",
          "line": {
           "color": "Black",
           "width": 1
          },
          "opacity": 0.6,
          "size": 5.299401197604791
         },
         "mode": "markers+text",
         "showlegend": false,
         "text": "Papua New Guinea",
         "textposition": "top center",
         "type": "scatter",
         "x": [
          7
         ],
         "y": [
          0
         ]
        },
        {
         "marker": {
          "color": "rgb(45, 61, 163)",
          "line": {
           "color": "Black",
           "width": 1
          },
          "opacity": 0.6,
          "size": 5.449101796407185
         },
         "mode": "markers+text",
         "showlegend": false,
         "text": "Paraguay",
         "textposition": "top center",
         "type": "scatter",
         "x": [
          10
         ],
         "y": [
          0
         ]
        },
        {
         "marker": {
          "color": "rgb(47, 59, 161)",
          "line": {
           "color": "Black",
           "width": 1
          },
          "opacity": 0.6,
          "size": 5.349301397205589
         },
         "mode": "markers+text",
         "showlegend": false,
         "text": "Rwanda",
         "textposition": "top center",
         "type": "scatter",
         "x": [
          8
         ],
         "y": [
          0
         ]
        },
        {
         "marker": {
          "color": "rgb(43, 67, 169)",
          "line": {
           "color": "Black",
           "width": 1
          },
          "opacity": 0.6,
          "size": 5.598802395209581
         },
         "mode": "markers+text",
         "showlegend": false,
         "text": "Samoa",
         "textposition": "top center",
         "type": "scatter",
         "x": [
          13
         ],
         "y": [
          0
         ]
        },
        {
         "marker": {
          "color": "rgb(48, 56, 158)",
          "line": {
           "color": "Black",
           "width": 1
          },
          "opacity": 0.6,
          "size": 5.199600798403194
         },
         "mode": "markers+text",
         "showlegend": false,
         "text": "San Marino",
         "textposition": "top center",
         "type": "scatter",
         "x": [
          5
         ],
         "y": [
          0
         ]
        },
        {
         "marker": {
          "color": "rgb(49, 53, 155)",
          "line": {
           "color": "Black",
           "width": 1
          },
          "opacity": 0.6,
          "size": 5.099800399201597
         },
         "mode": "markers+text",
         "showlegend": false,
         "text": "Sao Tome & Principe",
         "textposition": "top center",
         "type": "scatter",
         "x": [
          3
         ],
         "y": [
          0
         ]
        },
        {
         "marker": {
          "color": "rgb(45, 61, 163)",
          "line": {
           "color": "Black",
           "width": 1
          },
          "opacity": 0.6,
          "size": 5.399201596806387
         },
         "mode": "markers+text",
         "showlegend": false,
         "text": "Saudi Arabia",
         "textposition": "top center",
         "type": "scatter",
         "x": [
          9
         ],
         "y": [
          0
         ]
        },
        {
         "marker": {
          "color": "rgb(43, 67, 169)",
          "line": {
           "color": "Black",
           "width": 1
          },
          "opacity": 0.6,
          "size": 5.598802395209581
         },
         "mode": "markers+text",
         "showlegend": false,
         "text": "Senegal",
         "textposition": "top center",
         "type": "scatter",
         "x": [
          13
         ],
         "y": [
          0
         ]
        },
        {
         "marker": {
          "color": "rgb(49, 53, 155)",
          "line": {
           "color": "Black",
           "width": 1
          },
          "opacity": 0.6,
          "size": 5.099800399201597
         },
         "mode": "markers+text",
         "showlegend": false,
         "text": "Seychelles",
         "textposition": "top center",
         "type": "scatter",
         "x": [
          3
         ],
         "y": [
          0
         ]
        },
        {
         "marker": {
          "color": "rgb(49, 53, 155)",
          "line": {
           "color": "Black",
           "width": 1
          },
          "opacity": 0.6,
          "size": 5.149700598802395
         },
         "mode": "markers+text",
         "showlegend": false,
         "text": "Sierra Leone",
         "textposition": "top center",
         "type": "scatter",
         "x": [
          4
         ],
         "y": [
          0
         ]
        },
        {
         "marker": {
          "color": "rgb(51, 51, 153)",
          "line": {
           "color": "Black",
           "width": 1
          },
          "opacity": 0.6,
          "size": 5.049900199600798
         },
         "mode": "markers+text",
         "showlegend": false,
         "text": "Solomon Islands",
         "textposition": "top center",
         "type": "scatter",
         "x": [
          2
         ],
         "y": [
          0
         ]
        },
        {
         "marker": {
          "color": "rgb(51, 51, 153)",
          "line": {
           "color": "Black",
           "width": 1
          },
          "opacity": 0.6,
          "size": 5
         },
         "mode": "markers+text",
         "showlegend": false,
         "text": "Somalia",
         "textposition": "top center",
         "type": "scatter",
         "x": [
          1
         ],
         "y": [
          0
         ]
        },
        {
         "marker": {
          "color": "rgb(49, 53, 155)",
          "line": {
           "color": "Black",
           "width": 1
          },
          "opacity": 0.6,
          "size": 5.099800399201597
         },
         "mode": "markers+text",
         "showlegend": false,
         "text": "South Sudan",
         "textposition": "top center",
         "type": "scatter",
         "x": [
          3
         ],
         "y": [
          0
         ]
        },
        {
         "marker": {
          "color": "rgb(48, 56, 158)",
          "line": {
           "color": "Black",
           "width": 1
          },
          "opacity": 0.6,
          "size": 5.249500998003992
         },
         "mode": "markers+text",
         "showlegend": false,
         "text": "Sri Lanka",
         "textposition": "top center",
         "type": "scatter",
         "x": [
          6
         ],
         "y": [
          0
         ]
        },
        {
         "marker": {
          "color": "rgb(49, 53, 155)",
          "line": {
           "color": "Black",
           "width": 1
          },
          "opacity": 0.6,
          "size": 5.099800399201597
         },
         "mode": "markers+text",
         "showlegend": false,
         "text": "St Kitts and Nevis",
         "textposition": "top center",
         "type": "scatter",
         "x": [
          3
         ],
         "y": [
          0
         ]
        },
        {
         "marker": {
          "color": "rgb(49, 53, 155)",
          "line": {
           "color": "Black",
           "width": 1
          },
          "opacity": 0.6,
          "size": 5.149700598802395
         },
         "mode": "markers+text",
         "showlegend": false,
         "text": "StVincent&Grenadines",
         "textposition": "top center",
         "type": "scatter",
         "x": [
          4
         ],
         "y": [
          0
         ]
        },
        {
         "marker": {
          "color": "rgb(49, 53, 155)",
          "line": {
           "color": "Black",
           "width": 1
          },
          "opacity": 0.6,
          "size": 5.149700598802395
         },
         "mode": "markers+text",
         "showlegend": false,
         "text": "Sudan",
         "textposition": "top center",
         "type": "scatter",
         "x": [
          4
         ],
         "y": [
          0
         ]
        },
        {
         "marker": {
          "color": "rgb(48, 56, 158)",
          "line": {
           "color": "Black",
           "width": 1
          },
          "opacity": 0.6,
          "size": 5.249500998003992
         },
         "mode": "markers+text",
         "showlegend": false,
         "text": "Suriname",
         "textposition": "top center",
         "type": "scatter",
         "x": [
          6
         ],
         "y": [
          0
         ]
        },
        {
         "marker": {
          "color": "rgb(45, 61, 163)",
          "line": {
           "color": "Black",
           "width": 1
          },
          "opacity": 0.6,
          "size": 5.399201596806387
         },
         "mode": "markers+text",
         "showlegend": false,
         "text": "Syria",
         "textposition": "top center",
         "type": "scatter",
         "x": [
          9
         ],
         "y": [
          0
         ]
        },
        {
         "marker": {
          "color": "rgb(47, 59, 161)",
          "line": {
           "color": "Black",
           "width": 1
          },
          "opacity": 0.6,
          "size": 5.299401197604791
         },
         "mode": "markers+text",
         "showlegend": false,
         "text": "Tanzania",
         "textposition": "top center",
         "type": "scatter",
         "x": [
          7
         ],
         "y": [
          0
         ]
        },
        {
         "marker": {
          "color": "rgb(49, 53, 155)",
          "line": {
           "color": "Black",
           "width": 1
          },
          "opacity": 0.6,
          "size": 5.149700598802395
         },
         "mode": "markers+text",
         "showlegend": false,
         "text": "Timor-Leste",
         "textposition": "top center",
         "type": "scatter",
         "x": [
          4
         ],
         "y": [
          0
         ]
        },
        {
         "marker": {
          "color": "rgb(48, 56, 158)",
          "line": {
           "color": "Black",
           "width": 1
          },
          "opacity": 0.6,
          "size": 5.199600798403194
         },
         "mode": "markers+text",
         "showlegend": false,
         "text": "Togo",
         "textposition": "top center",
         "type": "scatter",
         "x": [
          5
         ],
         "y": [
          0
         ]
        },
        {
         "marker": {
          "color": "rgb(49, 53, 155)",
          "line": {
           "color": "Black",
           "width": 1
          },
          "opacity": 0.6,
          "size": 5.149700598802395
         },
         "mode": "markers+text",
         "showlegend": false,
         "text": "Tonga",
         "textposition": "top center",
         "type": "scatter",
         "x": [
          4
         ],
         "y": [
          0
         ]
        },
        {
         "marker": {
          "color": "rgb(41, 69, 171)",
          "line": {
           "color": "Black",
           "width": 1
          },
          "opacity": 0.6,
          "size": 5.698602794411178
         },
         "mode": "markers+text",
         "showlegend": false,
         "text": "Trinidad and Tobago",
         "textposition": "top center",
         "type": "scatter",
         "x": [
          15
         ],
         "y": [
          0
         ]
        },
        {
         "marker": {
          "color": "rgb(48, 56, 158)",
          "line": {
           "color": "Black",
           "width": 1
          },
          "opacity": 0.6,
          "size": 5.249500998003992
         },
         "mode": "markers+text",
         "showlegend": false,
         "text": "Turkmenistan",
         "textposition": "top center",
         "type": "scatter",
         "x": [
          6
         ],
         "y": [
          0
         ]
        },
        {
         "marker": {
          "color": "rgb(51, 51, 153)",
          "line": {
           "color": "Black",
           "width": 1
          },
          "opacity": 0.6,
          "size": 5.049900199600798
         },
         "mode": "markers+text",
         "showlegend": false,
         "text": "Tuvalu",
         "textposition": "top center",
         "type": "scatter",
         "x": [
          2
         ],
         "y": [
          0
         ]
        },
        {
         "marker": {
          "color": "rgb(43, 67, 169)",
          "line": {
           "color": "Black",
           "width": 1
          },
          "opacity": 0.6,
          "size": 5.648702594810379
         },
         "mode": "markers+text",
         "showlegend": false,
         "text": "UA Emirates",
         "textposition": "top center",
         "type": "scatter",
         "x": [
          14
         ],
         "y": [
          0
         ]
        },
        {
         "marker": {
          "color": "rgb(43, 67, 169)",
          "line": {
           "color": "Black",
           "width": 1
          },
          "opacity": 0.6,
          "size": 5.598802395209581
         },
         "mode": "markers+text",
         "showlegend": false,
         "text": "Uruguay",
         "textposition": "top center",
         "type": "scatter",
         "x": [
          13
         ],
         "y": [
          0
         ]
        },
        {
         "marker": {
          "color": "rgb(48, 56, 158)",
          "line": {
           "color": "Black",
           "width": 1
          },
          "opacity": 0.6,
          "size": 5.249500998003992
         },
         "mode": "markers+text",
         "showlegend": false,
         "text": "Vanuatu",
         "textposition": "top center",
         "type": "scatter",
         "x": [
          6
         ],
         "y": [
          0
         ]
        },
        {
         "marker": {
          "color": "rgb(29, 93, 195)",
          "line": {
           "color": "Black",
           "width": 1
          },
          "opacity": 0.6,
          "size": 6.6467065868263475
         },
         "mode": "markers+text",
         "showlegend": false,
         "text": "Venezuela",
         "textposition": "top center",
         "type": "scatter",
         "x": [
          34
         ],
         "y": [
          0
         ]
        },
        {
         "marker": {
          "color": "rgb(39, 75, 177)",
          "line": {
           "color": "Black",
           "width": 1
          },
          "opacity": 0.6,
          "size": 5.8982035928143715
         },
         "mode": "markers+text",
         "showlegend": false,
         "text": "Vietnam",
         "textposition": "top center",
         "type": "scatter",
         "x": [
          19
         ],
         "y": [
          0
         ]
        },
        {
         "marker": {
          "color": "rgb(49, 53, 155)",
          "line": {
           "color": "Black",
           "width": 1
          },
          "opacity": 0.6,
          "size": 5.149700598802395
         },
         "mode": "markers+text",
         "showlegend": false,
         "text": "Virgin Islands, B",
         "textposition": "top center",
         "type": "scatter",
         "x": [
          4
         ],
         "y": [
          0
         ]
        },
        {
         "marker": {
          "color": "rgb(48, 56, 158)",
          "line": {
           "color": "Black",
           "width": 1
          },
          "opacity": 0.6,
          "size": 5.199600798403194
         },
         "mode": "markers+text",
         "showlegend": false,
         "text": "Virgin Islands, US",
         "textposition": "top center",
         "type": "scatter",
         "x": [
          5
         ],
         "y": [
          0
         ]
        },
        {
         "marker": {
          "color": "rgb(49, 53, 155)",
          "line": {
           "color": "Black",
           "width": 1
          },
          "opacity": 0.6,
          "size": 5.149700598802395
         },
         "mode": "markers+text",
         "showlegend": false,
         "text": "Yemen",
         "textposition": "top center",
         "type": "scatter",
         "x": [
          4
         ],
         "y": [
          0
         ]
        },
        {
         "marker": {
          "color": "rgb(47, 59, 161)",
          "line": {
           "color": "Black",
           "width": 1
          },
          "opacity": 0.6,
          "size": 5.299401197604791
         },
         "mode": "markers+text",
         "showlegend": false,
         "text": "Zimbabwe",
         "textposition": "top center",
         "type": "scatter",
         "x": [
          7
         ],
         "y": [
          0
         ]
        }
       ],
       "layout": {
        "height": 800,
        "margin": {
         "b": 40,
         "l": 40,
         "r": 40,
         "t": 40
        },
        "template": {
         "data": {
          "bar": [
           {
            "error_x": {
             "color": "#2a3f5f"
            },
            "error_y": {
             "color": "#2a3f5f"
            },
            "marker": {
             "line": {
              "color": "#E5ECF6",
              "width": 0.5
             },
             "pattern": {
              "fillmode": "overlay",
              "size": 10,
              "solidity": 0.2
             }
            },
            "type": "bar"
           }
          ],
          "barpolar": [
           {
            "marker": {
             "line": {
              "color": "#E5ECF6",
              "width": 0.5
             },
             "pattern": {
              "fillmode": "overlay",
              "size": 10,
              "solidity": 0.2
             }
            },
            "type": "barpolar"
           }
          ],
          "carpet": [
           {
            "aaxis": {
             "endlinecolor": "#2a3f5f",
             "gridcolor": "white",
             "linecolor": "white",
             "minorgridcolor": "white",
             "startlinecolor": "#2a3f5f"
            },
            "baxis": {
             "endlinecolor": "#2a3f5f",
             "gridcolor": "white",
             "linecolor": "white",
             "minorgridcolor": "white",
             "startlinecolor": "#2a3f5f"
            },
            "type": "carpet"
           }
          ],
          "choropleth": [
           {
            "colorbar": {
             "outlinewidth": 0,
             "ticks": ""
            },
            "type": "choropleth"
           }
          ],
          "contour": [
           {
            "colorbar": {
             "outlinewidth": 0,
             "ticks": ""
            },
            "colorscale": [
             [
              0,
              "#0d0887"
             ],
             [
              0.1111111111111111,
              "#46039f"
             ],
             [
              0.2222222222222222,
              "#7201a8"
             ],
             [
              0.3333333333333333,
              "#9c179e"
             ],
             [
              0.4444444444444444,
              "#bd3786"
             ],
             [
              0.5555555555555556,
              "#d8576b"
             ],
             [
              0.6666666666666666,
              "#ed7953"
             ],
             [
              0.7777777777777778,
              "#fb9f3a"
             ],
             [
              0.8888888888888888,
              "#fdca26"
             ],
             [
              1,
              "#f0f921"
             ]
            ],
            "type": "contour"
           }
          ],
          "contourcarpet": [
           {
            "colorbar": {
             "outlinewidth": 0,
             "ticks": ""
            },
            "type": "contourcarpet"
           }
          ],
          "heatmap": [
           {
            "colorbar": {
             "outlinewidth": 0,
             "ticks": ""
            },
            "colorscale": [
             [
              0,
              "#0d0887"
             ],
             [
              0.1111111111111111,
              "#46039f"
             ],
             [
              0.2222222222222222,
              "#7201a8"
             ],
             [
              0.3333333333333333,
              "#9c179e"
             ],
             [
              0.4444444444444444,
              "#bd3786"
             ],
             [
              0.5555555555555556,
              "#d8576b"
             ],
             [
              0.6666666666666666,
              "#ed7953"
             ],
             [
              0.7777777777777778,
              "#fb9f3a"
             ],
             [
              0.8888888888888888,
              "#fdca26"
             ],
             [
              1,
              "#f0f921"
             ]
            ],
            "type": "heatmap"
           }
          ],
          "heatmapgl": [
           {
            "colorbar": {
             "outlinewidth": 0,
             "ticks": ""
            },
            "colorscale": [
             [
              0,
              "#0d0887"
             ],
             [
              0.1111111111111111,
              "#46039f"
             ],
             [
              0.2222222222222222,
              "#7201a8"
             ],
             [
              0.3333333333333333,
              "#9c179e"
             ],
             [
              0.4444444444444444,
              "#bd3786"
             ],
             [
              0.5555555555555556,
              "#d8576b"
             ],
             [
              0.6666666666666666,
              "#ed7953"
             ],
             [
              0.7777777777777778,
              "#fb9f3a"
             ],
             [
              0.8888888888888888,
              "#fdca26"
             ],
             [
              1,
              "#f0f921"
             ]
            ],
            "type": "heatmapgl"
           }
          ],
          "histogram": [
           {
            "marker": {
             "pattern": {
              "fillmode": "overlay",
              "size": 10,
              "solidity": 0.2
             }
            },
            "type": "histogram"
           }
          ],
          "histogram2d": [
           {
            "colorbar": {
             "outlinewidth": 0,
             "ticks": ""
            },
            "colorscale": [
             [
              0,
              "#0d0887"
             ],
             [
              0.1111111111111111,
              "#46039f"
             ],
             [
              0.2222222222222222,
              "#7201a8"
             ],
             [
              0.3333333333333333,
              "#9c179e"
             ],
             [
              0.4444444444444444,
              "#bd3786"
             ],
             [
              0.5555555555555556,
              "#d8576b"
             ],
             [
              0.6666666666666666,
              "#ed7953"
             ],
             [
              0.7777777777777778,
              "#fb9f3a"
             ],
             [
              0.8888888888888888,
              "#fdca26"
             ],
             [
              1,
              "#f0f921"
             ]
            ],
            "type": "histogram2d"
           }
          ],
          "histogram2dcontour": [
           {
            "colorbar": {
             "outlinewidth": 0,
             "ticks": ""
            },
            "colorscale": [
             [
              0,
              "#0d0887"
             ],
             [
              0.1111111111111111,
              "#46039f"
             ],
             [
              0.2222222222222222,
              "#7201a8"
             ],
             [
              0.3333333333333333,
              "#9c179e"
             ],
             [
              0.4444444444444444,
              "#bd3786"
             ],
             [
              0.5555555555555556,
              "#d8576b"
             ],
             [
              0.6666666666666666,
              "#ed7953"
             ],
             [
              0.7777777777777778,
              "#fb9f3a"
             ],
             [
              0.8888888888888888,
              "#fdca26"
             ],
             [
              1,
              "#f0f921"
             ]
            ],
            "type": "histogram2dcontour"
           }
          ],
          "mesh3d": [
           {
            "colorbar": {
             "outlinewidth": 0,
             "ticks": ""
            },
            "type": "mesh3d"
           }
          ],
          "parcoords": [
           {
            "line": {
             "colorbar": {
              "outlinewidth": 0,
              "ticks": ""
             }
            },
            "type": "parcoords"
           }
          ],
          "pie": [
           {
            "automargin": true,
            "type": "pie"
           }
          ],
          "scatter": [
           {
            "fillpattern": {
             "fillmode": "overlay",
             "size": 10,
             "solidity": 0.2
            },
            "type": "scatter"
           }
          ],
          "scatter3d": [
           {
            "line": {
             "colorbar": {
              "outlinewidth": 0,
              "ticks": ""
             }
            },
            "marker": {
             "colorbar": {
              "outlinewidth": 0,
              "ticks": ""
             }
            },
            "type": "scatter3d"
           }
          ],
          "scattercarpet": [
           {
            "marker": {
             "colorbar": {
              "outlinewidth": 0,
              "ticks": ""
             }
            },
            "type": "scattercarpet"
           }
          ],
          "scattergeo": [
           {
            "marker": {
             "colorbar": {
              "outlinewidth": 0,
              "ticks": ""
             }
            },
            "type": "scattergeo"
           }
          ],
          "scattergl": [
           {
            "marker": {
             "colorbar": {
              "outlinewidth": 0,
              "ticks": ""
             }
            },
            "type": "scattergl"
           }
          ],
          "scattermapbox": [
           {
            "marker": {
             "colorbar": {
              "outlinewidth": 0,
              "ticks": ""
             }
            },
            "type": "scattermapbox"
           }
          ],
          "scatterpolar": [
           {
            "marker": {
             "colorbar": {
              "outlinewidth": 0,
              "ticks": ""
             }
            },
            "type": "scatterpolar"
           }
          ],
          "scatterpolargl": [
           {
            "marker": {
             "colorbar": {
              "outlinewidth": 0,
              "ticks": ""
             }
            },
            "type": "scatterpolargl"
           }
          ],
          "scatterternary": [
           {
            "marker": {
             "colorbar": {
              "outlinewidth": 0,
              "ticks": ""
             }
            },
            "type": "scatterternary"
           }
          ],
          "surface": [
           {
            "colorbar": {
             "outlinewidth": 0,
             "ticks": ""
            },
            "colorscale": [
             [
              0,
              "#0d0887"
             ],
             [
              0.1111111111111111,
              "#46039f"
             ],
             [
              0.2222222222222222,
              "#7201a8"
             ],
             [
              0.3333333333333333,
              "#9c179e"
             ],
             [
              0.4444444444444444,
              "#bd3786"
             ],
             [
              0.5555555555555556,
              "#d8576b"
             ],
             [
              0.6666666666666666,
              "#ed7953"
             ],
             [
              0.7777777777777778,
              "#fb9f3a"
             ],
             [
              0.8888888888888888,
              "#fdca26"
             ],
             [
              1,
              "#f0f921"
             ]
            ],
            "type": "surface"
           }
          ],
          "table": [
           {
            "cells": {
             "fill": {
              "color": "#EBF0F8"
             },
             "line": {
              "color": "white"
             }
            },
            "header": {
             "fill": {
              "color": "#C8D4E3"
             },
             "line": {
              "color": "white"
             }
            },
            "type": "table"
           }
          ]
         },
         "layout": {
          "annotationdefaults": {
           "arrowcolor": "#2a3f5f",
           "arrowhead": 0,
           "arrowwidth": 1
          },
          "autotypenumbers": "strict",
          "coloraxis": {
           "colorbar": {
            "outlinewidth": 0,
            "ticks": ""
           }
          },
          "colorscale": {
           "diverging": [
            [
             0,
             "#8e0152"
            ],
            [
             0.1,
             "#c51b7d"
            ],
            [
             0.2,
             "#de77ae"
            ],
            [
             0.3,
             "#f1b6da"
            ],
            [
             0.4,
             "#fde0ef"
            ],
            [
             0.5,
             "#f7f7f7"
            ],
            [
             0.6,
             "#e6f5d0"
            ],
            [
             0.7,
             "#b8e186"
            ],
            [
             0.8,
             "#7fbc41"
            ],
            [
             0.9,
             "#4d9221"
            ],
            [
             1,
             "#276419"
            ]
           ],
           "sequential": [
            [
             0,
             "#0d0887"
            ],
            [
             0.1111111111111111,
             "#46039f"
            ],
            [
             0.2222222222222222,
             "#7201a8"
            ],
            [
             0.3333333333333333,
             "#9c179e"
            ],
            [
             0.4444444444444444,
             "#bd3786"
            ],
            [
             0.5555555555555556,
             "#d8576b"
            ],
            [
             0.6666666666666666,
             "#ed7953"
            ],
            [
             0.7777777777777778,
             "#fb9f3a"
            ],
            [
             0.8888888888888888,
             "#fdca26"
            ],
            [
             1,
             "#f0f921"
            ]
           ],
           "sequentialminus": [
            [
             0,
             "#0d0887"
            ],
            [
             0.1111111111111111,
             "#46039f"
            ],
            [
             0.2222222222222222,
             "#7201a8"
            ],
            [
             0.3333333333333333,
             "#9c179e"
            ],
            [
             0.4444444444444444,
             "#bd3786"
            ],
            [
             0.5555555555555556,
             "#d8576b"
            ],
            [
             0.6666666666666666,
             "#ed7953"
            ],
            [
             0.7777777777777778,
             "#fb9f3a"
            ],
            [
             0.8888888888888888,
             "#fdca26"
            ],
            [
             1,
             "#f0f921"
            ]
           ]
          },
          "colorway": [
           "#636efa",
           "#EF553B",
           "#00cc96",
           "#ab63fa",
           "#FFA15A",
           "#19d3f3",
           "#FF6692",
           "#B6E880",
           "#FF97FF",
           "#FECB52"
          ],
          "font": {
           "color": "#2a3f5f"
          },
          "geo": {
           "bgcolor": "white",
           "lakecolor": "white",
           "landcolor": "#E5ECF6",
           "showlakes": true,
           "showland": true,
           "subunitcolor": "white"
          },
          "hoverlabel": {
           "align": "left"
          },
          "hovermode": "closest",
          "mapbox": {
           "style": "light"
          },
          "paper_bgcolor": "white",
          "plot_bgcolor": "#E5ECF6",
          "polar": {
           "angularaxis": {
            "gridcolor": "white",
            "linecolor": "white",
            "ticks": ""
           },
           "bgcolor": "#E5ECF6",
           "radialaxis": {
            "gridcolor": "white",
            "linecolor": "white",
            "ticks": ""
           }
          },
          "scene": {
           "xaxis": {
            "backgroundcolor": "#E5ECF6",
            "gridcolor": "white",
            "gridwidth": 2,
            "linecolor": "white",
            "showbackground": true,
            "ticks": "",
            "zerolinecolor": "white"
           },
           "yaxis": {
            "backgroundcolor": "#E5ECF6",
            "gridcolor": "white",
            "gridwidth": 2,
            "linecolor": "white",
            "showbackground": true,
            "ticks": "",
            "zerolinecolor": "white"
           },
           "zaxis": {
            "backgroundcolor": "#E5ECF6",
            "gridcolor": "white",
            "gridwidth": 2,
            "linecolor": "white",
            "showbackground": true,
            "ticks": "",
            "zerolinecolor": "white"
           }
          },
          "shapedefaults": {
           "line": {
            "color": "#2a3f5f"
           }
          },
          "ternary": {
           "aaxis": {
            "gridcolor": "white",
            "linecolor": "white",
            "ticks": ""
           },
           "baxis": {
            "gridcolor": "white",
            "linecolor": "white",
            "ticks": ""
           },
           "bgcolor": "#E5ECF6",
           "caxis": {
            "gridcolor": "white",
            "linecolor": "white",
            "ticks": ""
           }
          },
          "title": {
           "x": 0.05
          },
          "xaxis": {
           "automargin": true,
           "gridcolor": "white",
           "linecolor": "white",
           "ticks": "",
           "title": {
            "standoff": 15
           },
           "zerolinecolor": "white",
           "zerolinewidth": 2
          },
          "yaxis": {
           "automargin": true,
           "gridcolor": "white",
           "linecolor": "white",
           "ticks": "",
           "title": {
            "standoff": 15
           },
           "zerolinecolor": "white",
           "zerolinewidth": 2
          }
         }
        },
        "title": {
         "text": "Weighted Medal Rate vs Chances"
        },
        "width": 800,
        "xaxis": {
         "dtick": 20,
         "gridcolor": "LightGray",
         "gridwidth": 0.5,
         "title": {
          "standoff": 10,
          "text": "Medal Chances"
         },
         "zeroline": true,
         "zerolinecolor": "Gray",
         "zerolinewidth": 2
        },
        "yaxis": {
         "dtick": 0.1,
         "gridcolor": "LightGray",
         "gridwidth": 0.5,
         "title": {
          "standoff": 10,
          "text": "Weighted Medal Rate (Gold = 2, Silver = 1.5, Bronze = 1)"
         },
         "zeroline": true,
         "zerolinecolor": "Gray",
         "zerolinewidth": 2
        }
       }
      }
     },
     "metadata": {},
     "output_type": "display_data"
    }
   ],
   "source": [
    "# Setup\n",
    "config = {\n",
    "    # Data\n",
    "    \"name_col\": \"country\",\n",
    "    \"size_col\": \"entries\",\n",
    "    \"color_col\": \"entries\",\n",
    "    \"x_axis_col\": \"entries\",\n",
    "    \"y_axis_col\": \"medal_rate_weighted\",\n",
    "    # Labels\n",
    "    \"title\": \"Weighted Medal Rate vs Chances\",\n",
    "    \"x_axis_title\": \"Medal Chances\",\n",
    "    \"y_axis_title\": \"Weighted Medal Rate (Gold = 2, Silver = 1.5, Bronze = 1)\",\n",
    "    # Formatting\n",
    "    \"min_point_size\": 5,\n",
    "    \"max_point_size\": 30,\n",
    "    \"x_axis_dtick\": 20,\n",
    "    \"y_axis_dtick\": 0.1,\n",
    "    \"width\": 800,\n",
    "    \"height\": 800\n",
    "}\n",
    "\n",
    "# Plot and save html version\n",
    "fig = plotly_scatter_v1(rate_df, config)\n",
    "fig.write_html(\"md/olympic_medals/weighted_medal_rate_vs_chances.html\")\n"
   ]
  },
  {
   "cell_type": "markdown",
   "metadata": {},
   "source": [
    "***\n",
    "***\n",
    "## 3. Other analysis"
   ]
  },
  {
   "cell_type": "code",
   "execution_count": 112,
   "metadata": {},
   "outputs": [
    {
     "data": {
      "text/html": [
       "<div>\n",
       "<style scoped>\n",
       "    .dataframe tbody tr th:only-of-type {\n",
       "        vertical-align: middle;\n",
       "    }\n",
       "\n",
       "    .dataframe tbody tr th {\n",
       "        vertical-align: top;\n",
       "    }\n",
       "\n",
       "    .dataframe thead th {\n",
       "        text-align: right;\n",
       "    }\n",
       "</style>\n",
       "<table border=\"1\" class=\"dataframe\">\n",
       "  <thead>\n",
       "    <tr style=\"text-align: right;\">\n",
       "      <th></th>\n",
       "      <th>entries</th>\n",
       "      <th>total_medals</th>\n",
       "    </tr>\n",
       "  </thead>\n",
       "  <tbody>\n",
       "    <tr>\n",
       "      <th>entries</th>\n",
       "      <td>1.00000</td>\n",
       "      <td>0.89764</td>\n",
       "    </tr>\n",
       "    <tr>\n",
       "      <th>total_medals</th>\n",
       "      <td>0.89764</td>\n",
       "      <td>1.00000</td>\n",
       "    </tr>\n",
       "  </tbody>\n",
       "</table>\n",
       "</div>"
      ],
      "text/plain": [
       "              entries  total_medals\n",
       "entries       1.00000       0.89764\n",
       "total_medals  0.89764       1.00000"
      ]
     },
     "execution_count": 112,
     "metadata": {},
     "output_type": "execute_result"
    }
   ],
   "source": [
    "rate_df[[\"entries\", \"total_medals\"]].corr()\n"
   ]
  },
  {
   "cell_type": "code",
   "execution_count": 113,
   "metadata": {},
   "outputs": [
    {
     "data": {
      "text/html": [
       "<div>\n",
       "<style scoped>\n",
       "    .dataframe tbody tr th:only-of-type {\n",
       "        vertical-align: middle;\n",
       "    }\n",
       "\n",
       "    .dataframe tbody tr th {\n",
       "        vertical-align: top;\n",
       "    }\n",
       "\n",
       "    .dataframe thead th {\n",
       "        text-align: right;\n",
       "    }\n",
       "</style>\n",
       "<table border=\"1\" class=\"dataframe\">\n",
       "  <thead>\n",
       "    <tr style=\"text-align: right;\">\n",
       "      <th></th>\n",
       "      <th>entries</th>\n",
       "      <th>medal_rate_unweighted</th>\n",
       "      <th>medal_rate_weighted</th>\n",
       "    </tr>\n",
       "  </thead>\n",
       "  <tbody>\n",
       "    <tr>\n",
       "      <th>entries</th>\n",
       "      <td>1.000000</td>\n",
       "      <td>0.372375</td>\n",
       "      <td>0.392037</td>\n",
       "    </tr>\n",
       "    <tr>\n",
       "      <th>medal_rate_unweighted</th>\n",
       "      <td>0.372375</td>\n",
       "      <td>1.000000</td>\n",
       "      <td>0.976465</td>\n",
       "    </tr>\n",
       "    <tr>\n",
       "      <th>medal_rate_weighted</th>\n",
       "      <td>0.392037</td>\n",
       "      <td>0.976465</td>\n",
       "      <td>1.000000</td>\n",
       "    </tr>\n",
       "  </tbody>\n",
       "</table>\n",
       "</div>"
      ],
      "text/plain": [
       "                        entries  medal_rate_unweighted  medal_rate_weighted\n",
       "entries                1.000000               0.372375             0.392037\n",
       "medal_rate_unweighted  0.372375               1.000000             0.976465\n",
       "medal_rate_weighted    0.392037               0.976465             1.000000"
      ]
     },
     "execution_count": 113,
     "metadata": {},
     "output_type": "execute_result"
    }
   ],
   "source": [
    "rate_df[[\"entries\", \"medal_rate_unweighted\", \"medal_rate_weighted\"]].corr()\n"
   ]
  },
  {
   "cell_type": "code",
   "execution_count": null,
   "metadata": {},
   "outputs": [],
   "source": [
    "# To do...\n",
    "\n",
    "# Athletes\n",
    "# How many total athletes\n",
    "# How many competing only individually, only on team, both\n",
    "# How many athletes earn 1+ medal?\n",
    "# How many earn 2+, 3+, 4+?\n",
    "# Do your chances of earning a medal increase if you play a team sport?\n",
    "# Which athletes have the most chances at medals (event entries), and what sports do they play\n",
    "\n",
    "# Teams\n",
    "# How many total teams\n",
    "# Largest team size\n",
    "# How many teams earn 1+ medal\n",
    "# How many earn 2+, 3+, 4+?\n",
    "\n",
    "# Combined\n",
    "# Team size (count of unique athletes) vs event entries (chances at a medal)\n",
    "# Which countries do a better job of maximizing their medal chances (ratio of team size to event entries is smaller)\n"
   ]
  }
 ],
 "metadata": {
  "kernelspec": {
   "display_name": "venv",
   "language": "python",
   "name": "python3"
  },
  "language_info": {
   "codemirror_mode": {
    "name": "ipython",
    "version": 3
   },
   "file_extension": ".py",
   "mimetype": "text/x-python",
   "name": "python",
   "nbconvert_exporter": "python",
   "pygments_lexer": "ipython3",
   "version": "3.11.3"
  }
 },
 "nbformat": 4,
 "nbformat_minor": 4
}
